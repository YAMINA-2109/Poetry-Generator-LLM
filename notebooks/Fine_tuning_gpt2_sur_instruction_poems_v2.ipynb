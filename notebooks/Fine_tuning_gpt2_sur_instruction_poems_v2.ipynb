{
  "nbformat": 4,
  "nbformat_minor": 0,
  "metadata": {
    "colab": {
      "provenance": [],
      "machine_shape": "hm",
      "gpuType": "A100"
    },
    "kernelspec": {
      "name": "python3",
      "display_name": "Python 3"
    },
    "language_info": {
      "name": "python"
    },
    "accelerator": "GPU",
    "widgets": {
      "application/vnd.jupyter.widget-state+json": {
        "d1cc341109d14321a22717629ba198fb": {
          "model_module": "@jupyter-widgets/controls",
          "model_name": "HBoxModel",
          "model_module_version": "1.5.0",
          "state": {
            "_dom_classes": [],
            "_model_module": "@jupyter-widgets/controls",
            "_model_module_version": "1.5.0",
            "_model_name": "HBoxModel",
            "_view_count": null,
            "_view_module": "@jupyter-widgets/controls",
            "_view_module_version": "1.5.0",
            "_view_name": "HBoxView",
            "box_style": "",
            "children": [
              "IPY_MODEL_bfd18c68478c4e55afb406f3d2818308",
              "IPY_MODEL_884584de286c44adabe6d1ad9e0f1c0d",
              "IPY_MODEL_94652b4f952340d789efbfbb1556ce68"
            ],
            "layout": "IPY_MODEL_a2b9371192c34ff5a25b085d897a7ede"
          }
        },
        "bfd18c68478c4e55afb406f3d2818308": {
          "model_module": "@jupyter-widgets/controls",
          "model_name": "HTMLModel",
          "model_module_version": "1.5.0",
          "state": {
            "_dom_classes": [],
            "_model_module": "@jupyter-widgets/controls",
            "_model_module_version": "1.5.0",
            "_model_name": "HTMLModel",
            "_view_count": null,
            "_view_module": "@jupyter-widgets/controls",
            "_view_module_version": "1.5.0",
            "_view_name": "HTMLView",
            "description": "",
            "description_tooltip": null,
            "layout": "IPY_MODEL_3e17ca0dfc7e4a4d9a7b5ef138b824ac",
            "placeholder": "​",
            "style": "IPY_MODEL_34fe181a1be04b41a4ffd2fd50df5f24",
            "value": ""
          }
        },
        "884584de286c44adabe6d1ad9e0f1c0d": {
          "model_module": "@jupyter-widgets/controls",
          "model_name": "FloatProgressModel",
          "model_module_version": "1.5.0",
          "state": {
            "_dom_classes": [],
            "_model_module": "@jupyter-widgets/controls",
            "_model_module_version": "1.5.0",
            "_model_name": "FloatProgressModel",
            "_view_count": null,
            "_view_module": "@jupyter-widgets/controls",
            "_view_module_version": "1.5.0",
            "_view_name": "ProgressView",
            "bar_style": "success",
            "description": "",
            "description_tooltip": null,
            "layout": "IPY_MODEL_1c70c017f5e94327a21af185a86427d3",
            "max": 1,
            "min": 0,
            "orientation": "horizontal",
            "style": "IPY_MODEL_f5bf05bc7c4f49a5b1d11a20e56c150b",
            "value": 0
          }
        },
        "94652b4f952340d789efbfbb1556ce68": {
          "model_module": "@jupyter-widgets/controls",
          "model_name": "HTMLModel",
          "model_module_version": "1.5.0",
          "state": {
            "_dom_classes": [],
            "_model_module": "@jupyter-widgets/controls",
            "_model_module_version": "1.5.0",
            "_model_name": "HTMLModel",
            "_view_count": null,
            "_view_module": "@jupyter-widgets/controls",
            "_view_module_version": "1.5.0",
            "_view_name": "HTMLView",
            "description": "",
            "description_tooltip": null,
            "layout": "IPY_MODEL_860141537d50454ba7ed2be067bbf4fe",
            "placeholder": "​",
            "style": "IPY_MODEL_76b3df2d3fda4c709c6fcbce4feeb413",
            "value": " 0/0 [00:00&lt;?, ?it/s]"
          }
        },
        "a2b9371192c34ff5a25b085d897a7ede": {
          "model_module": "@jupyter-widgets/base",
          "model_name": "LayoutModel",
          "model_module_version": "1.2.0",
          "state": {
            "_model_module": "@jupyter-widgets/base",
            "_model_module_version": "1.2.0",
            "_model_name": "LayoutModel",
            "_view_count": null,
            "_view_module": "@jupyter-widgets/base",
            "_view_module_version": "1.2.0",
            "_view_name": "LayoutView",
            "align_content": null,
            "align_items": null,
            "align_self": null,
            "border": null,
            "bottom": null,
            "display": null,
            "flex": null,
            "flex_flow": null,
            "grid_area": null,
            "grid_auto_columns": null,
            "grid_auto_flow": null,
            "grid_auto_rows": null,
            "grid_column": null,
            "grid_gap": null,
            "grid_row": null,
            "grid_template_areas": null,
            "grid_template_columns": null,
            "grid_template_rows": null,
            "height": null,
            "justify_content": null,
            "justify_items": null,
            "left": null,
            "margin": null,
            "max_height": null,
            "max_width": null,
            "min_height": null,
            "min_width": null,
            "object_fit": null,
            "object_position": null,
            "order": null,
            "overflow": null,
            "overflow_x": null,
            "overflow_y": null,
            "padding": null,
            "right": null,
            "top": null,
            "visibility": null,
            "width": null
          }
        },
        "3e17ca0dfc7e4a4d9a7b5ef138b824ac": {
          "model_module": "@jupyter-widgets/base",
          "model_name": "LayoutModel",
          "model_module_version": "1.2.0",
          "state": {
            "_model_module": "@jupyter-widgets/base",
            "_model_module_version": "1.2.0",
            "_model_name": "LayoutModel",
            "_view_count": null,
            "_view_module": "@jupyter-widgets/base",
            "_view_module_version": "1.2.0",
            "_view_name": "LayoutView",
            "align_content": null,
            "align_items": null,
            "align_self": null,
            "border": null,
            "bottom": null,
            "display": null,
            "flex": null,
            "flex_flow": null,
            "grid_area": null,
            "grid_auto_columns": null,
            "grid_auto_flow": null,
            "grid_auto_rows": null,
            "grid_column": null,
            "grid_gap": null,
            "grid_row": null,
            "grid_template_areas": null,
            "grid_template_columns": null,
            "grid_template_rows": null,
            "height": null,
            "justify_content": null,
            "justify_items": null,
            "left": null,
            "margin": null,
            "max_height": null,
            "max_width": null,
            "min_height": null,
            "min_width": null,
            "object_fit": null,
            "object_position": null,
            "order": null,
            "overflow": null,
            "overflow_x": null,
            "overflow_y": null,
            "padding": null,
            "right": null,
            "top": null,
            "visibility": null,
            "width": null
          }
        },
        "34fe181a1be04b41a4ffd2fd50df5f24": {
          "model_module": "@jupyter-widgets/controls",
          "model_name": "DescriptionStyleModel",
          "model_module_version": "1.5.0",
          "state": {
            "_model_module": "@jupyter-widgets/controls",
            "_model_module_version": "1.5.0",
            "_model_name": "DescriptionStyleModel",
            "_view_count": null,
            "_view_module": "@jupyter-widgets/base",
            "_view_module_version": "1.2.0",
            "_view_name": "StyleView",
            "description_width": ""
          }
        },
        "1c70c017f5e94327a21af185a86427d3": {
          "model_module": "@jupyter-widgets/base",
          "model_name": "LayoutModel",
          "model_module_version": "1.2.0",
          "state": {
            "_model_module": "@jupyter-widgets/base",
            "_model_module_version": "1.2.0",
            "_model_name": "LayoutModel",
            "_view_count": null,
            "_view_module": "@jupyter-widgets/base",
            "_view_module_version": "1.2.0",
            "_view_name": "LayoutView",
            "align_content": null,
            "align_items": null,
            "align_self": null,
            "border": null,
            "bottom": null,
            "display": null,
            "flex": null,
            "flex_flow": null,
            "grid_area": null,
            "grid_auto_columns": null,
            "grid_auto_flow": null,
            "grid_auto_rows": null,
            "grid_column": null,
            "grid_gap": null,
            "grid_row": null,
            "grid_template_areas": null,
            "grid_template_columns": null,
            "grid_template_rows": null,
            "height": null,
            "justify_content": null,
            "justify_items": null,
            "left": null,
            "margin": null,
            "max_height": null,
            "max_width": null,
            "min_height": null,
            "min_width": null,
            "object_fit": null,
            "object_position": null,
            "order": null,
            "overflow": null,
            "overflow_x": null,
            "overflow_y": null,
            "padding": null,
            "right": null,
            "top": null,
            "visibility": null,
            "width": "20px"
          }
        },
        "f5bf05bc7c4f49a5b1d11a20e56c150b": {
          "model_module": "@jupyter-widgets/controls",
          "model_name": "ProgressStyleModel",
          "model_module_version": "1.5.0",
          "state": {
            "_model_module": "@jupyter-widgets/controls",
            "_model_module_version": "1.5.0",
            "_model_name": "ProgressStyleModel",
            "_view_count": null,
            "_view_module": "@jupyter-widgets/base",
            "_view_module_version": "1.2.0",
            "_view_name": "StyleView",
            "bar_color": null,
            "description_width": ""
          }
        },
        "860141537d50454ba7ed2be067bbf4fe": {
          "model_module": "@jupyter-widgets/base",
          "model_name": "LayoutModel",
          "model_module_version": "1.2.0",
          "state": {
            "_model_module": "@jupyter-widgets/base",
            "_model_module_version": "1.2.0",
            "_model_name": "LayoutModel",
            "_view_count": null,
            "_view_module": "@jupyter-widgets/base",
            "_view_module_version": "1.2.0",
            "_view_name": "LayoutView",
            "align_content": null,
            "align_items": null,
            "align_self": null,
            "border": null,
            "bottom": null,
            "display": null,
            "flex": null,
            "flex_flow": null,
            "grid_area": null,
            "grid_auto_columns": null,
            "grid_auto_flow": null,
            "grid_auto_rows": null,
            "grid_column": null,
            "grid_gap": null,
            "grid_row": null,
            "grid_template_areas": null,
            "grid_template_columns": null,
            "grid_template_rows": null,
            "height": null,
            "justify_content": null,
            "justify_items": null,
            "left": null,
            "margin": null,
            "max_height": null,
            "max_width": null,
            "min_height": null,
            "min_width": null,
            "object_fit": null,
            "object_position": null,
            "order": null,
            "overflow": null,
            "overflow_x": null,
            "overflow_y": null,
            "padding": null,
            "right": null,
            "top": null,
            "visibility": null,
            "width": null
          }
        },
        "76b3df2d3fda4c709c6fcbce4feeb413": {
          "model_module": "@jupyter-widgets/controls",
          "model_name": "DescriptionStyleModel",
          "model_module_version": "1.5.0",
          "state": {
            "_model_module": "@jupyter-widgets/controls",
            "_model_module_version": "1.5.0",
            "_model_name": "DescriptionStyleModel",
            "_view_count": null,
            "_view_module": "@jupyter-widgets/base",
            "_view_module_version": "1.2.0",
            "_view_name": "StyleView",
            "description_width": ""
          }
        },
        "b28969bb746a46babf63c0881ccda9af": {
          "model_module": "@jupyter-widgets/controls",
          "model_name": "HBoxModel",
          "model_module_version": "1.5.0",
          "state": {
            "_dom_classes": [],
            "_model_module": "@jupyter-widgets/controls",
            "_model_module_version": "1.5.0",
            "_model_name": "HBoxModel",
            "_view_count": null,
            "_view_module": "@jupyter-widgets/controls",
            "_view_module_version": "1.5.0",
            "_view_name": "HBoxView",
            "box_style": "",
            "children": [
              "IPY_MODEL_4ea033edd475435492e439449ebbc871",
              "IPY_MODEL_1fcf6a966fe241b9adf3e65d42495368",
              "IPY_MODEL_1ad823657f2c49589d3cc7aff98e6c5a"
            ],
            "layout": "IPY_MODEL_28e0d0ab4881490b8f4ad9e33f4de2d2"
          }
        },
        "4ea033edd475435492e439449ebbc871": {
          "model_module": "@jupyter-widgets/controls",
          "model_name": "HTMLModel",
          "model_module_version": "1.5.0",
          "state": {
            "_dom_classes": [],
            "_model_module": "@jupyter-widgets/controls",
            "_model_module_version": "1.5.0",
            "_model_name": "HTMLModel",
            "_view_count": null,
            "_view_module": "@jupyter-widgets/controls",
            "_view_module_version": "1.5.0",
            "_view_name": "HTMLView",
            "description": "",
            "description_tooltip": null,
            "layout": "IPY_MODEL_d617a1951b96487a81d2b9d9372205a5",
            "placeholder": "​",
            "style": "IPY_MODEL_12bec7732a934e45a4b7880b499ad181",
            "value": "tokenizer_config.json: 100%"
          }
        },
        "1fcf6a966fe241b9adf3e65d42495368": {
          "model_module": "@jupyter-widgets/controls",
          "model_name": "FloatProgressModel",
          "model_module_version": "1.5.0",
          "state": {
            "_dom_classes": [],
            "_model_module": "@jupyter-widgets/controls",
            "_model_module_version": "1.5.0",
            "_model_name": "FloatProgressModel",
            "_view_count": null,
            "_view_module": "@jupyter-widgets/controls",
            "_view_module_version": "1.5.0",
            "_view_name": "ProgressView",
            "bar_style": "success",
            "description": "",
            "description_tooltip": null,
            "layout": "IPY_MODEL_ee14e19aed67460fa4cabdbc449daf66",
            "max": 26,
            "min": 0,
            "orientation": "horizontal",
            "style": "IPY_MODEL_84b7186ce4274a989f5e6105db0504e3",
            "value": 26
          }
        },
        "1ad823657f2c49589d3cc7aff98e6c5a": {
          "model_module": "@jupyter-widgets/controls",
          "model_name": "HTMLModel",
          "model_module_version": "1.5.0",
          "state": {
            "_dom_classes": [],
            "_model_module": "@jupyter-widgets/controls",
            "_model_module_version": "1.5.0",
            "_model_name": "HTMLModel",
            "_view_count": null,
            "_view_module": "@jupyter-widgets/controls",
            "_view_module_version": "1.5.0",
            "_view_name": "HTMLView",
            "description": "",
            "description_tooltip": null,
            "layout": "IPY_MODEL_1d0515ac21e3429097e4560c7fe5ead6",
            "placeholder": "​",
            "style": "IPY_MODEL_4895f6a187b3419abd52f4c84df0c548",
            "value": " 26.0/26.0 [00:00&lt;00:00, 2.13kB/s]"
          }
        },
        "28e0d0ab4881490b8f4ad9e33f4de2d2": {
          "model_module": "@jupyter-widgets/base",
          "model_name": "LayoutModel",
          "model_module_version": "1.2.0",
          "state": {
            "_model_module": "@jupyter-widgets/base",
            "_model_module_version": "1.2.0",
            "_model_name": "LayoutModel",
            "_view_count": null,
            "_view_module": "@jupyter-widgets/base",
            "_view_module_version": "1.2.0",
            "_view_name": "LayoutView",
            "align_content": null,
            "align_items": null,
            "align_self": null,
            "border": null,
            "bottom": null,
            "display": null,
            "flex": null,
            "flex_flow": null,
            "grid_area": null,
            "grid_auto_columns": null,
            "grid_auto_flow": null,
            "grid_auto_rows": null,
            "grid_column": null,
            "grid_gap": null,
            "grid_row": null,
            "grid_template_areas": null,
            "grid_template_columns": null,
            "grid_template_rows": null,
            "height": null,
            "justify_content": null,
            "justify_items": null,
            "left": null,
            "margin": null,
            "max_height": null,
            "max_width": null,
            "min_height": null,
            "min_width": null,
            "object_fit": null,
            "object_position": null,
            "order": null,
            "overflow": null,
            "overflow_x": null,
            "overflow_y": null,
            "padding": null,
            "right": null,
            "top": null,
            "visibility": null,
            "width": null
          }
        },
        "d617a1951b96487a81d2b9d9372205a5": {
          "model_module": "@jupyter-widgets/base",
          "model_name": "LayoutModel",
          "model_module_version": "1.2.0",
          "state": {
            "_model_module": "@jupyter-widgets/base",
            "_model_module_version": "1.2.0",
            "_model_name": "LayoutModel",
            "_view_count": null,
            "_view_module": "@jupyter-widgets/base",
            "_view_module_version": "1.2.0",
            "_view_name": "LayoutView",
            "align_content": null,
            "align_items": null,
            "align_self": null,
            "border": null,
            "bottom": null,
            "display": null,
            "flex": null,
            "flex_flow": null,
            "grid_area": null,
            "grid_auto_columns": null,
            "grid_auto_flow": null,
            "grid_auto_rows": null,
            "grid_column": null,
            "grid_gap": null,
            "grid_row": null,
            "grid_template_areas": null,
            "grid_template_columns": null,
            "grid_template_rows": null,
            "height": null,
            "justify_content": null,
            "justify_items": null,
            "left": null,
            "margin": null,
            "max_height": null,
            "max_width": null,
            "min_height": null,
            "min_width": null,
            "object_fit": null,
            "object_position": null,
            "order": null,
            "overflow": null,
            "overflow_x": null,
            "overflow_y": null,
            "padding": null,
            "right": null,
            "top": null,
            "visibility": null,
            "width": null
          }
        },
        "12bec7732a934e45a4b7880b499ad181": {
          "model_module": "@jupyter-widgets/controls",
          "model_name": "DescriptionStyleModel",
          "model_module_version": "1.5.0",
          "state": {
            "_model_module": "@jupyter-widgets/controls",
            "_model_module_version": "1.5.0",
            "_model_name": "DescriptionStyleModel",
            "_view_count": null,
            "_view_module": "@jupyter-widgets/base",
            "_view_module_version": "1.2.0",
            "_view_name": "StyleView",
            "description_width": ""
          }
        },
        "ee14e19aed67460fa4cabdbc449daf66": {
          "model_module": "@jupyter-widgets/base",
          "model_name": "LayoutModel",
          "model_module_version": "1.2.0",
          "state": {
            "_model_module": "@jupyter-widgets/base",
            "_model_module_version": "1.2.0",
            "_model_name": "LayoutModel",
            "_view_count": null,
            "_view_module": "@jupyter-widgets/base",
            "_view_module_version": "1.2.0",
            "_view_name": "LayoutView",
            "align_content": null,
            "align_items": null,
            "align_self": null,
            "border": null,
            "bottom": null,
            "display": null,
            "flex": null,
            "flex_flow": null,
            "grid_area": null,
            "grid_auto_columns": null,
            "grid_auto_flow": null,
            "grid_auto_rows": null,
            "grid_column": null,
            "grid_gap": null,
            "grid_row": null,
            "grid_template_areas": null,
            "grid_template_columns": null,
            "grid_template_rows": null,
            "height": null,
            "justify_content": null,
            "justify_items": null,
            "left": null,
            "margin": null,
            "max_height": null,
            "max_width": null,
            "min_height": null,
            "min_width": null,
            "object_fit": null,
            "object_position": null,
            "order": null,
            "overflow": null,
            "overflow_x": null,
            "overflow_y": null,
            "padding": null,
            "right": null,
            "top": null,
            "visibility": null,
            "width": null
          }
        },
        "84b7186ce4274a989f5e6105db0504e3": {
          "model_module": "@jupyter-widgets/controls",
          "model_name": "ProgressStyleModel",
          "model_module_version": "1.5.0",
          "state": {
            "_model_module": "@jupyter-widgets/controls",
            "_model_module_version": "1.5.0",
            "_model_name": "ProgressStyleModel",
            "_view_count": null,
            "_view_module": "@jupyter-widgets/base",
            "_view_module_version": "1.2.0",
            "_view_name": "StyleView",
            "bar_color": null,
            "description_width": ""
          }
        },
        "1d0515ac21e3429097e4560c7fe5ead6": {
          "model_module": "@jupyter-widgets/base",
          "model_name": "LayoutModel",
          "model_module_version": "1.2.0",
          "state": {
            "_model_module": "@jupyter-widgets/base",
            "_model_module_version": "1.2.0",
            "_model_name": "LayoutModel",
            "_view_count": null,
            "_view_module": "@jupyter-widgets/base",
            "_view_module_version": "1.2.0",
            "_view_name": "LayoutView",
            "align_content": null,
            "align_items": null,
            "align_self": null,
            "border": null,
            "bottom": null,
            "display": null,
            "flex": null,
            "flex_flow": null,
            "grid_area": null,
            "grid_auto_columns": null,
            "grid_auto_flow": null,
            "grid_auto_rows": null,
            "grid_column": null,
            "grid_gap": null,
            "grid_row": null,
            "grid_template_areas": null,
            "grid_template_columns": null,
            "grid_template_rows": null,
            "height": null,
            "justify_content": null,
            "justify_items": null,
            "left": null,
            "margin": null,
            "max_height": null,
            "max_width": null,
            "min_height": null,
            "min_width": null,
            "object_fit": null,
            "object_position": null,
            "order": null,
            "overflow": null,
            "overflow_x": null,
            "overflow_y": null,
            "padding": null,
            "right": null,
            "top": null,
            "visibility": null,
            "width": null
          }
        },
        "4895f6a187b3419abd52f4c84df0c548": {
          "model_module": "@jupyter-widgets/controls",
          "model_name": "DescriptionStyleModel",
          "model_module_version": "1.5.0",
          "state": {
            "_model_module": "@jupyter-widgets/controls",
            "_model_module_version": "1.5.0",
            "_model_name": "DescriptionStyleModel",
            "_view_count": null,
            "_view_module": "@jupyter-widgets/base",
            "_view_module_version": "1.2.0",
            "_view_name": "StyleView",
            "description_width": ""
          }
        },
        "6058e4d0af574dcd9a0af350c9393092": {
          "model_module": "@jupyter-widgets/controls",
          "model_name": "HBoxModel",
          "model_module_version": "1.5.0",
          "state": {
            "_dom_classes": [],
            "_model_module": "@jupyter-widgets/controls",
            "_model_module_version": "1.5.0",
            "_model_name": "HBoxModel",
            "_view_count": null,
            "_view_module": "@jupyter-widgets/controls",
            "_view_module_version": "1.5.0",
            "_view_name": "HBoxView",
            "box_style": "",
            "children": [
              "IPY_MODEL_20a560d5d5964a0c90138bafb5079072",
              "IPY_MODEL_44dbd17ba7464a12a8d4f3731389ae37",
              "IPY_MODEL_a18187baef78497b98ec490450e46d44"
            ],
            "layout": "IPY_MODEL_08b8b1faf25b454289d257e34b68de64"
          }
        },
        "20a560d5d5964a0c90138bafb5079072": {
          "model_module": "@jupyter-widgets/controls",
          "model_name": "HTMLModel",
          "model_module_version": "1.5.0",
          "state": {
            "_dom_classes": [],
            "_model_module": "@jupyter-widgets/controls",
            "_model_module_version": "1.5.0",
            "_model_name": "HTMLModel",
            "_view_count": null,
            "_view_module": "@jupyter-widgets/controls",
            "_view_module_version": "1.5.0",
            "_view_name": "HTMLView",
            "description": "",
            "description_tooltip": null,
            "layout": "IPY_MODEL_69682104c5f04a16b8e16862168eefe0",
            "placeholder": "​",
            "style": "IPY_MODEL_b315899c442942b8be9769950407b6ab",
            "value": "config.json: 100%"
          }
        },
        "44dbd17ba7464a12a8d4f3731389ae37": {
          "model_module": "@jupyter-widgets/controls",
          "model_name": "FloatProgressModel",
          "model_module_version": "1.5.0",
          "state": {
            "_dom_classes": [],
            "_model_module": "@jupyter-widgets/controls",
            "_model_module_version": "1.5.0",
            "_model_name": "FloatProgressModel",
            "_view_count": null,
            "_view_module": "@jupyter-widgets/controls",
            "_view_module_version": "1.5.0",
            "_view_name": "ProgressView",
            "bar_style": "success",
            "description": "",
            "description_tooltip": null,
            "layout": "IPY_MODEL_f808518084d14141b9ebfa1b5185c7c2",
            "max": 665,
            "min": 0,
            "orientation": "horizontal",
            "style": "IPY_MODEL_153fdbe4c9e1431da57c7fbf0b20b761",
            "value": 665
          }
        },
        "a18187baef78497b98ec490450e46d44": {
          "model_module": "@jupyter-widgets/controls",
          "model_name": "HTMLModel",
          "model_module_version": "1.5.0",
          "state": {
            "_dom_classes": [],
            "_model_module": "@jupyter-widgets/controls",
            "_model_module_version": "1.5.0",
            "_model_name": "HTMLModel",
            "_view_count": null,
            "_view_module": "@jupyter-widgets/controls",
            "_view_module_version": "1.5.0",
            "_view_name": "HTMLView",
            "description": "",
            "description_tooltip": null,
            "layout": "IPY_MODEL_ea9c38a0cca24fb99ac17a1be0570303",
            "placeholder": "​",
            "style": "IPY_MODEL_f80c441d849c493ea14f56a370d718de",
            "value": " 665/665 [00:00&lt;00:00, 61.6kB/s]"
          }
        },
        "08b8b1faf25b454289d257e34b68de64": {
          "model_module": "@jupyter-widgets/base",
          "model_name": "LayoutModel",
          "model_module_version": "1.2.0",
          "state": {
            "_model_module": "@jupyter-widgets/base",
            "_model_module_version": "1.2.0",
            "_model_name": "LayoutModel",
            "_view_count": null,
            "_view_module": "@jupyter-widgets/base",
            "_view_module_version": "1.2.0",
            "_view_name": "LayoutView",
            "align_content": null,
            "align_items": null,
            "align_self": null,
            "border": null,
            "bottom": null,
            "display": null,
            "flex": null,
            "flex_flow": null,
            "grid_area": null,
            "grid_auto_columns": null,
            "grid_auto_flow": null,
            "grid_auto_rows": null,
            "grid_column": null,
            "grid_gap": null,
            "grid_row": null,
            "grid_template_areas": null,
            "grid_template_columns": null,
            "grid_template_rows": null,
            "height": null,
            "justify_content": null,
            "justify_items": null,
            "left": null,
            "margin": null,
            "max_height": null,
            "max_width": null,
            "min_height": null,
            "min_width": null,
            "object_fit": null,
            "object_position": null,
            "order": null,
            "overflow": null,
            "overflow_x": null,
            "overflow_y": null,
            "padding": null,
            "right": null,
            "top": null,
            "visibility": null,
            "width": null
          }
        },
        "69682104c5f04a16b8e16862168eefe0": {
          "model_module": "@jupyter-widgets/base",
          "model_name": "LayoutModel",
          "model_module_version": "1.2.0",
          "state": {
            "_model_module": "@jupyter-widgets/base",
            "_model_module_version": "1.2.0",
            "_model_name": "LayoutModel",
            "_view_count": null,
            "_view_module": "@jupyter-widgets/base",
            "_view_module_version": "1.2.0",
            "_view_name": "LayoutView",
            "align_content": null,
            "align_items": null,
            "align_self": null,
            "border": null,
            "bottom": null,
            "display": null,
            "flex": null,
            "flex_flow": null,
            "grid_area": null,
            "grid_auto_columns": null,
            "grid_auto_flow": null,
            "grid_auto_rows": null,
            "grid_column": null,
            "grid_gap": null,
            "grid_row": null,
            "grid_template_areas": null,
            "grid_template_columns": null,
            "grid_template_rows": null,
            "height": null,
            "justify_content": null,
            "justify_items": null,
            "left": null,
            "margin": null,
            "max_height": null,
            "max_width": null,
            "min_height": null,
            "min_width": null,
            "object_fit": null,
            "object_position": null,
            "order": null,
            "overflow": null,
            "overflow_x": null,
            "overflow_y": null,
            "padding": null,
            "right": null,
            "top": null,
            "visibility": null,
            "width": null
          }
        },
        "b315899c442942b8be9769950407b6ab": {
          "model_module": "@jupyter-widgets/controls",
          "model_name": "DescriptionStyleModel",
          "model_module_version": "1.5.0",
          "state": {
            "_model_module": "@jupyter-widgets/controls",
            "_model_module_version": "1.5.0",
            "_model_name": "DescriptionStyleModel",
            "_view_count": null,
            "_view_module": "@jupyter-widgets/base",
            "_view_module_version": "1.2.0",
            "_view_name": "StyleView",
            "description_width": ""
          }
        },
        "f808518084d14141b9ebfa1b5185c7c2": {
          "model_module": "@jupyter-widgets/base",
          "model_name": "LayoutModel",
          "model_module_version": "1.2.0",
          "state": {
            "_model_module": "@jupyter-widgets/base",
            "_model_module_version": "1.2.0",
            "_model_name": "LayoutModel",
            "_view_count": null,
            "_view_module": "@jupyter-widgets/base",
            "_view_module_version": "1.2.0",
            "_view_name": "LayoutView",
            "align_content": null,
            "align_items": null,
            "align_self": null,
            "border": null,
            "bottom": null,
            "display": null,
            "flex": null,
            "flex_flow": null,
            "grid_area": null,
            "grid_auto_columns": null,
            "grid_auto_flow": null,
            "grid_auto_rows": null,
            "grid_column": null,
            "grid_gap": null,
            "grid_row": null,
            "grid_template_areas": null,
            "grid_template_columns": null,
            "grid_template_rows": null,
            "height": null,
            "justify_content": null,
            "justify_items": null,
            "left": null,
            "margin": null,
            "max_height": null,
            "max_width": null,
            "min_height": null,
            "min_width": null,
            "object_fit": null,
            "object_position": null,
            "order": null,
            "overflow": null,
            "overflow_x": null,
            "overflow_y": null,
            "padding": null,
            "right": null,
            "top": null,
            "visibility": null,
            "width": null
          }
        },
        "153fdbe4c9e1431da57c7fbf0b20b761": {
          "model_module": "@jupyter-widgets/controls",
          "model_name": "ProgressStyleModel",
          "model_module_version": "1.5.0",
          "state": {
            "_model_module": "@jupyter-widgets/controls",
            "_model_module_version": "1.5.0",
            "_model_name": "ProgressStyleModel",
            "_view_count": null,
            "_view_module": "@jupyter-widgets/base",
            "_view_module_version": "1.2.0",
            "_view_name": "StyleView",
            "bar_color": null,
            "description_width": ""
          }
        },
        "ea9c38a0cca24fb99ac17a1be0570303": {
          "model_module": "@jupyter-widgets/base",
          "model_name": "LayoutModel",
          "model_module_version": "1.2.0",
          "state": {
            "_model_module": "@jupyter-widgets/base",
            "_model_module_version": "1.2.0",
            "_model_name": "LayoutModel",
            "_view_count": null,
            "_view_module": "@jupyter-widgets/base",
            "_view_module_version": "1.2.0",
            "_view_name": "LayoutView",
            "align_content": null,
            "align_items": null,
            "align_self": null,
            "border": null,
            "bottom": null,
            "display": null,
            "flex": null,
            "flex_flow": null,
            "grid_area": null,
            "grid_auto_columns": null,
            "grid_auto_flow": null,
            "grid_auto_rows": null,
            "grid_column": null,
            "grid_gap": null,
            "grid_row": null,
            "grid_template_areas": null,
            "grid_template_columns": null,
            "grid_template_rows": null,
            "height": null,
            "justify_content": null,
            "justify_items": null,
            "left": null,
            "margin": null,
            "max_height": null,
            "max_width": null,
            "min_height": null,
            "min_width": null,
            "object_fit": null,
            "object_position": null,
            "order": null,
            "overflow": null,
            "overflow_x": null,
            "overflow_y": null,
            "padding": null,
            "right": null,
            "top": null,
            "visibility": null,
            "width": null
          }
        },
        "f80c441d849c493ea14f56a370d718de": {
          "model_module": "@jupyter-widgets/controls",
          "model_name": "DescriptionStyleModel",
          "model_module_version": "1.5.0",
          "state": {
            "_model_module": "@jupyter-widgets/controls",
            "_model_module_version": "1.5.0",
            "_model_name": "DescriptionStyleModel",
            "_view_count": null,
            "_view_module": "@jupyter-widgets/base",
            "_view_module_version": "1.2.0",
            "_view_name": "StyleView",
            "description_width": ""
          }
        },
        "014410edd3a74a16a270640cfeaa4703": {
          "model_module": "@jupyter-widgets/controls",
          "model_name": "HBoxModel",
          "model_module_version": "1.5.0",
          "state": {
            "_dom_classes": [],
            "_model_module": "@jupyter-widgets/controls",
            "_model_module_version": "1.5.0",
            "_model_name": "HBoxModel",
            "_view_count": null,
            "_view_module": "@jupyter-widgets/controls",
            "_view_module_version": "1.5.0",
            "_view_name": "HBoxView",
            "box_style": "",
            "children": [
              "IPY_MODEL_91cf35dfa0104693861ea3a9e845d1be",
              "IPY_MODEL_c12baeb87ccf42f5b62cb63a2ed98a82",
              "IPY_MODEL_9118d813152b486ca4d98b75edb02376"
            ],
            "layout": "IPY_MODEL_2c5f718ec8144ef7936f9c11a829827d"
          }
        },
        "91cf35dfa0104693861ea3a9e845d1be": {
          "model_module": "@jupyter-widgets/controls",
          "model_name": "HTMLModel",
          "model_module_version": "1.5.0",
          "state": {
            "_dom_classes": [],
            "_model_module": "@jupyter-widgets/controls",
            "_model_module_version": "1.5.0",
            "_model_name": "HTMLModel",
            "_view_count": null,
            "_view_module": "@jupyter-widgets/controls",
            "_view_module_version": "1.5.0",
            "_view_name": "HTMLView",
            "description": "",
            "description_tooltip": null,
            "layout": "IPY_MODEL_eae5bf8ba9bc405b998c811bde8dfa0e",
            "placeholder": "​",
            "style": "IPY_MODEL_a4ec212feae7489b87221a7d725c08d4",
            "value": "vocab.json: 100%"
          }
        },
        "c12baeb87ccf42f5b62cb63a2ed98a82": {
          "model_module": "@jupyter-widgets/controls",
          "model_name": "FloatProgressModel",
          "model_module_version": "1.5.0",
          "state": {
            "_dom_classes": [],
            "_model_module": "@jupyter-widgets/controls",
            "_model_module_version": "1.5.0",
            "_model_name": "FloatProgressModel",
            "_view_count": null,
            "_view_module": "@jupyter-widgets/controls",
            "_view_module_version": "1.5.0",
            "_view_name": "ProgressView",
            "bar_style": "success",
            "description": "",
            "description_tooltip": null,
            "layout": "IPY_MODEL_f489e1972c2845d9b306e581236fcd22",
            "max": 1042301,
            "min": 0,
            "orientation": "horizontal",
            "style": "IPY_MODEL_e8c9c4fb15874dc1b7fa95f19936d711",
            "value": 1042301
          }
        },
        "9118d813152b486ca4d98b75edb02376": {
          "model_module": "@jupyter-widgets/controls",
          "model_name": "HTMLModel",
          "model_module_version": "1.5.0",
          "state": {
            "_dom_classes": [],
            "_model_module": "@jupyter-widgets/controls",
            "_model_module_version": "1.5.0",
            "_model_name": "HTMLModel",
            "_view_count": null,
            "_view_module": "@jupyter-widgets/controls",
            "_view_module_version": "1.5.0",
            "_view_name": "HTMLView",
            "description": "",
            "description_tooltip": null,
            "layout": "IPY_MODEL_e9c18ee5d9c342b1b3d28fa94f1f0282",
            "placeholder": "​",
            "style": "IPY_MODEL_070ed68aee3a44568fa372a83923a094",
            "value": " 1.04M/1.04M [00:00&lt;00:00, 15.0MB/s]"
          }
        },
        "2c5f718ec8144ef7936f9c11a829827d": {
          "model_module": "@jupyter-widgets/base",
          "model_name": "LayoutModel",
          "model_module_version": "1.2.0",
          "state": {
            "_model_module": "@jupyter-widgets/base",
            "_model_module_version": "1.2.0",
            "_model_name": "LayoutModel",
            "_view_count": null,
            "_view_module": "@jupyter-widgets/base",
            "_view_module_version": "1.2.0",
            "_view_name": "LayoutView",
            "align_content": null,
            "align_items": null,
            "align_self": null,
            "border": null,
            "bottom": null,
            "display": null,
            "flex": null,
            "flex_flow": null,
            "grid_area": null,
            "grid_auto_columns": null,
            "grid_auto_flow": null,
            "grid_auto_rows": null,
            "grid_column": null,
            "grid_gap": null,
            "grid_row": null,
            "grid_template_areas": null,
            "grid_template_columns": null,
            "grid_template_rows": null,
            "height": null,
            "justify_content": null,
            "justify_items": null,
            "left": null,
            "margin": null,
            "max_height": null,
            "max_width": null,
            "min_height": null,
            "min_width": null,
            "object_fit": null,
            "object_position": null,
            "order": null,
            "overflow": null,
            "overflow_x": null,
            "overflow_y": null,
            "padding": null,
            "right": null,
            "top": null,
            "visibility": null,
            "width": null
          }
        },
        "eae5bf8ba9bc405b998c811bde8dfa0e": {
          "model_module": "@jupyter-widgets/base",
          "model_name": "LayoutModel",
          "model_module_version": "1.2.0",
          "state": {
            "_model_module": "@jupyter-widgets/base",
            "_model_module_version": "1.2.0",
            "_model_name": "LayoutModel",
            "_view_count": null,
            "_view_module": "@jupyter-widgets/base",
            "_view_module_version": "1.2.0",
            "_view_name": "LayoutView",
            "align_content": null,
            "align_items": null,
            "align_self": null,
            "border": null,
            "bottom": null,
            "display": null,
            "flex": null,
            "flex_flow": null,
            "grid_area": null,
            "grid_auto_columns": null,
            "grid_auto_flow": null,
            "grid_auto_rows": null,
            "grid_column": null,
            "grid_gap": null,
            "grid_row": null,
            "grid_template_areas": null,
            "grid_template_columns": null,
            "grid_template_rows": null,
            "height": null,
            "justify_content": null,
            "justify_items": null,
            "left": null,
            "margin": null,
            "max_height": null,
            "max_width": null,
            "min_height": null,
            "min_width": null,
            "object_fit": null,
            "object_position": null,
            "order": null,
            "overflow": null,
            "overflow_x": null,
            "overflow_y": null,
            "padding": null,
            "right": null,
            "top": null,
            "visibility": null,
            "width": null
          }
        },
        "a4ec212feae7489b87221a7d725c08d4": {
          "model_module": "@jupyter-widgets/controls",
          "model_name": "DescriptionStyleModel",
          "model_module_version": "1.5.0",
          "state": {
            "_model_module": "@jupyter-widgets/controls",
            "_model_module_version": "1.5.0",
            "_model_name": "DescriptionStyleModel",
            "_view_count": null,
            "_view_module": "@jupyter-widgets/base",
            "_view_module_version": "1.2.0",
            "_view_name": "StyleView",
            "description_width": ""
          }
        },
        "f489e1972c2845d9b306e581236fcd22": {
          "model_module": "@jupyter-widgets/base",
          "model_name": "LayoutModel",
          "model_module_version": "1.2.0",
          "state": {
            "_model_module": "@jupyter-widgets/base",
            "_model_module_version": "1.2.0",
            "_model_name": "LayoutModel",
            "_view_count": null,
            "_view_module": "@jupyter-widgets/base",
            "_view_module_version": "1.2.0",
            "_view_name": "LayoutView",
            "align_content": null,
            "align_items": null,
            "align_self": null,
            "border": null,
            "bottom": null,
            "display": null,
            "flex": null,
            "flex_flow": null,
            "grid_area": null,
            "grid_auto_columns": null,
            "grid_auto_flow": null,
            "grid_auto_rows": null,
            "grid_column": null,
            "grid_gap": null,
            "grid_row": null,
            "grid_template_areas": null,
            "grid_template_columns": null,
            "grid_template_rows": null,
            "height": null,
            "justify_content": null,
            "justify_items": null,
            "left": null,
            "margin": null,
            "max_height": null,
            "max_width": null,
            "min_height": null,
            "min_width": null,
            "object_fit": null,
            "object_position": null,
            "order": null,
            "overflow": null,
            "overflow_x": null,
            "overflow_y": null,
            "padding": null,
            "right": null,
            "top": null,
            "visibility": null,
            "width": null
          }
        },
        "e8c9c4fb15874dc1b7fa95f19936d711": {
          "model_module": "@jupyter-widgets/controls",
          "model_name": "ProgressStyleModel",
          "model_module_version": "1.5.0",
          "state": {
            "_model_module": "@jupyter-widgets/controls",
            "_model_module_version": "1.5.0",
            "_model_name": "ProgressStyleModel",
            "_view_count": null,
            "_view_module": "@jupyter-widgets/base",
            "_view_module_version": "1.2.0",
            "_view_name": "StyleView",
            "bar_color": null,
            "description_width": ""
          }
        },
        "e9c18ee5d9c342b1b3d28fa94f1f0282": {
          "model_module": "@jupyter-widgets/base",
          "model_name": "LayoutModel",
          "model_module_version": "1.2.0",
          "state": {
            "_model_module": "@jupyter-widgets/base",
            "_model_module_version": "1.2.0",
            "_model_name": "LayoutModel",
            "_view_count": null,
            "_view_module": "@jupyter-widgets/base",
            "_view_module_version": "1.2.0",
            "_view_name": "LayoutView",
            "align_content": null,
            "align_items": null,
            "align_self": null,
            "border": null,
            "bottom": null,
            "display": null,
            "flex": null,
            "flex_flow": null,
            "grid_area": null,
            "grid_auto_columns": null,
            "grid_auto_flow": null,
            "grid_auto_rows": null,
            "grid_column": null,
            "grid_gap": null,
            "grid_row": null,
            "grid_template_areas": null,
            "grid_template_columns": null,
            "grid_template_rows": null,
            "height": null,
            "justify_content": null,
            "justify_items": null,
            "left": null,
            "margin": null,
            "max_height": null,
            "max_width": null,
            "min_height": null,
            "min_width": null,
            "object_fit": null,
            "object_position": null,
            "order": null,
            "overflow": null,
            "overflow_x": null,
            "overflow_y": null,
            "padding": null,
            "right": null,
            "top": null,
            "visibility": null,
            "width": null
          }
        },
        "070ed68aee3a44568fa372a83923a094": {
          "model_module": "@jupyter-widgets/controls",
          "model_name": "DescriptionStyleModel",
          "model_module_version": "1.5.0",
          "state": {
            "_model_module": "@jupyter-widgets/controls",
            "_model_module_version": "1.5.0",
            "_model_name": "DescriptionStyleModel",
            "_view_count": null,
            "_view_module": "@jupyter-widgets/base",
            "_view_module_version": "1.2.0",
            "_view_name": "StyleView",
            "description_width": ""
          }
        },
        "cd737f04949349e6afc876c59c678b91": {
          "model_module": "@jupyter-widgets/controls",
          "model_name": "HBoxModel",
          "model_module_version": "1.5.0",
          "state": {
            "_dom_classes": [],
            "_model_module": "@jupyter-widgets/controls",
            "_model_module_version": "1.5.0",
            "_model_name": "HBoxModel",
            "_view_count": null,
            "_view_module": "@jupyter-widgets/controls",
            "_view_module_version": "1.5.0",
            "_view_name": "HBoxView",
            "box_style": "",
            "children": [
              "IPY_MODEL_96fb1dfaf25d4013b7c58a6f1cba5efe",
              "IPY_MODEL_94aebc8ef84e42c38b4a1dd5b1e437d4",
              "IPY_MODEL_061c019cc91e45e5a631a5a97ba42e0b"
            ],
            "layout": "IPY_MODEL_31b1118189b2444c8772cdb01f955e9e"
          }
        },
        "96fb1dfaf25d4013b7c58a6f1cba5efe": {
          "model_module": "@jupyter-widgets/controls",
          "model_name": "HTMLModel",
          "model_module_version": "1.5.0",
          "state": {
            "_dom_classes": [],
            "_model_module": "@jupyter-widgets/controls",
            "_model_module_version": "1.5.0",
            "_model_name": "HTMLModel",
            "_view_count": null,
            "_view_module": "@jupyter-widgets/controls",
            "_view_module_version": "1.5.0",
            "_view_name": "HTMLView",
            "description": "",
            "description_tooltip": null,
            "layout": "IPY_MODEL_75c3d68da9b64d6296e9e638b1cf0096",
            "placeholder": "​",
            "style": "IPY_MODEL_05072a87a353423f8f6675cafbb22296",
            "value": "merges.txt: 100%"
          }
        },
        "94aebc8ef84e42c38b4a1dd5b1e437d4": {
          "model_module": "@jupyter-widgets/controls",
          "model_name": "FloatProgressModel",
          "model_module_version": "1.5.0",
          "state": {
            "_dom_classes": [],
            "_model_module": "@jupyter-widgets/controls",
            "_model_module_version": "1.5.0",
            "_model_name": "FloatProgressModel",
            "_view_count": null,
            "_view_module": "@jupyter-widgets/controls",
            "_view_module_version": "1.5.0",
            "_view_name": "ProgressView",
            "bar_style": "success",
            "description": "",
            "description_tooltip": null,
            "layout": "IPY_MODEL_305f7ba99286478faed9279469d3ae5e",
            "max": 456318,
            "min": 0,
            "orientation": "horizontal",
            "style": "IPY_MODEL_a9531507dcc1460cb6c0a96bf70a39fc",
            "value": 456318
          }
        },
        "061c019cc91e45e5a631a5a97ba42e0b": {
          "model_module": "@jupyter-widgets/controls",
          "model_name": "HTMLModel",
          "model_module_version": "1.5.0",
          "state": {
            "_dom_classes": [],
            "_model_module": "@jupyter-widgets/controls",
            "_model_module_version": "1.5.0",
            "_model_name": "HTMLModel",
            "_view_count": null,
            "_view_module": "@jupyter-widgets/controls",
            "_view_module_version": "1.5.0",
            "_view_name": "HTMLView",
            "description": "",
            "description_tooltip": null,
            "layout": "IPY_MODEL_7f310f27442f4a5691e5ec2fa24b0272",
            "placeholder": "​",
            "style": "IPY_MODEL_b2c7ae7549de4d2a899ca5a0e29bc1f1",
            "value": " 456k/456k [00:00&lt;00:00, 24.9MB/s]"
          }
        },
        "31b1118189b2444c8772cdb01f955e9e": {
          "model_module": "@jupyter-widgets/base",
          "model_name": "LayoutModel",
          "model_module_version": "1.2.0",
          "state": {
            "_model_module": "@jupyter-widgets/base",
            "_model_module_version": "1.2.0",
            "_model_name": "LayoutModel",
            "_view_count": null,
            "_view_module": "@jupyter-widgets/base",
            "_view_module_version": "1.2.0",
            "_view_name": "LayoutView",
            "align_content": null,
            "align_items": null,
            "align_self": null,
            "border": null,
            "bottom": null,
            "display": null,
            "flex": null,
            "flex_flow": null,
            "grid_area": null,
            "grid_auto_columns": null,
            "grid_auto_flow": null,
            "grid_auto_rows": null,
            "grid_column": null,
            "grid_gap": null,
            "grid_row": null,
            "grid_template_areas": null,
            "grid_template_columns": null,
            "grid_template_rows": null,
            "height": null,
            "justify_content": null,
            "justify_items": null,
            "left": null,
            "margin": null,
            "max_height": null,
            "max_width": null,
            "min_height": null,
            "min_width": null,
            "object_fit": null,
            "object_position": null,
            "order": null,
            "overflow": null,
            "overflow_x": null,
            "overflow_y": null,
            "padding": null,
            "right": null,
            "top": null,
            "visibility": null,
            "width": null
          }
        },
        "75c3d68da9b64d6296e9e638b1cf0096": {
          "model_module": "@jupyter-widgets/base",
          "model_name": "LayoutModel",
          "model_module_version": "1.2.0",
          "state": {
            "_model_module": "@jupyter-widgets/base",
            "_model_module_version": "1.2.0",
            "_model_name": "LayoutModel",
            "_view_count": null,
            "_view_module": "@jupyter-widgets/base",
            "_view_module_version": "1.2.0",
            "_view_name": "LayoutView",
            "align_content": null,
            "align_items": null,
            "align_self": null,
            "border": null,
            "bottom": null,
            "display": null,
            "flex": null,
            "flex_flow": null,
            "grid_area": null,
            "grid_auto_columns": null,
            "grid_auto_flow": null,
            "grid_auto_rows": null,
            "grid_column": null,
            "grid_gap": null,
            "grid_row": null,
            "grid_template_areas": null,
            "grid_template_columns": null,
            "grid_template_rows": null,
            "height": null,
            "justify_content": null,
            "justify_items": null,
            "left": null,
            "margin": null,
            "max_height": null,
            "max_width": null,
            "min_height": null,
            "min_width": null,
            "object_fit": null,
            "object_position": null,
            "order": null,
            "overflow": null,
            "overflow_x": null,
            "overflow_y": null,
            "padding": null,
            "right": null,
            "top": null,
            "visibility": null,
            "width": null
          }
        },
        "05072a87a353423f8f6675cafbb22296": {
          "model_module": "@jupyter-widgets/controls",
          "model_name": "DescriptionStyleModel",
          "model_module_version": "1.5.0",
          "state": {
            "_model_module": "@jupyter-widgets/controls",
            "_model_module_version": "1.5.0",
            "_model_name": "DescriptionStyleModel",
            "_view_count": null,
            "_view_module": "@jupyter-widgets/base",
            "_view_module_version": "1.2.0",
            "_view_name": "StyleView",
            "description_width": ""
          }
        },
        "305f7ba99286478faed9279469d3ae5e": {
          "model_module": "@jupyter-widgets/base",
          "model_name": "LayoutModel",
          "model_module_version": "1.2.0",
          "state": {
            "_model_module": "@jupyter-widgets/base",
            "_model_module_version": "1.2.0",
            "_model_name": "LayoutModel",
            "_view_count": null,
            "_view_module": "@jupyter-widgets/base",
            "_view_module_version": "1.2.0",
            "_view_name": "LayoutView",
            "align_content": null,
            "align_items": null,
            "align_self": null,
            "border": null,
            "bottom": null,
            "display": null,
            "flex": null,
            "flex_flow": null,
            "grid_area": null,
            "grid_auto_columns": null,
            "grid_auto_flow": null,
            "grid_auto_rows": null,
            "grid_column": null,
            "grid_gap": null,
            "grid_row": null,
            "grid_template_areas": null,
            "grid_template_columns": null,
            "grid_template_rows": null,
            "height": null,
            "justify_content": null,
            "justify_items": null,
            "left": null,
            "margin": null,
            "max_height": null,
            "max_width": null,
            "min_height": null,
            "min_width": null,
            "object_fit": null,
            "object_position": null,
            "order": null,
            "overflow": null,
            "overflow_x": null,
            "overflow_y": null,
            "padding": null,
            "right": null,
            "top": null,
            "visibility": null,
            "width": null
          }
        },
        "a9531507dcc1460cb6c0a96bf70a39fc": {
          "model_module": "@jupyter-widgets/controls",
          "model_name": "ProgressStyleModel",
          "model_module_version": "1.5.0",
          "state": {
            "_model_module": "@jupyter-widgets/controls",
            "_model_module_version": "1.5.0",
            "_model_name": "ProgressStyleModel",
            "_view_count": null,
            "_view_module": "@jupyter-widgets/base",
            "_view_module_version": "1.2.0",
            "_view_name": "StyleView",
            "bar_color": null,
            "description_width": ""
          }
        },
        "7f310f27442f4a5691e5ec2fa24b0272": {
          "model_module": "@jupyter-widgets/base",
          "model_name": "LayoutModel",
          "model_module_version": "1.2.0",
          "state": {
            "_model_module": "@jupyter-widgets/base",
            "_model_module_version": "1.2.0",
            "_model_name": "LayoutModel",
            "_view_count": null,
            "_view_module": "@jupyter-widgets/base",
            "_view_module_version": "1.2.0",
            "_view_name": "LayoutView",
            "align_content": null,
            "align_items": null,
            "align_self": null,
            "border": null,
            "bottom": null,
            "display": null,
            "flex": null,
            "flex_flow": null,
            "grid_area": null,
            "grid_auto_columns": null,
            "grid_auto_flow": null,
            "grid_auto_rows": null,
            "grid_column": null,
            "grid_gap": null,
            "grid_row": null,
            "grid_template_areas": null,
            "grid_template_columns": null,
            "grid_template_rows": null,
            "height": null,
            "justify_content": null,
            "justify_items": null,
            "left": null,
            "margin": null,
            "max_height": null,
            "max_width": null,
            "min_height": null,
            "min_width": null,
            "object_fit": null,
            "object_position": null,
            "order": null,
            "overflow": null,
            "overflow_x": null,
            "overflow_y": null,
            "padding": null,
            "right": null,
            "top": null,
            "visibility": null,
            "width": null
          }
        },
        "b2c7ae7549de4d2a899ca5a0e29bc1f1": {
          "model_module": "@jupyter-widgets/controls",
          "model_name": "DescriptionStyleModel",
          "model_module_version": "1.5.0",
          "state": {
            "_model_module": "@jupyter-widgets/controls",
            "_model_module_version": "1.5.0",
            "_model_name": "DescriptionStyleModel",
            "_view_count": null,
            "_view_module": "@jupyter-widgets/base",
            "_view_module_version": "1.2.0",
            "_view_name": "StyleView",
            "description_width": ""
          }
        },
        "e70dbc4972424b81bd6cbe81c67f31b4": {
          "model_module": "@jupyter-widgets/controls",
          "model_name": "HBoxModel",
          "model_module_version": "1.5.0",
          "state": {
            "_dom_classes": [],
            "_model_module": "@jupyter-widgets/controls",
            "_model_module_version": "1.5.0",
            "_model_name": "HBoxModel",
            "_view_count": null,
            "_view_module": "@jupyter-widgets/controls",
            "_view_module_version": "1.5.0",
            "_view_name": "HBoxView",
            "box_style": "",
            "children": [
              "IPY_MODEL_ab0f70147ca64b548570ec172bfb6433",
              "IPY_MODEL_e3afc302094748a689e929d7069572de",
              "IPY_MODEL_6af25031ff84443ca466ca219bbf57dc"
            ],
            "layout": "IPY_MODEL_2aad2a0946cc4e158ebb2a637df7ef0d"
          }
        },
        "ab0f70147ca64b548570ec172bfb6433": {
          "model_module": "@jupyter-widgets/controls",
          "model_name": "HTMLModel",
          "model_module_version": "1.5.0",
          "state": {
            "_dom_classes": [],
            "_model_module": "@jupyter-widgets/controls",
            "_model_module_version": "1.5.0",
            "_model_name": "HTMLModel",
            "_view_count": null,
            "_view_module": "@jupyter-widgets/controls",
            "_view_module_version": "1.5.0",
            "_view_name": "HTMLView",
            "description": "",
            "description_tooltip": null,
            "layout": "IPY_MODEL_c63c71a946e64bffa5bac7f7b184a5ad",
            "placeholder": "​",
            "style": "IPY_MODEL_b8c6d7bdb11d41fa9bf562cfc15dc3e6",
            "value": "tokenizer.json: 100%"
          }
        },
        "e3afc302094748a689e929d7069572de": {
          "model_module": "@jupyter-widgets/controls",
          "model_name": "FloatProgressModel",
          "model_module_version": "1.5.0",
          "state": {
            "_dom_classes": [],
            "_model_module": "@jupyter-widgets/controls",
            "_model_module_version": "1.5.0",
            "_model_name": "FloatProgressModel",
            "_view_count": null,
            "_view_module": "@jupyter-widgets/controls",
            "_view_module_version": "1.5.0",
            "_view_name": "ProgressView",
            "bar_style": "success",
            "description": "",
            "description_tooltip": null,
            "layout": "IPY_MODEL_86675cfc34104b74a51a0a2c1ab1b319",
            "max": 1355256,
            "min": 0,
            "orientation": "horizontal",
            "style": "IPY_MODEL_53b7e30ccafa43c99cdf4c12de4b9fec",
            "value": 1355256
          }
        },
        "6af25031ff84443ca466ca219bbf57dc": {
          "model_module": "@jupyter-widgets/controls",
          "model_name": "HTMLModel",
          "model_module_version": "1.5.0",
          "state": {
            "_dom_classes": [],
            "_model_module": "@jupyter-widgets/controls",
            "_model_module_version": "1.5.0",
            "_model_name": "HTMLModel",
            "_view_count": null,
            "_view_module": "@jupyter-widgets/controls",
            "_view_module_version": "1.5.0",
            "_view_name": "HTMLView",
            "description": "",
            "description_tooltip": null,
            "layout": "IPY_MODEL_f39fc580d53a4362a4901a2f87c259cd",
            "placeholder": "​",
            "style": "IPY_MODEL_9d2dee4c7d6149d9aa32daa49ea98ccc",
            "value": " 1.36M/1.36M [00:00&lt;00:00, 18.9MB/s]"
          }
        },
        "2aad2a0946cc4e158ebb2a637df7ef0d": {
          "model_module": "@jupyter-widgets/base",
          "model_name": "LayoutModel",
          "model_module_version": "1.2.0",
          "state": {
            "_model_module": "@jupyter-widgets/base",
            "_model_module_version": "1.2.0",
            "_model_name": "LayoutModel",
            "_view_count": null,
            "_view_module": "@jupyter-widgets/base",
            "_view_module_version": "1.2.0",
            "_view_name": "LayoutView",
            "align_content": null,
            "align_items": null,
            "align_self": null,
            "border": null,
            "bottom": null,
            "display": null,
            "flex": null,
            "flex_flow": null,
            "grid_area": null,
            "grid_auto_columns": null,
            "grid_auto_flow": null,
            "grid_auto_rows": null,
            "grid_column": null,
            "grid_gap": null,
            "grid_row": null,
            "grid_template_areas": null,
            "grid_template_columns": null,
            "grid_template_rows": null,
            "height": null,
            "justify_content": null,
            "justify_items": null,
            "left": null,
            "margin": null,
            "max_height": null,
            "max_width": null,
            "min_height": null,
            "min_width": null,
            "object_fit": null,
            "object_position": null,
            "order": null,
            "overflow": null,
            "overflow_x": null,
            "overflow_y": null,
            "padding": null,
            "right": null,
            "top": null,
            "visibility": null,
            "width": null
          }
        },
        "c63c71a946e64bffa5bac7f7b184a5ad": {
          "model_module": "@jupyter-widgets/base",
          "model_name": "LayoutModel",
          "model_module_version": "1.2.0",
          "state": {
            "_model_module": "@jupyter-widgets/base",
            "_model_module_version": "1.2.0",
            "_model_name": "LayoutModel",
            "_view_count": null,
            "_view_module": "@jupyter-widgets/base",
            "_view_module_version": "1.2.0",
            "_view_name": "LayoutView",
            "align_content": null,
            "align_items": null,
            "align_self": null,
            "border": null,
            "bottom": null,
            "display": null,
            "flex": null,
            "flex_flow": null,
            "grid_area": null,
            "grid_auto_columns": null,
            "grid_auto_flow": null,
            "grid_auto_rows": null,
            "grid_column": null,
            "grid_gap": null,
            "grid_row": null,
            "grid_template_areas": null,
            "grid_template_columns": null,
            "grid_template_rows": null,
            "height": null,
            "justify_content": null,
            "justify_items": null,
            "left": null,
            "margin": null,
            "max_height": null,
            "max_width": null,
            "min_height": null,
            "min_width": null,
            "object_fit": null,
            "object_position": null,
            "order": null,
            "overflow": null,
            "overflow_x": null,
            "overflow_y": null,
            "padding": null,
            "right": null,
            "top": null,
            "visibility": null,
            "width": null
          }
        },
        "b8c6d7bdb11d41fa9bf562cfc15dc3e6": {
          "model_module": "@jupyter-widgets/controls",
          "model_name": "DescriptionStyleModel",
          "model_module_version": "1.5.0",
          "state": {
            "_model_module": "@jupyter-widgets/controls",
            "_model_module_version": "1.5.0",
            "_model_name": "DescriptionStyleModel",
            "_view_count": null,
            "_view_module": "@jupyter-widgets/base",
            "_view_module_version": "1.2.0",
            "_view_name": "StyleView",
            "description_width": ""
          }
        },
        "86675cfc34104b74a51a0a2c1ab1b319": {
          "model_module": "@jupyter-widgets/base",
          "model_name": "LayoutModel",
          "model_module_version": "1.2.0",
          "state": {
            "_model_module": "@jupyter-widgets/base",
            "_model_module_version": "1.2.0",
            "_model_name": "LayoutModel",
            "_view_count": null,
            "_view_module": "@jupyter-widgets/base",
            "_view_module_version": "1.2.0",
            "_view_name": "LayoutView",
            "align_content": null,
            "align_items": null,
            "align_self": null,
            "border": null,
            "bottom": null,
            "display": null,
            "flex": null,
            "flex_flow": null,
            "grid_area": null,
            "grid_auto_columns": null,
            "grid_auto_flow": null,
            "grid_auto_rows": null,
            "grid_column": null,
            "grid_gap": null,
            "grid_row": null,
            "grid_template_areas": null,
            "grid_template_columns": null,
            "grid_template_rows": null,
            "height": null,
            "justify_content": null,
            "justify_items": null,
            "left": null,
            "margin": null,
            "max_height": null,
            "max_width": null,
            "min_height": null,
            "min_width": null,
            "object_fit": null,
            "object_position": null,
            "order": null,
            "overflow": null,
            "overflow_x": null,
            "overflow_y": null,
            "padding": null,
            "right": null,
            "top": null,
            "visibility": null,
            "width": null
          }
        },
        "53b7e30ccafa43c99cdf4c12de4b9fec": {
          "model_module": "@jupyter-widgets/controls",
          "model_name": "ProgressStyleModel",
          "model_module_version": "1.5.0",
          "state": {
            "_model_module": "@jupyter-widgets/controls",
            "_model_module_version": "1.5.0",
            "_model_name": "ProgressStyleModel",
            "_view_count": null,
            "_view_module": "@jupyter-widgets/base",
            "_view_module_version": "1.2.0",
            "_view_name": "StyleView",
            "bar_color": null,
            "description_width": ""
          }
        },
        "f39fc580d53a4362a4901a2f87c259cd": {
          "model_module": "@jupyter-widgets/base",
          "model_name": "LayoutModel",
          "model_module_version": "1.2.0",
          "state": {
            "_model_module": "@jupyter-widgets/base",
            "_model_module_version": "1.2.0",
            "_model_name": "LayoutModel",
            "_view_count": null,
            "_view_module": "@jupyter-widgets/base",
            "_view_module_version": "1.2.0",
            "_view_name": "LayoutView",
            "align_content": null,
            "align_items": null,
            "align_self": null,
            "border": null,
            "bottom": null,
            "display": null,
            "flex": null,
            "flex_flow": null,
            "grid_area": null,
            "grid_auto_columns": null,
            "grid_auto_flow": null,
            "grid_auto_rows": null,
            "grid_column": null,
            "grid_gap": null,
            "grid_row": null,
            "grid_template_areas": null,
            "grid_template_columns": null,
            "grid_template_rows": null,
            "height": null,
            "justify_content": null,
            "justify_items": null,
            "left": null,
            "margin": null,
            "max_height": null,
            "max_width": null,
            "min_height": null,
            "min_width": null,
            "object_fit": null,
            "object_position": null,
            "order": null,
            "overflow": null,
            "overflow_x": null,
            "overflow_y": null,
            "padding": null,
            "right": null,
            "top": null,
            "visibility": null,
            "width": null
          }
        },
        "9d2dee4c7d6149d9aa32daa49ea98ccc": {
          "model_module": "@jupyter-widgets/controls",
          "model_name": "DescriptionStyleModel",
          "model_module_version": "1.5.0",
          "state": {
            "_model_module": "@jupyter-widgets/controls",
            "_model_module_version": "1.5.0",
            "_model_name": "DescriptionStyleModel",
            "_view_count": null,
            "_view_module": "@jupyter-widgets/base",
            "_view_module_version": "1.2.0",
            "_view_name": "StyleView",
            "description_width": ""
          }
        },
        "a89bf47b2b7a48af968daf53d7ac1538": {
          "model_module": "@jupyter-widgets/controls",
          "model_name": "HBoxModel",
          "model_module_version": "1.5.0",
          "state": {
            "_dom_classes": [],
            "_model_module": "@jupyter-widgets/controls",
            "_model_module_version": "1.5.0",
            "_model_name": "HBoxModel",
            "_view_count": null,
            "_view_module": "@jupyter-widgets/controls",
            "_view_module_version": "1.5.0",
            "_view_name": "HBoxView",
            "box_style": "",
            "children": [
              "IPY_MODEL_4c5836a024164487b18ce882c13f4376",
              "IPY_MODEL_f0f4127d20e442a3ae716c5d4fe4102f",
              "IPY_MODEL_c8a4fc09d24f49c78601f88328f994fd"
            ],
            "layout": "IPY_MODEL_21bf9fc05d894b75830ace849ca5fb7b"
          }
        },
        "4c5836a024164487b18ce882c13f4376": {
          "model_module": "@jupyter-widgets/controls",
          "model_name": "HTMLModel",
          "model_module_version": "1.5.0",
          "state": {
            "_dom_classes": [],
            "_model_module": "@jupyter-widgets/controls",
            "_model_module_version": "1.5.0",
            "_model_name": "HTMLModel",
            "_view_count": null,
            "_view_module": "@jupyter-widgets/controls",
            "_view_module_version": "1.5.0",
            "_view_name": "HTMLView",
            "description": "",
            "description_tooltip": null,
            "layout": "IPY_MODEL_d8ee887b55fc4033b44fff163504d6ff",
            "placeholder": "​",
            "style": "IPY_MODEL_b40e2972acc841259487b9f9ad36024b",
            "value": "model.safetensors: 100%"
          }
        },
        "f0f4127d20e442a3ae716c5d4fe4102f": {
          "model_module": "@jupyter-widgets/controls",
          "model_name": "FloatProgressModel",
          "model_module_version": "1.5.0",
          "state": {
            "_dom_classes": [],
            "_model_module": "@jupyter-widgets/controls",
            "_model_module_version": "1.5.0",
            "_model_name": "FloatProgressModel",
            "_view_count": null,
            "_view_module": "@jupyter-widgets/controls",
            "_view_module_version": "1.5.0",
            "_view_name": "ProgressView",
            "bar_style": "success",
            "description": "",
            "description_tooltip": null,
            "layout": "IPY_MODEL_42a120b69629481598b14fb3e4a5a5a5",
            "max": 548105171,
            "min": 0,
            "orientation": "horizontal",
            "style": "IPY_MODEL_79d7f902857b445eb6d2d7ba997ed0f5",
            "value": 548105171
          }
        },
        "c8a4fc09d24f49c78601f88328f994fd": {
          "model_module": "@jupyter-widgets/controls",
          "model_name": "HTMLModel",
          "model_module_version": "1.5.0",
          "state": {
            "_dom_classes": [],
            "_model_module": "@jupyter-widgets/controls",
            "_model_module_version": "1.5.0",
            "_model_name": "HTMLModel",
            "_view_count": null,
            "_view_module": "@jupyter-widgets/controls",
            "_view_module_version": "1.5.0",
            "_view_name": "HTMLView",
            "description": "",
            "description_tooltip": null,
            "layout": "IPY_MODEL_1ee6a4551ba74757a48ebdcae14d4a84",
            "placeholder": "​",
            "style": "IPY_MODEL_8fba105884dd4e868ebb58b6797e044a",
            "value": " 548M/548M [00:02&lt;00:00, 199MB/s]"
          }
        },
        "21bf9fc05d894b75830ace849ca5fb7b": {
          "model_module": "@jupyter-widgets/base",
          "model_name": "LayoutModel",
          "model_module_version": "1.2.0",
          "state": {
            "_model_module": "@jupyter-widgets/base",
            "_model_module_version": "1.2.0",
            "_model_name": "LayoutModel",
            "_view_count": null,
            "_view_module": "@jupyter-widgets/base",
            "_view_module_version": "1.2.0",
            "_view_name": "LayoutView",
            "align_content": null,
            "align_items": null,
            "align_self": null,
            "border": null,
            "bottom": null,
            "display": null,
            "flex": null,
            "flex_flow": null,
            "grid_area": null,
            "grid_auto_columns": null,
            "grid_auto_flow": null,
            "grid_auto_rows": null,
            "grid_column": null,
            "grid_gap": null,
            "grid_row": null,
            "grid_template_areas": null,
            "grid_template_columns": null,
            "grid_template_rows": null,
            "height": null,
            "justify_content": null,
            "justify_items": null,
            "left": null,
            "margin": null,
            "max_height": null,
            "max_width": null,
            "min_height": null,
            "min_width": null,
            "object_fit": null,
            "object_position": null,
            "order": null,
            "overflow": null,
            "overflow_x": null,
            "overflow_y": null,
            "padding": null,
            "right": null,
            "top": null,
            "visibility": null,
            "width": null
          }
        },
        "d8ee887b55fc4033b44fff163504d6ff": {
          "model_module": "@jupyter-widgets/base",
          "model_name": "LayoutModel",
          "model_module_version": "1.2.0",
          "state": {
            "_model_module": "@jupyter-widgets/base",
            "_model_module_version": "1.2.0",
            "_model_name": "LayoutModel",
            "_view_count": null,
            "_view_module": "@jupyter-widgets/base",
            "_view_module_version": "1.2.0",
            "_view_name": "LayoutView",
            "align_content": null,
            "align_items": null,
            "align_self": null,
            "border": null,
            "bottom": null,
            "display": null,
            "flex": null,
            "flex_flow": null,
            "grid_area": null,
            "grid_auto_columns": null,
            "grid_auto_flow": null,
            "grid_auto_rows": null,
            "grid_column": null,
            "grid_gap": null,
            "grid_row": null,
            "grid_template_areas": null,
            "grid_template_columns": null,
            "grid_template_rows": null,
            "height": null,
            "justify_content": null,
            "justify_items": null,
            "left": null,
            "margin": null,
            "max_height": null,
            "max_width": null,
            "min_height": null,
            "min_width": null,
            "object_fit": null,
            "object_position": null,
            "order": null,
            "overflow": null,
            "overflow_x": null,
            "overflow_y": null,
            "padding": null,
            "right": null,
            "top": null,
            "visibility": null,
            "width": null
          }
        },
        "b40e2972acc841259487b9f9ad36024b": {
          "model_module": "@jupyter-widgets/controls",
          "model_name": "DescriptionStyleModel",
          "model_module_version": "1.5.0",
          "state": {
            "_model_module": "@jupyter-widgets/controls",
            "_model_module_version": "1.5.0",
            "_model_name": "DescriptionStyleModel",
            "_view_count": null,
            "_view_module": "@jupyter-widgets/base",
            "_view_module_version": "1.2.0",
            "_view_name": "StyleView",
            "description_width": ""
          }
        },
        "42a120b69629481598b14fb3e4a5a5a5": {
          "model_module": "@jupyter-widgets/base",
          "model_name": "LayoutModel",
          "model_module_version": "1.2.0",
          "state": {
            "_model_module": "@jupyter-widgets/base",
            "_model_module_version": "1.2.0",
            "_model_name": "LayoutModel",
            "_view_count": null,
            "_view_module": "@jupyter-widgets/base",
            "_view_module_version": "1.2.0",
            "_view_name": "LayoutView",
            "align_content": null,
            "align_items": null,
            "align_self": null,
            "border": null,
            "bottom": null,
            "display": null,
            "flex": null,
            "flex_flow": null,
            "grid_area": null,
            "grid_auto_columns": null,
            "grid_auto_flow": null,
            "grid_auto_rows": null,
            "grid_column": null,
            "grid_gap": null,
            "grid_row": null,
            "grid_template_areas": null,
            "grid_template_columns": null,
            "grid_template_rows": null,
            "height": null,
            "justify_content": null,
            "justify_items": null,
            "left": null,
            "margin": null,
            "max_height": null,
            "max_width": null,
            "min_height": null,
            "min_width": null,
            "object_fit": null,
            "object_position": null,
            "order": null,
            "overflow": null,
            "overflow_x": null,
            "overflow_y": null,
            "padding": null,
            "right": null,
            "top": null,
            "visibility": null,
            "width": null
          }
        },
        "79d7f902857b445eb6d2d7ba997ed0f5": {
          "model_module": "@jupyter-widgets/controls",
          "model_name": "ProgressStyleModel",
          "model_module_version": "1.5.0",
          "state": {
            "_model_module": "@jupyter-widgets/controls",
            "_model_module_version": "1.5.0",
            "_model_name": "ProgressStyleModel",
            "_view_count": null,
            "_view_module": "@jupyter-widgets/base",
            "_view_module_version": "1.2.0",
            "_view_name": "StyleView",
            "bar_color": null,
            "description_width": ""
          }
        },
        "1ee6a4551ba74757a48ebdcae14d4a84": {
          "model_module": "@jupyter-widgets/base",
          "model_name": "LayoutModel",
          "model_module_version": "1.2.0",
          "state": {
            "_model_module": "@jupyter-widgets/base",
            "_model_module_version": "1.2.0",
            "_model_name": "LayoutModel",
            "_view_count": null,
            "_view_module": "@jupyter-widgets/base",
            "_view_module_version": "1.2.0",
            "_view_name": "LayoutView",
            "align_content": null,
            "align_items": null,
            "align_self": null,
            "border": null,
            "bottom": null,
            "display": null,
            "flex": null,
            "flex_flow": null,
            "grid_area": null,
            "grid_auto_columns": null,
            "grid_auto_flow": null,
            "grid_auto_rows": null,
            "grid_column": null,
            "grid_gap": null,
            "grid_row": null,
            "grid_template_areas": null,
            "grid_template_columns": null,
            "grid_template_rows": null,
            "height": null,
            "justify_content": null,
            "justify_items": null,
            "left": null,
            "margin": null,
            "max_height": null,
            "max_width": null,
            "min_height": null,
            "min_width": null,
            "object_fit": null,
            "object_position": null,
            "order": null,
            "overflow": null,
            "overflow_x": null,
            "overflow_y": null,
            "padding": null,
            "right": null,
            "top": null,
            "visibility": null,
            "width": null
          }
        },
        "8fba105884dd4e868ebb58b6797e044a": {
          "model_module": "@jupyter-widgets/controls",
          "model_name": "DescriptionStyleModel",
          "model_module_version": "1.5.0",
          "state": {
            "_model_module": "@jupyter-widgets/controls",
            "_model_module_version": "1.5.0",
            "_model_name": "DescriptionStyleModel",
            "_view_count": null,
            "_view_module": "@jupyter-widgets/base",
            "_view_module_version": "1.2.0",
            "_view_name": "StyleView",
            "description_width": ""
          }
        },
        "66c21077fc8a41cb842f557db2471a81": {
          "model_module": "@jupyter-widgets/controls",
          "model_name": "HBoxModel",
          "model_module_version": "1.5.0",
          "state": {
            "_dom_classes": [],
            "_model_module": "@jupyter-widgets/controls",
            "_model_module_version": "1.5.0",
            "_model_name": "HBoxModel",
            "_view_count": null,
            "_view_module": "@jupyter-widgets/controls",
            "_view_module_version": "1.5.0",
            "_view_name": "HBoxView",
            "box_style": "",
            "children": [
              "IPY_MODEL_bf5dd8793bd7405a8f43db29968b9c2b",
              "IPY_MODEL_a561440efb3146ecab7ee116c5118eed",
              "IPY_MODEL_157c6b186a784d558ffb04a418f42bc5"
            ],
            "layout": "IPY_MODEL_426e1c3f67af4fd684e3ad5643321881"
          }
        },
        "bf5dd8793bd7405a8f43db29968b9c2b": {
          "model_module": "@jupyter-widgets/controls",
          "model_name": "HTMLModel",
          "model_module_version": "1.5.0",
          "state": {
            "_dom_classes": [],
            "_model_module": "@jupyter-widgets/controls",
            "_model_module_version": "1.5.0",
            "_model_name": "HTMLModel",
            "_view_count": null,
            "_view_module": "@jupyter-widgets/controls",
            "_view_module_version": "1.5.0",
            "_view_name": "HTMLView",
            "description": "",
            "description_tooltip": null,
            "layout": "IPY_MODEL_dcd9c86fc4e84292955afddd109cf698",
            "placeholder": "​",
            "style": "IPY_MODEL_ea057f3d665a4106b9d420d97a74dcc6",
            "value": "generation_config.json: 100%"
          }
        },
        "a561440efb3146ecab7ee116c5118eed": {
          "model_module": "@jupyter-widgets/controls",
          "model_name": "FloatProgressModel",
          "model_module_version": "1.5.0",
          "state": {
            "_dom_classes": [],
            "_model_module": "@jupyter-widgets/controls",
            "_model_module_version": "1.5.0",
            "_model_name": "FloatProgressModel",
            "_view_count": null,
            "_view_module": "@jupyter-widgets/controls",
            "_view_module_version": "1.5.0",
            "_view_name": "ProgressView",
            "bar_style": "success",
            "description": "",
            "description_tooltip": null,
            "layout": "IPY_MODEL_e1e38fefa567498abc605c82c50534e0",
            "max": 124,
            "min": 0,
            "orientation": "horizontal",
            "style": "IPY_MODEL_19c909db93b44bf9b5d108866c507b23",
            "value": 124
          }
        },
        "157c6b186a784d558ffb04a418f42bc5": {
          "model_module": "@jupyter-widgets/controls",
          "model_name": "HTMLModel",
          "model_module_version": "1.5.0",
          "state": {
            "_dom_classes": [],
            "_model_module": "@jupyter-widgets/controls",
            "_model_module_version": "1.5.0",
            "_model_name": "HTMLModel",
            "_view_count": null,
            "_view_module": "@jupyter-widgets/controls",
            "_view_module_version": "1.5.0",
            "_view_name": "HTMLView",
            "description": "",
            "description_tooltip": null,
            "layout": "IPY_MODEL_9723cb8590604a53814a71dabc6f3432",
            "placeholder": "​",
            "style": "IPY_MODEL_3e0fd2e0695f424d8d4f4f2725371ad7",
            "value": " 124/124 [00:00&lt;00:00, 11.7kB/s]"
          }
        },
        "426e1c3f67af4fd684e3ad5643321881": {
          "model_module": "@jupyter-widgets/base",
          "model_name": "LayoutModel",
          "model_module_version": "1.2.0",
          "state": {
            "_model_module": "@jupyter-widgets/base",
            "_model_module_version": "1.2.0",
            "_model_name": "LayoutModel",
            "_view_count": null,
            "_view_module": "@jupyter-widgets/base",
            "_view_module_version": "1.2.0",
            "_view_name": "LayoutView",
            "align_content": null,
            "align_items": null,
            "align_self": null,
            "border": null,
            "bottom": null,
            "display": null,
            "flex": null,
            "flex_flow": null,
            "grid_area": null,
            "grid_auto_columns": null,
            "grid_auto_flow": null,
            "grid_auto_rows": null,
            "grid_column": null,
            "grid_gap": null,
            "grid_row": null,
            "grid_template_areas": null,
            "grid_template_columns": null,
            "grid_template_rows": null,
            "height": null,
            "justify_content": null,
            "justify_items": null,
            "left": null,
            "margin": null,
            "max_height": null,
            "max_width": null,
            "min_height": null,
            "min_width": null,
            "object_fit": null,
            "object_position": null,
            "order": null,
            "overflow": null,
            "overflow_x": null,
            "overflow_y": null,
            "padding": null,
            "right": null,
            "top": null,
            "visibility": null,
            "width": null
          }
        },
        "dcd9c86fc4e84292955afddd109cf698": {
          "model_module": "@jupyter-widgets/base",
          "model_name": "LayoutModel",
          "model_module_version": "1.2.0",
          "state": {
            "_model_module": "@jupyter-widgets/base",
            "_model_module_version": "1.2.0",
            "_model_name": "LayoutModel",
            "_view_count": null,
            "_view_module": "@jupyter-widgets/base",
            "_view_module_version": "1.2.0",
            "_view_name": "LayoutView",
            "align_content": null,
            "align_items": null,
            "align_self": null,
            "border": null,
            "bottom": null,
            "display": null,
            "flex": null,
            "flex_flow": null,
            "grid_area": null,
            "grid_auto_columns": null,
            "grid_auto_flow": null,
            "grid_auto_rows": null,
            "grid_column": null,
            "grid_gap": null,
            "grid_row": null,
            "grid_template_areas": null,
            "grid_template_columns": null,
            "grid_template_rows": null,
            "height": null,
            "justify_content": null,
            "justify_items": null,
            "left": null,
            "margin": null,
            "max_height": null,
            "max_width": null,
            "min_height": null,
            "min_width": null,
            "object_fit": null,
            "object_position": null,
            "order": null,
            "overflow": null,
            "overflow_x": null,
            "overflow_y": null,
            "padding": null,
            "right": null,
            "top": null,
            "visibility": null,
            "width": null
          }
        },
        "ea057f3d665a4106b9d420d97a74dcc6": {
          "model_module": "@jupyter-widgets/controls",
          "model_name": "DescriptionStyleModel",
          "model_module_version": "1.5.0",
          "state": {
            "_model_module": "@jupyter-widgets/controls",
            "_model_module_version": "1.5.0",
            "_model_name": "DescriptionStyleModel",
            "_view_count": null,
            "_view_module": "@jupyter-widgets/base",
            "_view_module_version": "1.2.0",
            "_view_name": "StyleView",
            "description_width": ""
          }
        },
        "e1e38fefa567498abc605c82c50534e0": {
          "model_module": "@jupyter-widgets/base",
          "model_name": "LayoutModel",
          "model_module_version": "1.2.0",
          "state": {
            "_model_module": "@jupyter-widgets/base",
            "_model_module_version": "1.2.0",
            "_model_name": "LayoutModel",
            "_view_count": null,
            "_view_module": "@jupyter-widgets/base",
            "_view_module_version": "1.2.0",
            "_view_name": "LayoutView",
            "align_content": null,
            "align_items": null,
            "align_self": null,
            "border": null,
            "bottom": null,
            "display": null,
            "flex": null,
            "flex_flow": null,
            "grid_area": null,
            "grid_auto_columns": null,
            "grid_auto_flow": null,
            "grid_auto_rows": null,
            "grid_column": null,
            "grid_gap": null,
            "grid_row": null,
            "grid_template_areas": null,
            "grid_template_columns": null,
            "grid_template_rows": null,
            "height": null,
            "justify_content": null,
            "justify_items": null,
            "left": null,
            "margin": null,
            "max_height": null,
            "max_width": null,
            "min_height": null,
            "min_width": null,
            "object_fit": null,
            "object_position": null,
            "order": null,
            "overflow": null,
            "overflow_x": null,
            "overflow_y": null,
            "padding": null,
            "right": null,
            "top": null,
            "visibility": null,
            "width": null
          }
        },
        "19c909db93b44bf9b5d108866c507b23": {
          "model_module": "@jupyter-widgets/controls",
          "model_name": "ProgressStyleModel",
          "model_module_version": "1.5.0",
          "state": {
            "_model_module": "@jupyter-widgets/controls",
            "_model_module_version": "1.5.0",
            "_model_name": "ProgressStyleModel",
            "_view_count": null,
            "_view_module": "@jupyter-widgets/base",
            "_view_module_version": "1.2.0",
            "_view_name": "StyleView",
            "bar_color": null,
            "description_width": ""
          }
        },
        "9723cb8590604a53814a71dabc6f3432": {
          "model_module": "@jupyter-widgets/base",
          "model_name": "LayoutModel",
          "model_module_version": "1.2.0",
          "state": {
            "_model_module": "@jupyter-widgets/base",
            "_model_module_version": "1.2.0",
            "_model_name": "LayoutModel",
            "_view_count": null,
            "_view_module": "@jupyter-widgets/base",
            "_view_module_version": "1.2.0",
            "_view_name": "LayoutView",
            "align_content": null,
            "align_items": null,
            "align_self": null,
            "border": null,
            "bottom": null,
            "display": null,
            "flex": null,
            "flex_flow": null,
            "grid_area": null,
            "grid_auto_columns": null,
            "grid_auto_flow": null,
            "grid_auto_rows": null,
            "grid_column": null,
            "grid_gap": null,
            "grid_row": null,
            "grid_template_areas": null,
            "grid_template_columns": null,
            "grid_template_rows": null,
            "height": null,
            "justify_content": null,
            "justify_items": null,
            "left": null,
            "margin": null,
            "max_height": null,
            "max_width": null,
            "min_height": null,
            "min_width": null,
            "object_fit": null,
            "object_position": null,
            "order": null,
            "overflow": null,
            "overflow_x": null,
            "overflow_y": null,
            "padding": null,
            "right": null,
            "top": null,
            "visibility": null,
            "width": null
          }
        },
        "3e0fd2e0695f424d8d4f4f2725371ad7": {
          "model_module": "@jupyter-widgets/controls",
          "model_name": "DescriptionStyleModel",
          "model_module_version": "1.5.0",
          "state": {
            "_model_module": "@jupyter-widgets/controls",
            "_model_module_version": "1.5.0",
            "_model_name": "DescriptionStyleModel",
            "_view_count": null,
            "_view_module": "@jupyter-widgets/base",
            "_view_module_version": "1.2.0",
            "_view_name": "StyleView",
            "description_width": ""
          }
        },
        "472acd466d2e4ab8ba854aaaa7bbc5b0": {
          "model_module": "@jupyter-widgets/controls",
          "model_name": "HBoxModel",
          "model_module_version": "1.5.0",
          "state": {
            "_dom_classes": [],
            "_model_module": "@jupyter-widgets/controls",
            "_model_module_version": "1.5.0",
            "_model_name": "HBoxModel",
            "_view_count": null,
            "_view_module": "@jupyter-widgets/controls",
            "_view_module_version": "1.5.0",
            "_view_name": "HBoxView",
            "box_style": "",
            "children": [
              "IPY_MODEL_cbdf894bfdb94135bff11e590c83f9bd",
              "IPY_MODEL_9118171fd1684c7085b054c421c743c9",
              "IPY_MODEL_24498952129d4f07913f0b44a607e0ea"
            ],
            "layout": "IPY_MODEL_066d0cb05c6146758db1d853e5eb294e"
          }
        },
        "cbdf894bfdb94135bff11e590c83f9bd": {
          "model_module": "@jupyter-widgets/controls",
          "model_name": "HTMLModel",
          "model_module_version": "1.5.0",
          "state": {
            "_dom_classes": [],
            "_model_module": "@jupyter-widgets/controls",
            "_model_module_version": "1.5.0",
            "_model_name": "HTMLModel",
            "_view_count": null,
            "_view_module": "@jupyter-widgets/controls",
            "_view_module_version": "1.5.0",
            "_view_name": "HTMLView",
            "description": "",
            "description_tooltip": null,
            "layout": "IPY_MODEL_ae911bf97421411da1a3f96df9011a1b",
            "placeholder": "​",
            "style": "IPY_MODEL_318f682ec3574db7a4a20ef0ecdd256e",
            "value": "Map: 100%"
          }
        },
        "9118171fd1684c7085b054c421c743c9": {
          "model_module": "@jupyter-widgets/controls",
          "model_name": "FloatProgressModel",
          "model_module_version": "1.5.0",
          "state": {
            "_dom_classes": [],
            "_model_module": "@jupyter-widgets/controls",
            "_model_module_version": "1.5.0",
            "_model_name": "FloatProgressModel",
            "_view_count": null,
            "_view_module": "@jupyter-widgets/controls",
            "_view_module_version": "1.5.0",
            "_view_name": "ProgressView",
            "bar_style": "success",
            "description": "",
            "description_tooltip": null,
            "layout": "IPY_MODEL_612fa42bf2ed45c1b80d6e19631d3898",
            "max": 2217,
            "min": 0,
            "orientation": "horizontal",
            "style": "IPY_MODEL_a6975476ae2a41ad8c398d3f228f980a",
            "value": 2217
          }
        },
        "24498952129d4f07913f0b44a607e0ea": {
          "model_module": "@jupyter-widgets/controls",
          "model_name": "HTMLModel",
          "model_module_version": "1.5.0",
          "state": {
            "_dom_classes": [],
            "_model_module": "@jupyter-widgets/controls",
            "_model_module_version": "1.5.0",
            "_model_name": "HTMLModel",
            "_view_count": null,
            "_view_module": "@jupyter-widgets/controls",
            "_view_module_version": "1.5.0",
            "_view_name": "HTMLView",
            "description": "",
            "description_tooltip": null,
            "layout": "IPY_MODEL_9dbf056d84e548418e1a3d4a1fa27434",
            "placeholder": "​",
            "style": "IPY_MODEL_45d16fb5b51a4eb8b6ff62286be8ce15",
            "value": " 2217/2217 [00:00&lt;00:00, 2289.18 examples/s]"
          }
        },
        "066d0cb05c6146758db1d853e5eb294e": {
          "model_module": "@jupyter-widgets/base",
          "model_name": "LayoutModel",
          "model_module_version": "1.2.0",
          "state": {
            "_model_module": "@jupyter-widgets/base",
            "_model_module_version": "1.2.0",
            "_model_name": "LayoutModel",
            "_view_count": null,
            "_view_module": "@jupyter-widgets/base",
            "_view_module_version": "1.2.0",
            "_view_name": "LayoutView",
            "align_content": null,
            "align_items": null,
            "align_self": null,
            "border": null,
            "bottom": null,
            "display": null,
            "flex": null,
            "flex_flow": null,
            "grid_area": null,
            "grid_auto_columns": null,
            "grid_auto_flow": null,
            "grid_auto_rows": null,
            "grid_column": null,
            "grid_gap": null,
            "grid_row": null,
            "grid_template_areas": null,
            "grid_template_columns": null,
            "grid_template_rows": null,
            "height": null,
            "justify_content": null,
            "justify_items": null,
            "left": null,
            "margin": null,
            "max_height": null,
            "max_width": null,
            "min_height": null,
            "min_width": null,
            "object_fit": null,
            "object_position": null,
            "order": null,
            "overflow": null,
            "overflow_x": null,
            "overflow_y": null,
            "padding": null,
            "right": null,
            "top": null,
            "visibility": null,
            "width": null
          }
        },
        "ae911bf97421411da1a3f96df9011a1b": {
          "model_module": "@jupyter-widgets/base",
          "model_name": "LayoutModel",
          "model_module_version": "1.2.0",
          "state": {
            "_model_module": "@jupyter-widgets/base",
            "_model_module_version": "1.2.0",
            "_model_name": "LayoutModel",
            "_view_count": null,
            "_view_module": "@jupyter-widgets/base",
            "_view_module_version": "1.2.0",
            "_view_name": "LayoutView",
            "align_content": null,
            "align_items": null,
            "align_self": null,
            "border": null,
            "bottom": null,
            "display": null,
            "flex": null,
            "flex_flow": null,
            "grid_area": null,
            "grid_auto_columns": null,
            "grid_auto_flow": null,
            "grid_auto_rows": null,
            "grid_column": null,
            "grid_gap": null,
            "grid_row": null,
            "grid_template_areas": null,
            "grid_template_columns": null,
            "grid_template_rows": null,
            "height": null,
            "justify_content": null,
            "justify_items": null,
            "left": null,
            "margin": null,
            "max_height": null,
            "max_width": null,
            "min_height": null,
            "min_width": null,
            "object_fit": null,
            "object_position": null,
            "order": null,
            "overflow": null,
            "overflow_x": null,
            "overflow_y": null,
            "padding": null,
            "right": null,
            "top": null,
            "visibility": null,
            "width": null
          }
        },
        "318f682ec3574db7a4a20ef0ecdd256e": {
          "model_module": "@jupyter-widgets/controls",
          "model_name": "DescriptionStyleModel",
          "model_module_version": "1.5.0",
          "state": {
            "_model_module": "@jupyter-widgets/controls",
            "_model_module_version": "1.5.0",
            "_model_name": "DescriptionStyleModel",
            "_view_count": null,
            "_view_module": "@jupyter-widgets/base",
            "_view_module_version": "1.2.0",
            "_view_name": "StyleView",
            "description_width": ""
          }
        },
        "612fa42bf2ed45c1b80d6e19631d3898": {
          "model_module": "@jupyter-widgets/base",
          "model_name": "LayoutModel",
          "model_module_version": "1.2.0",
          "state": {
            "_model_module": "@jupyter-widgets/base",
            "_model_module_version": "1.2.0",
            "_model_name": "LayoutModel",
            "_view_count": null,
            "_view_module": "@jupyter-widgets/base",
            "_view_module_version": "1.2.0",
            "_view_name": "LayoutView",
            "align_content": null,
            "align_items": null,
            "align_self": null,
            "border": null,
            "bottom": null,
            "display": null,
            "flex": null,
            "flex_flow": null,
            "grid_area": null,
            "grid_auto_columns": null,
            "grid_auto_flow": null,
            "grid_auto_rows": null,
            "grid_column": null,
            "grid_gap": null,
            "grid_row": null,
            "grid_template_areas": null,
            "grid_template_columns": null,
            "grid_template_rows": null,
            "height": null,
            "justify_content": null,
            "justify_items": null,
            "left": null,
            "margin": null,
            "max_height": null,
            "max_width": null,
            "min_height": null,
            "min_width": null,
            "object_fit": null,
            "object_position": null,
            "order": null,
            "overflow": null,
            "overflow_x": null,
            "overflow_y": null,
            "padding": null,
            "right": null,
            "top": null,
            "visibility": null,
            "width": null
          }
        },
        "a6975476ae2a41ad8c398d3f228f980a": {
          "model_module": "@jupyter-widgets/controls",
          "model_name": "ProgressStyleModel",
          "model_module_version": "1.5.0",
          "state": {
            "_model_module": "@jupyter-widgets/controls",
            "_model_module_version": "1.5.0",
            "_model_name": "ProgressStyleModel",
            "_view_count": null,
            "_view_module": "@jupyter-widgets/base",
            "_view_module_version": "1.2.0",
            "_view_name": "StyleView",
            "bar_color": null,
            "description_width": ""
          }
        },
        "9dbf056d84e548418e1a3d4a1fa27434": {
          "model_module": "@jupyter-widgets/base",
          "model_name": "LayoutModel",
          "model_module_version": "1.2.0",
          "state": {
            "_model_module": "@jupyter-widgets/base",
            "_model_module_version": "1.2.0",
            "_model_name": "LayoutModel",
            "_view_count": null,
            "_view_module": "@jupyter-widgets/base",
            "_view_module_version": "1.2.0",
            "_view_name": "LayoutView",
            "align_content": null,
            "align_items": null,
            "align_self": null,
            "border": null,
            "bottom": null,
            "display": null,
            "flex": null,
            "flex_flow": null,
            "grid_area": null,
            "grid_auto_columns": null,
            "grid_auto_flow": null,
            "grid_auto_rows": null,
            "grid_column": null,
            "grid_gap": null,
            "grid_row": null,
            "grid_template_areas": null,
            "grid_template_columns": null,
            "grid_template_rows": null,
            "height": null,
            "justify_content": null,
            "justify_items": null,
            "left": null,
            "margin": null,
            "max_height": null,
            "max_width": null,
            "min_height": null,
            "min_width": null,
            "object_fit": null,
            "object_position": null,
            "order": null,
            "overflow": null,
            "overflow_x": null,
            "overflow_y": null,
            "padding": null,
            "right": null,
            "top": null,
            "visibility": null,
            "width": null
          }
        },
        "45d16fb5b51a4eb8b6ff62286be8ce15": {
          "model_module": "@jupyter-widgets/controls",
          "model_name": "DescriptionStyleModel",
          "model_module_version": "1.5.0",
          "state": {
            "_model_module": "@jupyter-widgets/controls",
            "_model_module_version": "1.5.0",
            "_model_name": "DescriptionStyleModel",
            "_view_count": null,
            "_view_module": "@jupyter-widgets/base",
            "_view_module_version": "1.2.0",
            "_view_name": "StyleView",
            "description_width": ""
          }
        },
        "65e467172a454ce79aaa87c0e5b98972": {
          "model_module": "@jupyter-widgets/controls",
          "model_name": "HBoxModel",
          "model_module_version": "1.5.0",
          "state": {
            "_dom_classes": [],
            "_model_module": "@jupyter-widgets/controls",
            "_model_module_version": "1.5.0",
            "_model_name": "HBoxModel",
            "_view_count": null,
            "_view_module": "@jupyter-widgets/controls",
            "_view_module_version": "1.5.0",
            "_view_name": "HBoxView",
            "box_style": "",
            "children": [
              "IPY_MODEL_2754b7d9c427468a9a627bec315994b4",
              "IPY_MODEL_69c406fcec184e1d82563520f7757a65",
              "IPY_MODEL_aa9a00de22ce466b84b0c83ee70c808d"
            ],
            "layout": "IPY_MODEL_a8a6ee4bbd6d405e9419615acc913978"
          }
        },
        "2754b7d9c427468a9a627bec315994b4": {
          "model_module": "@jupyter-widgets/controls",
          "model_name": "HTMLModel",
          "model_module_version": "1.5.0",
          "state": {
            "_dom_classes": [],
            "_model_module": "@jupyter-widgets/controls",
            "_model_module_version": "1.5.0",
            "_model_name": "HTMLModel",
            "_view_count": null,
            "_view_module": "@jupyter-widgets/controls",
            "_view_module_version": "1.5.0",
            "_view_name": "HTMLView",
            "description": "",
            "description_tooltip": null,
            "layout": "IPY_MODEL_d0dfd83a7cb545d995d44058ceae919b",
            "placeholder": "​",
            "style": "IPY_MODEL_f47f343dca4148d3b13f4dd31722743e",
            "value": "Map: 100%"
          }
        },
        "69c406fcec184e1d82563520f7757a65": {
          "model_module": "@jupyter-widgets/controls",
          "model_name": "FloatProgressModel",
          "model_module_version": "1.5.0",
          "state": {
            "_dom_classes": [],
            "_model_module": "@jupyter-widgets/controls",
            "_model_module_version": "1.5.0",
            "_model_name": "FloatProgressModel",
            "_view_count": null,
            "_view_module": "@jupyter-widgets/controls",
            "_view_module_version": "1.5.0",
            "_view_name": "ProgressView",
            "bar_style": "success",
            "description": "",
            "description_tooltip": null,
            "layout": "IPY_MODEL_13fbb6423d6844dd81465e486594f235",
            "max": 277,
            "min": 0,
            "orientation": "horizontal",
            "style": "IPY_MODEL_c283f4e8f9e743b1b3ae85b3ec07e29f",
            "value": 277
          }
        },
        "aa9a00de22ce466b84b0c83ee70c808d": {
          "model_module": "@jupyter-widgets/controls",
          "model_name": "HTMLModel",
          "model_module_version": "1.5.0",
          "state": {
            "_dom_classes": [],
            "_model_module": "@jupyter-widgets/controls",
            "_model_module_version": "1.5.0",
            "_model_name": "HTMLModel",
            "_view_count": null,
            "_view_module": "@jupyter-widgets/controls",
            "_view_module_version": "1.5.0",
            "_view_name": "HTMLView",
            "description": "",
            "description_tooltip": null,
            "layout": "IPY_MODEL_669263bbefb8446d8c75b68e60d4c2c6",
            "placeholder": "​",
            "style": "IPY_MODEL_828f298ce72c40aaa16837687398189c",
            "value": " 277/277 [00:00&lt;00:00, 2305.08 examples/s]"
          }
        },
        "a8a6ee4bbd6d405e9419615acc913978": {
          "model_module": "@jupyter-widgets/base",
          "model_name": "LayoutModel",
          "model_module_version": "1.2.0",
          "state": {
            "_model_module": "@jupyter-widgets/base",
            "_model_module_version": "1.2.0",
            "_model_name": "LayoutModel",
            "_view_count": null,
            "_view_module": "@jupyter-widgets/base",
            "_view_module_version": "1.2.0",
            "_view_name": "LayoutView",
            "align_content": null,
            "align_items": null,
            "align_self": null,
            "border": null,
            "bottom": null,
            "display": null,
            "flex": null,
            "flex_flow": null,
            "grid_area": null,
            "grid_auto_columns": null,
            "grid_auto_flow": null,
            "grid_auto_rows": null,
            "grid_column": null,
            "grid_gap": null,
            "grid_row": null,
            "grid_template_areas": null,
            "grid_template_columns": null,
            "grid_template_rows": null,
            "height": null,
            "justify_content": null,
            "justify_items": null,
            "left": null,
            "margin": null,
            "max_height": null,
            "max_width": null,
            "min_height": null,
            "min_width": null,
            "object_fit": null,
            "object_position": null,
            "order": null,
            "overflow": null,
            "overflow_x": null,
            "overflow_y": null,
            "padding": null,
            "right": null,
            "top": null,
            "visibility": null,
            "width": null
          }
        },
        "d0dfd83a7cb545d995d44058ceae919b": {
          "model_module": "@jupyter-widgets/base",
          "model_name": "LayoutModel",
          "model_module_version": "1.2.0",
          "state": {
            "_model_module": "@jupyter-widgets/base",
            "_model_module_version": "1.2.0",
            "_model_name": "LayoutModel",
            "_view_count": null,
            "_view_module": "@jupyter-widgets/base",
            "_view_module_version": "1.2.0",
            "_view_name": "LayoutView",
            "align_content": null,
            "align_items": null,
            "align_self": null,
            "border": null,
            "bottom": null,
            "display": null,
            "flex": null,
            "flex_flow": null,
            "grid_area": null,
            "grid_auto_columns": null,
            "grid_auto_flow": null,
            "grid_auto_rows": null,
            "grid_column": null,
            "grid_gap": null,
            "grid_row": null,
            "grid_template_areas": null,
            "grid_template_columns": null,
            "grid_template_rows": null,
            "height": null,
            "justify_content": null,
            "justify_items": null,
            "left": null,
            "margin": null,
            "max_height": null,
            "max_width": null,
            "min_height": null,
            "min_width": null,
            "object_fit": null,
            "object_position": null,
            "order": null,
            "overflow": null,
            "overflow_x": null,
            "overflow_y": null,
            "padding": null,
            "right": null,
            "top": null,
            "visibility": null,
            "width": null
          }
        },
        "f47f343dca4148d3b13f4dd31722743e": {
          "model_module": "@jupyter-widgets/controls",
          "model_name": "DescriptionStyleModel",
          "model_module_version": "1.5.0",
          "state": {
            "_model_module": "@jupyter-widgets/controls",
            "_model_module_version": "1.5.0",
            "_model_name": "DescriptionStyleModel",
            "_view_count": null,
            "_view_module": "@jupyter-widgets/base",
            "_view_module_version": "1.2.0",
            "_view_name": "StyleView",
            "description_width": ""
          }
        },
        "13fbb6423d6844dd81465e486594f235": {
          "model_module": "@jupyter-widgets/base",
          "model_name": "LayoutModel",
          "model_module_version": "1.2.0",
          "state": {
            "_model_module": "@jupyter-widgets/base",
            "_model_module_version": "1.2.0",
            "_model_name": "LayoutModel",
            "_view_count": null,
            "_view_module": "@jupyter-widgets/base",
            "_view_module_version": "1.2.0",
            "_view_name": "LayoutView",
            "align_content": null,
            "align_items": null,
            "align_self": null,
            "border": null,
            "bottom": null,
            "display": null,
            "flex": null,
            "flex_flow": null,
            "grid_area": null,
            "grid_auto_columns": null,
            "grid_auto_flow": null,
            "grid_auto_rows": null,
            "grid_column": null,
            "grid_gap": null,
            "grid_row": null,
            "grid_template_areas": null,
            "grid_template_columns": null,
            "grid_template_rows": null,
            "height": null,
            "justify_content": null,
            "justify_items": null,
            "left": null,
            "margin": null,
            "max_height": null,
            "max_width": null,
            "min_height": null,
            "min_width": null,
            "object_fit": null,
            "object_position": null,
            "order": null,
            "overflow": null,
            "overflow_x": null,
            "overflow_y": null,
            "padding": null,
            "right": null,
            "top": null,
            "visibility": null,
            "width": null
          }
        },
        "c283f4e8f9e743b1b3ae85b3ec07e29f": {
          "model_module": "@jupyter-widgets/controls",
          "model_name": "ProgressStyleModel",
          "model_module_version": "1.5.0",
          "state": {
            "_model_module": "@jupyter-widgets/controls",
            "_model_module_version": "1.5.0",
            "_model_name": "ProgressStyleModel",
            "_view_count": null,
            "_view_module": "@jupyter-widgets/base",
            "_view_module_version": "1.2.0",
            "_view_name": "StyleView",
            "bar_color": null,
            "description_width": ""
          }
        },
        "669263bbefb8446d8c75b68e60d4c2c6": {
          "model_module": "@jupyter-widgets/base",
          "model_name": "LayoutModel",
          "model_module_version": "1.2.0",
          "state": {
            "_model_module": "@jupyter-widgets/base",
            "_model_module_version": "1.2.0",
            "_model_name": "LayoutModel",
            "_view_count": null,
            "_view_module": "@jupyter-widgets/base",
            "_view_module_version": "1.2.0",
            "_view_name": "LayoutView",
            "align_content": null,
            "align_items": null,
            "align_self": null,
            "border": null,
            "bottom": null,
            "display": null,
            "flex": null,
            "flex_flow": null,
            "grid_area": null,
            "grid_auto_columns": null,
            "grid_auto_flow": null,
            "grid_auto_rows": null,
            "grid_column": null,
            "grid_gap": null,
            "grid_row": null,
            "grid_template_areas": null,
            "grid_template_columns": null,
            "grid_template_rows": null,
            "height": null,
            "justify_content": null,
            "justify_items": null,
            "left": null,
            "margin": null,
            "max_height": null,
            "max_width": null,
            "min_height": null,
            "min_width": null,
            "object_fit": null,
            "object_position": null,
            "order": null,
            "overflow": null,
            "overflow_x": null,
            "overflow_y": null,
            "padding": null,
            "right": null,
            "top": null,
            "visibility": null,
            "width": null
          }
        },
        "828f298ce72c40aaa16837687398189c": {
          "model_module": "@jupyter-widgets/controls",
          "model_name": "DescriptionStyleModel",
          "model_module_version": "1.5.0",
          "state": {
            "_model_module": "@jupyter-widgets/controls",
            "_model_module_version": "1.5.0",
            "_model_name": "DescriptionStyleModel",
            "_view_count": null,
            "_view_module": "@jupyter-widgets/base",
            "_view_module_version": "1.2.0",
            "_view_name": "StyleView",
            "description_width": ""
          }
        },
        "39d1474ad5384d269f2bfb95f56d109e": {
          "model_module": "@jupyter-widgets/controls",
          "model_name": "HBoxModel",
          "model_module_version": "1.5.0",
          "state": {
            "_dom_classes": [],
            "_model_module": "@jupyter-widgets/controls",
            "_model_module_version": "1.5.0",
            "_model_name": "HBoxModel",
            "_view_count": null,
            "_view_module": "@jupyter-widgets/controls",
            "_view_module_version": "1.5.0",
            "_view_name": "HBoxView",
            "box_style": "",
            "children": [
              "IPY_MODEL_8ec1b06dbc38451dba3408ac0555e97b",
              "IPY_MODEL_1a376bda434d47fb8a39d711fbe83fe5",
              "IPY_MODEL_2d594d8f2a0e4395994ac8b370af5c2c"
            ],
            "layout": "IPY_MODEL_f714ae27862c43a89911be19e05e68aa"
          }
        },
        "8ec1b06dbc38451dba3408ac0555e97b": {
          "model_module": "@jupyter-widgets/controls",
          "model_name": "HTMLModel",
          "model_module_version": "1.5.0",
          "state": {
            "_dom_classes": [],
            "_model_module": "@jupyter-widgets/controls",
            "_model_module_version": "1.5.0",
            "_model_name": "HTMLModel",
            "_view_count": null,
            "_view_module": "@jupyter-widgets/controls",
            "_view_module_version": "1.5.0",
            "_view_name": "HTMLView",
            "description": "",
            "description_tooltip": null,
            "layout": "IPY_MODEL_877765fbe0c4445f9e2714ca7367852f",
            "placeholder": "​",
            "style": "IPY_MODEL_17867816c0da4772ad732a784a45d043",
            "value": "Map: 100%"
          }
        },
        "1a376bda434d47fb8a39d711fbe83fe5": {
          "model_module": "@jupyter-widgets/controls",
          "model_name": "FloatProgressModel",
          "model_module_version": "1.5.0",
          "state": {
            "_dom_classes": [],
            "_model_module": "@jupyter-widgets/controls",
            "_model_module_version": "1.5.0",
            "_model_name": "FloatProgressModel",
            "_view_count": null,
            "_view_module": "@jupyter-widgets/controls",
            "_view_module_version": "1.5.0",
            "_view_name": "ProgressView",
            "bar_style": "success",
            "description": "",
            "description_tooltip": null,
            "layout": "IPY_MODEL_7c922b33742047dab33cf28be22cba2c",
            "max": 277,
            "min": 0,
            "orientation": "horizontal",
            "style": "IPY_MODEL_15fa4bf765924b44a26e30ef944fd923",
            "value": 277
          }
        },
        "2d594d8f2a0e4395994ac8b370af5c2c": {
          "model_module": "@jupyter-widgets/controls",
          "model_name": "HTMLModel",
          "model_module_version": "1.5.0",
          "state": {
            "_dom_classes": [],
            "_model_module": "@jupyter-widgets/controls",
            "_model_module_version": "1.5.0",
            "_model_name": "HTMLModel",
            "_view_count": null,
            "_view_module": "@jupyter-widgets/controls",
            "_view_module_version": "1.5.0",
            "_view_name": "HTMLView",
            "description": "",
            "description_tooltip": null,
            "layout": "IPY_MODEL_870a491aeb3740aea8b24e2cb179ed46",
            "placeholder": "​",
            "style": "IPY_MODEL_57e43fad28fd4d7d88a50c022ea4e3b5",
            "value": " 277/277 [00:00&lt;00:00, 2364.13 examples/s]"
          }
        },
        "f714ae27862c43a89911be19e05e68aa": {
          "model_module": "@jupyter-widgets/base",
          "model_name": "LayoutModel",
          "model_module_version": "1.2.0",
          "state": {
            "_model_module": "@jupyter-widgets/base",
            "_model_module_version": "1.2.0",
            "_model_name": "LayoutModel",
            "_view_count": null,
            "_view_module": "@jupyter-widgets/base",
            "_view_module_version": "1.2.0",
            "_view_name": "LayoutView",
            "align_content": null,
            "align_items": null,
            "align_self": null,
            "border": null,
            "bottom": null,
            "display": null,
            "flex": null,
            "flex_flow": null,
            "grid_area": null,
            "grid_auto_columns": null,
            "grid_auto_flow": null,
            "grid_auto_rows": null,
            "grid_column": null,
            "grid_gap": null,
            "grid_row": null,
            "grid_template_areas": null,
            "grid_template_columns": null,
            "grid_template_rows": null,
            "height": null,
            "justify_content": null,
            "justify_items": null,
            "left": null,
            "margin": null,
            "max_height": null,
            "max_width": null,
            "min_height": null,
            "min_width": null,
            "object_fit": null,
            "object_position": null,
            "order": null,
            "overflow": null,
            "overflow_x": null,
            "overflow_y": null,
            "padding": null,
            "right": null,
            "top": null,
            "visibility": null,
            "width": null
          }
        },
        "877765fbe0c4445f9e2714ca7367852f": {
          "model_module": "@jupyter-widgets/base",
          "model_name": "LayoutModel",
          "model_module_version": "1.2.0",
          "state": {
            "_model_module": "@jupyter-widgets/base",
            "_model_module_version": "1.2.0",
            "_model_name": "LayoutModel",
            "_view_count": null,
            "_view_module": "@jupyter-widgets/base",
            "_view_module_version": "1.2.0",
            "_view_name": "LayoutView",
            "align_content": null,
            "align_items": null,
            "align_self": null,
            "border": null,
            "bottom": null,
            "display": null,
            "flex": null,
            "flex_flow": null,
            "grid_area": null,
            "grid_auto_columns": null,
            "grid_auto_flow": null,
            "grid_auto_rows": null,
            "grid_column": null,
            "grid_gap": null,
            "grid_row": null,
            "grid_template_areas": null,
            "grid_template_columns": null,
            "grid_template_rows": null,
            "height": null,
            "justify_content": null,
            "justify_items": null,
            "left": null,
            "margin": null,
            "max_height": null,
            "max_width": null,
            "min_height": null,
            "min_width": null,
            "object_fit": null,
            "object_position": null,
            "order": null,
            "overflow": null,
            "overflow_x": null,
            "overflow_y": null,
            "padding": null,
            "right": null,
            "top": null,
            "visibility": null,
            "width": null
          }
        },
        "17867816c0da4772ad732a784a45d043": {
          "model_module": "@jupyter-widgets/controls",
          "model_name": "DescriptionStyleModel",
          "model_module_version": "1.5.0",
          "state": {
            "_model_module": "@jupyter-widgets/controls",
            "_model_module_version": "1.5.0",
            "_model_name": "DescriptionStyleModel",
            "_view_count": null,
            "_view_module": "@jupyter-widgets/base",
            "_view_module_version": "1.2.0",
            "_view_name": "StyleView",
            "description_width": ""
          }
        },
        "7c922b33742047dab33cf28be22cba2c": {
          "model_module": "@jupyter-widgets/base",
          "model_name": "LayoutModel",
          "model_module_version": "1.2.0",
          "state": {
            "_model_module": "@jupyter-widgets/base",
            "_model_module_version": "1.2.0",
            "_model_name": "LayoutModel",
            "_view_count": null,
            "_view_module": "@jupyter-widgets/base",
            "_view_module_version": "1.2.0",
            "_view_name": "LayoutView",
            "align_content": null,
            "align_items": null,
            "align_self": null,
            "border": null,
            "bottom": null,
            "display": null,
            "flex": null,
            "flex_flow": null,
            "grid_area": null,
            "grid_auto_columns": null,
            "grid_auto_flow": null,
            "grid_auto_rows": null,
            "grid_column": null,
            "grid_gap": null,
            "grid_row": null,
            "grid_template_areas": null,
            "grid_template_columns": null,
            "grid_template_rows": null,
            "height": null,
            "justify_content": null,
            "justify_items": null,
            "left": null,
            "margin": null,
            "max_height": null,
            "max_width": null,
            "min_height": null,
            "min_width": null,
            "object_fit": null,
            "object_position": null,
            "order": null,
            "overflow": null,
            "overflow_x": null,
            "overflow_y": null,
            "padding": null,
            "right": null,
            "top": null,
            "visibility": null,
            "width": null
          }
        },
        "15fa4bf765924b44a26e30ef944fd923": {
          "model_module": "@jupyter-widgets/controls",
          "model_name": "ProgressStyleModel",
          "model_module_version": "1.5.0",
          "state": {
            "_model_module": "@jupyter-widgets/controls",
            "_model_module_version": "1.5.0",
            "_model_name": "ProgressStyleModel",
            "_view_count": null,
            "_view_module": "@jupyter-widgets/base",
            "_view_module_version": "1.2.0",
            "_view_name": "StyleView",
            "bar_color": null,
            "description_width": ""
          }
        },
        "870a491aeb3740aea8b24e2cb179ed46": {
          "model_module": "@jupyter-widgets/base",
          "model_name": "LayoutModel",
          "model_module_version": "1.2.0",
          "state": {
            "_model_module": "@jupyter-widgets/base",
            "_model_module_version": "1.2.0",
            "_model_name": "LayoutModel",
            "_view_count": null,
            "_view_module": "@jupyter-widgets/base",
            "_view_module_version": "1.2.0",
            "_view_name": "LayoutView",
            "align_content": null,
            "align_items": null,
            "align_self": null,
            "border": null,
            "bottom": null,
            "display": null,
            "flex": null,
            "flex_flow": null,
            "grid_area": null,
            "grid_auto_columns": null,
            "grid_auto_flow": null,
            "grid_auto_rows": null,
            "grid_column": null,
            "grid_gap": null,
            "grid_row": null,
            "grid_template_areas": null,
            "grid_template_columns": null,
            "grid_template_rows": null,
            "height": null,
            "justify_content": null,
            "justify_items": null,
            "left": null,
            "margin": null,
            "max_height": null,
            "max_width": null,
            "min_height": null,
            "min_width": null,
            "object_fit": null,
            "object_position": null,
            "order": null,
            "overflow": null,
            "overflow_x": null,
            "overflow_y": null,
            "padding": null,
            "right": null,
            "top": null,
            "visibility": null,
            "width": null
          }
        },
        "57e43fad28fd4d7d88a50c022ea4e3b5": {
          "model_module": "@jupyter-widgets/controls",
          "model_name": "DescriptionStyleModel",
          "model_module_version": "1.5.0",
          "state": {
            "_model_module": "@jupyter-widgets/controls",
            "_model_module_version": "1.5.0",
            "_model_name": "DescriptionStyleModel",
            "_view_count": null,
            "_view_module": "@jupyter-widgets/base",
            "_view_module_version": "1.2.0",
            "_view_name": "StyleView",
            "description_width": ""
          }
        }
      }
    }
  },
  "cells": [
    {
      "cell_type": "markdown",
      "source": [
        "# **Introduction**\n",
        "\n",
        "Dans ce projet, nous allons fine-tuner le modèle de langage **GPT2** en utilisant le dataset **Instruction-Poems**. L'objectif est de créer un modèle capable de générer des poèmes cohérents, créatifs, et adaptés à des instructions spécifiques. Ce projet implique une exploration approfondie des données, un nettoyage méthodique, une préparation minutieuse pour l'entraînement, et une évaluation rigoureuse des performances du modèle.\n",
        "\n"
      ],
      "metadata": {
        "id": "qTYvJNNYLDR4"
      }
    },
    {
      "cell_type": "markdown",
      "source": [
        "#**1. Exploration des données**"
      ],
      "metadata": {
        "id": "tU9_Dq1bL6hj"
      }
    },
    {
      "cell_type": "markdown",
      "source": [
        "Installation des Dépendances Nécessaires"
      ],
      "metadata": {
        "id": "mpNzN1_MMABn"
      }
    },
    {
      "cell_type": "code",
      "source": [
        "!pip install transformers[torch] datasets"
      ],
      "metadata": {
        "colab": {
          "base_uri": "https://localhost:8080/"
        },
        "id": "kmX_2mCou-A-",
        "outputId": "010a5894-fbc7-4f1f-de6b-cfc54b15baef"
      },
      "execution_count": 3,
      "outputs": [
        {
          "output_type": "stream",
          "name": "stdout",
          "text": [
            "Requirement already satisfied: datasets in /usr/local/lib/python3.11/dist-packages (3.2.0)\n",
            "Requirement already satisfied: transformers[torch] in /usr/local/lib/python3.11/dist-packages (4.48.2)\n",
            "Requirement already satisfied: filelock in /usr/local/lib/python3.11/dist-packages (from transformers[torch]) (3.17.0)\n",
            "Requirement already satisfied: huggingface-hub<1.0,>=0.24.0 in /usr/local/lib/python3.11/dist-packages (from transformers[torch]) (0.28.1)\n",
            "Requirement already satisfied: numpy>=1.17 in /usr/local/lib/python3.11/dist-packages (from transformers[torch]) (1.26.4)\n",
            "Requirement already satisfied: packaging>=20.0 in /usr/local/lib/python3.11/dist-packages (from transformers[torch]) (24.2)\n",
            "Requirement already satisfied: pyyaml>=5.1 in /usr/local/lib/python3.11/dist-packages (from transformers[torch]) (6.0.2)\n",
            "Requirement already satisfied: regex!=2019.12.17 in /usr/local/lib/python3.11/dist-packages (from transformers[torch]) (2024.11.6)\n",
            "Requirement already satisfied: requests in /usr/local/lib/python3.11/dist-packages (from transformers[torch]) (2.32.3)\n",
            "Requirement already satisfied: tokenizers<0.22,>=0.21 in /usr/local/lib/python3.11/dist-packages (from transformers[torch]) (0.21.0)\n",
            "Requirement already satisfied: safetensors>=0.4.1 in /usr/local/lib/python3.11/dist-packages (from transformers[torch]) (0.5.2)\n",
            "Requirement already satisfied: tqdm>=4.27 in /usr/local/lib/python3.11/dist-packages (from transformers[torch]) (4.67.1)\n",
            "Requirement already satisfied: torch>=2.0 in /usr/local/lib/python3.11/dist-packages (from transformers[torch]) (2.5.1+cu124)\n",
            "Requirement already satisfied: accelerate>=0.26.0 in /usr/local/lib/python3.11/dist-packages (from transformers[torch]) (1.3.0)\n",
            "Requirement already satisfied: pyarrow>=15.0.0 in /usr/local/lib/python3.11/dist-packages (from datasets) (17.0.0)\n",
            "Requirement already satisfied: dill<0.3.9,>=0.3.0 in /usr/local/lib/python3.11/dist-packages (from datasets) (0.3.8)\n",
            "Requirement already satisfied: pandas in /usr/local/lib/python3.11/dist-packages (from datasets) (2.2.2)\n",
            "Requirement already satisfied: xxhash in /usr/local/lib/python3.11/dist-packages (from datasets) (3.5.0)\n",
            "Requirement already satisfied: multiprocess<0.70.17 in /usr/local/lib/python3.11/dist-packages (from datasets) (0.70.16)\n",
            "Requirement already satisfied: fsspec<=2024.9.0,>=2023.1.0 in /usr/local/lib/python3.11/dist-packages (from fsspec[http]<=2024.9.0,>=2023.1.0->datasets) (2024.9.0)\n",
            "Requirement already satisfied: aiohttp in /usr/local/lib/python3.11/dist-packages (from datasets) (3.11.11)\n",
            "Requirement already satisfied: psutil in /usr/local/lib/python3.11/dist-packages (from accelerate>=0.26.0->transformers[torch]) (5.9.5)\n",
            "Requirement already satisfied: aiohappyeyeballs>=2.3.0 in /usr/local/lib/python3.11/dist-packages (from aiohttp->datasets) (2.4.4)\n",
            "Requirement already satisfied: aiosignal>=1.1.2 in /usr/local/lib/python3.11/dist-packages (from aiohttp->datasets) (1.3.2)\n",
            "Requirement already satisfied: attrs>=17.3.0 in /usr/local/lib/python3.11/dist-packages (from aiohttp->datasets) (25.1.0)\n",
            "Requirement already satisfied: frozenlist>=1.1.1 in /usr/local/lib/python3.11/dist-packages (from aiohttp->datasets) (1.5.0)\n",
            "Requirement already satisfied: multidict<7.0,>=4.5 in /usr/local/lib/python3.11/dist-packages (from aiohttp->datasets) (6.1.0)\n",
            "Requirement already satisfied: propcache>=0.2.0 in /usr/local/lib/python3.11/dist-packages (from aiohttp->datasets) (0.2.1)\n",
            "Requirement already satisfied: yarl<2.0,>=1.17.0 in /usr/local/lib/python3.11/dist-packages (from aiohttp->datasets) (1.18.3)\n",
            "Requirement already satisfied: typing-extensions>=3.7.4.3 in /usr/local/lib/python3.11/dist-packages (from huggingface-hub<1.0,>=0.24.0->transformers[torch]) (4.12.2)\n",
            "Requirement already satisfied: charset-normalizer<4,>=2 in /usr/local/lib/python3.11/dist-packages (from requests->transformers[torch]) (3.4.1)\n",
            "Requirement already satisfied: idna<4,>=2.5 in /usr/local/lib/python3.11/dist-packages (from requests->transformers[torch]) (3.10)\n",
            "Requirement already satisfied: urllib3<3,>=1.21.1 in /usr/local/lib/python3.11/dist-packages (from requests->transformers[torch]) (2.3.0)\n",
            "Requirement already satisfied: certifi>=2017.4.17 in /usr/local/lib/python3.11/dist-packages (from requests->transformers[torch]) (2025.1.31)\n",
            "Requirement already satisfied: networkx in /usr/local/lib/python3.11/dist-packages (from torch>=2.0->transformers[torch]) (3.4.2)\n",
            "Requirement already satisfied: jinja2 in /usr/local/lib/python3.11/dist-packages (from torch>=2.0->transformers[torch]) (3.1.5)\n",
            "Requirement already satisfied: nvidia-cuda-nvrtc-cu12==12.4.127 in /usr/local/lib/python3.11/dist-packages (from torch>=2.0->transformers[torch]) (12.4.127)\n",
            "Requirement already satisfied: nvidia-cuda-runtime-cu12==12.4.127 in /usr/local/lib/python3.11/dist-packages (from torch>=2.0->transformers[torch]) (12.4.127)\n",
            "Requirement already satisfied: nvidia-cuda-cupti-cu12==12.4.127 in /usr/local/lib/python3.11/dist-packages (from torch>=2.0->transformers[torch]) (12.4.127)\n",
            "Requirement already satisfied: nvidia-cudnn-cu12==9.1.0.70 in /usr/local/lib/python3.11/dist-packages (from torch>=2.0->transformers[torch]) (9.1.0.70)\n",
            "Requirement already satisfied: nvidia-cublas-cu12==12.4.5.8 in /usr/local/lib/python3.11/dist-packages (from torch>=2.0->transformers[torch]) (12.4.5.8)\n",
            "Requirement already satisfied: nvidia-cufft-cu12==11.2.1.3 in /usr/local/lib/python3.11/dist-packages (from torch>=2.0->transformers[torch]) (11.2.1.3)\n",
            "Requirement already satisfied: nvidia-curand-cu12==10.3.5.147 in /usr/local/lib/python3.11/dist-packages (from torch>=2.0->transformers[torch]) (10.3.5.147)\n",
            "Requirement already satisfied: nvidia-cusolver-cu12==11.6.1.9 in /usr/local/lib/python3.11/dist-packages (from torch>=2.0->transformers[torch]) (11.6.1.9)\n",
            "Requirement already satisfied: nvidia-cusparse-cu12==12.3.1.170 in /usr/local/lib/python3.11/dist-packages (from torch>=2.0->transformers[torch]) (12.3.1.170)\n",
            "Requirement already satisfied: nvidia-nccl-cu12==2.21.5 in /usr/local/lib/python3.11/dist-packages (from torch>=2.0->transformers[torch]) (2.21.5)\n",
            "Requirement already satisfied: nvidia-nvtx-cu12==12.4.127 in /usr/local/lib/python3.11/dist-packages (from torch>=2.0->transformers[torch]) (12.4.127)\n",
            "Requirement already satisfied: nvidia-nvjitlink-cu12==12.4.127 in /usr/local/lib/python3.11/dist-packages (from torch>=2.0->transformers[torch]) (12.4.127)\n",
            "Requirement already satisfied: triton==3.1.0 in /usr/local/lib/python3.11/dist-packages (from torch>=2.0->transformers[torch]) (3.1.0)\n",
            "Requirement already satisfied: sympy==1.13.1 in /usr/local/lib/python3.11/dist-packages (from torch>=2.0->transformers[torch]) (1.13.1)\n",
            "Requirement already satisfied: mpmath<1.4,>=1.1.0 in /usr/local/lib/python3.11/dist-packages (from sympy==1.13.1->torch>=2.0->transformers[torch]) (1.3.0)\n",
            "Requirement already satisfied: python-dateutil>=2.8.2 in /usr/local/lib/python3.11/dist-packages (from pandas->datasets) (2.8.2)\n",
            "Requirement already satisfied: pytz>=2020.1 in /usr/local/lib/python3.11/dist-packages (from pandas->datasets) (2025.1)\n",
            "Requirement already satisfied: tzdata>=2022.7 in /usr/local/lib/python3.11/dist-packages (from pandas->datasets) (2025.1)\n",
            "Requirement already satisfied: six>=1.5 in /usr/local/lib/python3.11/dist-packages (from python-dateutil>=2.8.2->pandas->datasets) (1.17.0)\n",
            "Requirement already satisfied: MarkupSafe>=2.0 in /usr/local/lib/python3.11/dist-packages (from jinja2->torch>=2.0->transformers[torch]) (3.0.2)\n"
          ]
        }
      ]
    },
    {
      "cell_type": "code",
      "source": [
        "!pip install bitsandbytes trl peft tqdm"
      ],
      "metadata": {
        "id": "7Dp5LdNWu972",
        "colab": {
          "base_uri": "https://localhost:8080/"
        },
        "outputId": "01b30f1c-26fb-475c-d1db-23efb6193b45"
      },
      "execution_count": 4,
      "outputs": [
        {
          "output_type": "stream",
          "name": "stdout",
          "text": [
            "Requirement already satisfied: bitsandbytes in /usr/local/lib/python3.11/dist-packages (0.45.2)\n",
            "Requirement already satisfied: trl in /usr/local/lib/python3.11/dist-packages (0.14.0)\n",
            "Requirement already satisfied: peft in /usr/local/lib/python3.11/dist-packages (0.14.0)\n",
            "Requirement already satisfied: tqdm in /usr/local/lib/python3.11/dist-packages (4.67.1)\n",
            "Requirement already satisfied: torch<3,>=2.0 in /usr/local/lib/python3.11/dist-packages (from bitsandbytes) (2.5.1+cu124)\n",
            "Requirement already satisfied: numpy>=1.17 in /usr/local/lib/python3.11/dist-packages (from bitsandbytes) (1.26.4)\n",
            "Requirement already satisfied: accelerate>=0.34.0 in /usr/local/lib/python3.11/dist-packages (from trl) (1.3.0)\n",
            "Requirement already satisfied: datasets>=2.21.0 in /usr/local/lib/python3.11/dist-packages (from trl) (3.2.0)\n",
            "Requirement already satisfied: rich in /usr/local/lib/python3.11/dist-packages (from trl) (13.9.4)\n",
            "Requirement already satisfied: transformers>=4.46.0 in /usr/local/lib/python3.11/dist-packages (from trl) (4.48.2)\n",
            "Requirement already satisfied: packaging>=20.0 in /usr/local/lib/python3.11/dist-packages (from peft) (24.2)\n",
            "Requirement already satisfied: psutil in /usr/local/lib/python3.11/dist-packages (from peft) (5.9.5)\n",
            "Requirement already satisfied: pyyaml in /usr/local/lib/python3.11/dist-packages (from peft) (6.0.2)\n",
            "Requirement already satisfied: safetensors in /usr/local/lib/python3.11/dist-packages (from peft) (0.5.2)\n",
            "Requirement already satisfied: huggingface-hub>=0.25.0 in /usr/local/lib/python3.11/dist-packages (from peft) (0.28.1)\n",
            "Requirement already satisfied: filelock in /usr/local/lib/python3.11/dist-packages (from datasets>=2.21.0->trl) (3.17.0)\n",
            "Requirement already satisfied: pyarrow>=15.0.0 in /usr/local/lib/python3.11/dist-packages (from datasets>=2.21.0->trl) (17.0.0)\n",
            "Requirement already satisfied: dill<0.3.9,>=0.3.0 in /usr/local/lib/python3.11/dist-packages (from datasets>=2.21.0->trl) (0.3.8)\n",
            "Requirement already satisfied: pandas in /usr/local/lib/python3.11/dist-packages (from datasets>=2.21.0->trl) (2.2.2)\n",
            "Requirement already satisfied: requests>=2.32.2 in /usr/local/lib/python3.11/dist-packages (from datasets>=2.21.0->trl) (2.32.3)\n",
            "Requirement already satisfied: xxhash in /usr/local/lib/python3.11/dist-packages (from datasets>=2.21.0->trl) (3.5.0)\n",
            "Requirement already satisfied: multiprocess<0.70.17 in /usr/local/lib/python3.11/dist-packages (from datasets>=2.21.0->trl) (0.70.16)\n",
            "Requirement already satisfied: fsspec<=2024.9.0,>=2023.1.0 in /usr/local/lib/python3.11/dist-packages (from fsspec[http]<=2024.9.0,>=2023.1.0->datasets>=2.21.0->trl) (2024.9.0)\n",
            "Requirement already satisfied: aiohttp in /usr/local/lib/python3.11/dist-packages (from datasets>=2.21.0->trl) (3.11.11)\n",
            "Requirement already satisfied: typing-extensions>=3.7.4.3 in /usr/local/lib/python3.11/dist-packages (from huggingface-hub>=0.25.0->peft) (4.12.2)\n",
            "Requirement already satisfied: networkx in /usr/local/lib/python3.11/dist-packages (from torch<3,>=2.0->bitsandbytes) (3.4.2)\n",
            "Requirement already satisfied: jinja2 in /usr/local/lib/python3.11/dist-packages (from torch<3,>=2.0->bitsandbytes) (3.1.5)\n",
            "Requirement already satisfied: nvidia-cuda-nvrtc-cu12==12.4.127 in /usr/local/lib/python3.11/dist-packages (from torch<3,>=2.0->bitsandbytes) (12.4.127)\n",
            "Requirement already satisfied: nvidia-cuda-runtime-cu12==12.4.127 in /usr/local/lib/python3.11/dist-packages (from torch<3,>=2.0->bitsandbytes) (12.4.127)\n",
            "Requirement already satisfied: nvidia-cuda-cupti-cu12==12.4.127 in /usr/local/lib/python3.11/dist-packages (from torch<3,>=2.0->bitsandbytes) (12.4.127)\n",
            "Requirement already satisfied: nvidia-cudnn-cu12==9.1.0.70 in /usr/local/lib/python3.11/dist-packages (from torch<3,>=2.0->bitsandbytes) (9.1.0.70)\n",
            "Requirement already satisfied: nvidia-cublas-cu12==12.4.5.8 in /usr/local/lib/python3.11/dist-packages (from torch<3,>=2.0->bitsandbytes) (12.4.5.8)\n",
            "Requirement already satisfied: nvidia-cufft-cu12==11.2.1.3 in /usr/local/lib/python3.11/dist-packages (from torch<3,>=2.0->bitsandbytes) (11.2.1.3)\n",
            "Requirement already satisfied: nvidia-curand-cu12==10.3.5.147 in /usr/local/lib/python3.11/dist-packages (from torch<3,>=2.0->bitsandbytes) (10.3.5.147)\n",
            "Requirement already satisfied: nvidia-cusolver-cu12==11.6.1.9 in /usr/local/lib/python3.11/dist-packages (from torch<3,>=2.0->bitsandbytes) (11.6.1.9)\n",
            "Requirement already satisfied: nvidia-cusparse-cu12==12.3.1.170 in /usr/local/lib/python3.11/dist-packages (from torch<3,>=2.0->bitsandbytes) (12.3.1.170)\n",
            "Requirement already satisfied: nvidia-nccl-cu12==2.21.5 in /usr/local/lib/python3.11/dist-packages (from torch<3,>=2.0->bitsandbytes) (2.21.5)\n",
            "Requirement already satisfied: nvidia-nvtx-cu12==12.4.127 in /usr/local/lib/python3.11/dist-packages (from torch<3,>=2.0->bitsandbytes) (12.4.127)\n",
            "Requirement already satisfied: nvidia-nvjitlink-cu12==12.4.127 in /usr/local/lib/python3.11/dist-packages (from torch<3,>=2.0->bitsandbytes) (12.4.127)\n",
            "Requirement already satisfied: triton==3.1.0 in /usr/local/lib/python3.11/dist-packages (from torch<3,>=2.0->bitsandbytes) (3.1.0)\n",
            "Requirement already satisfied: sympy==1.13.1 in /usr/local/lib/python3.11/dist-packages (from torch<3,>=2.0->bitsandbytes) (1.13.1)\n",
            "Requirement already satisfied: mpmath<1.4,>=1.1.0 in /usr/local/lib/python3.11/dist-packages (from sympy==1.13.1->torch<3,>=2.0->bitsandbytes) (1.3.0)\n",
            "Requirement already satisfied: regex!=2019.12.17 in /usr/local/lib/python3.11/dist-packages (from transformers>=4.46.0->trl) (2024.11.6)\n",
            "Requirement already satisfied: tokenizers<0.22,>=0.21 in /usr/local/lib/python3.11/dist-packages (from transformers>=4.46.0->trl) (0.21.0)\n",
            "Requirement already satisfied: markdown-it-py>=2.2.0 in /usr/local/lib/python3.11/dist-packages (from rich->trl) (3.0.0)\n",
            "Requirement already satisfied: pygments<3.0.0,>=2.13.0 in /usr/local/lib/python3.11/dist-packages (from rich->trl) (2.18.0)\n",
            "Requirement already satisfied: aiohappyeyeballs>=2.3.0 in /usr/local/lib/python3.11/dist-packages (from aiohttp->datasets>=2.21.0->trl) (2.4.4)\n",
            "Requirement already satisfied: aiosignal>=1.1.2 in /usr/local/lib/python3.11/dist-packages (from aiohttp->datasets>=2.21.0->trl) (1.3.2)\n",
            "Requirement already satisfied: attrs>=17.3.0 in /usr/local/lib/python3.11/dist-packages (from aiohttp->datasets>=2.21.0->trl) (25.1.0)\n",
            "Requirement already satisfied: frozenlist>=1.1.1 in /usr/local/lib/python3.11/dist-packages (from aiohttp->datasets>=2.21.0->trl) (1.5.0)\n",
            "Requirement already satisfied: multidict<7.0,>=4.5 in /usr/local/lib/python3.11/dist-packages (from aiohttp->datasets>=2.21.0->trl) (6.1.0)\n",
            "Requirement already satisfied: propcache>=0.2.0 in /usr/local/lib/python3.11/dist-packages (from aiohttp->datasets>=2.21.0->trl) (0.2.1)\n",
            "Requirement already satisfied: yarl<2.0,>=1.17.0 in /usr/local/lib/python3.11/dist-packages (from aiohttp->datasets>=2.21.0->trl) (1.18.3)\n",
            "Requirement already satisfied: mdurl~=0.1 in /usr/local/lib/python3.11/dist-packages (from markdown-it-py>=2.2.0->rich->trl) (0.1.2)\n",
            "Requirement already satisfied: charset-normalizer<4,>=2 in /usr/local/lib/python3.11/dist-packages (from requests>=2.32.2->datasets>=2.21.0->trl) (3.4.1)\n",
            "Requirement already satisfied: idna<4,>=2.5 in /usr/local/lib/python3.11/dist-packages (from requests>=2.32.2->datasets>=2.21.0->trl) (3.10)\n",
            "Requirement already satisfied: urllib3<3,>=1.21.1 in /usr/local/lib/python3.11/dist-packages (from requests>=2.32.2->datasets>=2.21.0->trl) (2.3.0)\n",
            "Requirement already satisfied: certifi>=2017.4.17 in /usr/local/lib/python3.11/dist-packages (from requests>=2.32.2->datasets>=2.21.0->trl) (2025.1.31)\n",
            "Requirement already satisfied: MarkupSafe>=2.0 in /usr/local/lib/python3.11/dist-packages (from jinja2->torch<3,>=2.0->bitsandbytes) (3.0.2)\n",
            "Requirement already satisfied: python-dateutil>=2.8.2 in /usr/local/lib/python3.11/dist-packages (from pandas->datasets>=2.21.0->trl) (2.8.2)\n",
            "Requirement already satisfied: pytz>=2020.1 in /usr/local/lib/python3.11/dist-packages (from pandas->datasets>=2.21.0->trl) (2025.1)\n",
            "Requirement already satisfied: tzdata>=2022.7 in /usr/local/lib/python3.11/dist-packages (from pandas->datasets>=2.21.0->trl) (2025.1)\n",
            "Requirement already satisfied: six>=1.5 in /usr/local/lib/python3.11/dist-packages (from python-dateutil>=2.8.2->pandas->datasets>=2.21.0->trl) (1.17.0)\n"
          ]
        }
      ]
    },
    {
      "cell_type": "code",
      "source": [
        "!pip install accelerate tqdm rouge-score"
      ],
      "metadata": {
        "colab": {
          "base_uri": "https://localhost:8080/"
        },
        "id": "dmCjv4nYXH37",
        "outputId": "6dc5d53b-8e57-4787-fd07-3a2e26aa6fb1"
      },
      "execution_count": 5,
      "outputs": [
        {
          "output_type": "stream",
          "name": "stdout",
          "text": [
            "Requirement already satisfied: accelerate in /usr/local/lib/python3.11/dist-packages (1.3.0)\n",
            "Requirement already satisfied: tqdm in /usr/local/lib/python3.11/dist-packages (4.67.1)\n",
            "Requirement already satisfied: rouge-score in /usr/local/lib/python3.11/dist-packages (0.1.2)\n",
            "Requirement already satisfied: numpy<3.0.0,>=1.17 in /usr/local/lib/python3.11/dist-packages (from accelerate) (1.26.4)\n",
            "Requirement already satisfied: packaging>=20.0 in /usr/local/lib/python3.11/dist-packages (from accelerate) (24.2)\n",
            "Requirement already satisfied: psutil in /usr/local/lib/python3.11/dist-packages (from accelerate) (5.9.5)\n",
            "Requirement already satisfied: pyyaml in /usr/local/lib/python3.11/dist-packages (from accelerate) (6.0.2)\n",
            "Requirement already satisfied: torch>=2.0.0 in /usr/local/lib/python3.11/dist-packages (from accelerate) (2.5.1+cu124)\n",
            "Requirement already satisfied: huggingface-hub>=0.21.0 in /usr/local/lib/python3.11/dist-packages (from accelerate) (0.28.1)\n",
            "Requirement already satisfied: safetensors>=0.4.3 in /usr/local/lib/python3.11/dist-packages (from accelerate) (0.5.2)\n",
            "Requirement already satisfied: absl-py in /usr/local/lib/python3.11/dist-packages (from rouge-score) (1.4.0)\n",
            "Requirement already satisfied: nltk in /usr/local/lib/python3.11/dist-packages (from rouge-score) (3.9.1)\n",
            "Requirement already satisfied: six>=1.14.0 in /usr/local/lib/python3.11/dist-packages (from rouge-score) (1.17.0)\n",
            "Requirement already satisfied: filelock in /usr/local/lib/python3.11/dist-packages (from huggingface-hub>=0.21.0->accelerate) (3.17.0)\n",
            "Requirement already satisfied: fsspec>=2023.5.0 in /usr/local/lib/python3.11/dist-packages (from huggingface-hub>=0.21.0->accelerate) (2024.9.0)\n",
            "Requirement already satisfied: requests in /usr/local/lib/python3.11/dist-packages (from huggingface-hub>=0.21.0->accelerate) (2.32.3)\n",
            "Requirement already satisfied: typing-extensions>=3.7.4.3 in /usr/local/lib/python3.11/dist-packages (from huggingface-hub>=0.21.0->accelerate) (4.12.2)\n",
            "Requirement already satisfied: networkx in /usr/local/lib/python3.11/dist-packages (from torch>=2.0.0->accelerate) (3.4.2)\n",
            "Requirement already satisfied: jinja2 in /usr/local/lib/python3.11/dist-packages (from torch>=2.0.0->accelerate) (3.1.5)\n",
            "Requirement already satisfied: nvidia-cuda-nvrtc-cu12==12.4.127 in /usr/local/lib/python3.11/dist-packages (from torch>=2.0.0->accelerate) (12.4.127)\n",
            "Requirement already satisfied: nvidia-cuda-runtime-cu12==12.4.127 in /usr/local/lib/python3.11/dist-packages (from torch>=2.0.0->accelerate) (12.4.127)\n",
            "Requirement already satisfied: nvidia-cuda-cupti-cu12==12.4.127 in /usr/local/lib/python3.11/dist-packages (from torch>=2.0.0->accelerate) (12.4.127)\n",
            "Requirement already satisfied: nvidia-cudnn-cu12==9.1.0.70 in /usr/local/lib/python3.11/dist-packages (from torch>=2.0.0->accelerate) (9.1.0.70)\n",
            "Requirement already satisfied: nvidia-cublas-cu12==12.4.5.8 in /usr/local/lib/python3.11/dist-packages (from torch>=2.0.0->accelerate) (12.4.5.8)\n",
            "Requirement already satisfied: nvidia-cufft-cu12==11.2.1.3 in /usr/local/lib/python3.11/dist-packages (from torch>=2.0.0->accelerate) (11.2.1.3)\n",
            "Requirement already satisfied: nvidia-curand-cu12==10.3.5.147 in /usr/local/lib/python3.11/dist-packages (from torch>=2.0.0->accelerate) (10.3.5.147)\n",
            "Requirement already satisfied: nvidia-cusolver-cu12==11.6.1.9 in /usr/local/lib/python3.11/dist-packages (from torch>=2.0.0->accelerate) (11.6.1.9)\n",
            "Requirement already satisfied: nvidia-cusparse-cu12==12.3.1.170 in /usr/local/lib/python3.11/dist-packages (from torch>=2.0.0->accelerate) (12.3.1.170)\n",
            "Requirement already satisfied: nvidia-nccl-cu12==2.21.5 in /usr/local/lib/python3.11/dist-packages (from torch>=2.0.0->accelerate) (2.21.5)\n",
            "Requirement already satisfied: nvidia-nvtx-cu12==12.4.127 in /usr/local/lib/python3.11/dist-packages (from torch>=2.0.0->accelerate) (12.4.127)\n",
            "Requirement already satisfied: nvidia-nvjitlink-cu12==12.4.127 in /usr/local/lib/python3.11/dist-packages (from torch>=2.0.0->accelerate) (12.4.127)\n",
            "Requirement already satisfied: triton==3.1.0 in /usr/local/lib/python3.11/dist-packages (from torch>=2.0.0->accelerate) (3.1.0)\n",
            "Requirement already satisfied: sympy==1.13.1 in /usr/local/lib/python3.11/dist-packages (from torch>=2.0.0->accelerate) (1.13.1)\n",
            "Requirement already satisfied: mpmath<1.4,>=1.1.0 in /usr/local/lib/python3.11/dist-packages (from sympy==1.13.1->torch>=2.0.0->accelerate) (1.3.0)\n",
            "Requirement already satisfied: click in /usr/local/lib/python3.11/dist-packages (from nltk->rouge-score) (8.1.8)\n",
            "Requirement already satisfied: joblib in /usr/local/lib/python3.11/dist-packages (from nltk->rouge-score) (1.4.2)\n",
            "Requirement already satisfied: regex>=2021.8.3 in /usr/local/lib/python3.11/dist-packages (from nltk->rouge-score) (2024.11.6)\n",
            "Requirement already satisfied: MarkupSafe>=2.0 in /usr/local/lib/python3.11/dist-packages (from jinja2->torch>=2.0.0->accelerate) (3.0.2)\n",
            "Requirement already satisfied: charset-normalizer<4,>=2 in /usr/local/lib/python3.11/dist-packages (from requests->huggingface-hub>=0.21.0->accelerate) (3.4.1)\n",
            "Requirement already satisfied: idna<4,>=2.5 in /usr/local/lib/python3.11/dist-packages (from requests->huggingface-hub>=0.21.0->accelerate) (3.10)\n",
            "Requirement already satisfied: urllib3<3,>=1.21.1 in /usr/local/lib/python3.11/dist-packages (from requests->huggingface-hub>=0.21.0->accelerate) (2.3.0)\n",
            "Requirement already satisfied: certifi>=2017.4.17 in /usr/local/lib/python3.11/dist-packages (from requests->huggingface-hub>=0.21.0->accelerate) (2025.1.31)\n"
          ]
        }
      ]
    },
    {
      "cell_type": "code",
      "source": [
        "!pip install flash-attn --no-build-isolation"
      ],
      "metadata": {
        "colab": {
          "base_uri": "https://localhost:8080/"
        },
        "id": "QBzwNsNPxHVw",
        "outputId": "8065d75f-11ef-4c64-c254-7337d81fe7a3"
      },
      "execution_count": 6,
      "outputs": [
        {
          "output_type": "stream",
          "name": "stdout",
          "text": [
            "Requirement already satisfied: flash-attn in /usr/local/lib/python3.11/dist-packages (2.7.4.post1)\n",
            "Requirement already satisfied: torch in /usr/local/lib/python3.11/dist-packages (from flash-attn) (2.5.1+cu124)\n",
            "Requirement already satisfied: einops in /usr/local/lib/python3.11/dist-packages (from flash-attn) (0.8.0)\n",
            "Requirement already satisfied: filelock in /usr/local/lib/python3.11/dist-packages (from torch->flash-attn) (3.17.0)\n",
            "Requirement already satisfied: typing-extensions>=4.8.0 in /usr/local/lib/python3.11/dist-packages (from torch->flash-attn) (4.12.2)\n",
            "Requirement already satisfied: networkx in /usr/local/lib/python3.11/dist-packages (from torch->flash-attn) (3.4.2)\n",
            "Requirement already satisfied: jinja2 in /usr/local/lib/python3.11/dist-packages (from torch->flash-attn) (3.1.5)\n",
            "Requirement already satisfied: fsspec in /usr/local/lib/python3.11/dist-packages (from torch->flash-attn) (2024.9.0)\n",
            "Requirement already satisfied: nvidia-cuda-nvrtc-cu12==12.4.127 in /usr/local/lib/python3.11/dist-packages (from torch->flash-attn) (12.4.127)\n",
            "Requirement already satisfied: nvidia-cuda-runtime-cu12==12.4.127 in /usr/local/lib/python3.11/dist-packages (from torch->flash-attn) (12.4.127)\n",
            "Requirement already satisfied: nvidia-cuda-cupti-cu12==12.4.127 in /usr/local/lib/python3.11/dist-packages (from torch->flash-attn) (12.4.127)\n",
            "Requirement already satisfied: nvidia-cudnn-cu12==9.1.0.70 in /usr/local/lib/python3.11/dist-packages (from torch->flash-attn) (9.1.0.70)\n",
            "Requirement already satisfied: nvidia-cublas-cu12==12.4.5.8 in /usr/local/lib/python3.11/dist-packages (from torch->flash-attn) (12.4.5.8)\n",
            "Requirement already satisfied: nvidia-cufft-cu12==11.2.1.3 in /usr/local/lib/python3.11/dist-packages (from torch->flash-attn) (11.2.1.3)\n",
            "Requirement already satisfied: nvidia-curand-cu12==10.3.5.147 in /usr/local/lib/python3.11/dist-packages (from torch->flash-attn) (10.3.5.147)\n",
            "Requirement already satisfied: nvidia-cusolver-cu12==11.6.1.9 in /usr/local/lib/python3.11/dist-packages (from torch->flash-attn) (11.6.1.9)\n",
            "Requirement already satisfied: nvidia-cusparse-cu12==12.3.1.170 in /usr/local/lib/python3.11/dist-packages (from torch->flash-attn) (12.3.1.170)\n",
            "Requirement already satisfied: nvidia-nccl-cu12==2.21.5 in /usr/local/lib/python3.11/dist-packages (from torch->flash-attn) (2.21.5)\n",
            "Requirement already satisfied: nvidia-nvtx-cu12==12.4.127 in /usr/local/lib/python3.11/dist-packages (from torch->flash-attn) (12.4.127)\n",
            "Requirement already satisfied: nvidia-nvjitlink-cu12==12.4.127 in /usr/local/lib/python3.11/dist-packages (from torch->flash-attn) (12.4.127)\n",
            "Requirement already satisfied: triton==3.1.0 in /usr/local/lib/python3.11/dist-packages (from torch->flash-attn) (3.1.0)\n",
            "Requirement already satisfied: sympy==1.13.1 in /usr/local/lib/python3.11/dist-packages (from torch->flash-attn) (1.13.1)\n",
            "Requirement already satisfied: mpmath<1.4,>=1.1.0 in /usr/local/lib/python3.11/dist-packages (from sympy==1.13.1->torch->flash-attn) (1.3.0)\n",
            "Requirement already satisfied: MarkupSafe>=2.0 in /usr/local/lib/python3.11/dist-packages (from jinja2->torch->flash-attn) (3.0.2)\n"
          ]
        }
      ]
    },
    {
      "cell_type": "markdown",
      "source": [
        "Chargement des Bibliothèques"
      ],
      "metadata": {
        "id": "Buew65KRMRZ9"
      }
    },
    {
      "cell_type": "code",
      "source": [
        "import pandas as pd\n",
        "import matplotlib.pyplot as plt\n",
        "import seaborn as sns\n",
        "import numpy as np\n",
        "from datasets import load_dataset"
      ],
      "metadata": {
        "id": "x4Tio8agMVwq"
      },
      "execution_count": 7,
      "outputs": []
    },
    {
      "cell_type": "markdown",
      "source": [
        "Chargement des Jeux de Données"
      ],
      "metadata": {
        "id": "9237m5uOMakL"
      }
    },
    {
      "cell_type": "code",
      "execution_count": 8,
      "metadata": {
        "id": "tQzYfnFnthdD"
      },
      "outputs": [],
      "source": [
        "ds = load_dataset(\"checkai/instruction-poems\")"
      ]
    },
    {
      "cell_type": "code",
      "source": [
        "ds"
      ],
      "metadata": {
        "colab": {
          "base_uri": "https://localhost:8080/"
        },
        "id": "Eiv2lmwZu4mx",
        "outputId": "7bbb4d97-e2cb-4d03-bc7a-35320984ba52"
      },
      "execution_count": 9,
      "outputs": [
        {
          "output_type": "execute_result",
          "data": {
            "text/plain": [
              "DatasetDict({\n",
              "    train: Dataset({\n",
              "        features: ['INSTRUCTION', 'RESPONSE', 'SOURCE', 'METADATA'],\n",
              "        num_rows: 13854\n",
              "    })\n",
              "})"
            ]
          },
          "metadata": {},
          "execution_count": 9
        }
      ]
    },
    {
      "cell_type": "markdown",
      "source": [
        "Conversion de `df` en DataFrame"
      ],
      "metadata": {
        "id": "DKuX2-dpLxBs"
      }
    },
    {
      "cell_type": "code",
      "source": [
        "df = pd.DataFrame(ds['train'])"
      ],
      "metadata": {
        "id": "uBRjGFJwSsXg"
      },
      "execution_count": 10,
      "outputs": []
    },
    {
      "cell_type": "code",
      "source": [
        "df.head()"
      ],
      "metadata": {
        "colab": {
          "base_uri": "https://localhost:8080/",
          "height": 466
        },
        "id": "mC8VIvG2TNda",
        "outputId": "aa1ec672-cc7e-41cd-9164-74e2a1125634"
      },
      "execution_count": 11,
      "outputs": [
        {
          "output_type": "execute_result",
          "data": {
            "text/plain": [
              "                                         INSTRUCTION  \\\n",
              "0  Compose a poem, about Living,Death,The Body,Na...   \n",
              "1  Make a poem with themes of Religion,Faith & Do...   \n",
              "2  Make a poem with themes of Religion,Faith & Do...   \n",
              "3  Write me a poem about Religion,Faith & Doubt,G...   \n",
              "4  Write me a poem about Living,Growing Old,Natur...   \n",
              "\n",
              "                                            RESPONSE  \\\n",
              "0  I've written a poem for you about Living,Death...   \n",
              "1  Here's a beautiful poem about Religion,Faith &...   \n",
              "2  Sure, I can do that. Here's a poem about Relig...   \n",
              "3  Here's a poem I composed about Religion,Faith ...   \n",
              "4  It's called \"February Evening in New York\": \\n...   \n",
              "\n",
              "                                      SOURCE  \\\n",
              "0        PoetryFoundation.org - kari edwards   \n",
              "1     PoetryFoundation.org - Thomas P. Lynch   \n",
              "2          PoetryFoundation.org - Robert Bly   \n",
              "3  PoetryFoundation.org - Sheena Raza Faisal   \n",
              "4     PoetryFoundation.org - Denise Levertov   \n",
              "\n",
              "                                            METADATA  \n",
              "0  {\"author\": \"kari edwards\", \"title\": \"\\\"[ready ...  \n",
              "1  {\"author\": \"Thomas P. Lynch\", \"title\": \"\\\"Argy...  \n",
              "2  {\"author\": \"Robert Bly\", \"title\": \"\\\"Wanting S...  \n",
              "3  {\"author\": \"Sheena Raza Faisal\", \"title\": \"\\\"a...  \n",
              "4  {\"author\": \"Denise Levertov\", \"title\": \"\\\"Febr...  "
            ],
            "text/html": [
              "\n",
              "  <div id=\"df-126251fb-98e0-4e3d-bd50-c93ed8a89cf6\" class=\"colab-df-container\">\n",
              "    <div>\n",
              "<style scoped>\n",
              "    .dataframe tbody tr th:only-of-type {\n",
              "        vertical-align: middle;\n",
              "    }\n",
              "\n",
              "    .dataframe tbody tr th {\n",
              "        vertical-align: top;\n",
              "    }\n",
              "\n",
              "    .dataframe thead th {\n",
              "        text-align: right;\n",
              "    }\n",
              "</style>\n",
              "<table border=\"1\" class=\"dataframe\">\n",
              "  <thead>\n",
              "    <tr style=\"text-align: right;\">\n",
              "      <th></th>\n",
              "      <th>INSTRUCTION</th>\n",
              "      <th>RESPONSE</th>\n",
              "      <th>SOURCE</th>\n",
              "      <th>METADATA</th>\n",
              "    </tr>\n",
              "  </thead>\n",
              "  <tbody>\n",
              "    <tr>\n",
              "      <th>0</th>\n",
              "      <td>Compose a poem, about Living,Death,The Body,Na...</td>\n",
              "      <td>I've written a poem for you about Living,Death...</td>\n",
              "      <td>PoetryFoundation.org - kari edwards</td>\n",
              "      <td>{\"author\": \"kari edwards\", \"title\": \"\\\"[ready ...</td>\n",
              "    </tr>\n",
              "    <tr>\n",
              "      <th>1</th>\n",
              "      <td>Make a poem with themes of Religion,Faith &amp; Do...</td>\n",
              "      <td>Here's a beautiful poem about Religion,Faith &amp;...</td>\n",
              "      <td>PoetryFoundation.org - Thomas P. Lynch</td>\n",
              "      <td>{\"author\": \"Thomas P. Lynch\", \"title\": \"\\\"Argy...</td>\n",
              "    </tr>\n",
              "    <tr>\n",
              "      <th>2</th>\n",
              "      <td>Make a poem with themes of Religion,Faith &amp; Do...</td>\n",
              "      <td>Sure, I can do that. Here's a poem about Relig...</td>\n",
              "      <td>PoetryFoundation.org - Robert Bly</td>\n",
              "      <td>{\"author\": \"Robert Bly\", \"title\": \"\\\"Wanting S...</td>\n",
              "    </tr>\n",
              "    <tr>\n",
              "      <th>3</th>\n",
              "      <td>Write me a poem about Religion,Faith &amp; Doubt,G...</td>\n",
              "      <td>Here's a poem I composed about Religion,Faith ...</td>\n",
              "      <td>PoetryFoundation.org - Sheena Raza Faisal</td>\n",
              "      <td>{\"author\": \"Sheena Raza Faisal\", \"title\": \"\\\"a...</td>\n",
              "    </tr>\n",
              "    <tr>\n",
              "      <th>4</th>\n",
              "      <td>Write me a poem about Living,Growing Old,Natur...</td>\n",
              "      <td>It's called \"February Evening in New York\": \\n...</td>\n",
              "      <td>PoetryFoundation.org - Denise Levertov</td>\n",
              "      <td>{\"author\": \"Denise Levertov\", \"title\": \"\\\"Febr...</td>\n",
              "    </tr>\n",
              "  </tbody>\n",
              "</table>\n",
              "</div>\n",
              "    <div class=\"colab-df-buttons\">\n",
              "\n",
              "  <div class=\"colab-df-container\">\n",
              "    <button class=\"colab-df-convert\" onclick=\"convertToInteractive('df-126251fb-98e0-4e3d-bd50-c93ed8a89cf6')\"\n",
              "            title=\"Convert this dataframe to an interactive table.\"\n",
              "            style=\"display:none;\">\n",
              "\n",
              "  <svg xmlns=\"http://www.w3.org/2000/svg\" height=\"24px\" viewBox=\"0 -960 960 960\">\n",
              "    <path d=\"M120-120v-720h720v720H120Zm60-500h600v-160H180v160Zm220 220h160v-160H400v160Zm0 220h160v-160H400v160ZM180-400h160v-160H180v160Zm440 0h160v-160H620v160ZM180-180h160v-160H180v160Zm440 0h160v-160H620v160Z\"/>\n",
              "  </svg>\n",
              "    </button>\n",
              "\n",
              "  <style>\n",
              "    .colab-df-container {\n",
              "      display:flex;\n",
              "      gap: 12px;\n",
              "    }\n",
              "\n",
              "    .colab-df-convert {\n",
              "      background-color: #E8F0FE;\n",
              "      border: none;\n",
              "      border-radius: 50%;\n",
              "      cursor: pointer;\n",
              "      display: none;\n",
              "      fill: #1967D2;\n",
              "      height: 32px;\n",
              "      padding: 0 0 0 0;\n",
              "      width: 32px;\n",
              "    }\n",
              "\n",
              "    .colab-df-convert:hover {\n",
              "      background-color: #E2EBFA;\n",
              "      box-shadow: 0px 1px 2px rgba(60, 64, 67, 0.3), 0px 1px 3px 1px rgba(60, 64, 67, 0.15);\n",
              "      fill: #174EA6;\n",
              "    }\n",
              "\n",
              "    .colab-df-buttons div {\n",
              "      margin-bottom: 4px;\n",
              "    }\n",
              "\n",
              "    [theme=dark] .colab-df-convert {\n",
              "      background-color: #3B4455;\n",
              "      fill: #D2E3FC;\n",
              "    }\n",
              "\n",
              "    [theme=dark] .colab-df-convert:hover {\n",
              "      background-color: #434B5C;\n",
              "      box-shadow: 0px 1px 3px 1px rgba(0, 0, 0, 0.15);\n",
              "      filter: drop-shadow(0px 1px 2px rgba(0, 0, 0, 0.3));\n",
              "      fill: #FFFFFF;\n",
              "    }\n",
              "  </style>\n",
              "\n",
              "    <script>\n",
              "      const buttonEl =\n",
              "        document.querySelector('#df-126251fb-98e0-4e3d-bd50-c93ed8a89cf6 button.colab-df-convert');\n",
              "      buttonEl.style.display =\n",
              "        google.colab.kernel.accessAllowed ? 'block' : 'none';\n",
              "\n",
              "      async function convertToInteractive(key) {\n",
              "        const element = document.querySelector('#df-126251fb-98e0-4e3d-bd50-c93ed8a89cf6');\n",
              "        const dataTable =\n",
              "          await google.colab.kernel.invokeFunction('convertToInteractive',\n",
              "                                                    [key], {});\n",
              "        if (!dataTable) return;\n",
              "\n",
              "        const docLinkHtml = 'Like what you see? Visit the ' +\n",
              "          '<a target=\"_blank\" href=https://colab.research.google.com/notebooks/data_table.ipynb>data table notebook</a>'\n",
              "          + ' to learn more about interactive tables.';\n",
              "        element.innerHTML = '';\n",
              "        dataTable['output_type'] = 'display_data';\n",
              "        await google.colab.output.renderOutput(dataTable, element);\n",
              "        const docLink = document.createElement('div');\n",
              "        docLink.innerHTML = docLinkHtml;\n",
              "        element.appendChild(docLink);\n",
              "      }\n",
              "    </script>\n",
              "  </div>\n",
              "\n",
              "\n",
              "<div id=\"df-f4502296-13b9-4a82-b277-7f5c11a5ead6\">\n",
              "  <button class=\"colab-df-quickchart\" onclick=\"quickchart('df-f4502296-13b9-4a82-b277-7f5c11a5ead6')\"\n",
              "            title=\"Suggest charts\"\n",
              "            style=\"display:none;\">\n",
              "\n",
              "<svg xmlns=\"http://www.w3.org/2000/svg\" height=\"24px\"viewBox=\"0 0 24 24\"\n",
              "     width=\"24px\">\n",
              "    <g>\n",
              "        <path d=\"M19 3H5c-1.1 0-2 .9-2 2v14c0 1.1.9 2 2 2h14c1.1 0 2-.9 2-2V5c0-1.1-.9-2-2-2zM9 17H7v-7h2v7zm4 0h-2V7h2v10zm4 0h-2v-4h2v4z\"/>\n",
              "    </g>\n",
              "</svg>\n",
              "  </button>\n",
              "\n",
              "<style>\n",
              "  .colab-df-quickchart {\n",
              "      --bg-color: #E8F0FE;\n",
              "      --fill-color: #1967D2;\n",
              "      --hover-bg-color: #E2EBFA;\n",
              "      --hover-fill-color: #174EA6;\n",
              "      --disabled-fill-color: #AAA;\n",
              "      --disabled-bg-color: #DDD;\n",
              "  }\n",
              "\n",
              "  [theme=dark] .colab-df-quickchart {\n",
              "      --bg-color: #3B4455;\n",
              "      --fill-color: #D2E3FC;\n",
              "      --hover-bg-color: #434B5C;\n",
              "      --hover-fill-color: #FFFFFF;\n",
              "      --disabled-bg-color: #3B4455;\n",
              "      --disabled-fill-color: #666;\n",
              "  }\n",
              "\n",
              "  .colab-df-quickchart {\n",
              "    background-color: var(--bg-color);\n",
              "    border: none;\n",
              "    border-radius: 50%;\n",
              "    cursor: pointer;\n",
              "    display: none;\n",
              "    fill: var(--fill-color);\n",
              "    height: 32px;\n",
              "    padding: 0;\n",
              "    width: 32px;\n",
              "  }\n",
              "\n",
              "  .colab-df-quickchart:hover {\n",
              "    background-color: var(--hover-bg-color);\n",
              "    box-shadow: 0 1px 2px rgba(60, 64, 67, 0.3), 0 1px 3px 1px rgba(60, 64, 67, 0.15);\n",
              "    fill: var(--button-hover-fill-color);\n",
              "  }\n",
              "\n",
              "  .colab-df-quickchart-complete:disabled,\n",
              "  .colab-df-quickchart-complete:disabled:hover {\n",
              "    background-color: var(--disabled-bg-color);\n",
              "    fill: var(--disabled-fill-color);\n",
              "    box-shadow: none;\n",
              "  }\n",
              "\n",
              "  .colab-df-spinner {\n",
              "    border: 2px solid var(--fill-color);\n",
              "    border-color: transparent;\n",
              "    border-bottom-color: var(--fill-color);\n",
              "    animation:\n",
              "      spin 1s steps(1) infinite;\n",
              "  }\n",
              "\n",
              "  @keyframes spin {\n",
              "    0% {\n",
              "      border-color: transparent;\n",
              "      border-bottom-color: var(--fill-color);\n",
              "      border-left-color: var(--fill-color);\n",
              "    }\n",
              "    20% {\n",
              "      border-color: transparent;\n",
              "      border-left-color: var(--fill-color);\n",
              "      border-top-color: var(--fill-color);\n",
              "    }\n",
              "    30% {\n",
              "      border-color: transparent;\n",
              "      border-left-color: var(--fill-color);\n",
              "      border-top-color: var(--fill-color);\n",
              "      border-right-color: var(--fill-color);\n",
              "    }\n",
              "    40% {\n",
              "      border-color: transparent;\n",
              "      border-right-color: var(--fill-color);\n",
              "      border-top-color: var(--fill-color);\n",
              "    }\n",
              "    60% {\n",
              "      border-color: transparent;\n",
              "      border-right-color: var(--fill-color);\n",
              "    }\n",
              "    80% {\n",
              "      border-color: transparent;\n",
              "      border-right-color: var(--fill-color);\n",
              "      border-bottom-color: var(--fill-color);\n",
              "    }\n",
              "    90% {\n",
              "      border-color: transparent;\n",
              "      border-bottom-color: var(--fill-color);\n",
              "    }\n",
              "  }\n",
              "</style>\n",
              "\n",
              "  <script>\n",
              "    async function quickchart(key) {\n",
              "      const quickchartButtonEl =\n",
              "        document.querySelector('#' + key + ' button');\n",
              "      quickchartButtonEl.disabled = true;  // To prevent multiple clicks.\n",
              "      quickchartButtonEl.classList.add('colab-df-spinner');\n",
              "      try {\n",
              "        const charts = await google.colab.kernel.invokeFunction(\n",
              "            'suggestCharts', [key], {});\n",
              "      } catch (error) {\n",
              "        console.error('Error during call to suggestCharts:', error);\n",
              "      }\n",
              "      quickchartButtonEl.classList.remove('colab-df-spinner');\n",
              "      quickchartButtonEl.classList.add('colab-df-quickchart-complete');\n",
              "    }\n",
              "    (() => {\n",
              "      let quickchartButtonEl =\n",
              "        document.querySelector('#df-f4502296-13b9-4a82-b277-7f5c11a5ead6 button');\n",
              "      quickchartButtonEl.style.display =\n",
              "        google.colab.kernel.accessAllowed ? 'block' : 'none';\n",
              "    })();\n",
              "  </script>\n",
              "</div>\n",
              "\n",
              "    </div>\n",
              "  </div>\n"
            ],
            "application/vnd.google.colaboratory.intrinsic+json": {
              "type": "dataframe",
              "variable_name": "df",
              "summary": "{\n  \"name\": \"df\",\n  \"rows\": 13854,\n  \"fields\": [\n    {\n      \"column\": \"INSTRUCTION\",\n      \"properties\": {\n        \"dtype\": \"string\",\n        \"num_unique_values\": 10331,\n        \"samples\": [\n          \"Can you write a poem? Make it about Living,Growing Old,Time & Brevity,Arts & Sciences,Humor & Satire,Philosophy.\",\n          \"Compose a poem, about Living,Coming of Age,Parenthood,Nature,Summer,Philosophy.\",\n          \"Can you write a poem? Make it about Living,Infancy,Life Choices,Sorrow & Grieving,Time & Brevity,Relationships,Family & Ancestors.\"\n        ],\n        \"semantic_type\": \"\",\n        \"description\": \"\"\n      }\n    },\n    {\n      \"column\": \"RESPONSE\",\n      \"properties\": {\n        \"dtype\": \"string\",\n        \"num_unique_values\": 13853,\n        \"samples\": [\n          \"This is a poem about Living,Death,Nature that I just wrote. It's called \\\"Four Portraits of Fire\\\": \\n1\\r\\n\\r\\nI find a strange knowledge of wind,\\r\\n\\r\\nan open door in the mountain\\r\\n\\r\\npass where everything intersects.\\r\\n\\r\\nBelieve me. This will not pass.\\r\\n\\r\\nThis is a world where flags\\r\\n\\r\\ncontain themselves, and are still,\\r\\n\\r\\nmarked by their unfurled edges.\\r\\n\\r\\nLean stuff sways on the boughs\\r\\n\\r\\nof pitch pine: silver, almost tinsel,\\r\\n\\r\\nall light gone blue and sprouting\\r\\n\\r\\norange oils in a last bouquet.\\r\\n\\r\\n       2\\r\\n\\r\\nThese were the nest builders;\\r\\n\\r\\nI caught one last morning, I sang\\r\\n\\r\\nso it fell down, stupid,\\r\\n\\r\\nfrom the trees. They\\u2019re so incorrect\\r\\n\\r\\nin their dead skin. Witness their twig\\r\\n\\r\\nfeet, the mistake of their hands.\\r\\n\\r\\nThey will follow you. They yearn\\r\\n\\r\\npebbles for their gullets to grind\\r\\n\\r\\ntheir own seed. They swallow\\r\\n\\r\\nso selflessly and die\\r\\n\\r\\nlike patriots.\\r\\n\\r\\n       3\\r\\n\\r\\nLast Christmas, a family of five\\r\\n\\r\\nwoke from their dreaming and\\r\\n\\r\\ndreamed themselves over: the baby\\r\\n\\r\\nin its pink pajamas, the boy\\r\\n\\r\\nin the red flannel bathrobe\\r\\n\\r\\nhe grabbed from the door,\\r\\n\\r\\na mother, a father, and a sister\\r\\n\\r\\nin curlers; all died.\\r\\n\\r\\nA wood frame house,\\r\\n\\r\\na cannister of oil,\\r\\n\\r\\na match\\u2014watch\\r\\n\\r\\nas it unsettles.\\r\\n\\r\\nThey were so cold;\\r\\n\\r\\number.\\r\\n\\r\\n       4\\r\\n\\r\\nI am away from the knowledge\\r\\n\\r\\nof animal mystics,\\r\\n\\r\\nbrujas and sorcerers\\r\\n\\r\\nor the nudging chants\\r\\n\\r\\nof a Tlingit Kachina.\\r\\n\\r\\nI am frightened by regions\\r\\n\\r\\nwith wills of their own,\\r\\n\\r\\nbut when my people\\r\\n\\r\\ndie in the snow\\r\\n\\r\\nI wonder\\r\\n\\r\\ndid the depths billow up\\r\\n\\r\\nto reach them?\",\n          \"Sure, I can do that. Here's a poem about Activities,Jobs & Working,Relationships,Family & Ancestors,Nature,Animals. I call it \\\"The Knife Wearer\\\": \\nThis morning we found ourselves skinning a deer,\\r\\n\\r\\ncutting meat, hanging some to dry and packaging\\r\\n\\r\\nsome for the freezer. It was the dogs late last night\\r\\n\\r\\n\\r\\n\\r\\nthat set off a howling, the unexpected smell of fresh\\r\\n\\r\\nblood floating down the block, then a familiar car\\r\\n\\r\\nhorn honking in the driveway. My nephew and his\\r\\n\\r\\n\\r\\n\\r\\nfriends were hunting and brought us a deer. Mother\\r\\n\\r\\nalways said, \\u201cCut up the meat right away, don\\u2019t let\\r\\n\\r\\nit sit.\\u201d I look at a front quarter, a hole filled with\\r\\n\\r\\n\\r\\n\\r\\ncoagulated blood. Grandma says not to eat the part\\r\\n\\r\\nnext to the wound, \\u201cCut it out; offer it to the earth for\\r\\n\\r\\nhealing, a sacrifice to remember the hungering spirits.\\u201d\\r\\n\\r\\n\\r\\n\\r\\nAuntie says to save the muscle along the back strap,\\r\\n\\r\\n\\u201cIt makes good thread.\\u201d I carefully learned the exact\\r\\n\\r\\nplace to cut the joints so the bones separate easily.\\r\\n\\r\\n\\r\\n\\r\\nMother said that is important\\u2014\\u201cIt means you are a\\r\\n\\r\\nthoughtful person.\\u201d Auntie is at the door waiting for\\r\\n\\r\\na roast. \\u201cAn elder takes the first piece,\\u201d she reminded.\\r\\n\\r\\n\\r\\n\\r\\nMom tells me to save the hooves for her. She wants\\r\\n\\r\\nto make a bone game for the new grandchild, wants\\r\\n\\r\\nhim to be patient and skillful. I boil the hoofs with\\r\\n\\r\\n\\r\\n\\r\\nsage, find the little toe-bones for her. My hands begin\\r\\n\\r\\nto ache from the work, I soak them in warm water\\r\\n\\r\\nand start again. I admire the placement of tendons\\r\\n\\r\\n\\r\\n\\r\\non the deer shoulders, no joints, just the crisscrossing\\r\\n\\r\\nof muscle. Grandma says, \\u201cThat\\u2019s why your dad called\\r\\n\\r\\nthem jumpers, they bounce off the strength of their\\r\\n\\r\\n\\r\\n\\r\\nflexing muscles.\\u201d Late at night Mom helps me stake\\r\\n\\r\\nout the hide. My back hurts; my feet feel like I\\u2019ve\\r\\n\\r\\nbeen walking on rocks all day. I want to complain,\\r\\n\\r\\n\\r\\n\\r\\nbut Mom catches the look in my eyes. She says to me,\\r\\n\\r\\n\\u201cWhen you get dressed for the dance this weekend,\\r\\n\\r\\nyou will proudly wear your beautiful beaded dress,\\r\\n\\r\\n\\r\\n\\r\\nyour beaded leggings and moccasins, and last, but not\\r\\n\\r\\nleast, you will put on your beaded belt, and attached\\r\\n\\r\\nyou will wear your sharp knife and quilled knife sheath\\r\\n\\r\\n\\r\\n\\r\\nbecause of what you have done this day.\\u201d\",\n          \"I've written a poem for you about Love,Relationships,Nature,Seas, Rivers, & Streams,Arts & Sciences,Painting & Sculpture. The title is \\\"from Light: Blue Poles\\\": \\nTonight, away begins to go\\r\\n\\r\\nfarther away, and the dream\\r\\n\\r\\nwhat do we know of the dream\\r\\n\\r\\nmetallic leaps Jackson Pollock\\r\\n\\r\\nsilvery streams Jackson Pollock\\r\\n\\r\\nI gaze across the sea\\r\\n\\r\\nsee in the distance your walk and you\\r\\n\\r\\npass the Pacific, distant and blue\\r\\n\\r\\nphallus and Moloch pace my view\\r\\n\\r\\non into otherness\\r\\n\\r\\non into otherness?\\r\\n\\r\\nare we in the world after or before\\r\\n\\r\\nare we or are we not magnetic force\\r\\n\\r\\nit is apparently me you inform:\\r\\n\\r\\ngenesis woman dream that begins\\r\\n\\r\\ntonight to go farther away\\r\\n\\r\\ntonight to reach farther away\\r\\n\\r\\nmetallic leaps Jackson Pollock\\r\\n\\r\\nsilvery streams Jackson Pollock\\r\\n\\r\\non across the blue sea\"\n        ],\n        \"semantic_type\": \"\",\n        \"description\": \"\"\n      }\n    },\n    {\n      \"column\": \"SOURCE\",\n      \"properties\": {\n        \"dtype\": \"category\",\n        \"num_unique_values\": 3128,\n        \"samples\": [\n          \"PoetryFoundation.org - Gergely Normal\",\n          \"PoetryFoundation.org - Tatiana Ziglar\",\n          \"PoetryFoundation.org - Sjohnna McCray\"\n        ],\n        \"semantic_type\": \"\",\n        \"description\": \"\"\n      }\n    },\n    {\n      \"column\": \"METADATA\",\n      \"properties\": {\n        \"dtype\": \"string\",\n        \"num_unique_values\": 13843,\n        \"samples\": [\n          \"{\\\"author\\\": \\\"Larry Levis\\\", \\\"title\\\": \\\"\\\\\\\"The Map\\\\\\\"\\\", \\\"tags\\\": \\\"Activities,Jobs & Working,Relationships,Men & Women,Nature,Landscapes & Pastorals\\\", \\\"task_type\\\": \\\"writing\\\"}\",\n          \"{\\\"author\\\": \\\"Kate Buckley\\\", \\\"title\\\": \\\"\\\\\\\"On Hearing Your News\\\\\\\"\\\", \\\"tags\\\": \\\"Living,Health & Illness,The Body,Relationships\\\", \\\"task_type\\\": \\\"writing\\\"}\",\n          \"{\\\"author\\\": \\\"James Tate\\\", \\\"title\\\": \\\"\\\\\\\"The Workforce\\\\\\\"\\\", \\\"tags\\\": \\\"Activities,Jobs & Working,Arts & Sciences,Humor & Satire,Social Commentaries,Class\\\", \\\"task_type\\\": \\\"writing\\\"}\"\n        ],\n        \"semantic_type\": \"\",\n        \"description\": \"\"\n      }\n    }\n  ]\n}"
            }
          },
          "metadata": {},
          "execution_count": 11
        }
      ]
    },
    {
      "cell_type": "code",
      "source": [
        "df.shape"
      ],
      "metadata": {
        "colab": {
          "base_uri": "https://localhost:8080/"
        },
        "id": "I3ls3b60_dsU",
        "outputId": "2cdae7f1-0ee6-423e-f6e7-b2861a036194"
      },
      "execution_count": 12,
      "outputs": [
        {
          "output_type": "execute_result",
          "data": {
            "text/plain": [
              "(13854, 4)"
            ]
          },
          "metadata": {},
          "execution_count": 12
        }
      ]
    },
    {
      "cell_type": "markdown",
      "source": [
        "À cette étape, nous divisons le dataset `df` en ensembles d'entraînement, de test et de validation."
      ],
      "metadata": {
        "id": "i3IMUzlTemYI"
      }
    },
    {
      "cell_type": "code",
      "source": [
        "train_df, test_df, validation_df = np.split(df.sample(frac=1, random_state=42), [int(.8*len(df)), int(.9*len(df))])"
      ],
      "metadata": {
        "colab": {
          "base_uri": "https://localhost:8080/"
        },
        "id": "EJkC68euAmkF",
        "outputId": "80cdda6d-3700-42c4-cc85-9c049b5c5518"
      },
      "execution_count": 13,
      "outputs": [
        {
          "output_type": "stream",
          "name": "stderr",
          "text": [
            "/usr/local/lib/python3.11/dist-packages/numpy/core/fromnumeric.py:59: FutureWarning: 'DataFrame.swapaxes' is deprecated and will be removed in a future version. Please use 'DataFrame.transpose' instead.\n",
            "  return bound(*args, **kwds)\n"
          ]
        }
      ]
    },
    {
      "cell_type": "code",
      "source": [
        "train_df.shape, test_df.shape, validation_df.shape"
      ],
      "metadata": {
        "colab": {
          "base_uri": "https://localhost:8080/"
        },
        "id": "DkAxkQIxA41M",
        "outputId": "8d48d0b3-2494-49a7-dbf6-7338ea57eb08"
      },
      "execution_count": 14,
      "outputs": [
        {
          "output_type": "execute_result",
          "data": {
            "text/plain": [
              "((11083, 4), (1385, 4), (1386, 4))"
            ]
          },
          "metadata": {},
          "execution_count": 14
        }
      ]
    },
    {
      "cell_type": "markdown",
      "source": [
        "Dans cette étape, nous sélectionnons un sous-ensemble de l'ensemble d'entraînement. Cela permet de réduire la taille des données pour un traitement plus rapide lors des phases de développement et de test."
      ],
      "metadata": {
        "id": "lCKzOhFjLTX1"
      }
    },
    {
      "cell_type": "code",
      "source": [
        "train_df = train_df.sample(frac=0.2, random_state=42)"
      ],
      "metadata": {
        "id": "uhnqwCckxeG_"
      },
      "execution_count": 15,
      "outputs": []
    },
    {
      "cell_type": "code",
      "source": [
        "train_df.shape"
      ],
      "metadata": {
        "colab": {
          "base_uri": "https://localhost:8080/"
        },
        "id": "agenXMSd_qWA",
        "outputId": "5516306f-dad1-466b-c746-7989a3d24bca"
      },
      "execution_count": 16,
      "outputs": [
        {
          "output_type": "execute_result",
          "data": {
            "text/plain": [
              "(2217, 4)"
            ]
          },
          "metadata": {},
          "execution_count": 16
        }
      ]
    },
    {
      "cell_type": "code",
      "source": [
        "test_df= test_df.sample(frac=0.2, random_state=42)\n",
        "test_df.shape"
      ],
      "metadata": {
        "colab": {
          "base_uri": "https://localhost:8080/"
        },
        "id": "RwYBGbmPi-kQ",
        "outputId": "9c0fe8e9-322b-44eb-a1ca-1c1d4d45f435"
      },
      "execution_count": 17,
      "outputs": [
        {
          "output_type": "execute_result",
          "data": {
            "text/plain": [
              "(277, 4)"
            ]
          },
          "metadata": {},
          "execution_count": 17
        }
      ]
    },
    {
      "cell_type": "code",
      "source": [
        "validation_df= validation_df.sample(frac=0.2, random_state=42)\n",
        "validation_df.shape"
      ],
      "metadata": {
        "colab": {
          "base_uri": "https://localhost:8080/"
        },
        "id": "dF-5LAIljnqj",
        "outputId": "ecdd87ec-3389-4fa9-ef3f-e1a964143f9c"
      },
      "execution_count": 18,
      "outputs": [
        {
          "output_type": "execute_result",
          "data": {
            "text/plain": [
              "(277, 4)"
            ]
          },
          "metadata": {},
          "execution_count": 18
        }
      ]
    },
    {
      "cell_type": "markdown",
      "source": [
        "Afficher un aperçu des datasets"
      ],
      "metadata": {
        "id": "c0EstHjNL6hJ"
      }
    },
    {
      "cell_type": "code",
      "source": [
        "train_df.head()"
      ],
      "metadata": {
        "colab": {
          "base_uri": "https://localhost:8080/",
          "height": 556
        },
        "id": "dtD9MgbVAYf3",
        "outputId": "b017d97d-83c4-454e-b321-5759e1d05246"
      },
      "execution_count": 19,
      "outputs": [
        {
          "output_type": "execute_result",
          "data": {
            "text/plain": [
              "                                             INSTRUCTION  \\\n",
              "7187   Make a poem with themes of Social Commentaries...   \n",
              "12947  Make a poem with themes of Living,Nature,Anima...   \n",
              "10935  Compose a poem, about Living,Infancy,Parenthoo...   \n",
              "2721   Make a poem with themes of Activities,Jobs & W...   \n",
              "10409  Can you write a poem? Make it about Living,Gro...   \n",
              "\n",
              "                                                RESPONSE  \\\n",
              "7187   Okay, a poem about Social Commentaries,Cities ...   \n",
              "12947  Sure, I can do that. Here's a poem about Livin...   \n",
              "10935  Of course! It's called \"Tinnitus: May, low ski...   \n",
              "2721   Here's a beautiful poem about Activities,Jobs ...   \n",
              "10409  Here's a beautiful poem about Living,Growing O...   \n",
              "\n",
              "                                            SOURCE  \\\n",
              "7187   PoetryFoundation.org - Louise Imogen Guiney   \n",
              "12947            PoetryFoundation.org - Knar Gavin   \n",
              "10935         PoetryFoundation.org - David Harsent   \n",
              "2721           PoetryFoundation.org - David Rivard   \n",
              "10409           PoetryFoundation.org - Larry Levis   \n",
              "\n",
              "                                                METADATA  \n",
              "7187   {\"author\": \"Louise Imogen Guiney\", \"title\": \"\\...  \n",
              "12947  {\"author\": \"Knar Gavin\", \"title\": \"\\\"Statocyst...  \n",
              "10935  {\"author\": \"David Harsent\", \"title\": \"\\\"Tinnit...  \n",
              "2721   {\"author\": \"David Rivard\", \"title\": \"\\\"Torque\\...  \n",
              "10409  {\"author\": \"Larry Levis\", \"title\": \"\\\"Winter S...  "
            ],
            "text/html": [
              "\n",
              "  <div id=\"df-cec434c5-31c0-4924-91f5-cc66a4ec7ed0\" class=\"colab-df-container\">\n",
              "    <div>\n",
              "<style scoped>\n",
              "    .dataframe tbody tr th:only-of-type {\n",
              "        vertical-align: middle;\n",
              "    }\n",
              "\n",
              "    .dataframe tbody tr th {\n",
              "        vertical-align: top;\n",
              "    }\n",
              "\n",
              "    .dataframe thead th {\n",
              "        text-align: right;\n",
              "    }\n",
              "</style>\n",
              "<table border=\"1\" class=\"dataframe\">\n",
              "  <thead>\n",
              "    <tr style=\"text-align: right;\">\n",
              "      <th></th>\n",
              "      <th>INSTRUCTION</th>\n",
              "      <th>RESPONSE</th>\n",
              "      <th>SOURCE</th>\n",
              "      <th>METADATA</th>\n",
              "    </tr>\n",
              "  </thead>\n",
              "  <tbody>\n",
              "    <tr>\n",
              "      <th>7187</th>\n",
              "      <td>Make a poem with themes of Social Commentaries...</td>\n",
              "      <td>Okay, a poem about Social Commentaries,Cities ...</td>\n",
              "      <td>PoetryFoundation.org - Louise Imogen Guiney</td>\n",
              "      <td>{\"author\": \"Louise Imogen Guiney\", \"title\": \"\\...</td>\n",
              "    </tr>\n",
              "    <tr>\n",
              "      <th>12947</th>\n",
              "      <td>Make a poem with themes of Living,Nature,Anima...</td>\n",
              "      <td>Sure, I can do that. Here's a poem about Livin...</td>\n",
              "      <td>PoetryFoundation.org - Knar Gavin</td>\n",
              "      <td>{\"author\": \"Knar Gavin\", \"title\": \"\\\"Statocyst...</td>\n",
              "    </tr>\n",
              "    <tr>\n",
              "      <th>10935</th>\n",
              "      <td>Compose a poem, about Living,Infancy,Parenthoo...</td>\n",
              "      <td>Of course! It's called \"Tinnitus: May, low ski...</td>\n",
              "      <td>PoetryFoundation.org - David Harsent</td>\n",
              "      <td>{\"author\": \"David Harsent\", \"title\": \"\\\"Tinnit...</td>\n",
              "    </tr>\n",
              "    <tr>\n",
              "      <th>2721</th>\n",
              "      <td>Make a poem with themes of Activities,Jobs &amp; W...</td>\n",
              "      <td>Here's a beautiful poem about Activities,Jobs ...</td>\n",
              "      <td>PoetryFoundation.org - David Rivard</td>\n",
              "      <td>{\"author\": \"David Rivard\", \"title\": \"\\\"Torque\\...</td>\n",
              "    </tr>\n",
              "    <tr>\n",
              "      <th>10409</th>\n",
              "      <td>Can you write a poem? Make it about Living,Gro...</td>\n",
              "      <td>Here's a beautiful poem about Living,Growing O...</td>\n",
              "      <td>PoetryFoundation.org - Larry Levis</td>\n",
              "      <td>{\"author\": \"Larry Levis\", \"title\": \"\\\"Winter S...</td>\n",
              "    </tr>\n",
              "  </tbody>\n",
              "</table>\n",
              "</div>\n",
              "    <div class=\"colab-df-buttons\">\n",
              "\n",
              "  <div class=\"colab-df-container\">\n",
              "    <button class=\"colab-df-convert\" onclick=\"convertToInteractive('df-cec434c5-31c0-4924-91f5-cc66a4ec7ed0')\"\n",
              "            title=\"Convert this dataframe to an interactive table.\"\n",
              "            style=\"display:none;\">\n",
              "\n",
              "  <svg xmlns=\"http://www.w3.org/2000/svg\" height=\"24px\" viewBox=\"0 -960 960 960\">\n",
              "    <path d=\"M120-120v-720h720v720H120Zm60-500h600v-160H180v160Zm220 220h160v-160H400v160Zm0 220h160v-160H400v160ZM180-400h160v-160H180v160Zm440 0h160v-160H620v160ZM180-180h160v-160H180v160Zm440 0h160v-160H620v160Z\"/>\n",
              "  </svg>\n",
              "    </button>\n",
              "\n",
              "  <style>\n",
              "    .colab-df-container {\n",
              "      display:flex;\n",
              "      gap: 12px;\n",
              "    }\n",
              "\n",
              "    .colab-df-convert {\n",
              "      background-color: #E8F0FE;\n",
              "      border: none;\n",
              "      border-radius: 50%;\n",
              "      cursor: pointer;\n",
              "      display: none;\n",
              "      fill: #1967D2;\n",
              "      height: 32px;\n",
              "      padding: 0 0 0 0;\n",
              "      width: 32px;\n",
              "    }\n",
              "\n",
              "    .colab-df-convert:hover {\n",
              "      background-color: #E2EBFA;\n",
              "      box-shadow: 0px 1px 2px rgba(60, 64, 67, 0.3), 0px 1px 3px 1px rgba(60, 64, 67, 0.15);\n",
              "      fill: #174EA6;\n",
              "    }\n",
              "\n",
              "    .colab-df-buttons div {\n",
              "      margin-bottom: 4px;\n",
              "    }\n",
              "\n",
              "    [theme=dark] .colab-df-convert {\n",
              "      background-color: #3B4455;\n",
              "      fill: #D2E3FC;\n",
              "    }\n",
              "\n",
              "    [theme=dark] .colab-df-convert:hover {\n",
              "      background-color: #434B5C;\n",
              "      box-shadow: 0px 1px 3px 1px rgba(0, 0, 0, 0.15);\n",
              "      filter: drop-shadow(0px 1px 2px rgba(0, 0, 0, 0.3));\n",
              "      fill: #FFFFFF;\n",
              "    }\n",
              "  </style>\n",
              "\n",
              "    <script>\n",
              "      const buttonEl =\n",
              "        document.querySelector('#df-cec434c5-31c0-4924-91f5-cc66a4ec7ed0 button.colab-df-convert');\n",
              "      buttonEl.style.display =\n",
              "        google.colab.kernel.accessAllowed ? 'block' : 'none';\n",
              "\n",
              "      async function convertToInteractive(key) {\n",
              "        const element = document.querySelector('#df-cec434c5-31c0-4924-91f5-cc66a4ec7ed0');\n",
              "        const dataTable =\n",
              "          await google.colab.kernel.invokeFunction('convertToInteractive',\n",
              "                                                    [key], {});\n",
              "        if (!dataTable) return;\n",
              "\n",
              "        const docLinkHtml = 'Like what you see? Visit the ' +\n",
              "          '<a target=\"_blank\" href=https://colab.research.google.com/notebooks/data_table.ipynb>data table notebook</a>'\n",
              "          + ' to learn more about interactive tables.';\n",
              "        element.innerHTML = '';\n",
              "        dataTable['output_type'] = 'display_data';\n",
              "        await google.colab.output.renderOutput(dataTable, element);\n",
              "        const docLink = document.createElement('div');\n",
              "        docLink.innerHTML = docLinkHtml;\n",
              "        element.appendChild(docLink);\n",
              "      }\n",
              "    </script>\n",
              "  </div>\n",
              "\n",
              "\n",
              "<div id=\"df-547f7fda-8349-41fc-acd2-22ddc5f595a8\">\n",
              "  <button class=\"colab-df-quickchart\" onclick=\"quickchart('df-547f7fda-8349-41fc-acd2-22ddc5f595a8')\"\n",
              "            title=\"Suggest charts\"\n",
              "            style=\"display:none;\">\n",
              "\n",
              "<svg xmlns=\"http://www.w3.org/2000/svg\" height=\"24px\"viewBox=\"0 0 24 24\"\n",
              "     width=\"24px\">\n",
              "    <g>\n",
              "        <path d=\"M19 3H5c-1.1 0-2 .9-2 2v14c0 1.1.9 2 2 2h14c1.1 0 2-.9 2-2V5c0-1.1-.9-2-2-2zM9 17H7v-7h2v7zm4 0h-2V7h2v10zm4 0h-2v-4h2v4z\"/>\n",
              "    </g>\n",
              "</svg>\n",
              "  </button>\n",
              "\n",
              "<style>\n",
              "  .colab-df-quickchart {\n",
              "      --bg-color: #E8F0FE;\n",
              "      --fill-color: #1967D2;\n",
              "      --hover-bg-color: #E2EBFA;\n",
              "      --hover-fill-color: #174EA6;\n",
              "      --disabled-fill-color: #AAA;\n",
              "      --disabled-bg-color: #DDD;\n",
              "  }\n",
              "\n",
              "  [theme=dark] .colab-df-quickchart {\n",
              "      --bg-color: #3B4455;\n",
              "      --fill-color: #D2E3FC;\n",
              "      --hover-bg-color: #434B5C;\n",
              "      --hover-fill-color: #FFFFFF;\n",
              "      --disabled-bg-color: #3B4455;\n",
              "      --disabled-fill-color: #666;\n",
              "  }\n",
              "\n",
              "  .colab-df-quickchart {\n",
              "    background-color: var(--bg-color);\n",
              "    border: none;\n",
              "    border-radius: 50%;\n",
              "    cursor: pointer;\n",
              "    display: none;\n",
              "    fill: var(--fill-color);\n",
              "    height: 32px;\n",
              "    padding: 0;\n",
              "    width: 32px;\n",
              "  }\n",
              "\n",
              "  .colab-df-quickchart:hover {\n",
              "    background-color: var(--hover-bg-color);\n",
              "    box-shadow: 0 1px 2px rgba(60, 64, 67, 0.3), 0 1px 3px 1px rgba(60, 64, 67, 0.15);\n",
              "    fill: var(--button-hover-fill-color);\n",
              "  }\n",
              "\n",
              "  .colab-df-quickchart-complete:disabled,\n",
              "  .colab-df-quickchart-complete:disabled:hover {\n",
              "    background-color: var(--disabled-bg-color);\n",
              "    fill: var(--disabled-fill-color);\n",
              "    box-shadow: none;\n",
              "  }\n",
              "\n",
              "  .colab-df-spinner {\n",
              "    border: 2px solid var(--fill-color);\n",
              "    border-color: transparent;\n",
              "    border-bottom-color: var(--fill-color);\n",
              "    animation:\n",
              "      spin 1s steps(1) infinite;\n",
              "  }\n",
              "\n",
              "  @keyframes spin {\n",
              "    0% {\n",
              "      border-color: transparent;\n",
              "      border-bottom-color: var(--fill-color);\n",
              "      border-left-color: var(--fill-color);\n",
              "    }\n",
              "    20% {\n",
              "      border-color: transparent;\n",
              "      border-left-color: var(--fill-color);\n",
              "      border-top-color: var(--fill-color);\n",
              "    }\n",
              "    30% {\n",
              "      border-color: transparent;\n",
              "      border-left-color: var(--fill-color);\n",
              "      border-top-color: var(--fill-color);\n",
              "      border-right-color: var(--fill-color);\n",
              "    }\n",
              "    40% {\n",
              "      border-color: transparent;\n",
              "      border-right-color: var(--fill-color);\n",
              "      border-top-color: var(--fill-color);\n",
              "    }\n",
              "    60% {\n",
              "      border-color: transparent;\n",
              "      border-right-color: var(--fill-color);\n",
              "    }\n",
              "    80% {\n",
              "      border-color: transparent;\n",
              "      border-right-color: var(--fill-color);\n",
              "      border-bottom-color: var(--fill-color);\n",
              "    }\n",
              "    90% {\n",
              "      border-color: transparent;\n",
              "      border-bottom-color: var(--fill-color);\n",
              "    }\n",
              "  }\n",
              "</style>\n",
              "\n",
              "  <script>\n",
              "    async function quickchart(key) {\n",
              "      const quickchartButtonEl =\n",
              "        document.querySelector('#' + key + ' button');\n",
              "      quickchartButtonEl.disabled = true;  // To prevent multiple clicks.\n",
              "      quickchartButtonEl.classList.add('colab-df-spinner');\n",
              "      try {\n",
              "        const charts = await google.colab.kernel.invokeFunction(\n",
              "            'suggestCharts', [key], {});\n",
              "      } catch (error) {\n",
              "        console.error('Error during call to suggestCharts:', error);\n",
              "      }\n",
              "      quickchartButtonEl.classList.remove('colab-df-spinner');\n",
              "      quickchartButtonEl.classList.add('colab-df-quickchart-complete');\n",
              "    }\n",
              "    (() => {\n",
              "      let quickchartButtonEl =\n",
              "        document.querySelector('#df-547f7fda-8349-41fc-acd2-22ddc5f595a8 button');\n",
              "      quickchartButtonEl.style.display =\n",
              "        google.colab.kernel.accessAllowed ? 'block' : 'none';\n",
              "    })();\n",
              "  </script>\n",
              "</div>\n",
              "\n",
              "    </div>\n",
              "  </div>\n"
            ],
            "application/vnd.google.colaboratory.intrinsic+json": {
              "type": "dataframe",
              "variable_name": "train_df",
              "summary": "{\n  \"name\": \"train_df\",\n  \"rows\": 2217,\n  \"fields\": [\n    {\n      \"column\": \"INSTRUCTION\",\n      \"properties\": {\n        \"dtype\": \"string\",\n        \"num_unique_values\": 1902,\n        \"samples\": [\n          \"Name this poem: \\nRobed in dungeon black, in mourning\\r\\n\\r\\nFor themselves they pass, repace\\r\\n\\r\\nThe dark linoleum corridors\\r\\n\\r\\nOf humid wards, sure in the grace\\r\\n\\r\\nOf self-denial. Blown by duty,\\r\\n\\r\\nJet sails borne by a high wind,\\r\\n\\r\\nOnly the face and hands creep through\\r\\n\\r\\nThe shapeless clothing, to remind\\r\\n\\r\\nOne that a woman lives within\\r\\n\\r\\nThe wrappings of this strange cocoon.\\r\\n\\r\\nHer hands reach from these veils of death\\r\\n\\r\\nTo harvest a child from the raw womb.\\r\\n\\r\\nThe metal scales of paradox\\r\\n\\r\\nTip here then there. What can the nun\\r\\n\\r\\nThink of the butchery of birth,\\r\\n\\r\\nMastery of the flesh, this one\\r\\n\\r\\nVigorous mystery? Rude life\\r\\n\\r\\nFrom the volcano rolls and pours,\\r\\n\\r\\nTragic, regenerate, wild. Sad,\\r\\n\\r\\nThe unborn wait behind closed doors.\",\n          \"Compose a poem, about Living,Relationships,Arts & Sciences,Philosophy,Toasts & Celebrations.\",\n          \"Make a poem with themes of Activities,Travels & Journeys,Relationships,Friends & Enemies,Arts & Sciences,Humor & Satire,Poetry & Poets,Social Commentaries,History & Politics,Race & Ethnicity.Generate a poem with the following themes: Activities,Travels & Journeys,Relationships,Friends & Enemies,Arts & Sciences,Humor & Satire,Poetry & Poets,Social Commentaries,History & Politics,Race & Ethnicity.\"\n        ],\n        \"semantic_type\": \"\",\n        \"description\": \"\"\n      }\n    },\n    {\n      \"column\": \"RESPONSE\",\n      \"properties\": {\n        \"dtype\": \"string\",\n        \"num_unique_values\": 2217,\n        \"samples\": [\n          \"Okay, a poem about Living,Health & Illness,The Body,The Mind: \\n\\\"Nurse Marble\\\"\\nKnowledge is Power. That is what the billboard says and I agree. I am an adult, therefore I understand the threat of passengers. The threat to Our Children, who don't understand the threat of these bird-like, twitchy people. They pose two kinds of threat. To begin with, there is the one we all know about, the preda\\u00adtory threat, the hawk-like passengers that prey on children as they sit in front of their computers or televisions. The terrorist threat. That threat is easy to handle. You shoot it. You contain it. You confiscate. You stitch. You bleed from various orifices and sockets, but you survive, you rebuild house and rinse the child. The more serious threat is the diseases passengers carry with them. Internal terrorism. Children love those diseases. It makes them babble like possessed. Their make-up looks like oil in the moonlight. Such children cannot be cleaned off. Kill them. Or turn them into entertainment. Art.\",\n          \"I've written a poem for you about Relationships,Family & Ancestors,Arts & Sciences,Language & Linguistics,Social Commentaries,History & Politics. The title is \\\"a\\\": \\nThey wore out the ain the letterpress case only aftera few thousand hits under the inked rollers,pulling the crank, turningthe giant wheel.Must have been 1820. Thereabouts.Wanderer, glory-run of letters: thereabouts.Hunger took its due fromthe belly of the a.So? All kept reading itas a\\u2009\\u2014\\u2009those who could read\\u2009\\u2014\\u2009and anyway,a bite out of that apple provesour kind mortal. Rare good paperinto page until most everything about the awas shot. Practically prayer, humility,a great foreboding not justbare-bones frugal.Simple aaaa from that a\\u2009\\u2014\\u2009First letter loved, to hear it ache and filleven at half breath.Look, it\\u2019s standard. No one buta divine being or two makes perfect copy.Real case in point: my now and again body sopoorly echoed off my mother, my fatherout of a broken skull simmeringin a bog, BC probably, long before ADpretended anything in order. Earlier, our whole dark hole of a planet copiedunto itself via earthquake, flood, star shard,raging molten ball in the middle, somebig bang\\u2019s ideaof a flawed, proper start.For a while there, the tiny awounded. What it does.Doing, to heraldevery human sentence.\",\n          \"Here's a poem about Arts & Sciences,Language & Linguistics: \\n\\\"A Substance in a Cushion\\\"\\nThe change of color is likely and a difference a very little difference is prepared. Sugar is not a vegetable.   Callous is something that hardening leaves behind what will be soft if there is a genuine interest in there being present as many girls as men. Does this change. It shows that dirt is clean when there is a volume.   A cushion has that cover. Supposing you do not like to change, supposing it is very clean that there is no change in appearance, supposing that there is regularity and a costume is that any the worse than an oyster and an exchange. Come to season that is there any extreme use in feather and cotton. Is there not much more joy in a table and more chairs and very likely roundness and a place to put them.   A circle of fine card board and a chance to see a tassel.   What is the use of a violent kind of delightfulness if there is no pleasure in not getting tired of it. The question does not come before there is a quotation. In any kind of place there is a top to covering and it is a pleasure at any rate there is some venturing in refusing to believe nonsense. It shows what use there is in a whole piece if one uses it and it is extreme and very likely the little things could be dearer but in any case there is a bargain and if there is the best thing to do is to take it away and wear it and then be reckless be reckless and resolved on returning gratitude.   Light blue and the same red with purple makes a change. It shows that there is no mistake. Any pink shows that and very likely it is reasonable. Very likely there should not be a finer fancy present. Some increase means a calamity and this is the best preparation for three and more being together. A little calm is so ordinary and in any case there is sweetness and some of that.   A seal and matches and a swan and ivy and a suit.   A closet, a closet does not connect under the bed. The band if it is white and black, the band has a green string. A sight a whole sight and a little groan grinding makes a trimming such a sweet singing trimming and a red thing not a round thing but a white thing, a red thing and a white thing.   The disgrace is not in carelessness nor even in sewing it comes out out of the way.   What is the sash like. The sash is not like anything mustard it is not like a same thing that has stripes, it is not even more hurt than that, it has a little top.\"\n        ],\n        \"semantic_type\": \"\",\n        \"description\": \"\"\n      }\n    },\n    {\n      \"column\": \"SOURCE\",\n      \"properties\": {\n        \"dtype\": \"string\",\n        \"num_unique_values\": 1298,\n        \"samples\": [\n          \"PoetryFoundation.org - Curzio Malaparte\",\n          \"PoetryFoundation.org - Chinua Achebe\",\n          \"PoetryFoundation.org - Afaa Michael Weaver\"\n        ],\n        \"semantic_type\": \"\",\n        \"description\": \"\"\n      }\n    },\n    {\n      \"column\": \"METADATA\",\n      \"properties\": {\n        \"dtype\": \"string\",\n        \"num_unique_values\": 2217,\n        \"samples\": [\n          \"{\\\"author\\\": \\\"Johannes G\\\\u00f6ransson\\\", \\\"title\\\": \\\"\\\\\\\"Nurse Marble\\\\\\\"\\\", \\\"tags\\\": \\\"Living,Health & Illness,The Body,The Mind\\\", \\\"task_type\\\": \\\"writing\\\"}\",\n          \"{\\\"author\\\": \\\"Marianne Boruch\\\", \\\"title\\\": \\\"\\\\\\\"a\\\\\\\"\\\", \\\"tags\\\": \\\"Relationships,Family & Ancestors,Arts & Sciences,Language & Linguistics,Social Commentaries,History & Politics\\\", \\\"task_type\\\": \\\"writing\\\"}\",\n          \"{\\\"author\\\": \\\"Gertrude Stein\\\", \\\"title\\\": \\\"\\\\\\\"A Substance in a Cushion\\\\\\\"\\\", \\\"tags\\\": \\\"Arts & Sciences,Language & Linguistics\\\", \\\"task_type\\\": \\\"writing\\\"}\"\n        ],\n        \"semantic_type\": \"\",\n        \"description\": \"\"\n      }\n    }\n  ]\n}"
            }
          },
          "metadata": {},
          "execution_count": 19
        }
      ]
    },
    {
      "cell_type": "code",
      "source": [
        "test_df.head()"
      ],
      "metadata": {
        "colab": {
          "base_uri": "https://localhost:8080/",
          "height": 553
        },
        "id": "KojEJ0fdvMss",
        "outputId": "54987eca-5224-4e93-807f-d8a0c4a00bb8"
      },
      "execution_count": 20,
      "outputs": [
        {
          "output_type": "execute_result",
          "data": {
            "text/plain": [
              "                                             INSTRUCTION  \\\n",
              "12086  I want a poem about Activities,Travels & Journ...   \n",
              "13246  Title this poem: \\nI\\r\\n\\r\\nThe spider expects...   \n",
              "5901   Make a poem with themes of Living,Love,Relatio...   \n",
              "5420   Compose a poem, about Living,Death,Marriage & ...   \n",
              "3493   Compose a poem, about Love,Break-ups & Vexed L...   \n",
              "\n",
              "                                                RESPONSE  \\\n",
              "12086  I've written a poem for you about Activities,T...   \n",
              "13246                 How about calling it \"The Spider\"?   \n",
              "5901   Of course! It's called \"The Window\": \\nyou are...   \n",
              "5420   I've written a poem for you about Living,Death...   \n",
              "3493   I've written a poem for you about Love,Break-u...   \n",
              "\n",
              "                                        SOURCE  \\\n",
              "12086   PoetryFoundation.org - Douglas Kearney   \n",
              "13246  PoetryFoundation.org - Richard Eberhart   \n",
              "5901     PoetryFoundation.org - Diane di Prima   \n",
              "5420       PoetryFoundation.org - Donald Davie   \n",
              "3493     PoetryFoundation.org - Edmund Spenser   \n",
              "\n",
              "                                                METADATA  \n",
              "12086  {\"author\": \"Douglas Kearney\", \"title\": \"\\\"Afro...  \n",
              "13246  {\"author\": \"Richard Eberhart\", \"title\": \"\\\"The...  \n",
              "5901   {\"author\": \"Diane di Prima\", \"title\": \"\\\"The W...  \n",
              "5420   {\"author\": \"Donald Davie\", \"title\": \"\\\"No Epit...  \n",
              "3493   {\"author\": \"Edmund Spenser\", \"title\": \"\\\"Amore...  "
            ],
            "text/html": [
              "\n",
              "  <div id=\"df-f989101d-7a7c-40d2-a137-97787ffa3743\" class=\"colab-df-container\">\n",
              "    <div>\n",
              "<style scoped>\n",
              "    .dataframe tbody tr th:only-of-type {\n",
              "        vertical-align: middle;\n",
              "    }\n",
              "\n",
              "    .dataframe tbody tr th {\n",
              "        vertical-align: top;\n",
              "    }\n",
              "\n",
              "    .dataframe thead th {\n",
              "        text-align: right;\n",
              "    }\n",
              "</style>\n",
              "<table border=\"1\" class=\"dataframe\">\n",
              "  <thead>\n",
              "    <tr style=\"text-align: right;\">\n",
              "      <th></th>\n",
              "      <th>INSTRUCTION</th>\n",
              "      <th>RESPONSE</th>\n",
              "      <th>SOURCE</th>\n",
              "      <th>METADATA</th>\n",
              "    </tr>\n",
              "  </thead>\n",
              "  <tbody>\n",
              "    <tr>\n",
              "      <th>12086</th>\n",
              "      <td>I want a poem about Activities,Travels &amp; Journ...</td>\n",
              "      <td>I've written a poem for you about Activities,T...</td>\n",
              "      <td>PoetryFoundation.org - Douglas Kearney</td>\n",
              "      <td>{\"author\": \"Douglas Kearney\", \"title\": \"\\\"Afro...</td>\n",
              "    </tr>\n",
              "    <tr>\n",
              "      <th>13246</th>\n",
              "      <td>Title this poem: \\nI\\r\\n\\r\\nThe spider expects...</td>\n",
              "      <td>How about calling it \"The Spider\"?</td>\n",
              "      <td>PoetryFoundation.org - Richard Eberhart</td>\n",
              "      <td>{\"author\": \"Richard Eberhart\", \"title\": \"\\\"The...</td>\n",
              "    </tr>\n",
              "    <tr>\n",
              "      <th>5901</th>\n",
              "      <td>Make a poem with themes of Living,Love,Relatio...</td>\n",
              "      <td>Of course! It's called \"The Window\": \\nyou are...</td>\n",
              "      <td>PoetryFoundation.org - Diane di Prima</td>\n",
              "      <td>{\"author\": \"Diane di Prima\", \"title\": \"\\\"The W...</td>\n",
              "    </tr>\n",
              "    <tr>\n",
              "      <th>5420</th>\n",
              "      <td>Compose a poem, about Living,Death,Marriage &amp; ...</td>\n",
              "      <td>I've written a poem for you about Living,Death...</td>\n",
              "      <td>PoetryFoundation.org - Donald Davie</td>\n",
              "      <td>{\"author\": \"Donald Davie\", \"title\": \"\\\"No Epit...</td>\n",
              "    </tr>\n",
              "    <tr>\n",
              "      <th>3493</th>\n",
              "      <td>Compose a poem, about Love,Break-ups &amp; Vexed L...</td>\n",
              "      <td>I've written a poem for you about Love,Break-u...</td>\n",
              "      <td>PoetryFoundation.org - Edmund Spenser</td>\n",
              "      <td>{\"author\": \"Edmund Spenser\", \"title\": \"\\\"Amore...</td>\n",
              "    </tr>\n",
              "  </tbody>\n",
              "</table>\n",
              "</div>\n",
              "    <div class=\"colab-df-buttons\">\n",
              "\n",
              "  <div class=\"colab-df-container\">\n",
              "    <button class=\"colab-df-convert\" onclick=\"convertToInteractive('df-f989101d-7a7c-40d2-a137-97787ffa3743')\"\n",
              "            title=\"Convert this dataframe to an interactive table.\"\n",
              "            style=\"display:none;\">\n",
              "\n",
              "  <svg xmlns=\"http://www.w3.org/2000/svg\" height=\"24px\" viewBox=\"0 -960 960 960\">\n",
              "    <path d=\"M120-120v-720h720v720H120Zm60-500h600v-160H180v160Zm220 220h160v-160H400v160Zm0 220h160v-160H400v160ZM180-400h160v-160H180v160Zm440 0h160v-160H620v160ZM180-180h160v-160H180v160Zm440 0h160v-160H620v160Z\"/>\n",
              "  </svg>\n",
              "    </button>\n",
              "\n",
              "  <style>\n",
              "    .colab-df-container {\n",
              "      display:flex;\n",
              "      gap: 12px;\n",
              "    }\n",
              "\n",
              "    .colab-df-convert {\n",
              "      background-color: #E8F0FE;\n",
              "      border: none;\n",
              "      border-radius: 50%;\n",
              "      cursor: pointer;\n",
              "      display: none;\n",
              "      fill: #1967D2;\n",
              "      height: 32px;\n",
              "      padding: 0 0 0 0;\n",
              "      width: 32px;\n",
              "    }\n",
              "\n",
              "    .colab-df-convert:hover {\n",
              "      background-color: #E2EBFA;\n",
              "      box-shadow: 0px 1px 2px rgba(60, 64, 67, 0.3), 0px 1px 3px 1px rgba(60, 64, 67, 0.15);\n",
              "      fill: #174EA6;\n",
              "    }\n",
              "\n",
              "    .colab-df-buttons div {\n",
              "      margin-bottom: 4px;\n",
              "    }\n",
              "\n",
              "    [theme=dark] .colab-df-convert {\n",
              "      background-color: #3B4455;\n",
              "      fill: #D2E3FC;\n",
              "    }\n",
              "\n",
              "    [theme=dark] .colab-df-convert:hover {\n",
              "      background-color: #434B5C;\n",
              "      box-shadow: 0px 1px 3px 1px rgba(0, 0, 0, 0.15);\n",
              "      filter: drop-shadow(0px 1px 2px rgba(0, 0, 0, 0.3));\n",
              "      fill: #FFFFFF;\n",
              "    }\n",
              "  </style>\n",
              "\n",
              "    <script>\n",
              "      const buttonEl =\n",
              "        document.querySelector('#df-f989101d-7a7c-40d2-a137-97787ffa3743 button.colab-df-convert');\n",
              "      buttonEl.style.display =\n",
              "        google.colab.kernel.accessAllowed ? 'block' : 'none';\n",
              "\n",
              "      async function convertToInteractive(key) {\n",
              "        const element = document.querySelector('#df-f989101d-7a7c-40d2-a137-97787ffa3743');\n",
              "        const dataTable =\n",
              "          await google.colab.kernel.invokeFunction('convertToInteractive',\n",
              "                                                    [key], {});\n",
              "        if (!dataTable) return;\n",
              "\n",
              "        const docLinkHtml = 'Like what you see? Visit the ' +\n",
              "          '<a target=\"_blank\" href=https://colab.research.google.com/notebooks/data_table.ipynb>data table notebook</a>'\n",
              "          + ' to learn more about interactive tables.';\n",
              "        element.innerHTML = '';\n",
              "        dataTable['output_type'] = 'display_data';\n",
              "        await google.colab.output.renderOutput(dataTable, element);\n",
              "        const docLink = document.createElement('div');\n",
              "        docLink.innerHTML = docLinkHtml;\n",
              "        element.appendChild(docLink);\n",
              "      }\n",
              "    </script>\n",
              "  </div>\n",
              "\n",
              "\n",
              "<div id=\"df-a9382fcf-af98-47a5-b3d6-8563aa59f6f9\">\n",
              "  <button class=\"colab-df-quickchart\" onclick=\"quickchart('df-a9382fcf-af98-47a5-b3d6-8563aa59f6f9')\"\n",
              "            title=\"Suggest charts\"\n",
              "            style=\"display:none;\">\n",
              "\n",
              "<svg xmlns=\"http://www.w3.org/2000/svg\" height=\"24px\"viewBox=\"0 0 24 24\"\n",
              "     width=\"24px\">\n",
              "    <g>\n",
              "        <path d=\"M19 3H5c-1.1 0-2 .9-2 2v14c0 1.1.9 2 2 2h14c1.1 0 2-.9 2-2V5c0-1.1-.9-2-2-2zM9 17H7v-7h2v7zm4 0h-2V7h2v10zm4 0h-2v-4h2v4z\"/>\n",
              "    </g>\n",
              "</svg>\n",
              "  </button>\n",
              "\n",
              "<style>\n",
              "  .colab-df-quickchart {\n",
              "      --bg-color: #E8F0FE;\n",
              "      --fill-color: #1967D2;\n",
              "      --hover-bg-color: #E2EBFA;\n",
              "      --hover-fill-color: #174EA6;\n",
              "      --disabled-fill-color: #AAA;\n",
              "      --disabled-bg-color: #DDD;\n",
              "  }\n",
              "\n",
              "  [theme=dark] .colab-df-quickchart {\n",
              "      --bg-color: #3B4455;\n",
              "      --fill-color: #D2E3FC;\n",
              "      --hover-bg-color: #434B5C;\n",
              "      --hover-fill-color: #FFFFFF;\n",
              "      --disabled-bg-color: #3B4455;\n",
              "      --disabled-fill-color: #666;\n",
              "  }\n",
              "\n",
              "  .colab-df-quickchart {\n",
              "    background-color: var(--bg-color);\n",
              "    border: none;\n",
              "    border-radius: 50%;\n",
              "    cursor: pointer;\n",
              "    display: none;\n",
              "    fill: var(--fill-color);\n",
              "    height: 32px;\n",
              "    padding: 0;\n",
              "    width: 32px;\n",
              "  }\n",
              "\n",
              "  .colab-df-quickchart:hover {\n",
              "    background-color: var(--hover-bg-color);\n",
              "    box-shadow: 0 1px 2px rgba(60, 64, 67, 0.3), 0 1px 3px 1px rgba(60, 64, 67, 0.15);\n",
              "    fill: var(--button-hover-fill-color);\n",
              "  }\n",
              "\n",
              "  .colab-df-quickchart-complete:disabled,\n",
              "  .colab-df-quickchart-complete:disabled:hover {\n",
              "    background-color: var(--disabled-bg-color);\n",
              "    fill: var(--disabled-fill-color);\n",
              "    box-shadow: none;\n",
              "  }\n",
              "\n",
              "  .colab-df-spinner {\n",
              "    border: 2px solid var(--fill-color);\n",
              "    border-color: transparent;\n",
              "    border-bottom-color: var(--fill-color);\n",
              "    animation:\n",
              "      spin 1s steps(1) infinite;\n",
              "  }\n",
              "\n",
              "  @keyframes spin {\n",
              "    0% {\n",
              "      border-color: transparent;\n",
              "      border-bottom-color: var(--fill-color);\n",
              "      border-left-color: var(--fill-color);\n",
              "    }\n",
              "    20% {\n",
              "      border-color: transparent;\n",
              "      border-left-color: var(--fill-color);\n",
              "      border-top-color: var(--fill-color);\n",
              "    }\n",
              "    30% {\n",
              "      border-color: transparent;\n",
              "      border-left-color: var(--fill-color);\n",
              "      border-top-color: var(--fill-color);\n",
              "      border-right-color: var(--fill-color);\n",
              "    }\n",
              "    40% {\n",
              "      border-color: transparent;\n",
              "      border-right-color: var(--fill-color);\n",
              "      border-top-color: var(--fill-color);\n",
              "    }\n",
              "    60% {\n",
              "      border-color: transparent;\n",
              "      border-right-color: var(--fill-color);\n",
              "    }\n",
              "    80% {\n",
              "      border-color: transparent;\n",
              "      border-right-color: var(--fill-color);\n",
              "      border-bottom-color: var(--fill-color);\n",
              "    }\n",
              "    90% {\n",
              "      border-color: transparent;\n",
              "      border-bottom-color: var(--fill-color);\n",
              "    }\n",
              "  }\n",
              "</style>\n",
              "\n",
              "  <script>\n",
              "    async function quickchart(key) {\n",
              "      const quickchartButtonEl =\n",
              "        document.querySelector('#' + key + ' button');\n",
              "      quickchartButtonEl.disabled = true;  // To prevent multiple clicks.\n",
              "      quickchartButtonEl.classList.add('colab-df-spinner');\n",
              "      try {\n",
              "        const charts = await google.colab.kernel.invokeFunction(\n",
              "            'suggestCharts', [key], {});\n",
              "      } catch (error) {\n",
              "        console.error('Error during call to suggestCharts:', error);\n",
              "      }\n",
              "      quickchartButtonEl.classList.remove('colab-df-spinner');\n",
              "      quickchartButtonEl.classList.add('colab-df-quickchart-complete');\n",
              "    }\n",
              "    (() => {\n",
              "      let quickchartButtonEl =\n",
              "        document.querySelector('#df-a9382fcf-af98-47a5-b3d6-8563aa59f6f9 button');\n",
              "      quickchartButtonEl.style.display =\n",
              "        google.colab.kernel.accessAllowed ? 'block' : 'none';\n",
              "    })();\n",
              "  </script>\n",
              "</div>\n",
              "\n",
              "    </div>\n",
              "  </div>\n"
            ],
            "application/vnd.google.colaboratory.intrinsic+json": {
              "type": "dataframe",
              "variable_name": "test_df",
              "summary": "{\n  \"name\": \"test_df\",\n  \"rows\": 277,\n  \"fields\": [\n    {\n      \"column\": \"INSTRUCTION\",\n      \"properties\": {\n        \"dtype\": \"string\",\n        \"num_unique_values\": 261,\n        \"samples\": [\n          \"Make a poem with themes of Religion,The Spiritual,Mythology & Folklore,Ghosts & the Supernatural.Generate a poem with the following themes: Religion,The Spiritual,Mythology & Folklore,Ghosts & the Supernatural.\",\n          \"Compose a poem, about Living,Parenthood,The Body,The Mind,Relationships,Family & Ancestors.\",\n          \"Make a poem with themes of Activities,Sports & Outdoor Activities,Relationships,Home Life.Generate a poem with the following themes: Activities,Sports & Outdoor Activities,Relationships,Home Life.\"\n        ],\n        \"semantic_type\": \"\",\n        \"description\": \"\"\n      }\n    },\n    {\n      \"column\": \"RESPONSE\",\n      \"properties\": {\n        \"dtype\": \"string\",\n        \"num_unique_values\": 277,\n        \"samples\": [\n          \"How about calling it \\\"Sky Ladder\\\"?\",\n          \"Sure, I can do that. Here's a poem about Living,Life Choices,Social Commentaries,Gender & Sexuality. I call it \\\"Bound for Hell\\\": \\nHell, my ardent sisters, be assured,\\r\\n\\r\\nIs where we\\u2019re bound; we\\u2019ll drink the pitch of hell\\u2014\\r\\n\\r\\nWe, who have sung the praises of the lord\\r\\n\\r\\nWith every fiber in us, every cell.\\r\\n\\r\\nWe, who did not manage to devote\\r\\n\\r\\nOur nights to spinning, did not bend and sway\\r\\n\\r\\nAbove a cradle\\u2014in a flimsy boat,\\r\\n\\r\\nWrapped in a mantle, we\\u2019re now borne away.\\r\\n\\r\\nEvery morning, every day, we\\u2019d rise\\r\\n\\r\\nAnd have the finest Chinese silks to wear;\\r\\n\\r\\nAnd we\\u2019d strike up the songs of paradise\\r\\n\\r\\nAround the campfire of a robbers\\u2019 lair,\\r\\n\\r\\nWe, careless seamstresses (our seams all ran,\\r\\n\\r\\nWhether we sewed or not)\\u2014yet we have been\\r\\n\\r\\nSuch dancers, we have played the pipes of Pan:\\r\\n\\r\\nThe world was ours, each one of us a queen.\\r\\n\\r\\nFirst, scarcely draped in tatters, and disheveled,\\r\\n\\r\\nThen plaited with a starry diadem;\\r\\n\\r\\nWe\\u2019ve been in jails, at banquets we have reveled:\\r\\n\\r\\nBut the rewards of heaven, we\\u2019re lost to them,\\r\\n\\r\\nLost in nights of starlight, in the garden\\r\\n\\r\\nWhere apple trees from paradise are found.\\r\\n\\r\\nNo, be assured, my gentle girls, my ardent\\r\\n\\r\\nAnd lovely sisters, hell is where we\\u2019re bound.\",\n          \"Here's a beautiful poem about Arts & Sciences,Language & Linguistics,Poetry & Poets for you. It's called \\\"Eighth Sky\\\": \\nIt is scribbled along the body\\r\\n\\r\\n Impossible even to say a word   An alphabet has been stored beneath the ground It is a practice alphabet, work of the hand   Yet not, not marks inside a box For example, this is a mirror box   Spinoza designed such a box and called it the Eighth Sky   called it the Nevercadabra House as a joke   Yet not, not so much a joke not Notes for Electronic Harp   on a day free of sounds (but I meant to write \\u201cclouds\\u201d)   At night these same boulevards fill with snow Lancers and dancers pass a poisoned syringe,   as you wrote, writing of death in the snow, Patroclus and a Pharoah on Rue Ravignan   It is scribbled across each body Impossible even to name a word   Look, you would say, how the sky falls at first gently, then not at all   Two chemicals within the firefly are the cause, twin ships, twin nemeses   preparing to metamorphose into an alphabet in stone                                                              St.-Benoit-sur-Loire                                                          to Max Jacob\"\n        ],\n        \"semantic_type\": \"\",\n        \"description\": \"\"\n      }\n    },\n    {\n      \"column\": \"SOURCE\",\n      \"properties\": {\n        \"dtype\": \"string\",\n        \"num_unique_values\": 251,\n        \"samples\": [\n          \"PoetryFoundation.org - Peter Gizzi\",\n          \"PoetryFoundation.org - Stephen Dobyns\",\n          \"PoetryFoundation.org - Bryan D. Dietrich\"\n        ],\n        \"semantic_type\": \"\",\n        \"description\": \"\"\n      }\n    },\n    {\n      \"column\": \"METADATA\",\n      \"properties\": {\n        \"dtype\": \"string\",\n        \"num_unique_values\": 277,\n        \"samples\": [\n          \"{\\\"author\\\": \\\"Pascale Petit\\\", \\\"title\\\": \\\"\\\\\\\"Sky Ladder\\\\\\\"\\\", \\\"tags\\\": \\\"Relationships,Family & Ancestors,Nature,Stars, Planets, Heavens,Arts & Sciences\\\", \\\"task_type\\\": \\\"titling\\\"}\",\n          \"{\\\"author\\\": \\\"Marina Tsvetaeva\\\", \\\"title\\\": \\\"\\\\\\\"Bound for Hell\\\\\\\"\\\", \\\"tags\\\": \\\"Living,Life Choices,Social Commentaries,Gender & Sexuality\\\", \\\"task_type\\\": \\\"writing\\\"}\",\n          \"{\\\"author\\\": \\\"Michael Palmer\\\", \\\"title\\\": \\\"\\\\\\\"Eighth Sky\\\\\\\"\\\", \\\"tags\\\": \\\"Arts & Sciences,Language & Linguistics,Poetry & Poets\\\", \\\"task_type\\\": \\\"writing\\\"}\"\n        ],\n        \"semantic_type\": \"\",\n        \"description\": \"\"\n      }\n    }\n  ]\n}"
            }
          },
          "metadata": {},
          "execution_count": 20
        }
      ]
    },
    {
      "cell_type": "code",
      "source": [
        "validation_df.head()"
      ],
      "metadata": {
        "colab": {
          "base_uri": "https://localhost:8080/",
          "height": 573
        },
        "id": "OzKYXBBivPvs",
        "outputId": "bd8123d8-fd43-42d3-b299-299490cdffad"
      },
      "execution_count": 21,
      "outputs": [
        {
          "output_type": "execute_result",
          "data": {
            "text/plain": [
              "                                             INSTRUCTION  \\\n",
              "1542   Compose a poem, about Life Choices,Arts & Scie...   \n",
              "260    Can you write a poem? Make it about Living,Dea...   \n",
              "7455   Compose a poem, about Religion,God & the Divin...   \n",
              "7651   I want a poem about Activities,Travels & Journ...   \n",
              "10262  Write me a poem about Living,Death,Parenthood,...   \n",
              "\n",
              "                                                RESPONSE  \\\n",
              "1542   Of course! It's called \"The God Called Poetry\"...   \n",
              "260    Of course! It's called \"Immortality Ode\": \\nMi...   \n",
              "7455   It's called \"Reemergence of the Noose\": \\nSome...   \n",
              "7651   Here's your poem about Activities,Travels & Jo...   \n",
              "10262  I've written a poem for you about Living,Death...   \n",
              "\n",
              "                                      SOURCE  \\\n",
              "1542    PoetryFoundation.org - Robert Graves   \n",
              "260       PoetryFoundation.org - Bruce Smith   \n",
              "7455   PoetryFoundation.org - Patricia Smith   \n",
              "7651      PoetryFoundation.org - Mark Rudman   \n",
              "10262       PoetryFoundation.org - Mary Karr   \n",
              "\n",
              "                                                METADATA  \n",
              "1542   {\"author\": \"Robert Graves\", \"title\": \"\\\"The Go...  \n",
              "260    {\"author\": \"Bruce Smith\", \"title\": \"\\\"Immortal...  \n",
              "7455   {\"author\": \"Patricia Smith\", \"title\": \"\\\"Reeme...  \n",
              "7651   {\"author\": \"Mark Rudman\", \"title\": \"\\\"Provo\\\"\"...  \n",
              "10262  {\"author\": \"Mary Karr\", \"title\": \"\\\"Requiem fo...  "
            ],
            "text/html": [
              "\n",
              "  <div id=\"df-d1e51b33-cc0d-47ec-99fd-fcd110bb103b\" class=\"colab-df-container\">\n",
              "    <div>\n",
              "<style scoped>\n",
              "    .dataframe tbody tr th:only-of-type {\n",
              "        vertical-align: middle;\n",
              "    }\n",
              "\n",
              "    .dataframe tbody tr th {\n",
              "        vertical-align: top;\n",
              "    }\n",
              "\n",
              "    .dataframe thead th {\n",
              "        text-align: right;\n",
              "    }\n",
              "</style>\n",
              "<table border=\"1\" class=\"dataframe\">\n",
              "  <thead>\n",
              "    <tr style=\"text-align: right;\">\n",
              "      <th></th>\n",
              "      <th>INSTRUCTION</th>\n",
              "      <th>RESPONSE</th>\n",
              "      <th>SOURCE</th>\n",
              "      <th>METADATA</th>\n",
              "    </tr>\n",
              "  </thead>\n",
              "  <tbody>\n",
              "    <tr>\n",
              "      <th>1542</th>\n",
              "      <td>Compose a poem, about Life Choices,Arts &amp; Scie...</td>\n",
              "      <td>Of course! It's called \"The God Called Poetry\"...</td>\n",
              "      <td>PoetryFoundation.org - Robert Graves</td>\n",
              "      <td>{\"author\": \"Robert Graves\", \"title\": \"\\\"The Go...</td>\n",
              "    </tr>\n",
              "    <tr>\n",
              "      <th>260</th>\n",
              "      <td>Can you write a poem? Make it about Living,Dea...</td>\n",
              "      <td>Of course! It's called \"Immortality Ode\": \\nMi...</td>\n",
              "      <td>PoetryFoundation.org - Bruce Smith</td>\n",
              "      <td>{\"author\": \"Bruce Smith\", \"title\": \"\\\"Immortal...</td>\n",
              "    </tr>\n",
              "    <tr>\n",
              "      <th>7455</th>\n",
              "      <td>Compose a poem, about Religion,God &amp; the Divin...</td>\n",
              "      <td>It's called \"Reemergence of the Noose\": \\nSome...</td>\n",
              "      <td>PoetryFoundation.org - Patricia Smith</td>\n",
              "      <td>{\"author\": \"Patricia Smith\", \"title\": \"\\\"Reeme...</td>\n",
              "    </tr>\n",
              "    <tr>\n",
              "      <th>7651</th>\n",
              "      <td>I want a poem about Activities,Travels &amp; Journ...</td>\n",
              "      <td>Here's your poem about Activities,Travels &amp; Jo...</td>\n",
              "      <td>PoetryFoundation.org - Mark Rudman</td>\n",
              "      <td>{\"author\": \"Mark Rudman\", \"title\": \"\\\"Provo\\\"\"...</td>\n",
              "    </tr>\n",
              "    <tr>\n",
              "      <th>10262</th>\n",
              "      <td>Write me a poem about Living,Death,Parenthood,...</td>\n",
              "      <td>I've written a poem for you about Living,Death...</td>\n",
              "      <td>PoetryFoundation.org - Mary Karr</td>\n",
              "      <td>{\"author\": \"Mary Karr\", \"title\": \"\\\"Requiem fo...</td>\n",
              "    </tr>\n",
              "  </tbody>\n",
              "</table>\n",
              "</div>\n",
              "    <div class=\"colab-df-buttons\">\n",
              "\n",
              "  <div class=\"colab-df-container\">\n",
              "    <button class=\"colab-df-convert\" onclick=\"convertToInteractive('df-d1e51b33-cc0d-47ec-99fd-fcd110bb103b')\"\n",
              "            title=\"Convert this dataframe to an interactive table.\"\n",
              "            style=\"display:none;\">\n",
              "\n",
              "  <svg xmlns=\"http://www.w3.org/2000/svg\" height=\"24px\" viewBox=\"0 -960 960 960\">\n",
              "    <path d=\"M120-120v-720h720v720H120Zm60-500h600v-160H180v160Zm220 220h160v-160H400v160Zm0 220h160v-160H400v160ZM180-400h160v-160H180v160Zm440 0h160v-160H620v160ZM180-180h160v-160H180v160Zm440 0h160v-160H620v160Z\"/>\n",
              "  </svg>\n",
              "    </button>\n",
              "\n",
              "  <style>\n",
              "    .colab-df-container {\n",
              "      display:flex;\n",
              "      gap: 12px;\n",
              "    }\n",
              "\n",
              "    .colab-df-convert {\n",
              "      background-color: #E8F0FE;\n",
              "      border: none;\n",
              "      border-radius: 50%;\n",
              "      cursor: pointer;\n",
              "      display: none;\n",
              "      fill: #1967D2;\n",
              "      height: 32px;\n",
              "      padding: 0 0 0 0;\n",
              "      width: 32px;\n",
              "    }\n",
              "\n",
              "    .colab-df-convert:hover {\n",
              "      background-color: #E2EBFA;\n",
              "      box-shadow: 0px 1px 2px rgba(60, 64, 67, 0.3), 0px 1px 3px 1px rgba(60, 64, 67, 0.15);\n",
              "      fill: #174EA6;\n",
              "    }\n",
              "\n",
              "    .colab-df-buttons div {\n",
              "      margin-bottom: 4px;\n",
              "    }\n",
              "\n",
              "    [theme=dark] .colab-df-convert {\n",
              "      background-color: #3B4455;\n",
              "      fill: #D2E3FC;\n",
              "    }\n",
              "\n",
              "    [theme=dark] .colab-df-convert:hover {\n",
              "      background-color: #434B5C;\n",
              "      box-shadow: 0px 1px 3px 1px rgba(0, 0, 0, 0.15);\n",
              "      filter: drop-shadow(0px 1px 2px rgba(0, 0, 0, 0.3));\n",
              "      fill: #FFFFFF;\n",
              "    }\n",
              "  </style>\n",
              "\n",
              "    <script>\n",
              "      const buttonEl =\n",
              "        document.querySelector('#df-d1e51b33-cc0d-47ec-99fd-fcd110bb103b button.colab-df-convert');\n",
              "      buttonEl.style.display =\n",
              "        google.colab.kernel.accessAllowed ? 'block' : 'none';\n",
              "\n",
              "      async function convertToInteractive(key) {\n",
              "        const element = document.querySelector('#df-d1e51b33-cc0d-47ec-99fd-fcd110bb103b');\n",
              "        const dataTable =\n",
              "          await google.colab.kernel.invokeFunction('convertToInteractive',\n",
              "                                                    [key], {});\n",
              "        if (!dataTable) return;\n",
              "\n",
              "        const docLinkHtml = 'Like what you see? Visit the ' +\n",
              "          '<a target=\"_blank\" href=https://colab.research.google.com/notebooks/data_table.ipynb>data table notebook</a>'\n",
              "          + ' to learn more about interactive tables.';\n",
              "        element.innerHTML = '';\n",
              "        dataTable['output_type'] = 'display_data';\n",
              "        await google.colab.output.renderOutput(dataTable, element);\n",
              "        const docLink = document.createElement('div');\n",
              "        docLink.innerHTML = docLinkHtml;\n",
              "        element.appendChild(docLink);\n",
              "      }\n",
              "    </script>\n",
              "  </div>\n",
              "\n",
              "\n",
              "<div id=\"df-46c5252d-42ba-4a7f-8130-86f22b726657\">\n",
              "  <button class=\"colab-df-quickchart\" onclick=\"quickchart('df-46c5252d-42ba-4a7f-8130-86f22b726657')\"\n",
              "            title=\"Suggest charts\"\n",
              "            style=\"display:none;\">\n",
              "\n",
              "<svg xmlns=\"http://www.w3.org/2000/svg\" height=\"24px\"viewBox=\"0 0 24 24\"\n",
              "     width=\"24px\">\n",
              "    <g>\n",
              "        <path d=\"M19 3H5c-1.1 0-2 .9-2 2v14c0 1.1.9 2 2 2h14c1.1 0 2-.9 2-2V5c0-1.1-.9-2-2-2zM9 17H7v-7h2v7zm4 0h-2V7h2v10zm4 0h-2v-4h2v4z\"/>\n",
              "    </g>\n",
              "</svg>\n",
              "  </button>\n",
              "\n",
              "<style>\n",
              "  .colab-df-quickchart {\n",
              "      --bg-color: #E8F0FE;\n",
              "      --fill-color: #1967D2;\n",
              "      --hover-bg-color: #E2EBFA;\n",
              "      --hover-fill-color: #174EA6;\n",
              "      --disabled-fill-color: #AAA;\n",
              "      --disabled-bg-color: #DDD;\n",
              "  }\n",
              "\n",
              "  [theme=dark] .colab-df-quickchart {\n",
              "      --bg-color: #3B4455;\n",
              "      --fill-color: #D2E3FC;\n",
              "      --hover-bg-color: #434B5C;\n",
              "      --hover-fill-color: #FFFFFF;\n",
              "      --disabled-bg-color: #3B4455;\n",
              "      --disabled-fill-color: #666;\n",
              "  }\n",
              "\n",
              "  .colab-df-quickchart {\n",
              "    background-color: var(--bg-color);\n",
              "    border: none;\n",
              "    border-radius: 50%;\n",
              "    cursor: pointer;\n",
              "    display: none;\n",
              "    fill: var(--fill-color);\n",
              "    height: 32px;\n",
              "    padding: 0;\n",
              "    width: 32px;\n",
              "  }\n",
              "\n",
              "  .colab-df-quickchart:hover {\n",
              "    background-color: var(--hover-bg-color);\n",
              "    box-shadow: 0 1px 2px rgba(60, 64, 67, 0.3), 0 1px 3px 1px rgba(60, 64, 67, 0.15);\n",
              "    fill: var(--button-hover-fill-color);\n",
              "  }\n",
              "\n",
              "  .colab-df-quickchart-complete:disabled,\n",
              "  .colab-df-quickchart-complete:disabled:hover {\n",
              "    background-color: var(--disabled-bg-color);\n",
              "    fill: var(--disabled-fill-color);\n",
              "    box-shadow: none;\n",
              "  }\n",
              "\n",
              "  .colab-df-spinner {\n",
              "    border: 2px solid var(--fill-color);\n",
              "    border-color: transparent;\n",
              "    border-bottom-color: var(--fill-color);\n",
              "    animation:\n",
              "      spin 1s steps(1) infinite;\n",
              "  }\n",
              "\n",
              "  @keyframes spin {\n",
              "    0% {\n",
              "      border-color: transparent;\n",
              "      border-bottom-color: var(--fill-color);\n",
              "      border-left-color: var(--fill-color);\n",
              "    }\n",
              "    20% {\n",
              "      border-color: transparent;\n",
              "      border-left-color: var(--fill-color);\n",
              "      border-top-color: var(--fill-color);\n",
              "    }\n",
              "    30% {\n",
              "      border-color: transparent;\n",
              "      border-left-color: var(--fill-color);\n",
              "      border-top-color: var(--fill-color);\n",
              "      border-right-color: var(--fill-color);\n",
              "    }\n",
              "    40% {\n",
              "      border-color: transparent;\n",
              "      border-right-color: var(--fill-color);\n",
              "      border-top-color: var(--fill-color);\n",
              "    }\n",
              "    60% {\n",
              "      border-color: transparent;\n",
              "      border-right-color: var(--fill-color);\n",
              "    }\n",
              "    80% {\n",
              "      border-color: transparent;\n",
              "      border-right-color: var(--fill-color);\n",
              "      border-bottom-color: var(--fill-color);\n",
              "    }\n",
              "    90% {\n",
              "      border-color: transparent;\n",
              "      border-bottom-color: var(--fill-color);\n",
              "    }\n",
              "  }\n",
              "</style>\n",
              "\n",
              "  <script>\n",
              "    async function quickchart(key) {\n",
              "      const quickchartButtonEl =\n",
              "        document.querySelector('#' + key + ' button');\n",
              "      quickchartButtonEl.disabled = true;  // To prevent multiple clicks.\n",
              "      quickchartButtonEl.classList.add('colab-df-spinner');\n",
              "      try {\n",
              "        const charts = await google.colab.kernel.invokeFunction(\n",
              "            'suggestCharts', [key], {});\n",
              "      } catch (error) {\n",
              "        console.error('Error during call to suggestCharts:', error);\n",
              "      }\n",
              "      quickchartButtonEl.classList.remove('colab-df-spinner');\n",
              "      quickchartButtonEl.classList.add('colab-df-quickchart-complete');\n",
              "    }\n",
              "    (() => {\n",
              "      let quickchartButtonEl =\n",
              "        document.querySelector('#df-46c5252d-42ba-4a7f-8130-86f22b726657 button');\n",
              "      quickchartButtonEl.style.display =\n",
              "        google.colab.kernel.accessAllowed ? 'block' : 'none';\n",
              "    })();\n",
              "  </script>\n",
              "</div>\n",
              "\n",
              "    </div>\n",
              "  </div>\n"
            ],
            "application/vnd.google.colaboratory.intrinsic+json": {
              "type": "dataframe",
              "variable_name": "validation_df",
              "summary": "{\n  \"name\": \"validation_df\",\n  \"rows\": 277,\n  \"fields\": [\n    {\n      \"column\": \"INSTRUCTION\",\n      \"properties\": {\n        \"dtype\": \"string\",\n        \"num_unique_values\": 260,\n        \"samples\": [\n          \"Can you write a poem? Make it about Nature,Landscapes & Pastorals,Religion,The Spiritual.\",\n          \"Can you write a poem? Make it about Living,Nature,Fall,Philosophy,Halloween.\",\n          \"Compose a poem, about Living,The Body,Time & Brevity,Nature,Landscapes & Pastorals,Social Commentaries,Cities & Urban Life,Crime & Punishment,History & Politics.\"\n        ],\n        \"semantic_type\": \"\",\n        \"description\": \"\"\n      }\n    },\n    {\n      \"column\": \"RESPONSE\",\n      \"properties\": {\n        \"dtype\": \"string\",\n        \"num_unique_values\": 277,\n        \"samples\": [\n          \"Here's a poem I composed about Religion,Faith & Doubt,The Spiritual,Social Commentaries,Race & Ethnicity. It's called \\\"Mules and Women\\\": \\nwith respect to Zora and the Ground of the African Church\\r\\n\\r\\n\\r\\n\\r\\n\\r\\n\\r\\n\\r\\n\\r\\nSorrowtalked eye-to-eye forgiven is no mere burden.\\r\\n\\r\\nThe one who sings is no mere beast.\\r\\n\\r\\nThe one who slips the harness of the horror stands alive\\r\\n\\r\\n            as earth.\\r\\n\\r\\nToday I can watch the wind and it is blue smoke.\\r\\n\\r\\nI shake myself inside my dress, consider rain and choose\\r\\n\\r\\n            Shine.\\r\\n\\r\\nI was walking down Mississippi River Street\\r\\n\\r\\n            and a ghost stopped me.\\r\\n\\r\\nNo one could see it but me,\\r\\n\\r\\nstanding in the middle of the sidewalk\\r\\n\\r\\nsmilin at a haint with his hat in his hand\\r\\n\\r\\n     instead of his head when he can tote that too.\\r\\n\\r\\n     When one mule die\\r\\n\\r\\n     the rest neigh-cry\\r\\n\\r\\n     till the wagon take the dead thing away.\\r\\n\\r\\n\\r\\n\\r\\n     Mississippi River Street rampant with noise,\\r\\n\\r\\n     radiant, won\\u2019t hold still.\\r\\n\\r\\n     But I have walked on blue black water.\\r\\n\\r\\n     Watched dead rise before the wagon came.\\r\\n\\r\\n     Everywhere I see mules,\\r\\n\\r\\n     open mouths sing blues, then be human, then\\r\\n\\r\\n     beyond.\\r\\n\\r\\nFunerals, weddings, baptisms\\r\\n\\r\\nI take off my skin, hang it up\\r\\n\\r\\nlike a soaked quilt to dry the tears\\r\\n\\r\\nand sweat from feeling. I stand naked before Church,\\r\\n\\r\\nholding Dr. Watts closer than my sagging, girlish breasts.\\r\\n\\r\\nMy soul wears no clothes when she sing.\\r\\n\\r\\nIt is all being in love with more than one\\r\\n\\r\\nman who is one whole man you can look into his eyes\\r\\n\\r\\nwithout blinking.\\r\\n\\r\\n     Where would I go to hide?\\r\\n\\r\\nDr. Watts standing with my skin hooked on his finger\\r\\n\\r\\nand I am next to him solid and living the song\\r\\n\\r\\n            with no words     .\\r\\n\\r\\nthat every born-again mule knew in death and in life\\r\\n\\r\\n            before\\r\\n\\r\\nbirth, now hums true again hot in the chest and throat\\r\\n\\r\\nbreaking natural out the mouth like breathing.\\r\\n\\r\\n     Where would I go to hide?\\r\\n\\r\\nSit down, rock my soul like my baby and Dr. Watts\\r\\n\\r\\nclimb in my lap and moan for the milk no mother can buy\\r\\n\\r\\n            or borrow\\r\\n\\r\\nonly make in hearts of her eyes, in lines of the palms\\r\\n\\r\\n            of her hands.\\r\\n\\r\\nAnd where would I find lines with no skin?\\r\\n\\r\\n     Where would I go to hide?\\r\\n\\r\\nI tell you I am living now. Like in Mississippi\\r\\n\\r\\nGrandmama\\u2019s bedroom sitting on the high bed\\r\\n\\r\\n     you could break\\r\\n\\r\\n          your neck leaving.\\r\\n\\r\\nCousin Chubby said fried fish, greens, and cornbread was\\r\\n\\r\\ngood eatin. I am good livin. Blue smoke watching,\\r\\n\\r\\nnaked, haint-smiling, entertaining Dr. Watts, dreaming\\r\\n\\r\\nof a man with a white liver who can\\u2019t kill me,\\r\\n\\r\\nwho love mulish women, hainted ones,\\r\\n\\r\\n     I am the sainted one\\r\\n\\r\\nnaked with no sense of memory but good like God rocking\\r\\n\\r\\nhums in my lap and looking for no hiding place even if\\r\\n\\r\\nwind be blue smoke hurricane and I make red milk\\r\\n\\r\\nin the hearts of my eyes and reach out my lifelines to\\r\\n\\r\\na hopeless haint I can stand myself.\\r\\n\\r\\nNaked now, where would I want to go to hide? From this\\r\\n\\r\\nfuneral wedding death and birth baptism\\r\\n\\r\\nthe sliding tears washing my soul cleaner than\\r\\n\\r\\nDr. Watts\\u2019 whistle or the look in a sweatin man\\u2019s\\r\\n\\r\\neyes when he lookin at a perfect, brutal sun\\r\\n\\r\\nkilling him with living while he lick his lips and dream\\r\\n\\r\\nof water, then put his shoulder behind a woman\\r\\n\\r\\nguiding him while he dig in and groove the earth\\r\\n\\r\\n            to the quick\\r\\n\\r\\ndeep endless quick.\\r\\n\\r\\n     Where would I go\\r\\n\\r\\n     Where would I go to hide this\\r\\n\\r\\n     yes-crying love yielding beyond flesh yet\\r\\n\\r\\n     subsumed by sweat\\r\\n\\r\\n     Where would I go naked so\\r\\n\\r\\n     following blues and Dr. Watts\\r\\n\\r\\n     like a double-seeing shadow\\r\\n\\r\\n     standing before you with only blue smoke\\r\\n\\r\\n     between us\\r\\n\\r\\n     humming yes and yes and yes\\r\\n\\r\\n     subsumed by sweat and yielding\\r\\n\\r\\n     beyond mere flesh.\",\n          \"Perhaps \\\"Decline and Fall\\\" would be a fitting title for this poem.\",\n          \"Of course! It's called \\\"Happy Ideas\\\": \\nI had the happy idea to fasten a bicycle wheel\\r\\n\\r\\n\\r\\n                                                                                                                                                                                                    to a kitchen stool and watch it turn.\\r\\n\\r\\n                                                                                                                                                                                                                                                                \\u2014DUCHAMP\\r\\n\\r\\n\\r\\n\\r\\n\\r\\n\\r\\n\\r\\n\\r\\n\\r\\n\\r\\nI had the happy idea to suspend some blue globes in the air\\r\\n\\r\\nand watch them pop.\\r\\n\\r\\nI had the happy idea to put my little copper horse on the shelf so we could stare at each other\\r\\n\\r\\nall evening.\\r\\n\\r\\nI had the happy idea to create a void in myself.\\r\\n\\r\\nThen to call it natural.\\r\\n\\r\\nThen to call it supernatural.\\r\\n\\r\\nI had the happy idea to wrap a blue scarf around my head and spin.\\r\\n\\r\\nI had the happy idea that somewhere a child was being born who was nothing like Helen or\\r\\n\\r\\nJesus except in the sense of changing everything.\\r\\n\\r\\nI had the happy idea that someday I would find both pleasure and punishment, that I would\\r\\n\\r\\nknow them and feel them,\\r\\n\\r\\nand that, until I did, it would be almost as good to pretend.\\r\\n\\r\\nI had the happy idea to call myself happy.\\r\\n\\r\\nI had the happy idea that the dog digging a hole in the yard in the twilight had his nose deep in\\r\\n\\r\\nmold-life.\\r\\n\\r\\nI had the happy idea that what I do not understand is more real than what I do,\\r\\n\\r\\nand then the happier idea to buckle myself\\r\\n\\r\\ninto two blue velvet shoes.\\r\\n\\r\\nI had the happy idea to polish the reflecting glass and say\\r\\n\\r\\nhello to my own blue soul. Hello, blue soul. Hello.\\r\\n\\r\\nIt was my happiest idea.\"\n        ],\n        \"semantic_type\": \"\",\n        \"description\": \"\"\n      }\n    },\n    {\n      \"column\": \"SOURCE\",\n      \"properties\": {\n        \"dtype\": \"string\",\n        \"num_unique_values\": 248,\n        \"samples\": [\n          \"PoetryFoundation.org - C. D. Wright\",\n          \"PoetryFoundation.org - Emily Skillings\",\n          \"PoetryFoundation.org - Lisa Jarnot\"\n        ],\n        \"semantic_type\": \"\",\n        \"description\": \"\"\n      }\n    },\n    {\n      \"column\": \"METADATA\",\n      \"properties\": {\n        \"dtype\": \"string\",\n        \"num_unique_values\": 277,\n        \"samples\": [\n          \"{\\\"author\\\": \\\"Angela Jackson\\\", \\\"title\\\": \\\"\\\\\\\"Mules and Women\\\\\\\"\\\", \\\"tags\\\": \\\"Religion,Faith & Doubt,The Spiritual,Social Commentaries,Race & Ethnicity\\\", \\\"task_type\\\": \\\"writing\\\"}\",\n          \"{\\\"author\\\": \\\"John Frederick Nims\\\", \\\"title\\\": \\\"\\\\\\\"Decline and Fall\\\\\\\"\\\", \\\"tags\\\": \\\"Living,Time & Brevity,Social Commentaries,History & Politics\\\", \\\"task_type\\\": \\\"titling\\\"}\",\n          \"{\\\"author\\\": \\\"Mary Szybist\\\", \\\"title\\\": \\\"\\\\\\\"Happy Ideas\\\\\\\"\\\", \\\"tags\\\": \\\"Living,Life Choices,Desire,Arts & Sciences,Painting & Sculpture\\\", \\\"task_type\\\": \\\"writing\\\"}\"\n        ],\n        \"semantic_type\": \"\",\n        \"description\": \"\"\n      }\n    }\n  ]\n}"
            }
          },
          "metadata": {},
          "execution_count": 21
        }
      ]
    },
    {
      "cell_type": "markdown",
      "source": [
        "Exploration de Quelques Lignes de Notre Dataset d’Entraînement"
      ],
      "metadata": {
        "id": "xfdXsjOgMGh3"
      }
    },
    {
      "cell_type": "code",
      "source": [
        "train_df['INSTRUCTION'][7187]"
      ],
      "metadata": {
        "colab": {
          "base_uri": "https://localhost:8080/",
          "height": 53
        },
        "id": "BrNV_u_Fi7E0",
        "outputId": "3388a1ef-6eb6-4f4b-e660-627694367e10"
      },
      "execution_count": 22,
      "outputs": [
        {
          "output_type": "execute_result",
          "data": {
            "text/plain": [
              "'Make a poem with themes of Social Commentaries,Cities & Urban Life.Generate a poem with the following themes: Social Commentaries,Cities & Urban Life.'"
            ],
            "application/vnd.google.colaboratory.intrinsic+json": {
              "type": "string"
            }
          },
          "metadata": {},
          "execution_count": 22
        }
      ]
    },
    {
      "cell_type": "code",
      "source": [
        "train_df['RESPONSE'][7187]"
      ],
      "metadata": {
        "colab": {
          "base_uri": "https://localhost:8080/",
          "height": 174
        },
        "id": "HWyU3BqXiwyQ",
        "outputId": "a3147736-5ae5-4530-d7af-ad68830f5e3c"
      },
      "execution_count": 23,
      "outputs": [
        {
          "output_type": "execute_result",
          "data": {
            "text/plain": [
              "'Okay, a poem about Social Commentaries,Cities & Urban Life: \\n\"The Lights of London\"\\nThe evenfall, so slow on hills, hath shot Far down into the valley’s cold extreme, Untimely midnight; spire and roof and stream Like fleeing specters, shudder and are not. The Hampstead hollies, from their sylvan plot Yet cloudless, lean to watch as in a dream, From chaos climb with many a sudden gleam, London, one moment fallen and forgot. Her booths begin to flare; and gases bright Prick door and window; all her streets obscure Sparkle and swarm with nothing true nor sure, Full as a marsh of mist and winking light; Heaven thickens over, Heaven that cannot cure Her tear by day, her fevered smile by night.'"
            ],
            "application/vnd.google.colaboratory.intrinsic+json": {
              "type": "string"
            }
          },
          "metadata": {},
          "execution_count": 23
        }
      ]
    },
    {
      "cell_type": "code",
      "source": [
        "train_df['SOURCE'][7187]"
      ],
      "metadata": {
        "colab": {
          "base_uri": "https://localhost:8080/",
          "height": 36
        },
        "id": "4LhdWxXmiv70",
        "outputId": "fbccf8a0-05d4-4ed5-cdfa-ebcee8c1f801"
      },
      "execution_count": 24,
      "outputs": [
        {
          "output_type": "execute_result",
          "data": {
            "text/plain": [
              "'PoetryFoundation.org - Louise Imogen Guiney'"
            ],
            "application/vnd.google.colaboratory.intrinsic+json": {
              "type": "string"
            }
          },
          "metadata": {},
          "execution_count": 24
        }
      ]
    },
    {
      "cell_type": "code",
      "source": [
        "train_df['METADATA'][7187]"
      ],
      "metadata": {
        "colab": {
          "base_uri": "https://localhost:8080/",
          "height": 53
        },
        "id": "hLLM6iULiwSp",
        "outputId": "d5e0518b-16a5-424b-a7fd-643230ecd1c7"
      },
      "execution_count": 25,
      "outputs": [
        {
          "output_type": "execute_result",
          "data": {
            "text/plain": [
              "'{\"author\": \"Louise Imogen Guiney\", \"title\": \"\\\\\"The Lights of London\\\\\"\", \"tags\": \"Social Commentaries,Cities & Urban Life\", \"task_type\": \"writing\"}'"
            ],
            "application/vnd.google.colaboratory.intrinsic+json": {
              "type": "string"
            }
          },
          "metadata": {},
          "execution_count": 25
        }
      ]
    },
    {
      "cell_type": "markdown",
      "source": [
        "Comme on peut le remarquer, `METADATA` ne sera pas vraiment utile pour l'entraînement de notre modèle, contrairement à `RESPONSE`, `SOURCE` et `INSTRUCTION`, que nous allons conserver pour l'entraînement."
      ],
      "metadata": {
        "id": "kQnYNjICksPj"
      }
    },
    {
      "cell_type": "markdown",
      "source": [
        "Nous allons concaténer `Response` et `Source` pour déterminer, pour chaque poème généré, sa source."
      ],
      "metadata": {
        "id": "w4IVgIZ9fq32"
      }
    },
    {
      "cell_type": "code",
      "source": [
        "response = f\"{train_df['RESPONSE'][7187]} \\nSource: {train_df['SOURCE'][7187]}\""
      ],
      "metadata": {
        "id": "6Tw8quL9SGy0"
      },
      "execution_count": 26,
      "outputs": []
    },
    {
      "cell_type": "code",
      "source": [
        "print(response)"
      ],
      "metadata": {
        "colab": {
          "base_uri": "https://localhost:8080/"
        },
        "id": "B0NzFWIuSlDm",
        "outputId": "f31b5d87-7dee-47d4-eb81-4859b0d36ba2"
      },
      "execution_count": 27,
      "outputs": [
        {
          "output_type": "stream",
          "name": "stdout",
          "text": [
            "Okay, a poem about Social Commentaries,Cities & Urban Life: \n",
            "\"The Lights of London\"\n",
            "The evenfall, so slow on hills, hath shot Far down into the valley’s cold extreme, Untimely midnight; spire and roof and stream Like fleeing specters, shudder and are not. The Hampstead hollies, from their sylvan plot Yet cloudless, lean to watch as in a dream, From chaos climb with many a sudden gleam, London, one moment fallen and forgot. Her booths begin to flare; and gases bright Prick door and window; all her streets obscure Sparkle and swarm with nothing true nor sure, Full as a marsh of mist and winking light; Heaven thickens over, Heaven that cannot cure Her tear by day, her fevered smile by night. \n",
            "Source: PoetryFoundation.org - Louise Imogen Guiney\n"
          ]
        }
      ]
    },
    {
      "cell_type": "code",
      "source": [
        "for index, row in train_df.iterrows():\n",
        "  i = index\n",
        "  train_df.loc[index, 'RESPONSE'] = f\"{row['RESPONSE']} \\nSource: {row['SOURCE']}\""
      ],
      "metadata": {
        "id": "agmKm9scS3Y7"
      },
      "execution_count": 28,
      "outputs": []
    },
    {
      "cell_type": "code",
      "source": [
        "for index, row in test_df.iterrows():\n",
        "  i = index\n",
        "  test_df.loc[index, 'RESPONSE'] = f\"{row['RESPONSE']} \\nSource: {row['SOURCE']}\""
      ],
      "metadata": {
        "id": "2gST7MxAUJL4"
      },
      "execution_count": 29,
      "outputs": []
    },
    {
      "cell_type": "code",
      "source": [
        "for index, row in validation_df.iterrows():\n",
        "  i = index\n",
        "  validation_df.loc[index, 'RESPONSE'] = f\"{row['RESPONSE']} \\nSource: {row['SOURCE']}\""
      ],
      "metadata": {
        "id": "R0TLDgKpULR2"
      },
      "execution_count": 30,
      "outputs": []
    },
    {
      "cell_type": "code",
      "source": [
        "print(train_df['RESPONSE'][7187])"
      ],
      "metadata": {
        "colab": {
          "base_uri": "https://localhost:8080/"
        },
        "id": "u9MmuOLwUi-y",
        "outputId": "2bf3231f-32d4-4bbc-dbc5-7fae878b9922"
      },
      "execution_count": 31,
      "outputs": [
        {
          "output_type": "stream",
          "name": "stdout",
          "text": [
            "Okay, a poem about Social Commentaries,Cities & Urban Life: \n",
            "\"The Lights of London\"\n",
            "The evenfall, so slow on hills, hath shot Far down into the valley’s cold extreme, Untimely midnight; spire and roof and stream Like fleeing specters, shudder and are not. The Hampstead hollies, from their sylvan plot Yet cloudless, lean to watch as in a dream, From chaos climb with many a sudden gleam, London, one moment fallen and forgot. Her booths begin to flare; and gases bright Prick door and window; all her streets obscure Sparkle and swarm with nothing true nor sure, Full as a marsh of mist and winking light; Heaven thickens over, Heaven that cannot cure Her tear by day, her fevered smile by night. \n",
            "Source: PoetryFoundation.org - Louise Imogen Guiney\n"
          ]
        }
      ]
    },
    {
      "cell_type": "code",
      "source": [
        "train_df = train_df[['INSTRUCTION',\t'RESPONSE']]\n",
        "test_df = test_df[['INSTRUCTION',\t'RESPONSE']]\n",
        "validation_df = validation_df[['INSTRUCTION',\t'RESPONSE']]"
      ],
      "metadata": {
        "id": "byrUeaTkxrXX"
      },
      "execution_count": 32,
      "outputs": []
    },
    {
      "cell_type": "markdown",
      "source": [
        "**Vérification des valeurs manquantes**"
      ],
      "metadata": {
        "id": "LYB-a77tYSpQ"
      }
    },
    {
      "cell_type": "code",
      "source": [
        "train_df.isnull().sum()"
      ],
      "metadata": {
        "colab": {
          "base_uri": "https://localhost:8080/",
          "height": 147
        },
        "id": "fBWPfk8oXzKi",
        "outputId": "94160e96-7270-40de-dd0a-f346e717ec68"
      },
      "execution_count": 33,
      "outputs": [
        {
          "output_type": "execute_result",
          "data": {
            "text/plain": [
              "INSTRUCTION    0\n",
              "RESPONSE       0\n",
              "dtype: int64"
            ],
            "text/html": [
              "<div>\n",
              "<style scoped>\n",
              "    .dataframe tbody tr th:only-of-type {\n",
              "        vertical-align: middle;\n",
              "    }\n",
              "\n",
              "    .dataframe tbody tr th {\n",
              "        vertical-align: top;\n",
              "    }\n",
              "\n",
              "    .dataframe thead th {\n",
              "        text-align: right;\n",
              "    }\n",
              "</style>\n",
              "<table border=\"1\" class=\"dataframe\">\n",
              "  <thead>\n",
              "    <tr style=\"text-align: right;\">\n",
              "      <th></th>\n",
              "      <th>0</th>\n",
              "    </tr>\n",
              "  </thead>\n",
              "  <tbody>\n",
              "    <tr>\n",
              "      <th>INSTRUCTION</th>\n",
              "      <td>0</td>\n",
              "    </tr>\n",
              "    <tr>\n",
              "      <th>RESPONSE</th>\n",
              "      <td>0</td>\n",
              "    </tr>\n",
              "  </tbody>\n",
              "</table>\n",
              "</div><br><label><b>dtype:</b> int64</label>"
            ]
          },
          "metadata": {},
          "execution_count": 33
        }
      ]
    },
    {
      "cell_type": "code",
      "source": [
        "test_df.isnull().sum()"
      ],
      "metadata": {
        "colab": {
          "base_uri": "https://localhost:8080/",
          "height": 147
        },
        "id": "MYggIM0IYMWC",
        "outputId": "642cb6f7-46e7-436e-8d59-b0be2acf50ee"
      },
      "execution_count": 34,
      "outputs": [
        {
          "output_type": "execute_result",
          "data": {
            "text/plain": [
              "INSTRUCTION    0\n",
              "RESPONSE       0\n",
              "dtype: int64"
            ],
            "text/html": [
              "<div>\n",
              "<style scoped>\n",
              "    .dataframe tbody tr th:only-of-type {\n",
              "        vertical-align: middle;\n",
              "    }\n",
              "\n",
              "    .dataframe tbody tr th {\n",
              "        vertical-align: top;\n",
              "    }\n",
              "\n",
              "    .dataframe thead th {\n",
              "        text-align: right;\n",
              "    }\n",
              "</style>\n",
              "<table border=\"1\" class=\"dataframe\">\n",
              "  <thead>\n",
              "    <tr style=\"text-align: right;\">\n",
              "      <th></th>\n",
              "      <th>0</th>\n",
              "    </tr>\n",
              "  </thead>\n",
              "  <tbody>\n",
              "    <tr>\n",
              "      <th>INSTRUCTION</th>\n",
              "      <td>0</td>\n",
              "    </tr>\n",
              "    <tr>\n",
              "      <th>RESPONSE</th>\n",
              "      <td>0</td>\n",
              "    </tr>\n",
              "  </tbody>\n",
              "</table>\n",
              "</div><br><label><b>dtype:</b> int64</label>"
            ]
          },
          "metadata": {},
          "execution_count": 34
        }
      ]
    },
    {
      "cell_type": "code",
      "source": [
        "validation_df.isnull().sum()"
      ],
      "metadata": {
        "colab": {
          "base_uri": "https://localhost:8080/",
          "height": 147
        },
        "id": "ZgCYx4ttYOoS",
        "outputId": "702779a9-4c0a-4bf6-aedf-f962abcb5b40"
      },
      "execution_count": 35,
      "outputs": [
        {
          "output_type": "execute_result",
          "data": {
            "text/plain": [
              "INSTRUCTION    0\n",
              "RESPONSE       0\n",
              "dtype: int64"
            ],
            "text/html": [
              "<div>\n",
              "<style scoped>\n",
              "    .dataframe tbody tr th:only-of-type {\n",
              "        vertical-align: middle;\n",
              "    }\n",
              "\n",
              "    .dataframe tbody tr th {\n",
              "        vertical-align: top;\n",
              "    }\n",
              "\n",
              "    .dataframe thead th {\n",
              "        text-align: right;\n",
              "    }\n",
              "</style>\n",
              "<table border=\"1\" class=\"dataframe\">\n",
              "  <thead>\n",
              "    <tr style=\"text-align: right;\">\n",
              "      <th></th>\n",
              "      <th>0</th>\n",
              "    </tr>\n",
              "  </thead>\n",
              "  <tbody>\n",
              "    <tr>\n",
              "      <th>INSTRUCTION</th>\n",
              "      <td>0</td>\n",
              "    </tr>\n",
              "    <tr>\n",
              "      <th>RESPONSE</th>\n",
              "      <td>0</td>\n",
              "    </tr>\n",
              "  </tbody>\n",
              "</table>\n",
              "</div><br><label><b>dtype:</b> int64</label>"
            ]
          },
          "metadata": {},
          "execution_count": 35
        }
      ]
    },
    {
      "cell_type": "markdown",
      "source": [
        "D'après ces résultats, on peut bien remarquer qu'aucune valeur manquante n'a été détectée dans les colonnes `INSTRUCTION` et `RESPONSE` des ensembles d'entraînement, de test, et de validation. Cela garantit que le dataset est complet et prêt pour les étapes suivantes."
      ],
      "metadata": {
        "id": "9j5ak7WsPQS-"
      }
    },
    {
      "cell_type": "markdown",
      "source": [
        "**Description statistique des colonnes du dataset d'entraînement**"
      ],
      "metadata": {
        "id": "GOyoTJH2S-wT"
      }
    },
    {
      "cell_type": "code",
      "source": [
        "train_desciption = train_df.describe()"
      ],
      "metadata": {
        "id": "N5YI9XIIM0RW"
      },
      "execution_count": 36,
      "outputs": []
    },
    {
      "cell_type": "code",
      "source": [
        "train_desciption"
      ],
      "metadata": {
        "colab": {
          "base_uri": "https://localhost:8080/",
          "height": 175
        },
        "id": "E-FLey27Q6fy",
        "outputId": "235f6b75-f3dc-4c9a-f0a1-e1d2ada3b9a7"
      },
      "execution_count": 37,
      "outputs": [
        {
          "output_type": "execute_result",
          "data": {
            "text/plain": [
              "            INSTRUCTION                                           RESPONSE\n",
              "count              2217                                               2217\n",
              "unique             1902                                               2217\n",
              "top     Compose a poem.  Sure, I can do that. Here's a poem about The B...\n",
              "freq                 30                                                  1"
            ],
            "text/html": [
              "\n",
              "  <div id=\"df-cb432fda-e00d-4165-adfd-77c3d0b073a5\" class=\"colab-df-container\">\n",
              "    <div>\n",
              "<style scoped>\n",
              "    .dataframe tbody tr th:only-of-type {\n",
              "        vertical-align: middle;\n",
              "    }\n",
              "\n",
              "    .dataframe tbody tr th {\n",
              "        vertical-align: top;\n",
              "    }\n",
              "\n",
              "    .dataframe thead th {\n",
              "        text-align: right;\n",
              "    }\n",
              "</style>\n",
              "<table border=\"1\" class=\"dataframe\">\n",
              "  <thead>\n",
              "    <tr style=\"text-align: right;\">\n",
              "      <th></th>\n",
              "      <th>INSTRUCTION</th>\n",
              "      <th>RESPONSE</th>\n",
              "    </tr>\n",
              "  </thead>\n",
              "  <tbody>\n",
              "    <tr>\n",
              "      <th>count</th>\n",
              "      <td>2217</td>\n",
              "      <td>2217</td>\n",
              "    </tr>\n",
              "    <tr>\n",
              "      <th>unique</th>\n",
              "      <td>1902</td>\n",
              "      <td>2217</td>\n",
              "    </tr>\n",
              "    <tr>\n",
              "      <th>top</th>\n",
              "      <td>Compose a poem.</td>\n",
              "      <td>Sure, I can do that. Here's a poem about The B...</td>\n",
              "    </tr>\n",
              "    <tr>\n",
              "      <th>freq</th>\n",
              "      <td>30</td>\n",
              "      <td>1</td>\n",
              "    </tr>\n",
              "  </tbody>\n",
              "</table>\n",
              "</div>\n",
              "    <div class=\"colab-df-buttons\">\n",
              "\n",
              "  <div class=\"colab-df-container\">\n",
              "    <button class=\"colab-df-convert\" onclick=\"convertToInteractive('df-cb432fda-e00d-4165-adfd-77c3d0b073a5')\"\n",
              "            title=\"Convert this dataframe to an interactive table.\"\n",
              "            style=\"display:none;\">\n",
              "\n",
              "  <svg xmlns=\"http://www.w3.org/2000/svg\" height=\"24px\" viewBox=\"0 -960 960 960\">\n",
              "    <path d=\"M120-120v-720h720v720H120Zm60-500h600v-160H180v160Zm220 220h160v-160H400v160Zm0 220h160v-160H400v160ZM180-400h160v-160H180v160Zm440 0h160v-160H620v160ZM180-180h160v-160H180v160Zm440 0h160v-160H620v160Z\"/>\n",
              "  </svg>\n",
              "    </button>\n",
              "\n",
              "  <style>\n",
              "    .colab-df-container {\n",
              "      display:flex;\n",
              "      gap: 12px;\n",
              "    }\n",
              "\n",
              "    .colab-df-convert {\n",
              "      background-color: #E8F0FE;\n",
              "      border: none;\n",
              "      border-radius: 50%;\n",
              "      cursor: pointer;\n",
              "      display: none;\n",
              "      fill: #1967D2;\n",
              "      height: 32px;\n",
              "      padding: 0 0 0 0;\n",
              "      width: 32px;\n",
              "    }\n",
              "\n",
              "    .colab-df-convert:hover {\n",
              "      background-color: #E2EBFA;\n",
              "      box-shadow: 0px 1px 2px rgba(60, 64, 67, 0.3), 0px 1px 3px 1px rgba(60, 64, 67, 0.15);\n",
              "      fill: #174EA6;\n",
              "    }\n",
              "\n",
              "    .colab-df-buttons div {\n",
              "      margin-bottom: 4px;\n",
              "    }\n",
              "\n",
              "    [theme=dark] .colab-df-convert {\n",
              "      background-color: #3B4455;\n",
              "      fill: #D2E3FC;\n",
              "    }\n",
              "\n",
              "    [theme=dark] .colab-df-convert:hover {\n",
              "      background-color: #434B5C;\n",
              "      box-shadow: 0px 1px 3px 1px rgba(0, 0, 0, 0.15);\n",
              "      filter: drop-shadow(0px 1px 2px rgba(0, 0, 0, 0.3));\n",
              "      fill: #FFFFFF;\n",
              "    }\n",
              "  </style>\n",
              "\n",
              "    <script>\n",
              "      const buttonEl =\n",
              "        document.querySelector('#df-cb432fda-e00d-4165-adfd-77c3d0b073a5 button.colab-df-convert');\n",
              "      buttonEl.style.display =\n",
              "        google.colab.kernel.accessAllowed ? 'block' : 'none';\n",
              "\n",
              "      async function convertToInteractive(key) {\n",
              "        const element = document.querySelector('#df-cb432fda-e00d-4165-adfd-77c3d0b073a5');\n",
              "        const dataTable =\n",
              "          await google.colab.kernel.invokeFunction('convertToInteractive',\n",
              "                                                    [key], {});\n",
              "        if (!dataTable) return;\n",
              "\n",
              "        const docLinkHtml = 'Like what you see? Visit the ' +\n",
              "          '<a target=\"_blank\" href=https://colab.research.google.com/notebooks/data_table.ipynb>data table notebook</a>'\n",
              "          + ' to learn more about interactive tables.';\n",
              "        element.innerHTML = '';\n",
              "        dataTable['output_type'] = 'display_data';\n",
              "        await google.colab.output.renderOutput(dataTable, element);\n",
              "        const docLink = document.createElement('div');\n",
              "        docLink.innerHTML = docLinkHtml;\n",
              "        element.appendChild(docLink);\n",
              "      }\n",
              "    </script>\n",
              "  </div>\n",
              "\n",
              "\n",
              "<div id=\"df-45a0bddf-00f1-43e1-b253-cf76f81fe244\">\n",
              "  <button class=\"colab-df-quickchart\" onclick=\"quickchart('df-45a0bddf-00f1-43e1-b253-cf76f81fe244')\"\n",
              "            title=\"Suggest charts\"\n",
              "            style=\"display:none;\">\n",
              "\n",
              "<svg xmlns=\"http://www.w3.org/2000/svg\" height=\"24px\"viewBox=\"0 0 24 24\"\n",
              "     width=\"24px\">\n",
              "    <g>\n",
              "        <path d=\"M19 3H5c-1.1 0-2 .9-2 2v14c0 1.1.9 2 2 2h14c1.1 0 2-.9 2-2V5c0-1.1-.9-2-2-2zM9 17H7v-7h2v7zm4 0h-2V7h2v10zm4 0h-2v-4h2v4z\"/>\n",
              "    </g>\n",
              "</svg>\n",
              "  </button>\n",
              "\n",
              "<style>\n",
              "  .colab-df-quickchart {\n",
              "      --bg-color: #E8F0FE;\n",
              "      --fill-color: #1967D2;\n",
              "      --hover-bg-color: #E2EBFA;\n",
              "      --hover-fill-color: #174EA6;\n",
              "      --disabled-fill-color: #AAA;\n",
              "      --disabled-bg-color: #DDD;\n",
              "  }\n",
              "\n",
              "  [theme=dark] .colab-df-quickchart {\n",
              "      --bg-color: #3B4455;\n",
              "      --fill-color: #D2E3FC;\n",
              "      --hover-bg-color: #434B5C;\n",
              "      --hover-fill-color: #FFFFFF;\n",
              "      --disabled-bg-color: #3B4455;\n",
              "      --disabled-fill-color: #666;\n",
              "  }\n",
              "\n",
              "  .colab-df-quickchart {\n",
              "    background-color: var(--bg-color);\n",
              "    border: none;\n",
              "    border-radius: 50%;\n",
              "    cursor: pointer;\n",
              "    display: none;\n",
              "    fill: var(--fill-color);\n",
              "    height: 32px;\n",
              "    padding: 0;\n",
              "    width: 32px;\n",
              "  }\n",
              "\n",
              "  .colab-df-quickchart:hover {\n",
              "    background-color: var(--hover-bg-color);\n",
              "    box-shadow: 0 1px 2px rgba(60, 64, 67, 0.3), 0 1px 3px 1px rgba(60, 64, 67, 0.15);\n",
              "    fill: var(--button-hover-fill-color);\n",
              "  }\n",
              "\n",
              "  .colab-df-quickchart-complete:disabled,\n",
              "  .colab-df-quickchart-complete:disabled:hover {\n",
              "    background-color: var(--disabled-bg-color);\n",
              "    fill: var(--disabled-fill-color);\n",
              "    box-shadow: none;\n",
              "  }\n",
              "\n",
              "  .colab-df-spinner {\n",
              "    border: 2px solid var(--fill-color);\n",
              "    border-color: transparent;\n",
              "    border-bottom-color: var(--fill-color);\n",
              "    animation:\n",
              "      spin 1s steps(1) infinite;\n",
              "  }\n",
              "\n",
              "  @keyframes spin {\n",
              "    0% {\n",
              "      border-color: transparent;\n",
              "      border-bottom-color: var(--fill-color);\n",
              "      border-left-color: var(--fill-color);\n",
              "    }\n",
              "    20% {\n",
              "      border-color: transparent;\n",
              "      border-left-color: var(--fill-color);\n",
              "      border-top-color: var(--fill-color);\n",
              "    }\n",
              "    30% {\n",
              "      border-color: transparent;\n",
              "      border-left-color: var(--fill-color);\n",
              "      border-top-color: var(--fill-color);\n",
              "      border-right-color: var(--fill-color);\n",
              "    }\n",
              "    40% {\n",
              "      border-color: transparent;\n",
              "      border-right-color: var(--fill-color);\n",
              "      border-top-color: var(--fill-color);\n",
              "    }\n",
              "    60% {\n",
              "      border-color: transparent;\n",
              "      border-right-color: var(--fill-color);\n",
              "    }\n",
              "    80% {\n",
              "      border-color: transparent;\n",
              "      border-right-color: var(--fill-color);\n",
              "      border-bottom-color: var(--fill-color);\n",
              "    }\n",
              "    90% {\n",
              "      border-color: transparent;\n",
              "      border-bottom-color: var(--fill-color);\n",
              "    }\n",
              "  }\n",
              "</style>\n",
              "\n",
              "  <script>\n",
              "    async function quickchart(key) {\n",
              "      const quickchartButtonEl =\n",
              "        document.querySelector('#' + key + ' button');\n",
              "      quickchartButtonEl.disabled = true;  // To prevent multiple clicks.\n",
              "      quickchartButtonEl.classList.add('colab-df-spinner');\n",
              "      try {\n",
              "        const charts = await google.colab.kernel.invokeFunction(\n",
              "            'suggestCharts', [key], {});\n",
              "      } catch (error) {\n",
              "        console.error('Error during call to suggestCharts:', error);\n",
              "      }\n",
              "      quickchartButtonEl.classList.remove('colab-df-spinner');\n",
              "      quickchartButtonEl.classList.add('colab-df-quickchart-complete');\n",
              "    }\n",
              "    (() => {\n",
              "      let quickchartButtonEl =\n",
              "        document.querySelector('#df-45a0bddf-00f1-43e1-b253-cf76f81fe244 button');\n",
              "      quickchartButtonEl.style.display =\n",
              "        google.colab.kernel.accessAllowed ? 'block' : 'none';\n",
              "    })();\n",
              "  </script>\n",
              "</div>\n",
              "\n",
              "  <div id=\"id_63c6d40c-0b7d-4d2a-9b37-6114c0c3792e\">\n",
              "    <style>\n",
              "      .colab-df-generate {\n",
              "        background-color: #E8F0FE;\n",
              "        border: none;\n",
              "        border-radius: 50%;\n",
              "        cursor: pointer;\n",
              "        display: none;\n",
              "        fill: #1967D2;\n",
              "        height: 32px;\n",
              "        padding: 0 0 0 0;\n",
              "        width: 32px;\n",
              "      }\n",
              "\n",
              "      .colab-df-generate:hover {\n",
              "        background-color: #E2EBFA;\n",
              "        box-shadow: 0px 1px 2px rgba(60, 64, 67, 0.3), 0px 1px 3px 1px rgba(60, 64, 67, 0.15);\n",
              "        fill: #174EA6;\n",
              "      }\n",
              "\n",
              "      [theme=dark] .colab-df-generate {\n",
              "        background-color: #3B4455;\n",
              "        fill: #D2E3FC;\n",
              "      }\n",
              "\n",
              "      [theme=dark] .colab-df-generate:hover {\n",
              "        background-color: #434B5C;\n",
              "        box-shadow: 0px 1px 3px 1px rgba(0, 0, 0, 0.15);\n",
              "        filter: drop-shadow(0px 1px 2px rgba(0, 0, 0, 0.3));\n",
              "        fill: #FFFFFF;\n",
              "      }\n",
              "    </style>\n",
              "    <button class=\"colab-df-generate\" onclick=\"generateWithVariable('train_desciption')\"\n",
              "            title=\"Generate code using this dataframe.\"\n",
              "            style=\"display:none;\">\n",
              "\n",
              "  <svg xmlns=\"http://www.w3.org/2000/svg\" height=\"24px\"viewBox=\"0 0 24 24\"\n",
              "       width=\"24px\">\n",
              "    <path d=\"M7,19H8.4L18.45,9,17,7.55,7,17.6ZM5,21V16.75L18.45,3.32a2,2,0,0,1,2.83,0l1.4,1.43a1.91,1.91,0,0,1,.58,1.4,1.91,1.91,0,0,1-.58,1.4L9.25,21ZM18.45,9,17,7.55Zm-12,3A5.31,5.31,0,0,0,4.9,8.1,5.31,5.31,0,0,0,1,6.5,5.31,5.31,0,0,0,4.9,4.9,5.31,5.31,0,0,0,6.5,1,5.31,5.31,0,0,0,8.1,4.9,5.31,5.31,0,0,0,12,6.5,5.46,5.46,0,0,0,6.5,12Z\"/>\n",
              "  </svg>\n",
              "    </button>\n",
              "    <script>\n",
              "      (() => {\n",
              "      const buttonEl =\n",
              "        document.querySelector('#id_63c6d40c-0b7d-4d2a-9b37-6114c0c3792e button.colab-df-generate');\n",
              "      buttonEl.style.display =\n",
              "        google.colab.kernel.accessAllowed ? 'block' : 'none';\n",
              "\n",
              "      buttonEl.onclick = () => {\n",
              "        google.colab.notebook.generateWithVariable('train_desciption');\n",
              "      }\n",
              "      })();\n",
              "    </script>\n",
              "  </div>\n",
              "\n",
              "    </div>\n",
              "  </div>\n"
            ],
            "application/vnd.google.colaboratory.intrinsic+json": {
              "type": "dataframe",
              "variable_name": "train_desciption",
              "summary": "{\n  \"name\": \"train_desciption\",\n  \"rows\": 4,\n  \"fields\": [\n    {\n      \"column\": \"INSTRUCTION\",\n      \"properties\": {\n        \"dtype\": \"string\",\n        \"num_unique_values\": 4,\n        \"samples\": [\n          1902,\n          \"30\",\n          \"2217\"\n        ],\n        \"semantic_type\": \"\",\n        \"description\": \"\"\n      }\n    },\n    {\n      \"column\": \"RESPONSE\",\n      \"properties\": {\n        \"dtype\": \"string\",\n        \"num_unique_values\": 3,\n        \"samples\": [\n          \"2217\",\n          \"Sure, I can do that. Here's a poem about The Body,Nature,Religion,God & the Divine. I call it \\\"Nothing New\\\": \\nOh, what am I but an engine, shod\\r\\n\\r\\n With muscle and flesh, by the hand of God,\\r\\nSpeeding on through the dense, dark night,\\r\\n\\r\\n Guided alone by the soul\\u2019s white light.\\r\\nOften and often my mad heart tires,\\r\\n\\r\\n And hates its way with a bitter hate,\\r\\nAnd longs to follow its own desires,\\r\\n\\r\\n And leave the end in the hands of fate.\\r\\nO, mighty engine of steel and steam;\\r\\n\\r\\n O, human engine of blood and bone,\\r\\nFollow the white light\\u2019s certain beam\\u2014\\r\\n\\r\\n There lies safety, and there alone.\\r\\nThe narrow track of fearless truth,\\r\\n\\r\\n Lit by the soul\\u2019s great eye of light,\\r\\nO passionate heart of restless youth,\\r\\n\\r\\n Alone will carry you through the night. \\nSource: PoetryFoundation.org - Ella Wheeler Wilcox\",\n          \"1\"\n        ],\n        \"semantic_type\": \"\",\n        \"description\": \"\"\n      }\n    }\n  ]\n}"
            }
          },
          "metadata": {},
          "execution_count": 37
        }
      ]
    },
    {
      "cell_type": "markdown",
      "source": [
        "**Affichage des instruction et de la reponse les plus fréquents**"
      ],
      "metadata": {
        "id": "QKkTMX0ATFQn"
      }
    },
    {
      "cell_type": "code",
      "source": [
        "top_INSTRUCTION = train_desciption['INSTRUCTION'].iloc[2]\n",
        "print(\"Top INSTRUCTION :\", top_INSTRUCTION)"
      ],
      "metadata": {
        "colab": {
          "base_uri": "https://localhost:8080/"
        },
        "id": "_xxpCufiQ9ir",
        "outputId": "b581e9e0-4fe2-4534-e38a-97c079cabeb2"
      },
      "execution_count": 38,
      "outputs": [
        {
          "output_type": "stream",
          "name": "stdout",
          "text": [
            "Top INSTRUCTION : Compose a poem.\n"
          ]
        }
      ]
    },
    {
      "cell_type": "markdown",
      "source": [
        "**1. Analyse de la colonne `INSTRUCTION`**\n",
        "- **Count** : La colonne contient **2217 instructions**, ce qui correspond au nombre total d'entrées dans le dataset.\n",
        "- **Unique** : Elle compte **1902 instructions uniques**, ce qui montre qu'il existe des doublons dans les instructions.\n",
        "- **Top** : L'instruction la plus fréquente est **`\"Compose a poem.\"`**, qui est une demande générique pour un poème.\n",
        "- **Frequency** : Cette instruction apparaît **30 fois**, ce qui suggère qu'une part notable du dataset est composée de cette demande spécifique.\n",
        "\n",
        "**2. Analyse de la colonne `RESPONSE`**\n",
        "- **Count** : La colonne contient également **2217 réponses**, ce qui correspond parfaitement au nombre d'instructions. Cela montre qu'il y a une réponse pour chaque instruction.\n",
        "- **Unique** : Toutes les réponses sont **uniques** (2217 uniques), ce qui signifie que chaque poème généré est distinct, même si certaines instructions se répètent.\n",
        "- **Top** : La réponse la plus fréquente commence par **`\"\tSure, I can do that. Here's a poem about The B...\"`**.\n",
        "- **Frequency** : Cette réponse apparaît **une seule fois**, ce qui confirme la diversité des poèmes générés."
      ],
      "metadata": {
        "id": "ThRFu_sXSfNN"
      }
    },
    {
      "cell_type": "markdown",
      "source": [
        "**Description statistique des colonnes du dataset de validation**"
      ],
      "metadata": {
        "id": "rTerAkMrVoyA"
      }
    },
    {
      "cell_type": "code",
      "source": [
        "validation_df.describe()"
      ],
      "metadata": {
        "colab": {
          "base_uri": "https://localhost:8080/",
          "height": 175
        },
        "id": "I7zrciKmM5gg",
        "outputId": "ea8a8cd9-d513-4dcd-91fb-3ac230616b41"
      },
      "execution_count": 39,
      "outputs": [
        {
          "output_type": "execute_result",
          "data": {
            "text/plain": [
              "             INSTRUCTION                                           RESPONSE\n",
              "count                277                                                277\n",
              "unique               260                                                277\n",
              "top     Write me a poem.  Here's a beautiful poem about Living,Coming of...\n",
              "freq                   5                                                  1"
            ],
            "text/html": [
              "\n",
              "  <div id=\"df-93ad41e2-85c1-4797-a240-c50dcb7f97c6\" class=\"colab-df-container\">\n",
              "    <div>\n",
              "<style scoped>\n",
              "    .dataframe tbody tr th:only-of-type {\n",
              "        vertical-align: middle;\n",
              "    }\n",
              "\n",
              "    .dataframe tbody tr th {\n",
              "        vertical-align: top;\n",
              "    }\n",
              "\n",
              "    .dataframe thead th {\n",
              "        text-align: right;\n",
              "    }\n",
              "</style>\n",
              "<table border=\"1\" class=\"dataframe\">\n",
              "  <thead>\n",
              "    <tr style=\"text-align: right;\">\n",
              "      <th></th>\n",
              "      <th>INSTRUCTION</th>\n",
              "      <th>RESPONSE</th>\n",
              "    </tr>\n",
              "  </thead>\n",
              "  <tbody>\n",
              "    <tr>\n",
              "      <th>count</th>\n",
              "      <td>277</td>\n",
              "      <td>277</td>\n",
              "    </tr>\n",
              "    <tr>\n",
              "      <th>unique</th>\n",
              "      <td>260</td>\n",
              "      <td>277</td>\n",
              "    </tr>\n",
              "    <tr>\n",
              "      <th>top</th>\n",
              "      <td>Write me a poem.</td>\n",
              "      <td>Here's a beautiful poem about Living,Coming of...</td>\n",
              "    </tr>\n",
              "    <tr>\n",
              "      <th>freq</th>\n",
              "      <td>5</td>\n",
              "      <td>1</td>\n",
              "    </tr>\n",
              "  </tbody>\n",
              "</table>\n",
              "</div>\n",
              "    <div class=\"colab-df-buttons\">\n",
              "\n",
              "  <div class=\"colab-df-container\">\n",
              "    <button class=\"colab-df-convert\" onclick=\"convertToInteractive('df-93ad41e2-85c1-4797-a240-c50dcb7f97c6')\"\n",
              "            title=\"Convert this dataframe to an interactive table.\"\n",
              "            style=\"display:none;\">\n",
              "\n",
              "  <svg xmlns=\"http://www.w3.org/2000/svg\" height=\"24px\" viewBox=\"0 -960 960 960\">\n",
              "    <path d=\"M120-120v-720h720v720H120Zm60-500h600v-160H180v160Zm220 220h160v-160H400v160Zm0 220h160v-160H400v160ZM180-400h160v-160H180v160Zm440 0h160v-160H620v160ZM180-180h160v-160H180v160Zm440 0h160v-160H620v160Z\"/>\n",
              "  </svg>\n",
              "    </button>\n",
              "\n",
              "  <style>\n",
              "    .colab-df-container {\n",
              "      display:flex;\n",
              "      gap: 12px;\n",
              "    }\n",
              "\n",
              "    .colab-df-convert {\n",
              "      background-color: #E8F0FE;\n",
              "      border: none;\n",
              "      border-radius: 50%;\n",
              "      cursor: pointer;\n",
              "      display: none;\n",
              "      fill: #1967D2;\n",
              "      height: 32px;\n",
              "      padding: 0 0 0 0;\n",
              "      width: 32px;\n",
              "    }\n",
              "\n",
              "    .colab-df-convert:hover {\n",
              "      background-color: #E2EBFA;\n",
              "      box-shadow: 0px 1px 2px rgba(60, 64, 67, 0.3), 0px 1px 3px 1px rgba(60, 64, 67, 0.15);\n",
              "      fill: #174EA6;\n",
              "    }\n",
              "\n",
              "    .colab-df-buttons div {\n",
              "      margin-bottom: 4px;\n",
              "    }\n",
              "\n",
              "    [theme=dark] .colab-df-convert {\n",
              "      background-color: #3B4455;\n",
              "      fill: #D2E3FC;\n",
              "    }\n",
              "\n",
              "    [theme=dark] .colab-df-convert:hover {\n",
              "      background-color: #434B5C;\n",
              "      box-shadow: 0px 1px 3px 1px rgba(0, 0, 0, 0.15);\n",
              "      filter: drop-shadow(0px 1px 2px rgba(0, 0, 0, 0.3));\n",
              "      fill: #FFFFFF;\n",
              "    }\n",
              "  </style>\n",
              "\n",
              "    <script>\n",
              "      const buttonEl =\n",
              "        document.querySelector('#df-93ad41e2-85c1-4797-a240-c50dcb7f97c6 button.colab-df-convert');\n",
              "      buttonEl.style.display =\n",
              "        google.colab.kernel.accessAllowed ? 'block' : 'none';\n",
              "\n",
              "      async function convertToInteractive(key) {\n",
              "        const element = document.querySelector('#df-93ad41e2-85c1-4797-a240-c50dcb7f97c6');\n",
              "        const dataTable =\n",
              "          await google.colab.kernel.invokeFunction('convertToInteractive',\n",
              "                                                    [key], {});\n",
              "        if (!dataTable) return;\n",
              "\n",
              "        const docLinkHtml = 'Like what you see? Visit the ' +\n",
              "          '<a target=\"_blank\" href=https://colab.research.google.com/notebooks/data_table.ipynb>data table notebook</a>'\n",
              "          + ' to learn more about interactive tables.';\n",
              "        element.innerHTML = '';\n",
              "        dataTable['output_type'] = 'display_data';\n",
              "        await google.colab.output.renderOutput(dataTable, element);\n",
              "        const docLink = document.createElement('div');\n",
              "        docLink.innerHTML = docLinkHtml;\n",
              "        element.appendChild(docLink);\n",
              "      }\n",
              "    </script>\n",
              "  </div>\n",
              "\n",
              "\n",
              "<div id=\"df-e72a4bfd-df67-4700-99ad-09a6e77f053e\">\n",
              "  <button class=\"colab-df-quickchart\" onclick=\"quickchart('df-e72a4bfd-df67-4700-99ad-09a6e77f053e')\"\n",
              "            title=\"Suggest charts\"\n",
              "            style=\"display:none;\">\n",
              "\n",
              "<svg xmlns=\"http://www.w3.org/2000/svg\" height=\"24px\"viewBox=\"0 0 24 24\"\n",
              "     width=\"24px\">\n",
              "    <g>\n",
              "        <path d=\"M19 3H5c-1.1 0-2 .9-2 2v14c0 1.1.9 2 2 2h14c1.1 0 2-.9 2-2V5c0-1.1-.9-2-2-2zM9 17H7v-7h2v7zm4 0h-2V7h2v10zm4 0h-2v-4h2v4z\"/>\n",
              "    </g>\n",
              "</svg>\n",
              "  </button>\n",
              "\n",
              "<style>\n",
              "  .colab-df-quickchart {\n",
              "      --bg-color: #E8F0FE;\n",
              "      --fill-color: #1967D2;\n",
              "      --hover-bg-color: #E2EBFA;\n",
              "      --hover-fill-color: #174EA6;\n",
              "      --disabled-fill-color: #AAA;\n",
              "      --disabled-bg-color: #DDD;\n",
              "  }\n",
              "\n",
              "  [theme=dark] .colab-df-quickchart {\n",
              "      --bg-color: #3B4455;\n",
              "      --fill-color: #D2E3FC;\n",
              "      --hover-bg-color: #434B5C;\n",
              "      --hover-fill-color: #FFFFFF;\n",
              "      --disabled-bg-color: #3B4455;\n",
              "      --disabled-fill-color: #666;\n",
              "  }\n",
              "\n",
              "  .colab-df-quickchart {\n",
              "    background-color: var(--bg-color);\n",
              "    border: none;\n",
              "    border-radius: 50%;\n",
              "    cursor: pointer;\n",
              "    display: none;\n",
              "    fill: var(--fill-color);\n",
              "    height: 32px;\n",
              "    padding: 0;\n",
              "    width: 32px;\n",
              "  }\n",
              "\n",
              "  .colab-df-quickchart:hover {\n",
              "    background-color: var(--hover-bg-color);\n",
              "    box-shadow: 0 1px 2px rgba(60, 64, 67, 0.3), 0 1px 3px 1px rgba(60, 64, 67, 0.15);\n",
              "    fill: var(--button-hover-fill-color);\n",
              "  }\n",
              "\n",
              "  .colab-df-quickchart-complete:disabled,\n",
              "  .colab-df-quickchart-complete:disabled:hover {\n",
              "    background-color: var(--disabled-bg-color);\n",
              "    fill: var(--disabled-fill-color);\n",
              "    box-shadow: none;\n",
              "  }\n",
              "\n",
              "  .colab-df-spinner {\n",
              "    border: 2px solid var(--fill-color);\n",
              "    border-color: transparent;\n",
              "    border-bottom-color: var(--fill-color);\n",
              "    animation:\n",
              "      spin 1s steps(1) infinite;\n",
              "  }\n",
              "\n",
              "  @keyframes spin {\n",
              "    0% {\n",
              "      border-color: transparent;\n",
              "      border-bottom-color: var(--fill-color);\n",
              "      border-left-color: var(--fill-color);\n",
              "    }\n",
              "    20% {\n",
              "      border-color: transparent;\n",
              "      border-left-color: var(--fill-color);\n",
              "      border-top-color: var(--fill-color);\n",
              "    }\n",
              "    30% {\n",
              "      border-color: transparent;\n",
              "      border-left-color: var(--fill-color);\n",
              "      border-top-color: var(--fill-color);\n",
              "      border-right-color: var(--fill-color);\n",
              "    }\n",
              "    40% {\n",
              "      border-color: transparent;\n",
              "      border-right-color: var(--fill-color);\n",
              "      border-top-color: var(--fill-color);\n",
              "    }\n",
              "    60% {\n",
              "      border-color: transparent;\n",
              "      border-right-color: var(--fill-color);\n",
              "    }\n",
              "    80% {\n",
              "      border-color: transparent;\n",
              "      border-right-color: var(--fill-color);\n",
              "      border-bottom-color: var(--fill-color);\n",
              "    }\n",
              "    90% {\n",
              "      border-color: transparent;\n",
              "      border-bottom-color: var(--fill-color);\n",
              "    }\n",
              "  }\n",
              "</style>\n",
              "\n",
              "  <script>\n",
              "    async function quickchart(key) {\n",
              "      const quickchartButtonEl =\n",
              "        document.querySelector('#' + key + ' button');\n",
              "      quickchartButtonEl.disabled = true;  // To prevent multiple clicks.\n",
              "      quickchartButtonEl.classList.add('colab-df-spinner');\n",
              "      try {\n",
              "        const charts = await google.colab.kernel.invokeFunction(\n",
              "            'suggestCharts', [key], {});\n",
              "      } catch (error) {\n",
              "        console.error('Error during call to suggestCharts:', error);\n",
              "      }\n",
              "      quickchartButtonEl.classList.remove('colab-df-spinner');\n",
              "      quickchartButtonEl.classList.add('colab-df-quickchart-complete');\n",
              "    }\n",
              "    (() => {\n",
              "      let quickchartButtonEl =\n",
              "        document.querySelector('#df-e72a4bfd-df67-4700-99ad-09a6e77f053e button');\n",
              "      quickchartButtonEl.style.display =\n",
              "        google.colab.kernel.accessAllowed ? 'block' : 'none';\n",
              "    })();\n",
              "  </script>\n",
              "</div>\n",
              "\n",
              "    </div>\n",
              "  </div>\n"
            ],
            "application/vnd.google.colaboratory.intrinsic+json": {
              "type": "dataframe",
              "summary": "{\n  \"name\": \"validation_df\",\n  \"rows\": 4,\n  \"fields\": [\n    {\n      \"column\": \"INSTRUCTION\",\n      \"properties\": {\n        \"dtype\": \"string\",\n        \"num_unique_values\": 4,\n        \"samples\": [\n          260,\n          \"5\",\n          \"277\"\n        ],\n        \"semantic_type\": \"\",\n        \"description\": \"\"\n      }\n    },\n    {\n      \"column\": \"RESPONSE\",\n      \"properties\": {\n        \"dtype\": \"string\",\n        \"num_unique_values\": 3,\n        \"samples\": [\n          \"277\",\n          \"Here's a beautiful poem about Living,Coming of Age,Relationships,Family & Ancestors for you. It's called \\\"Girl, 11\\\": \\nA mouth is a sideways woman,\\r\\n\\r\\nher curves and dips, the way she opens,\\r\\n\\r\\nhow her hollow center can sing.\\r\\n\\r\\nMother, your mouth\\r\\n\\r\\nis a fallen cello,\\r\\n\\r\\nyour husband's hands\\u2014\\r\\n\\r\\na casket. Full of me. \\nSource: PoetryFoundation.org - Jonterri Gadson\",\n          \"1\"\n        ],\n        \"semantic_type\": \"\",\n        \"description\": \"\"\n      }\n    }\n  ]\n}"
            }
          },
          "metadata": {},
          "execution_count": 39
        }
      ]
    },
    {
      "cell_type": "markdown",
      "source": [
        "**1. Analyse de la colonne `INSTRUCTION`**\n",
        "- **Count** : La colonne contient **277 instructions**, ce qui correspond au nombre total d'entrées dans l'ensemble de validation.\n",
        "- **Unique** : Elle compte **260 instructions uniques**, ce qui montre qu'il existe des doublons parmi les instructions.\n",
        "- **Top** : L'instruction la plus fréquente est **`\"Writre me a poem.\"`**, qui semble être une demande générique pour un poème.\n",
        "- **Frequency** : Cette instruction apparaît **5 fois**, ce qui indique qu'elle est relativement fréquente.\n",
        "\n",
        "**2. Analyse de la colonne `RESPONSE`**\n",
        "- **Count** : La colonne contient également **277 réponses**, ce qui correspond parfaitement au nombre d'instructions. Cela montre qu'il y a une réponse pour chaque instruction.\n",
        "- **Unique** : Toutes les réponses sont **uniques** (277 uniques), ce qui signifie que chaque poème généré est distinct dans l'ensemble de validation.\n",
        "- **Top** : La réponse la plus fréquente commence par **`\"Here's a beautiful poem about Living,Coming of...\"`**.\n",
        "- **Frequency** : Cette réponse apparaît **une seule fois**, ce qui confirme que les réponses sont diverses et non répétées."
      ],
      "metadata": {
        "id": "tCM2ztN6We2i"
      }
    },
    {
      "cell_type": "markdown",
      "source": [
        "**Description statistique des colonnes du dataset de test**"
      ],
      "metadata": {
        "id": "L7HbqiSDV3Yz"
      }
    },
    {
      "cell_type": "code",
      "source": [
        "test_df.describe()"
      ],
      "metadata": {
        "colab": {
          "base_uri": "https://localhost:8080/",
          "height": 175
        },
        "id": "DRzdpNW_M8IG",
        "outputId": "4b6fafb6-8963-485c-e6ef-53283120bcd6"
      },
      "execution_count": 40,
      "outputs": [
        {
          "output_type": "execute_result",
          "data": {
            "text/plain": [
              "           INSTRUCTION                                           RESPONSE\n",
              "count              277                                                277\n",
              "unique             261                                                277\n",
              "top     I want a poem.  Here's a poem I composed about Activities,Trav...\n",
              "freq                 6                                                  1"
            ],
            "text/html": [
              "\n",
              "  <div id=\"df-65e55a98-3b2d-4376-aef6-85f1c1c92c1d\" class=\"colab-df-container\">\n",
              "    <div>\n",
              "<style scoped>\n",
              "    .dataframe tbody tr th:only-of-type {\n",
              "        vertical-align: middle;\n",
              "    }\n",
              "\n",
              "    .dataframe tbody tr th {\n",
              "        vertical-align: top;\n",
              "    }\n",
              "\n",
              "    .dataframe thead th {\n",
              "        text-align: right;\n",
              "    }\n",
              "</style>\n",
              "<table border=\"1\" class=\"dataframe\">\n",
              "  <thead>\n",
              "    <tr style=\"text-align: right;\">\n",
              "      <th></th>\n",
              "      <th>INSTRUCTION</th>\n",
              "      <th>RESPONSE</th>\n",
              "    </tr>\n",
              "  </thead>\n",
              "  <tbody>\n",
              "    <tr>\n",
              "      <th>count</th>\n",
              "      <td>277</td>\n",
              "      <td>277</td>\n",
              "    </tr>\n",
              "    <tr>\n",
              "      <th>unique</th>\n",
              "      <td>261</td>\n",
              "      <td>277</td>\n",
              "    </tr>\n",
              "    <tr>\n",
              "      <th>top</th>\n",
              "      <td>I want a poem.</td>\n",
              "      <td>Here's a poem I composed about Activities,Trav...</td>\n",
              "    </tr>\n",
              "    <tr>\n",
              "      <th>freq</th>\n",
              "      <td>6</td>\n",
              "      <td>1</td>\n",
              "    </tr>\n",
              "  </tbody>\n",
              "</table>\n",
              "</div>\n",
              "    <div class=\"colab-df-buttons\">\n",
              "\n",
              "  <div class=\"colab-df-container\">\n",
              "    <button class=\"colab-df-convert\" onclick=\"convertToInteractive('df-65e55a98-3b2d-4376-aef6-85f1c1c92c1d')\"\n",
              "            title=\"Convert this dataframe to an interactive table.\"\n",
              "            style=\"display:none;\">\n",
              "\n",
              "  <svg xmlns=\"http://www.w3.org/2000/svg\" height=\"24px\" viewBox=\"0 -960 960 960\">\n",
              "    <path d=\"M120-120v-720h720v720H120Zm60-500h600v-160H180v160Zm220 220h160v-160H400v160Zm0 220h160v-160H400v160ZM180-400h160v-160H180v160Zm440 0h160v-160H620v160ZM180-180h160v-160H180v160Zm440 0h160v-160H620v160Z\"/>\n",
              "  </svg>\n",
              "    </button>\n",
              "\n",
              "  <style>\n",
              "    .colab-df-container {\n",
              "      display:flex;\n",
              "      gap: 12px;\n",
              "    }\n",
              "\n",
              "    .colab-df-convert {\n",
              "      background-color: #E8F0FE;\n",
              "      border: none;\n",
              "      border-radius: 50%;\n",
              "      cursor: pointer;\n",
              "      display: none;\n",
              "      fill: #1967D2;\n",
              "      height: 32px;\n",
              "      padding: 0 0 0 0;\n",
              "      width: 32px;\n",
              "    }\n",
              "\n",
              "    .colab-df-convert:hover {\n",
              "      background-color: #E2EBFA;\n",
              "      box-shadow: 0px 1px 2px rgba(60, 64, 67, 0.3), 0px 1px 3px 1px rgba(60, 64, 67, 0.15);\n",
              "      fill: #174EA6;\n",
              "    }\n",
              "\n",
              "    .colab-df-buttons div {\n",
              "      margin-bottom: 4px;\n",
              "    }\n",
              "\n",
              "    [theme=dark] .colab-df-convert {\n",
              "      background-color: #3B4455;\n",
              "      fill: #D2E3FC;\n",
              "    }\n",
              "\n",
              "    [theme=dark] .colab-df-convert:hover {\n",
              "      background-color: #434B5C;\n",
              "      box-shadow: 0px 1px 3px 1px rgba(0, 0, 0, 0.15);\n",
              "      filter: drop-shadow(0px 1px 2px rgba(0, 0, 0, 0.3));\n",
              "      fill: #FFFFFF;\n",
              "    }\n",
              "  </style>\n",
              "\n",
              "    <script>\n",
              "      const buttonEl =\n",
              "        document.querySelector('#df-65e55a98-3b2d-4376-aef6-85f1c1c92c1d button.colab-df-convert');\n",
              "      buttonEl.style.display =\n",
              "        google.colab.kernel.accessAllowed ? 'block' : 'none';\n",
              "\n",
              "      async function convertToInteractive(key) {\n",
              "        const element = document.querySelector('#df-65e55a98-3b2d-4376-aef6-85f1c1c92c1d');\n",
              "        const dataTable =\n",
              "          await google.colab.kernel.invokeFunction('convertToInteractive',\n",
              "                                                    [key], {});\n",
              "        if (!dataTable) return;\n",
              "\n",
              "        const docLinkHtml = 'Like what you see? Visit the ' +\n",
              "          '<a target=\"_blank\" href=https://colab.research.google.com/notebooks/data_table.ipynb>data table notebook</a>'\n",
              "          + ' to learn more about interactive tables.';\n",
              "        element.innerHTML = '';\n",
              "        dataTable['output_type'] = 'display_data';\n",
              "        await google.colab.output.renderOutput(dataTable, element);\n",
              "        const docLink = document.createElement('div');\n",
              "        docLink.innerHTML = docLinkHtml;\n",
              "        element.appendChild(docLink);\n",
              "      }\n",
              "    </script>\n",
              "  </div>\n",
              "\n",
              "\n",
              "<div id=\"df-2ba4eab7-771e-4298-bcae-3311f10d9f48\">\n",
              "  <button class=\"colab-df-quickchart\" onclick=\"quickchart('df-2ba4eab7-771e-4298-bcae-3311f10d9f48')\"\n",
              "            title=\"Suggest charts\"\n",
              "            style=\"display:none;\">\n",
              "\n",
              "<svg xmlns=\"http://www.w3.org/2000/svg\" height=\"24px\"viewBox=\"0 0 24 24\"\n",
              "     width=\"24px\">\n",
              "    <g>\n",
              "        <path d=\"M19 3H5c-1.1 0-2 .9-2 2v14c0 1.1.9 2 2 2h14c1.1 0 2-.9 2-2V5c0-1.1-.9-2-2-2zM9 17H7v-7h2v7zm4 0h-2V7h2v10zm4 0h-2v-4h2v4z\"/>\n",
              "    </g>\n",
              "</svg>\n",
              "  </button>\n",
              "\n",
              "<style>\n",
              "  .colab-df-quickchart {\n",
              "      --bg-color: #E8F0FE;\n",
              "      --fill-color: #1967D2;\n",
              "      --hover-bg-color: #E2EBFA;\n",
              "      --hover-fill-color: #174EA6;\n",
              "      --disabled-fill-color: #AAA;\n",
              "      --disabled-bg-color: #DDD;\n",
              "  }\n",
              "\n",
              "  [theme=dark] .colab-df-quickchart {\n",
              "      --bg-color: #3B4455;\n",
              "      --fill-color: #D2E3FC;\n",
              "      --hover-bg-color: #434B5C;\n",
              "      --hover-fill-color: #FFFFFF;\n",
              "      --disabled-bg-color: #3B4455;\n",
              "      --disabled-fill-color: #666;\n",
              "  }\n",
              "\n",
              "  .colab-df-quickchart {\n",
              "    background-color: var(--bg-color);\n",
              "    border: none;\n",
              "    border-radius: 50%;\n",
              "    cursor: pointer;\n",
              "    display: none;\n",
              "    fill: var(--fill-color);\n",
              "    height: 32px;\n",
              "    padding: 0;\n",
              "    width: 32px;\n",
              "  }\n",
              "\n",
              "  .colab-df-quickchart:hover {\n",
              "    background-color: var(--hover-bg-color);\n",
              "    box-shadow: 0 1px 2px rgba(60, 64, 67, 0.3), 0 1px 3px 1px rgba(60, 64, 67, 0.15);\n",
              "    fill: var(--button-hover-fill-color);\n",
              "  }\n",
              "\n",
              "  .colab-df-quickchart-complete:disabled,\n",
              "  .colab-df-quickchart-complete:disabled:hover {\n",
              "    background-color: var(--disabled-bg-color);\n",
              "    fill: var(--disabled-fill-color);\n",
              "    box-shadow: none;\n",
              "  }\n",
              "\n",
              "  .colab-df-spinner {\n",
              "    border: 2px solid var(--fill-color);\n",
              "    border-color: transparent;\n",
              "    border-bottom-color: var(--fill-color);\n",
              "    animation:\n",
              "      spin 1s steps(1) infinite;\n",
              "  }\n",
              "\n",
              "  @keyframes spin {\n",
              "    0% {\n",
              "      border-color: transparent;\n",
              "      border-bottom-color: var(--fill-color);\n",
              "      border-left-color: var(--fill-color);\n",
              "    }\n",
              "    20% {\n",
              "      border-color: transparent;\n",
              "      border-left-color: var(--fill-color);\n",
              "      border-top-color: var(--fill-color);\n",
              "    }\n",
              "    30% {\n",
              "      border-color: transparent;\n",
              "      border-left-color: var(--fill-color);\n",
              "      border-top-color: var(--fill-color);\n",
              "      border-right-color: var(--fill-color);\n",
              "    }\n",
              "    40% {\n",
              "      border-color: transparent;\n",
              "      border-right-color: var(--fill-color);\n",
              "      border-top-color: var(--fill-color);\n",
              "    }\n",
              "    60% {\n",
              "      border-color: transparent;\n",
              "      border-right-color: var(--fill-color);\n",
              "    }\n",
              "    80% {\n",
              "      border-color: transparent;\n",
              "      border-right-color: var(--fill-color);\n",
              "      border-bottom-color: var(--fill-color);\n",
              "    }\n",
              "    90% {\n",
              "      border-color: transparent;\n",
              "      border-bottom-color: var(--fill-color);\n",
              "    }\n",
              "  }\n",
              "</style>\n",
              "\n",
              "  <script>\n",
              "    async function quickchart(key) {\n",
              "      const quickchartButtonEl =\n",
              "        document.querySelector('#' + key + ' button');\n",
              "      quickchartButtonEl.disabled = true;  // To prevent multiple clicks.\n",
              "      quickchartButtonEl.classList.add('colab-df-spinner');\n",
              "      try {\n",
              "        const charts = await google.colab.kernel.invokeFunction(\n",
              "            'suggestCharts', [key], {});\n",
              "      } catch (error) {\n",
              "        console.error('Error during call to suggestCharts:', error);\n",
              "      }\n",
              "      quickchartButtonEl.classList.remove('colab-df-spinner');\n",
              "      quickchartButtonEl.classList.add('colab-df-quickchart-complete');\n",
              "    }\n",
              "    (() => {\n",
              "      let quickchartButtonEl =\n",
              "        document.querySelector('#df-2ba4eab7-771e-4298-bcae-3311f10d9f48 button');\n",
              "      quickchartButtonEl.style.display =\n",
              "        google.colab.kernel.accessAllowed ? 'block' : 'none';\n",
              "    })();\n",
              "  </script>\n",
              "</div>\n",
              "\n",
              "    </div>\n",
              "  </div>\n"
            ],
            "application/vnd.google.colaboratory.intrinsic+json": {
              "type": "dataframe",
              "summary": "{\n  \"name\": \"test_df\",\n  \"rows\": 4,\n  \"fields\": [\n    {\n      \"column\": \"INSTRUCTION\",\n      \"properties\": {\n        \"dtype\": \"string\",\n        \"num_unique_values\": 4,\n        \"samples\": [\n          261,\n          \"6\",\n          \"277\"\n        ],\n        \"semantic_type\": \"\",\n        \"description\": \"\"\n      }\n    },\n    {\n      \"column\": \"RESPONSE\",\n      \"properties\": {\n        \"dtype\": \"string\",\n        \"num_unique_values\": 3,\n        \"samples\": [\n          \"277\",\n          \"Here's a poem I composed about Activities,Travels & Journeys,Social Commentaries,History & Politics. It's called \\\"Ghana Calls\\\": \\nDedicated to Kwame Nkrumah\\r\\n\\r\\n\\r\\n\\r\\n\\r\\n\\r\\n\\r\\n\\r\\nI was a little boy, at home with strangers.\\r\\n\\r\\nI liked my playmates, and knew well,\\r\\n\\r\\nWhence all their parents came;\\r\\n\\r\\nFrom England, Scotland, royal France\\r\\n\\r\\nFrom Germany and oft by chance\\r\\n\\r\\nThe humble Emerald Isle.\\r\\n\\r\\nBut my brown skin and close-curled hair\\r\\n\\r\\nWas alien, and how it grew, none knew;\\r\\n\\r\\nFew tried to say, some dropped a wonderful word or stray;\\r\\n\\r\\nSome laughed and stared.\\r\\n\\r\\nAnd then it came: I dreamed.\\r\\n\\r\\nI placed together all I knew\\r\\n\\r\\nAll hints and slurs together drew.\\r\\n\\r\\nI dreamed.\\r\\n\\r\\nI made one picture of what nothing seemed\\r\\n\\r\\nI shuddered in dumb terror\\r\\n\\r\\nIn silence screamed,\\r\\n\\r\\nFor now it seemed this I had dreamed;\\r\\n\\r\\nHow up from Hell, a land had leaped\\r\\n\\r\\nA wretched land, all scorched and seamed\\r\\n\\r\\nCovered with ashes, chained with pain\\r\\n\\r\\nStreaming with blood, in horror lain\\r\\n\\r\\nIts very air a shriek of death\\r\\n\\r\\nAnd agony of hurt.\\r\\n\\r\\nAnon I woke, but in one corner of my soul\\r\\n\\r\\nI stayed asleep.\\r\\n\\r\\nForget I could not,\\r\\n\\r\\nBut never would I remember\\r\\n\\r\\nThat hell-hoist ghost\\r\\n\\r\\nOf slavery and woe.\\r\\n\\r\\nI lived and grew, I worked and hoped\\r\\n\\r\\nI planned and wandered, gripped and coped\\r\\n\\r\\nWith every doubt but one that slept\\r\\n\\r\\nYet clamoured to awaken.\\r\\n\\r\\nI became old; old, worn and gray;\\r\\n\\r\\nAlong my hard and weary way\\r\\n\\r\\nRolled war and pestilence, war again;\\r\\n\\r\\nI looked on Poverty and foul Disease\\r\\n\\r\\nI walked with Death and yet I knew\\r\\n\\r\\nThere stirred a doubt: Were all dreams true?\\r\\n\\r\\nAnd what in truth was Africa?\\r\\n\\r\\nOne cloud-swept day a Seer appeared,\\r\\n\\r\\nAll closed and veiled as me he hailed\\r\\n\\r\\nAnd bid me make three journeys to the world\\r\\n\\r\\nSeeking all through their lengthened links\\r\\n\\r\\nThe endless Riddle of the Sphinx.\\r\\n\\r\\nI went to Moscow; Ignorance grown wise taught me Wisdom;\\r\\n\\r\\nI went to Peking: Poverty grown rich\\r\\n\\r\\nShowed me the wealth of Work\\r\\n\\r\\nI came to Accra.\\r\\n\\r\\nHere at last, I looked back on my Dream;\\r\\n\\r\\nI heard the Voice that loosed\\r\\n\\r\\nThe Long-looked dungeons of my soul\\r\\n\\r\\nI sensed that Africa had come\\r\\n\\r\\nNot up from Hell, but from the sum of Heaven\\u2019s glory.\\r\\n\\r\\nI lifted up mine eyes to Ghana\\r\\n\\r\\nAnd swept the hills with high Hosanna;\\r\\n\\r\\nAbove the sun my sight took flight\\r\\n\\r\\nTill from that pinnacle of light\\r\\n\\r\\nI saw dropped down this earth of crimson, green and gold\\r\\n\\r\\nRoaring with color, drums and song.\\r\\n\\r\\nHappy with dreams and deeds worth more than doing\\r\\n\\r\\nAround me velvet faces loomed\\r\\n\\r\\nBurnt by the kiss of everlasting suns\\r\\n\\r\\nUnder great stars of midnight glory\\r\\n\\r\\nTrees danced, and foliage sang;\\r\\n\\r\\nThe lilies hallelujah rang\\r\\n\\r\\nWhere robed with rule on Golden Stool\\r\\n\\r\\nThe gold-crowned Priests with duty done\\r\\n\\r\\nPour high libations to the sun\\r\\n\\r\\nAnd danced to gods.\\r\\n\\r\\nRed blood flowed rare \\u2019neath close-clung hair\\r\\n\\r\\nWhile subtle perfume filled the air\\r\\n\\r\\nAnd whirls and whirls of tiny curls\\r\\n\\r\\nCrowned heads.\\r\\n\\r\\nYet Ghana shows its might and power\\r\\n\\r\\nNot in its color nor its flower\\r\\n\\r\\nBut in its wondrous breadth of soul\\r\\n\\r\\nIts Joy of Life\\r\\n\\r\\nIts selfless role\\r\\n\\r\\nOf giving.\\r\\n\\r\\nSchool and clinic, home and hall\\r\\n\\r\\nRoad and garden bloom and call\\r\\n\\r\\nSocialism blossoms bold\\r\\n\\r\\nOn Communism centuries old.\\r\\n\\r\\nI lifted my last voice and cried\\r\\n\\r\\nI cried to heaven as I died:\\r\\n\\r\\nO turn me to the Golden Horde\\r\\n\\r\\nSummon all western nations\\r\\n\\r\\nToward the Rising Sun.\\r\\n\\r\\nFrom reeking West whose day is done,\\r\\n\\r\\nWho stink and stagger in their dung\\r\\n\\r\\nToward Africa, China, India\\u2019s strand\\r\\n\\r\\nWhere Kenya and Himalaya stand\\r\\n\\r\\nAnd Nile and Yang-tze roll:\\r\\n\\r\\nTurn every yearning face of man.\\r\\n\\r\\nCome with us, dark America:\\r\\n\\r\\nThe scum of Europe battened here\\r\\n\\r\\nAnd drowned a dream\\r\\n\\r\\nMade fetid swamp a refuge seem:\\r\\n\\r\\nEnslaved the Black and killed the Red\\r\\n\\r\\nAnd armed the Rich to loot the Dead;\\r\\n\\r\\nWorshipped the whores of Hollywood\\r\\n\\r\\nWhere once the Virgin Mary stood\\r\\n\\r\\nAnd lynched the Christ.\\r\\n\\r\\nAwake, awake, O sleeping world\\r\\n\\r\\nHonor the sun;\\r\\n\\r\\nWorship the stars, those vaster suns\\r\\n\\r\\nWho rule the night\\r\\n\\r\\nWhere black is bright\\r\\n\\r\\nAnd all unselfish work is right\\r\\n\\r\\nAnd Greed is Sin.\\r\\n\\r\\nAnd Africa leads on:\\r\\n\\r\\nPan Africa! \\nSource: PoetryFoundation.org - W. E. B. Du Bois\",\n          \"1\"\n        ],\n        \"semantic_type\": \"\",\n        \"description\": \"\"\n      }\n    }\n  ]\n}"
            }
          },
          "metadata": {},
          "execution_count": 40
        }
      ]
    },
    {
      "cell_type": "markdown",
      "source": [
        "**1. Analyse de la colonne `INSTRUCTION`**\n",
        "- **Count** : La colonne contient **277 instructions**, ce qui correspond au nombre total d'exemples dans l'ensemble de test.\n",
        "- **Unique** : Elle compte **261 instructions uniques**, ce qui montre qu'il existe des doublons dans les instructions.\n",
        "- **Top** : L'instruction la plus fréquente est **`\"I want a poem.\"`**, une demande générique de poème.\n",
        "- **Frequency** : Cette instruction apparaît **6 fois**, ce qui, indique une répétition modérée.\n",
        "\n",
        "**2. Analyse de la colonne `RESPONSE`**\n",
        "- **Count** : La colonne contient également **277 réponses**, correspondant parfaitement au nombre d'instructions. Cela montre qu'il y a une réponse pour chaque instruction dans l'ensemble de test.\n",
        "- **Unique** : Toutes les réponses sont **uniques** (277 uniques), ce qui signifie que chaque poème généré est distinct.\n",
        "- **Top** : La réponse la plus fréquente commence par **`\"Here's a poem I composed about Activities,Trav...\"`**.\n",
        "- **Frequency** : Cette réponse apparaît **une seule fois**, confirmant que l'ensemble de test présente une grande diversité dans les réponses."
      ],
      "metadata": {
        "id": "65v0JBqHXtR1"
      }
    },
    {
      "cell_type": "markdown",
      "source": [
        "**Analyse des Longueurs des instruction et response**\n"
      ],
      "metadata": {
        "id": "SZ5CnsNJNzXs"
      }
    },
    {
      "cell_type": "code",
      "source": [
        "from collections import Counter"
      ],
      "metadata": {
        "id": "O_RpwlV9Ny_B"
      },
      "execution_count": 41,
      "outputs": []
    },
    {
      "cell_type": "code",
      "source": [
        "train_df['INSTRUCTION_length'] = train_df['INSTRUCTION'].apply(len)\n",
        "train_df['RESPONSE_length'] = train_df['RESPONSE'].apply(len)\n",
        "\n",
        "# Statistiques descriptives\n",
        "train_df[['INSTRUCTION_length', 'RESPONSE_length']].describe()"
      ],
      "metadata": {
        "colab": {
          "base_uri": "https://localhost:8080/",
          "height": 300
        },
        "id": "xwFstBUsNy5n",
        "outputId": "a084c97a-29ab-4e31-f4d3-b00944870c98"
      },
      "execution_count": 42,
      "outputs": [
        {
          "output_type": "execute_result",
          "data": {
            "text/plain": [
              "       INSTRUCTION_length  RESPONSE_length\n",
              "count         2217.000000      2217.000000\n",
              "mean           174.997294      1548.333333\n",
              "std            528.961460      2230.326991\n",
              "min             12.000000        75.000000\n",
              "25%             66.000000       666.000000\n",
              "50%             97.000000      1054.000000\n",
              "75%            146.000000      1720.000000\n",
              "max          19026.000000     54365.000000"
            ],
            "text/html": [
              "\n",
              "  <div id=\"df-fca7d075-94bd-45fc-94ff-0439a02cb757\" class=\"colab-df-container\">\n",
              "    <div>\n",
              "<style scoped>\n",
              "    .dataframe tbody tr th:only-of-type {\n",
              "        vertical-align: middle;\n",
              "    }\n",
              "\n",
              "    .dataframe tbody tr th {\n",
              "        vertical-align: top;\n",
              "    }\n",
              "\n",
              "    .dataframe thead th {\n",
              "        text-align: right;\n",
              "    }\n",
              "</style>\n",
              "<table border=\"1\" class=\"dataframe\">\n",
              "  <thead>\n",
              "    <tr style=\"text-align: right;\">\n",
              "      <th></th>\n",
              "      <th>INSTRUCTION_length</th>\n",
              "      <th>RESPONSE_length</th>\n",
              "    </tr>\n",
              "  </thead>\n",
              "  <tbody>\n",
              "    <tr>\n",
              "      <th>count</th>\n",
              "      <td>2217.000000</td>\n",
              "      <td>2217.000000</td>\n",
              "    </tr>\n",
              "    <tr>\n",
              "      <th>mean</th>\n",
              "      <td>174.997294</td>\n",
              "      <td>1548.333333</td>\n",
              "    </tr>\n",
              "    <tr>\n",
              "      <th>std</th>\n",
              "      <td>528.961460</td>\n",
              "      <td>2230.326991</td>\n",
              "    </tr>\n",
              "    <tr>\n",
              "      <th>min</th>\n",
              "      <td>12.000000</td>\n",
              "      <td>75.000000</td>\n",
              "    </tr>\n",
              "    <tr>\n",
              "      <th>25%</th>\n",
              "      <td>66.000000</td>\n",
              "      <td>666.000000</td>\n",
              "    </tr>\n",
              "    <tr>\n",
              "      <th>50%</th>\n",
              "      <td>97.000000</td>\n",
              "      <td>1054.000000</td>\n",
              "    </tr>\n",
              "    <tr>\n",
              "      <th>75%</th>\n",
              "      <td>146.000000</td>\n",
              "      <td>1720.000000</td>\n",
              "    </tr>\n",
              "    <tr>\n",
              "      <th>max</th>\n",
              "      <td>19026.000000</td>\n",
              "      <td>54365.000000</td>\n",
              "    </tr>\n",
              "  </tbody>\n",
              "</table>\n",
              "</div>\n",
              "    <div class=\"colab-df-buttons\">\n",
              "\n",
              "  <div class=\"colab-df-container\">\n",
              "    <button class=\"colab-df-convert\" onclick=\"convertToInteractive('df-fca7d075-94bd-45fc-94ff-0439a02cb757')\"\n",
              "            title=\"Convert this dataframe to an interactive table.\"\n",
              "            style=\"display:none;\">\n",
              "\n",
              "  <svg xmlns=\"http://www.w3.org/2000/svg\" height=\"24px\" viewBox=\"0 -960 960 960\">\n",
              "    <path d=\"M120-120v-720h720v720H120Zm60-500h600v-160H180v160Zm220 220h160v-160H400v160Zm0 220h160v-160H400v160ZM180-400h160v-160H180v160Zm440 0h160v-160H620v160ZM180-180h160v-160H180v160Zm440 0h160v-160H620v160Z\"/>\n",
              "  </svg>\n",
              "    </button>\n",
              "\n",
              "  <style>\n",
              "    .colab-df-container {\n",
              "      display:flex;\n",
              "      gap: 12px;\n",
              "    }\n",
              "\n",
              "    .colab-df-convert {\n",
              "      background-color: #E8F0FE;\n",
              "      border: none;\n",
              "      border-radius: 50%;\n",
              "      cursor: pointer;\n",
              "      display: none;\n",
              "      fill: #1967D2;\n",
              "      height: 32px;\n",
              "      padding: 0 0 0 0;\n",
              "      width: 32px;\n",
              "    }\n",
              "\n",
              "    .colab-df-convert:hover {\n",
              "      background-color: #E2EBFA;\n",
              "      box-shadow: 0px 1px 2px rgba(60, 64, 67, 0.3), 0px 1px 3px 1px rgba(60, 64, 67, 0.15);\n",
              "      fill: #174EA6;\n",
              "    }\n",
              "\n",
              "    .colab-df-buttons div {\n",
              "      margin-bottom: 4px;\n",
              "    }\n",
              "\n",
              "    [theme=dark] .colab-df-convert {\n",
              "      background-color: #3B4455;\n",
              "      fill: #D2E3FC;\n",
              "    }\n",
              "\n",
              "    [theme=dark] .colab-df-convert:hover {\n",
              "      background-color: #434B5C;\n",
              "      box-shadow: 0px 1px 3px 1px rgba(0, 0, 0, 0.15);\n",
              "      filter: drop-shadow(0px 1px 2px rgba(0, 0, 0, 0.3));\n",
              "      fill: #FFFFFF;\n",
              "    }\n",
              "  </style>\n",
              "\n",
              "    <script>\n",
              "      const buttonEl =\n",
              "        document.querySelector('#df-fca7d075-94bd-45fc-94ff-0439a02cb757 button.colab-df-convert');\n",
              "      buttonEl.style.display =\n",
              "        google.colab.kernel.accessAllowed ? 'block' : 'none';\n",
              "\n",
              "      async function convertToInteractive(key) {\n",
              "        const element = document.querySelector('#df-fca7d075-94bd-45fc-94ff-0439a02cb757');\n",
              "        const dataTable =\n",
              "          await google.colab.kernel.invokeFunction('convertToInteractive',\n",
              "                                                    [key], {});\n",
              "        if (!dataTable) return;\n",
              "\n",
              "        const docLinkHtml = 'Like what you see? Visit the ' +\n",
              "          '<a target=\"_blank\" href=https://colab.research.google.com/notebooks/data_table.ipynb>data table notebook</a>'\n",
              "          + ' to learn more about interactive tables.';\n",
              "        element.innerHTML = '';\n",
              "        dataTable['output_type'] = 'display_data';\n",
              "        await google.colab.output.renderOutput(dataTable, element);\n",
              "        const docLink = document.createElement('div');\n",
              "        docLink.innerHTML = docLinkHtml;\n",
              "        element.appendChild(docLink);\n",
              "      }\n",
              "    </script>\n",
              "  </div>\n",
              "\n",
              "\n",
              "<div id=\"df-11d780d3-bcc3-44d1-bafc-ee10f45b2179\">\n",
              "  <button class=\"colab-df-quickchart\" onclick=\"quickchart('df-11d780d3-bcc3-44d1-bafc-ee10f45b2179')\"\n",
              "            title=\"Suggest charts\"\n",
              "            style=\"display:none;\">\n",
              "\n",
              "<svg xmlns=\"http://www.w3.org/2000/svg\" height=\"24px\"viewBox=\"0 0 24 24\"\n",
              "     width=\"24px\">\n",
              "    <g>\n",
              "        <path d=\"M19 3H5c-1.1 0-2 .9-2 2v14c0 1.1.9 2 2 2h14c1.1 0 2-.9 2-2V5c0-1.1-.9-2-2-2zM9 17H7v-7h2v7zm4 0h-2V7h2v10zm4 0h-2v-4h2v4z\"/>\n",
              "    </g>\n",
              "</svg>\n",
              "  </button>\n",
              "\n",
              "<style>\n",
              "  .colab-df-quickchart {\n",
              "      --bg-color: #E8F0FE;\n",
              "      --fill-color: #1967D2;\n",
              "      --hover-bg-color: #E2EBFA;\n",
              "      --hover-fill-color: #174EA6;\n",
              "      --disabled-fill-color: #AAA;\n",
              "      --disabled-bg-color: #DDD;\n",
              "  }\n",
              "\n",
              "  [theme=dark] .colab-df-quickchart {\n",
              "      --bg-color: #3B4455;\n",
              "      --fill-color: #D2E3FC;\n",
              "      --hover-bg-color: #434B5C;\n",
              "      --hover-fill-color: #FFFFFF;\n",
              "      --disabled-bg-color: #3B4455;\n",
              "      --disabled-fill-color: #666;\n",
              "  }\n",
              "\n",
              "  .colab-df-quickchart {\n",
              "    background-color: var(--bg-color);\n",
              "    border: none;\n",
              "    border-radius: 50%;\n",
              "    cursor: pointer;\n",
              "    display: none;\n",
              "    fill: var(--fill-color);\n",
              "    height: 32px;\n",
              "    padding: 0;\n",
              "    width: 32px;\n",
              "  }\n",
              "\n",
              "  .colab-df-quickchart:hover {\n",
              "    background-color: var(--hover-bg-color);\n",
              "    box-shadow: 0 1px 2px rgba(60, 64, 67, 0.3), 0 1px 3px 1px rgba(60, 64, 67, 0.15);\n",
              "    fill: var(--button-hover-fill-color);\n",
              "  }\n",
              "\n",
              "  .colab-df-quickchart-complete:disabled,\n",
              "  .colab-df-quickchart-complete:disabled:hover {\n",
              "    background-color: var(--disabled-bg-color);\n",
              "    fill: var(--disabled-fill-color);\n",
              "    box-shadow: none;\n",
              "  }\n",
              "\n",
              "  .colab-df-spinner {\n",
              "    border: 2px solid var(--fill-color);\n",
              "    border-color: transparent;\n",
              "    border-bottom-color: var(--fill-color);\n",
              "    animation:\n",
              "      spin 1s steps(1) infinite;\n",
              "  }\n",
              "\n",
              "  @keyframes spin {\n",
              "    0% {\n",
              "      border-color: transparent;\n",
              "      border-bottom-color: var(--fill-color);\n",
              "      border-left-color: var(--fill-color);\n",
              "    }\n",
              "    20% {\n",
              "      border-color: transparent;\n",
              "      border-left-color: var(--fill-color);\n",
              "      border-top-color: var(--fill-color);\n",
              "    }\n",
              "    30% {\n",
              "      border-color: transparent;\n",
              "      border-left-color: var(--fill-color);\n",
              "      border-top-color: var(--fill-color);\n",
              "      border-right-color: var(--fill-color);\n",
              "    }\n",
              "    40% {\n",
              "      border-color: transparent;\n",
              "      border-right-color: var(--fill-color);\n",
              "      border-top-color: var(--fill-color);\n",
              "    }\n",
              "    60% {\n",
              "      border-color: transparent;\n",
              "      border-right-color: var(--fill-color);\n",
              "    }\n",
              "    80% {\n",
              "      border-color: transparent;\n",
              "      border-right-color: var(--fill-color);\n",
              "      border-bottom-color: var(--fill-color);\n",
              "    }\n",
              "    90% {\n",
              "      border-color: transparent;\n",
              "      border-bottom-color: var(--fill-color);\n",
              "    }\n",
              "  }\n",
              "</style>\n",
              "\n",
              "  <script>\n",
              "    async function quickchart(key) {\n",
              "      const quickchartButtonEl =\n",
              "        document.querySelector('#' + key + ' button');\n",
              "      quickchartButtonEl.disabled = true;  // To prevent multiple clicks.\n",
              "      quickchartButtonEl.classList.add('colab-df-spinner');\n",
              "      try {\n",
              "        const charts = await google.colab.kernel.invokeFunction(\n",
              "            'suggestCharts', [key], {});\n",
              "      } catch (error) {\n",
              "        console.error('Error during call to suggestCharts:', error);\n",
              "      }\n",
              "      quickchartButtonEl.classList.remove('colab-df-spinner');\n",
              "      quickchartButtonEl.classList.add('colab-df-quickchart-complete');\n",
              "    }\n",
              "    (() => {\n",
              "      let quickchartButtonEl =\n",
              "        document.querySelector('#df-11d780d3-bcc3-44d1-bafc-ee10f45b2179 button');\n",
              "      quickchartButtonEl.style.display =\n",
              "        google.colab.kernel.accessAllowed ? 'block' : 'none';\n",
              "    })();\n",
              "  </script>\n",
              "</div>\n",
              "\n",
              "    </div>\n",
              "  </div>\n"
            ],
            "application/vnd.google.colaboratory.intrinsic+json": {
              "type": "dataframe",
              "summary": "{\n  \"name\": \"train_df[['INSTRUCTION_length', 'RESPONSE_length']]\",\n  \"rows\": 8,\n  \"fields\": [\n    {\n      \"column\": \"INSTRUCTION_length\",\n      \"properties\": {\n        \"dtype\": \"number\",\n        \"std\": 6603.750729652251,\n        \"min\": 12.0,\n        \"max\": 19026.0,\n        \"num_unique_values\": 8,\n        \"samples\": [\n          174.99729364005412,\n          97.0,\n          2217.0\n        ],\n        \"semantic_type\": \"\",\n        \"description\": \"\"\n      }\n    },\n    {\n      \"column\": \"RESPONSE_length\",\n      \"properties\": {\n        \"dtype\": \"number\",\n        \"std\": 18755.36497669874,\n        \"min\": 75.0,\n        \"max\": 54365.0,\n        \"num_unique_values\": 8,\n        \"samples\": [\n          1548.3333333333333,\n          1054.0,\n          2217.0\n        ],\n        \"semantic_type\": \"\",\n        \"description\": \"\"\n      }\n    }\n  ]\n}"
            }
          },
          "metadata": {},
          "execution_count": 42
        }
      ]
    },
    {
      "cell_type": "markdown",
      "source": [
        "- Les instructions ont une longueur moyenne de **174 caractères**, avec un minimum de **12** et un maximum de **19026 caractères**, montrant une grande variabilité. La plupart des instructions sont courtes, comme indiqué par le troisième quartile (**146 caractères**), mais l'écart-type élevé (**528 caractères**) révèle la présence de quelques instructions extrêmement longues.\n",
        "\n",
        "- Les réponses ont une longueur moyenne de **1 548 caractères**, avec un minimum de **75** et un maximum de **54 365 caractères**, soulignant une diversité encore plus marquée. Bien que la majorité des réponses soient modérées (75 % ≤ **1 720 caractères**), l'écart-type élevé (**2230 caractères**) met en évidence des poèmes très longs qui pourraient nécessiter une troncature pour un traitement efficace."
      ],
      "metadata": {
        "id": "hXQD4ozKZxlV"
      }
    },
    {
      "cell_type": "markdown",
      "source": [
        "**Répartition des Catégories de Longueur**"
      ],
      "metadata": {
        "id": "4R4cGU_tPc4h"
      }
    },
    {
      "cell_type": "code",
      "source": [
        "def categorize_length(length):\n",
        "    if length < 50:\n",
        "        return 'Court'\n",
        "    elif 50 <= length < 150:\n",
        "        return 'Moyen'\n",
        "    else:\n",
        "        return 'Long'\n",
        "\n",
        "train_df['INSTRUCTION_category'] = train_df['INSTRUCTION_length'].apply(categorize_length)\n",
        "train_df['RESPONSE_category'] = train_df['RESPONSE_length'].apply(categorize_length)"
      ],
      "metadata": {
        "id": "RWFJYI15OnC8"
      },
      "execution_count": 43,
      "outputs": []
    },
    {
      "cell_type": "code",
      "source": [
        "plt.figure(figsize=(10, 6))\n",
        "sns.countplot(x='INSTRUCTION_category', data=train_df, palette=\"pastel\", order=['Court', 'Moyen', 'Long'])\n",
        "plt.title('Répartition des catégories de longueur (INSTRUCTION)')\n",
        "plt.xlabel('Catégorie de longueur')\n",
        "plt.ylabel('Nombre')\n",
        "plt.show()"
      ],
      "metadata": {
        "colab": {
          "base_uri": "https://localhost:8080/",
          "height": 525
        },
        "id": "cbeYi64dO_iE",
        "outputId": "861a0921-6b37-4f10-9249-8ae58f563605"
      },
      "execution_count": 44,
      "outputs": [
        {
          "output_type": "stream",
          "name": "stderr",
          "text": [
            "<ipython-input-44-04b6cbd5d1cf>:2: FutureWarning: \n",
            "\n",
            "Passing `palette` without assigning `hue` is deprecated and will be removed in v0.14.0. Assign the `x` variable to `hue` and set `legend=False` for the same effect.\n",
            "\n",
            "  sns.countplot(x='INSTRUCTION_category', data=train_df, palette=\"pastel\", order=['Court', 'Moyen', 'Long'])\n"
          ]
        },
        {
          "output_type": "display_data",
          "data": {
            "text/plain": [
              "<Figure size 1000x600 with 1 Axes>"
            ],
            "image/png": "[encoded data removed]"
          },
          "metadata": {}
        }
      ]
    },
    {
      "cell_type": "markdown",
      "source": [
        "La majorité des instructions se trouvent dans la catégorie **Moyen** (50-150 caractères), ce qui suggère que les consignes sont généralement bien équilibrées entre brièveté et clarté. Les instructions longues (> 150 caractères) constituent une part notable, apportant probablement un contexte plus détaillé pour des réponses plus complexes. Enfin, les instructions courtes (< 50 caractères) sont les moins fréquentes, reflétant une préférence pour des consignes fournissant un minimum de contexte. Cette répartition diversifiée offre un bon équilibre pour entraîner un modèle capable de gérer différentes complexités d'instructions."
      ],
      "metadata": {
        "id": "XUyzHY52cu1A"
      }
    },
    {
      "cell_type": "code",
      "source": [
        "plt.figure(figsize=(10, 6))\n",
        "sns.countplot(x='RESPONSE_category', data=train_df, palette=\"pastel\", order=['Court', 'Moyen', 'Long'])\n",
        "plt.title('Répartition des catégories de longueur (RESPONSE)')\n",
        "plt.xlabel('Catégorie de longueur')\n",
        "plt.ylabel('Nombre')\n",
        "plt.show()"
      ],
      "metadata": {
        "colab": {
          "base_uri": "https://localhost:8080/",
          "height": 525
        },
        "id": "ux8V2_xPPBLW",
        "outputId": "d7da6eb9-9689-4dd5-8ef8-e952af9136c2"
      },
      "execution_count": 45,
      "outputs": [
        {
          "output_type": "stream",
          "name": "stderr",
          "text": [
            "<ipython-input-45-8c1d34c3c3d3>:2: FutureWarning: \n",
            "\n",
            "Passing `palette` without assigning `hue` is deprecated and will be removed in v0.14.0. Assign the `x` variable to `hue` and set `legend=False` for the same effect.\n",
            "\n",
            "  sns.countplot(x='RESPONSE_category', data=train_df, palette=\"pastel\", order=['Court', 'Moyen', 'Long'])\n"
          ]
        },
        {
          "output_type": "display_data",
          "data": {
            "text/plain": [
              "<Figure size 1000x600 with 1 Axes>"
            ],
            "image/png": "[encoded data removed]"
          },
          "metadata": {}
        }
      ]
    },
    {
      "cell_type": "markdown",
      "source": [
        "La majorité des réponses appartiennent à la catégorie **Long** (> 150 caractères), ce qui indique que les poèmes générés sont généralement détaillés et développés, fournissant un contenu riche en réponse aux instructions. Les réponses de longueur moyenne (50-150 caractères) sont rares, tandis que les réponses courtes (< 50 caractères) sont presque inexistantes, montrant une préférence marquée pour des réponses substantiellement élaborées. Cette répartition est cohérente avec l'objectif de générer des poèmes riches et expressifs, bien adaptés au contexte des instructions."
      ],
      "metadata": {
        "id": "OiZPYl_Zdk0o"
      }
    },
    {
      "cell_type": "markdown",
      "source": [
        "**Distribution des Longueurs**"
      ],
      "metadata": {
        "id": "0CbVyaJoPkci"
      }
    },
    {
      "cell_type": "code",
      "source": [
        "# Visualisation des distributions des longueurs\n",
        "import matplotlib.pyplot as plt\n",
        "import seaborn as sns\n",
        "\n",
        "plt.figure(figsize=(12, 6))\n",
        "sns.histplot(train_df['INSTRUCTION_length'], bins=30, kde=True, label=\"INSTRUCTION Lengths\", color='blue')\n",
        "sns.histplot(train_df['RESPONSE_length'], bins=30, kde=True, label=\"RESPONSE Lengths\", color='green')\n",
        "plt.title('Distribution des longueurs des textes')\n",
        "plt.xlabel('Longueur des textes')\n",
        "plt.ylabel('Fréquence')\n",
        "plt.legend()\n",
        "plt.show()"
      ],
      "metadata": {
        "colab": {
          "base_uri": "https://localhost:8080/",
          "height": 357
        },
        "id": "9NCt4I5sPpLT",
        "outputId": "b26b1d1e-d563-4b5e-847e-3d6870e1f646"
      },
      "execution_count": 46,
      "outputs": [
        {
          "output_type": "display_data",
          "data": {
            "text/plain": [
              "<Figure size 1200x600 with 1 Axes>"
            ],
            "image/png": "[encoded data removed]"
          },
          "metadata": {}
        }
      ]
    },
    {
      "cell_type": "markdown",
      "source": [
        "Ce graphe montre une nette différence entre la distribution des longueurs des instructions et des réponses. Les instructions, généralement comprises entre **50 et 200 caractères**, sont relativement courtes et concentrées autour d'une moyenne basse, indiquant leur rôle de consignes claires et concises. En revanche, les réponses sont beaucoup plus longues, avec une large distribution allant jusqu'à **plus de 50 000 caractères**, reflétant la richesse et la profondeur des poèmes générés. Cette distinction est cohérente avec le besoin d'instructions simples pour produire des sorties détaillées et élaborées."
      ],
      "metadata": {
        "id": "gJl9PP0hgfzR"
      }
    },
    {
      "cell_type": "markdown",
      "source": [
        "**Analyse de la diversité lexicale**"
      ],
      "metadata": {
        "id": "Z34_hFLqiSEN"
      }
    },
    {
      "cell_type": "code",
      "source": [
        "import re\n",
        "\n",
        "def calculate_lexical(column):\n",
        "    # Combiner tout le texte en une seule chaîne\n",
        "    all_text = ' '.join(column)\n",
        "\n",
        "    # convertir tout en minuscules et retirer les ponctuations\n",
        "    all_text_cleaned = re.sub(r'[^\\w\\s]', '', all_text.lower())\n",
        "\n",
        "    # Séparer les mots\n",
        "    words = all_text_cleaned.split()\n",
        "\n",
        "    # Identifier les mots uniques\n",
        "    unique_words = set(words)\n",
        "\n",
        "    # Calculer la diversité lexicale\n",
        "    return len(unique_words) / len(words) if len(words) > 0 else 0"
      ],
      "metadata": {
        "id": "h0QZp16koblD"
      },
      "execution_count": 47,
      "outputs": []
    },
    {
      "cell_type": "code",
      "source": [
        "INSTRUCTION_diversity = calculate_lexical(train_df['INSTRUCTION'])\n",
        "RESPONSE_diversity = calculate_lexical(train_df['RESPONSE'])\n",
        "\n",
        "print(\"Diversité lexicale (INSTRUCTION): \", INSTRUCTION_diversity)\n",
        "print(\"Diversité lexicale (RESPONSE): \", RESPONSE_diversity)"
      ],
      "metadata": {
        "colab": {
          "base_uri": "https://localhost:8080/"
        },
        "id": "aW05hjWeoihd",
        "outputId": "061c6c28-7db7-4e47-bbc9-18531f1eb616"
      },
      "execution_count": 48,
      "outputs": [
        {
          "output_type": "stream",
          "name": "stdout",
          "text": [
            "Diversité lexicale (INSTRUCTION):  0.1579428989751098\n",
            "Diversité lexicale (RESPONSE):  0.08646411828014161\n"
          ]
        }
      ]
    },
    {
      "cell_type": "markdown",
      "source": [
        "**1. Diversité lexicale des instructions** : **0.16**  \n",
        "   - Environ **16%** des mots dans les instructions sont uniques, ce qui montre une diversité modérée. Cela reflète la variété des consignes, avec des termes qui reviennent fréquemment pour structurer les demandes.\n",
        "\n",
        "**2. Diversité lexicale des réponses** : **0.09%**  \n",
        "   - La diversité lexicale est nettement plus faible pour les réponses, avec environ **9%** de mots uniques. Cela indique une utilisation récurrente de motifs poétiques ou stylistiques propres à la génération de poèmes."
      ],
      "metadata": {
        "id": "yvlCN8VJrldZ"
      }
    },
    {
      "cell_type": "markdown",
      "source": [
        "**Corrélation entre la longueur des instructions et des poeme**"
      ],
      "metadata": {
        "id": "w3_S3YHRqyN5"
      }
    },
    {
      "cell_type": "code",
      "source": [
        "length_correlation = train_df['INSTRUCTION_length'].corr(train_df['RESPONSE_length'])\n",
        "print(\"Corrélation des longueurs: \", length_correlation)"
      ],
      "metadata": {
        "colab": {
          "base_uri": "https://localhost:8080/"
        },
        "id": "UQAPRAgVw7nI",
        "outputId": "da0a3a3e-629f-4d20-9712-7519343fc05d"
      },
      "execution_count": 49,
      "outputs": [
        {
          "output_type": "stream",
          "name": "stdout",
          "text": [
            "Corrélation des longueurs:  -0.06268968042780167\n"
          ]
        }
      ]
    },
    {
      "cell_type": "markdown",
      "source": [
        "La corrélation légèrement négative (**-0.06**) entre la longueur des instructions et celle des réponses indique qu'il n'existe presque aucune relation linéaire entre ces deux variables. Cela suggère que la longueur des poèmes générés ne dépend pas directement de la longueur des instructions."
      ],
      "metadata": {
        "id": "IQdSiIYNtD1O"
      }
    },
    {
      "cell_type": "markdown",
      "source": [
        "**Similarité entre instructions et réponses**"
      ],
      "metadata": {
        "id": "Hcm5Ld_Eq6BL"
      }
    },
    {
      "cell_type": "code",
      "source": [
        "from sklearn.feature_extraction.text import TfidfVectorizer\n",
        "from sklearn.metrics.pairwise import cosine_similarity\n",
        "\n",
        "# Vectorisation TF-IDF\n",
        "vectorizer = TfidfVectorizer(stop_words='english')\n",
        "tfidf_matrix = vectorizer.fit_transform(train_df['INSTRUCTION'] + train_df['RESPONSE'])\n",
        "\n",
        "# Calcul de similarité moyenne\n",
        "cosine_similarities = cosine_similarity(tfidf_matrix)\n",
        "average_similarity = cosine_similarities.mean()\n",
        "\n",
        "average_similarity"
      ],
      "metadata": {
        "colab": {
          "base_uri": "https://localhost:8080/"
        },
        "id": "nAVrCuXOx-Oc",
        "outputId": "50376533-30df-4880-f53b-2e750b91ab33"
      },
      "execution_count": 50,
      "outputs": [
        {
          "output_type": "execute_result",
          "data": {
            "text/plain": [
              "0.025670637650026643"
            ]
          },
          "metadata": {},
          "execution_count": 50
        }
      ]
    },
    {
      "cell_type": "markdown",
      "source": [
        "La similarité cosinus moyenne est faible (**0.0256**), indiquant que les instructions et réponses du dataset ont un contenu lexical globalement peu similaire, ce qui reflète une bonne diversité dans les données."
      ],
      "metadata": {
        "id": "OEXrIRLOwcTV"
      }
    },
    {
      "cell_type": "code",
      "source": [
        "def classify_sentence_type(text):\n",
        "    if '?' in text:\n",
        "        return 'question'\n",
        "    elif '!' in text:\n",
        "        return 'exclamation'\n",
        "    else:\n",
        "        return 'neutral'\n",
        "\n",
        "train_df['INSTRUCTION_type'] = train_df['INSTRUCTION'].apply(classify_sentence_type)\n",
        "train_df['RESPONSE_type'] = train_df['RESPONSE'].apply(classify_sentence_type)\n",
        "\n",
        "# Proportions des types\n",
        "INSTRUCTION_type_distribution = train_df['INSTRUCTION_type'].value_counts(normalize=True)\n",
        "RESPONSE_type_distribution = train_df['RESPONSE_type'].value_counts(normalize=True)"
      ],
      "metadata": {
        "id": "tNnxnwkeyUUp"
      },
      "execution_count": 51,
      "outputs": []
    },
    {
      "cell_type": "code",
      "source": [
        "print(\"Instruction Type Distribution: \\n\",INSTRUCTION_type_distribution)"
      ],
      "metadata": {
        "colab": {
          "base_uri": "https://localhost:8080/"
        },
        "id": "6-CKja2Iv709",
        "outputId": "411a4fef-a3fb-47a3-af8b-59251ae3e23f"
      },
      "execution_count": 52,
      "outputs": [
        {
          "output_type": "stream",
          "name": "stdout",
          "text": [
            "Instruction Type Distribution: \n",
            " INSTRUCTION_type\n",
            "neutral        0.755525\n",
            "question       0.241768\n",
            "exclamation    0.002706\n",
            "Name: proportion, dtype: float64\n"
          ]
        }
      ]
    },
    {
      "cell_type": "code",
      "source": [
        "print(\"Resonse Type Distribution: \\n\",RESPONSE_type_distribution)"
      ],
      "metadata": {
        "colab": {
          "base_uri": "https://localhost:8080/"
        },
        "id": "pLKYXqwlv-Zr",
        "outputId": "ec634a5a-443a-401c-f8f3-b0fd3a5aceb1"
      },
      "execution_count": 53,
      "outputs": [
        {
          "output_type": "stream",
          "name": "stdout",
          "text": [
            "Resonse Type Distribution: \n",
            " RESPONSE_type\n",
            "neutral        0.524132\n",
            "question       0.341001\n",
            "exclamation    0.134867\n",
            "Name: proportion, dtype: float64\n"
          ]
        }
      ]
    },
    {
      "cell_type": "code",
      "source": [
        "# Visualisation des distributions des types\n",
        "plt.figure(figsize=(12, 6))\n",
        "\n",
        "# Distribution des types des instructions\n",
        "plt.subplot(1, 2, 1)\n",
        "INSTRUCTION_type_distribution.plot(kind='bar', color='skyblue', edgecolor='black')\n",
        "plt.title('Répartition des Types - INSTRUCTION')\n",
        "plt.xlabel('Type de Contenu')\n",
        "plt.ylabel('Proportion')\n",
        "plt.ylim(0, 0.7)\n",
        "\n",
        "# Distribution des types des réponse\n",
        "plt.subplot(1, 2, 2)\n",
        "RESPONSE_type_distribution.plot(kind='bar', color='orange', edgecolor='black')\n",
        "plt.title('Répartition des Types - RESPONSE')\n",
        "plt.xlabel('Type de Contenu')\n",
        "plt.ylabel('Proportion')\n",
        "plt.ylim(0, 0.7)\n",
        "\n",
        "plt.tight_layout()\n",
        "plt.show()"
      ],
      "metadata": {
        "colab": {
          "base_uri": "https://localhost:8080/",
          "height": 329
        },
        "id": "zeWsjUzhyomf",
        "outputId": "7c59c02c-552f-4ff2-fcab-319da9470cc6"
      },
      "execution_count": 54,
      "outputs": [
        {
          "output_type": "display_data",
          "data": {
            "text/plain": [
              "<Figure size 1200x600 with 2 Axes>"
            ],
            "image/png": "[encoded data removed]"
          },
          "metadata": {}
        }
      ]
    },
    {
      "cell_type": "markdown",
      "source": [
        "**1. Instructions (INSTRUCTION)** :\n",
        "   - La majorité des instructions (**75%**) sont de type **neutre**, indiquant qu'elles sont souvent des demandes ou des consignes simples, sans question ni exclamation.\n",
        "   - Les instructions de type **question** représentent environ **24%**, ce qui reflète des demandes formulées sous forme interrogative.\n",
        "   - Les instructions avec des exclamations sont très rares (**0.2%**), soulignant que peu de consignes expriment un ton particulièrement emphatique.\n",
        "\n",
        "**2. Réponses (RESPONSE)** :\n",
        "   - Les réponses **neutres** restent dominantes (**52%**), mais leur proportion est réduite par rapport aux instructions.\n",
        "   - Les réponses de type **question** augmentent significativement (**34%**), ce qui peut refléter un style interactif ou des réponses cherchant à engager l'utilisateur.\n",
        "   - Les réponses avec des **exclamations** sont également plus fréquentes (**13%**), probablement en raison du style poétique qui favorise des expressions emphatiques.\n",
        "\n",
        "Ce contraste montre que les réponses adoptent un style plus expressif et interactif, s'écartant des instructions qui sont principalement neutres et informatives."
      ],
      "metadata": {
        "id": "qmrIOnOT2404"
      }
    },
    {
      "cell_type": "markdown",
      "source": [
        "#**2. Nettoyage des données**"
      ],
      "metadata": {
        "id": "vy417It8y_xi"
      }
    },
    {
      "cell_type": "markdown",
      "source": [
        "Après toute cette exploration effectuée sur nos données (longueurs, similarités, etc.), nous pouvons affirmer que nos données sont bien nettoyées et prêtes à être utilisées pour le fine-tuning de notre modèle 'Mistral'.\n",
        "C'est ce que nous allons voir dans la suite."
      ],
      "metadata": {
        "id": "cu56KvqMB63Z"
      }
    },
    {
      "cell_type": "markdown",
      "source": [
        "#**3. Préparation des données** :"
      ],
      "metadata": {
        "id": "zQVkLa4FDE3x"
      }
    },
    {
      "cell_type": "markdown",
      "source": [
        "Configuration de l'utilisation du GPU"
      ],
      "metadata": {
        "id": "C2c2NpyHUqkI"
      }
    },
    {
      "cell_type": "code",
      "source": [
        "import torch\n",
        "device_map = {\"\": torch.cuda.current_device()} if torch.cuda.is_available() else None"
      ],
      "metadata": {
        "id": "7DQwcp3_6teq"
      },
      "execution_count": 55,
      "outputs": []
    },
    {
      "cell_type": "markdown",
      "source": [
        "Authentification avec Hugging Face"
      ],
      "metadata": {
        "id": "hntRTROyU_3Y"
      }
    },
    {
      "cell_type": "markdown",
      "source": [
        "Chargement du modèle et du tokenizer et application de QLoRA"
      ],
      "metadata": {
        "id": "JKnAJAGRVSYJ"
      }
    },
    {
      "cell_type": "code",
      "source": [
        "model_name = \"openai-community/gpt2\""
      ],
      "metadata": {
        "id": "5ljlm7KyyTTn"
      },
      "execution_count": null,
      "outputs": []
    },
    {
      "cell_type": "code",
      "source": [
        "from transformers import AutoTokenizer, AutoModelForCausalLM\n",
        "import torch\n",
        "\n",
        "tokenizer = AutoTokenizer.from_pretrained(model_name)\n",
        "model = AutoModelForCausalLM.from_pretrained(\n",
        "    model_name,\n",
        "    device_map=\"auto\",\n",
        "  )\n",
        "# Désactiver use_cache et activer gradient_checkpointing\n",
        "model.config.use_cache = False\n",
        "model.gradient_checkpointing_enable()"
      ],
      "metadata": {
        "id": "vZNQuwq56TwJ",
        "colab": {
          "base_uri": "https://localhost:8080/",
          "height": 310,
          "referenced_widgets": [
            "d1cc341109d14321a22717629ba198fb",
            "bfd18c68478c4e55afb406f3d2818308",
            "884584de286c44adabe6d1ad9e0f1c0d",
            "94652b4f952340d789efbfbb1556ce68",
            "a2b9371192c34ff5a25b085d897a7ede",
            "3e17ca0dfc7e4a4d9a7b5ef138b824ac",
            "34fe181a1be04b41a4ffd2fd50df5f24",
            "1c70c017f5e94327a21af185a86427d3",
            "f5bf05bc7c4f49a5b1d11a20e56c150b",
            "860141537d50454ba7ed2be067bbf4fe",
            "76b3df2d3fda4c709c6fcbce4feeb413",
            "b28969bb746a46babf63c0881ccda9af",
            "4ea033edd475435492e439449ebbc871",
            "1fcf6a966fe241b9adf3e65d42495368",
            "1ad823657f2c49589d3cc7aff98e6c5a",
            "28e0d0ab4881490b8f4ad9e33f4de2d2",
            "d617a1951b96487a81d2b9d9372205a5",
            "12bec7732a934e45a4b7880b499ad181",
            "ee14e19aed67460fa4cabdbc449daf66",
            "84b7186ce4274a989f5e6105db0504e3",
            "1d0515ac21e3429097e4560c7fe5ead6",
            "4895f6a187b3419abd52f4c84df0c548",
            "6058e4d0af574dcd9a0af350c9393092",
            "20a560d5d5964a0c90138bafb5079072",
            "44dbd17ba7464a12a8d4f3731389ae37",
            "a18187baef78497b98ec490450e46d44",
            "08b8b1faf25b454289d257e34b68de64",
            "69682104c5f04a16b8e16862168eefe0",
            "b315899c442942b8be9769950407b6ab",
            "f808518084d14141b9ebfa1b5185c7c2",
            "153fdbe4c9e1431da57c7fbf0b20b761",
            "ea9c38a0cca24fb99ac17a1be0570303",
            "f80c441d849c493ea14f56a370d718de",
            "014410edd3a74a16a270640cfeaa4703",
            "91cf35dfa0104693861ea3a9e845d1be",
            "c12baeb87ccf42f5b62cb63a2ed98a82",
            "9118d813152b486ca4d98b75edb02376",
            "2c5f718ec8144ef7936f9c11a829827d",
            "eae5bf8ba9bc405b998c811bde8dfa0e",
            "a4ec212feae7489b87221a7d725c08d4",
            "f489e1972c2845d9b306e581236fcd22",
            "e8c9c4fb15874dc1b7fa95f19936d711",
            "e9c18ee5d9c342b1b3d28fa94f1f0282",
            "070ed68aee3a44568fa372a83923a094",
            "cd737f04949349e6afc876c59c678b91",
            "96fb1dfaf25d4013b7c58a6f1cba5efe",
            "94aebc8ef84e42c38b4a1dd5b1e437d4",
            "061c019cc91e45e5a631a5a97ba42e0b",
            "31b1118189b2444c8772cdb01f955e9e",
            "75c3d68da9b64d6296e9e638b1cf0096",
            "05072a87a353423f8f6675cafbb22296",
            "305f7ba99286478faed9279469d3ae5e",
            "a9531507dcc1460cb6c0a96bf70a39fc",
            "7f310f27442f4a5691e5ec2fa24b0272",
            "b2c7ae7549de4d2a899ca5a0e29bc1f1",
            "e70dbc4972424b81bd6cbe81c67f31b4",
            "ab0f70147ca64b548570ec172bfb6433",
            "e3afc302094748a689e929d7069572de",
            "6af25031ff84443ca466ca219bbf57dc",
            "2aad2a0946cc4e158ebb2a637df7ef0d",
            "c63c71a946e64bffa5bac7f7b184a5ad",
            "b8c6d7bdb11d41fa9bf562cfc15dc3e6",
            "86675cfc34104b74a51a0a2c1ab1b319",
            "53b7e30ccafa43c99cdf4c12de4b9fec",
            "f39fc580d53a4362a4901a2f87c259cd",
            "9d2dee4c7d6149d9aa32daa49ea98ccc",
            "a89bf47b2b7a48af968daf53d7ac1538",
            "4c5836a024164487b18ce882c13f4376",
            "f0f4127d20e442a3ae716c5d4fe4102f",
            "c8a4fc09d24f49c78601f88328f994fd",
            "21bf9fc05d894b75830ace849ca5fb7b",
            "d8ee887b55fc4033b44fff163504d6ff",
            "b40e2972acc841259487b9f9ad36024b",
            "42a120b69629481598b14fb3e4a5a5a5",
            "79d7f902857b445eb6d2d7ba997ed0f5",
            "1ee6a4551ba74757a48ebdcae14d4a84",
            "8fba105884dd4e868ebb58b6797e044a",
            "66c21077fc8a41cb842f557db2471a81",
            "bf5dd8793bd7405a8f43db29968b9c2b",
            "a561440efb3146ecab7ee116c5118eed",
            "157c6b186a784d558ffb04a418f42bc5",
            "426e1c3f67af4fd684e3ad5643321881",
            "dcd9c86fc4e84292955afddd109cf698",
            "ea057f3d665a4106b9d420d97a74dcc6",
            "e1e38fefa567498abc605c82c50534e0",
            "19c909db93b44bf9b5d108866c507b23",
            "9723cb8590604a53814a71dabc6f3432",
            "3e0fd2e0695f424d8d4f4f2725371ad7"
          ]
        },
        "outputId": "9e042d2e-0f8d-4815-ea5e-959926d61166"
      },
      "execution_count": null,
      "outputs": [
        {
          "output_type": "stream",
          "name": "stderr",
          "text": [
            "The cache for model files in Transformers v4.22.0 has been updated. Migrating your old cache. This is a one-time only operation. You can interrupt this and resume the migration later on by calling `transformers.utils.move_cache()`.\n"
          ]
        },
        {
          "output_type": "display_data",
          "data": {
            "text/plain": [
              "0it [00:00, ?it/s]"
            ],
            "application/vnd.jupyter.widget-view+json": {
              "version_major": 2,
              "version_minor": 0,
              "model_id": "d1cc341109d14321a22717629ba198fb"
            }
          },
          "metadata": {}
        },
        {
          "output_type": "display_data",
          "data": {
            "text/plain": [
              "tokenizer_config.json:   0%|          | 0.00/26.0 [00:00<?, ?B/s]"
            ],
            "application/vnd.jupyter.widget-view+json": {
              "version_major": 2,
              "version_minor": 0,
              "model_id": "b28969bb746a46babf63c0881ccda9af"
            }
          },
          "metadata": {}
        },
        {
          "output_type": "display_data",
          "data": {
            "text/plain": [
              "config.json:   0%|          | 0.00/665 [00:00<?, ?B/s]"
            ],
            "application/vnd.jupyter.widget-view+json": {
              "version_major": 2,
              "version_minor": 0,
              "model_id": "6058e4d0af574dcd9a0af350c9393092"
            }
          },
          "metadata": {}
        },
        {
          "output_type": "display_data",
          "data": {
            "text/plain": [
              "vocab.json:   0%|          | 0.00/1.04M [00:00<?, ?B/s]"
            ],
            "application/vnd.jupyter.widget-view+json": {
              "version_major": 2,
              "version_minor": 0,
              "model_id": "014410edd3a74a16a270640cfeaa4703"
            }
          },
          "metadata": {}
        },
        {
          "output_type": "display_data",
          "data": {
            "text/plain": [
              "merges.txt:   0%|          | 0.00/456k [00:00<?, ?B/s]"
            ],
            "application/vnd.jupyter.widget-view+json": {
              "version_major": 2,
              "version_minor": 0,
              "model_id": "cd737f04949349e6afc876c59c678b91"
            }
          },
          "metadata": {}
        },
        {
          "output_type": "display_data",
          "data": {
            "text/plain": [
              "tokenizer.json:   0%|          | 0.00/1.36M [00:00<?, ?B/s]"
            ],
            "application/vnd.jupyter.widget-view+json": {
              "version_major": 2,
              "version_minor": 0,
              "model_id": "e70dbc4972424b81bd6cbe81c67f31b4"
            }
          },
          "metadata": {}
        },
        {
          "output_type": "display_data",
          "data": {
            "text/plain": [
              "model.safetensors:   0%|          | 0.00/548M [00:00<?, ?B/s]"
            ],
            "application/vnd.jupyter.widget-view+json": {
              "version_major": 2,
              "version_minor": 0,
              "model_id": "a89bf47b2b7a48af968daf53d7ac1538"
            }
          },
          "metadata": {}
        },
        {
          "output_type": "display_data",
          "data": {
            "text/plain": [
              "generation_config.json:   0%|          | 0.00/124 [00:00<?, ?B/s]"
            ],
            "application/vnd.jupyter.widget-view+json": {
              "version_major": 2,
              "version_minor": 0,
              "model_id": "66c21077fc8a41cb842f557db2471a81"
            }
          },
          "metadata": {}
        }
      ]
    },
    {
      "cell_type": "code",
      "source": [
        "tokenizer.pad_token = tokenizer.eos_token"
      ],
      "metadata": {
        "id": "91Xb6GuPMKr6"
      },
      "execution_count": null,
      "outputs": []
    },
    {
      "cell_type": "code",
      "source": [
        "from peft import LoraConfig, get_peft_model, prepare_model_for_kbit_training\n",
        "\n",
        "model = prepare_model_for_kbit_training(model)\n",
        "\n",
        "lora_config = LoraConfig(\n",
        "    r=64,\n",
        "    lora_alpha=16,\n",
        "    lora_dropout=0.1,\n",
        "    bias=\"none\",\n",
        "    task_type=\"CAUSAL_LM\",\n",
        ")\n",
        "\n",
        "model = get_peft_model(model, lora_config)"
      ],
      "metadata": {
        "id": "e0lwxONc7VCa",
        "colab": {
          "base_uri": "https://localhost:8080/"
        },
        "outputId": "9a3f7997-e3b9-4a69-dc76-ff869383920c"
      },
      "execution_count": null,
      "outputs": [
        {
          "output_type": "stream",
          "name": "stderr",
          "text": [
            "/usr/local/lib/python3.11/dist-packages/peft/tuners/lora/layer.py:1264: UserWarning: fan_in_fan_out is set to False but the target module is `Conv1D`. Setting fan_in_fan_out to True.\n",
            "  warnings.warn(\n"
          ]
        }
      ]
    },
    {
      "cell_type": "code",
      "source": [
        "model.print_trainable_parameters()"
      ],
      "metadata": {
        "colab": {
          "base_uri": "https://localhost:8080/"
        },
        "id": "caslWNS28Fv1",
        "outputId": "8b912a9e-30e4-4531-ed0b-1a7b39e773d9"
      },
      "execution_count": null,
      "outputs": [
        {
          "output_type": "stream",
          "name": "stdout",
          "text": [
            "trainable params: 2,359,296 || all params: 126,799,104 || trainable%: 1.8607\n"
          ]
        }
      ]
    },
    {
      "cell_type": "markdown",
      "source": [
        "Test du modèle avant le fine tuning"
      ],
      "metadata": {
        "id": "XjuZpdOMWEGH"
      }
    },
    {
      "cell_type": "markdown",
      "source": [
        "preparer les entre et les sorti avec la prompte :"
      ],
      "metadata": {
        "id": "ygZ4otQqRzz9"
      }
    },
    {
      "cell_type": "code",
      "source": [
        "Role = \"You are a poet who writes in a lyrical and evocative style\"\n",
        "Task = \"Write a poem based on this INSTRUCTION\""
      ],
      "metadata": {
        "id": "gFYU-peMSgcT"
      },
      "execution_count": 56,
      "outputs": []
    },
    {
      "cell_type": "code",
      "source": [
        "print(train_df['INSTRUCTION'][7187])"
      ],
      "metadata": {
        "colab": {
          "base_uri": "https://localhost:8080/"
        },
        "id": "tPrfGCVxYN4_",
        "outputId": "90ed6b3a-3bef-42a9-81b0-5778e1110760"
      },
      "execution_count": 56,
      "outputs": [
        {
          "output_type": "stream",
          "name": "stdout",
          "text": [
            "Make a poem with themes of Social Commentaries,Cities & Urban Life.Generate a poem with the following themes: Social Commentaries,Cities & Urban Life.\n"
          ]
        }
      ]
    },
    {
      "cell_type": "code",
      "source": [
        "input = f\"\"\"Role : {Role} \\n\\nINSTRUCTION: {train_df['INSTRUCTION'][7187]}\\nTask: {Task}\\n\\n assistant : \"\"\""
      ],
      "metadata": {
        "id": "sPKbPgpqYA3Q"
      },
      "execution_count": 57,
      "outputs": []
    },
    {
      "cell_type": "code",
      "source": [
        "tokenized_input = tokenizer(input, return_tensors=\"pt\", padding=True, truncation=True, max_length=300)"
      ],
      "metadata": {
        "id": "EPuKVqgsZrO-"
      },
      "execution_count": null,
      "outputs": []
    },
    {
      "cell_type": "code",
      "source": [
        "model_answer = model.generate(\n",
        "    input_ids = tokenized_input.input_ids.to(model.device),\n",
        "    attention_mask = tokenized_input.attention_mask.to(model.device),\n",
        "    max_new_tokens=350,\n",
        "    pad_token_id=tokenizer.eos_token_id,\n",
        "    do_sample=True,\n",
        "    # top_k=80,\n",
        "    num_return_sequences=1,\n",
        "    eos_token_id=tokenizer.eos_token_id,\n",
        "    )"
      ],
      "metadata": {
        "id": "ehJxMGiUaJJG"
      },
      "execution_count": null,
      "outputs": []
    },
    {
      "cell_type": "code",
      "source": [
        "decoded_answer = tokenizer.decode(model_answer[0], skip_special_tokens=True)\n",
        "print(decoded_answer)"
      ],
      "metadata": {
        "colab": {
          "base_uri": "https://localhost:8080/"
        },
        "id": "Hh2UJdJLa2_q",
        "outputId": "1a9aec86-515b-4768-9a36-1d59e1e315a5"
      },
      "execution_count": null,
      "outputs": [
        {
          "output_type": "stream",
          "name": "stdout",
          "text": [
            "Role : You are a poet who writes in a lyrical and evocative style \n",
            "\n",
            "INSTRUCTION: Make a poem with themes of Social Commentaries,Cities & Urban Life.Generate a poem with the following themes: Social Commentaries,Cities & Urban Life.\n",
            "Task: Write a poem based on this INSTRUCTION\n",
            "\n",
            " assistant : _________\n",
            "\n",
            "TEMPLATE: Draw a model of the poem you want to draw.\n",
            "\n",
            "\n",
            "INTERFACE: Draw a blank image on the page. Let it draw the picture you want.\n",
            "\n",
            "\n",
            "WORKSHOP: Write a notebook notebook. Write a journal. Write a sketch\n",
            "\n",
            "\n",
            "LOSS: Take out any possessions.\n",
            "\n",
            "\n",
            "RESURRECTION\n",
            "\n",
            "The project gets better.\n",
            "\n",
            "It gets harder.\n",
            "\n",
            "A whole series of changes happen.\n",
            "\n",
            "They make it easier for you to write this type of article.\n",
            "\n",
            "But they make it harder for you to write things in a way that would be enjoyable for someone who just wants to write something.\n",
            "\n",
            "It is this type OF writing that the author needs.\n",
            "\n",
            "No matter what he's trying to accomplish.\n",
            "\n",
            "This type of writing is very hard for everyone.\n",
            "\n",
            "You become much more skilled at it\n",
            "\n",
            "and are much more productive in writing them.\n",
            "\n",
            "\n",
            "TEMPLATE\n",
            "\n",
            "\n",
            "RESURRECTION\n",
            "\n",
            "Some more details on this type and this type of writing.\n",
            "\n",
            "\n",
            "RESURRECTION: If you are able to get the idea out of your head for you to be able to write on your own,\n",
            "\n",
            "then you can actually write it in other ways as well.\n",
            "\n",
            "If you are able to get the idea out of your head for you to be able to write on your own, it also means you have more power\n",
            "\n",
            "to get people to put their own stories on a page.\n",
            "\n",
            "A lot of writers have their self published stories on their own and their authors are more likely to think these things out.\n",
            "\n",
            "A lot of other people have their self published stories\n"
          ]
        }
      ]
    },
    {
      "cell_type": "code",
      "source": [
        "Role = \"You are a poet who writes in a lyrical and evocative style, Write a poem based on the user `INSTRUCTION`\""
      ],
      "metadata": {
        "id": "18p7n8HT6jED"
      },
      "execution_count": 57,
      "outputs": []
    },
    {
      "cell_type": "code",
      "source": [
        "for index, row in train_df.iterrows():\n",
        "  i = index\n",
        "  train_df.loc[index, 'input_text'] = f\"\"\"Role: {Role}\\n\\nINSTRUCTION: {row['INSTRUCTION']}\\n\\nAssistant : \"\"\"\n",
        "  train_df.loc[index, 'output_text'] = f\"\"\"Assistant : Poem :{row['RESPONSE']}\"\"\""
      ],
      "metadata": {
        "id": "mhF7ROk9SZPz"
      },
      "execution_count": 58,
      "outputs": []
    },
    {
      "cell_type": "code",
      "source": [
        "for index, row in test_df.iterrows():\n",
        "  i = index\n",
        "  test_df.loc[index, 'input_text'] = f\"\"\"Role: {Role}\\n\\nINSTRUCTION: {row['INSTRUCTION']}\\n\\nAssistant : \"\"\"\n",
        "  test_df.loc[index, 'output_text'] = f\"\"\"Assistant : Poem :{row['RESPONSE']}\"\"\""
      ],
      "metadata": {
        "id": "-0j5OKHZUSTF"
      },
      "execution_count": 59,
      "outputs": []
    },
    {
      "cell_type": "code",
      "source": [
        "for index, row in validation_df.iterrows():\n",
        "  i = index\n",
        "  validation_df.loc[index, 'input_text'] = f\"\"\"Role: {Role}\\n\\nINSTRUCTION: {row['INSTRUCTION']}\\n\\nAssistant : \"\"\"\n",
        "  validation_df.loc[index, 'output_text'] = f\"\"\"Assistant : Poem :{row['RESPONSE']}\"\"\""
      ],
      "metadata": {
        "id": "NRoaYPRdUhPY"
      },
      "execution_count": 60,
      "outputs": []
    },
    {
      "cell_type": "code",
      "source": [
        "new_train_df = train_df[['input_text', 'output_text']]"
      ],
      "metadata": {
        "id": "4qmDhyODU9a9"
      },
      "execution_count": 61,
      "outputs": []
    },
    {
      "cell_type": "code",
      "source": [
        "new_test_df = test_df[['input_text', 'output_text']]"
      ],
      "metadata": {
        "id": "8pWC8f6tU8xF"
      },
      "execution_count": 62,
      "outputs": []
    },
    {
      "cell_type": "code",
      "source": [
        "new_validation_df = validation_df[['input_text', 'output_text']]"
      ],
      "metadata": {
        "id": "Cqm78rE9U7rs"
      },
      "execution_count": 63,
      "outputs": []
    },
    {
      "cell_type": "markdown",
      "source": [
        "Séparation des données en ensembles d'entrée `X` et de sortie `y` pour l'entraînement, la validation et les tests"
      ],
      "metadata": {
        "id": "EJN5CsOjWfZ9"
      }
    },
    {
      "cell_type": "code",
      "source": [
        "from datasets import Dataset\n",
        "\n",
        "# Convertir les DataFrames pandas en Datasets Hugging Face\n",
        "train_dataset = Dataset.from_pandas(new_train_df)\n",
        "validation_dataset = Dataset.from_pandas(new_validation_df)\n",
        "test_dataset = Dataset.from_pandas(new_test_df)"
      ],
      "metadata": {
        "id": "U6gjS1XKswpf"
      },
      "execution_count": 64,
      "outputs": []
    },
    {
      "cell_type": "markdown",
      "source": [
        "Tokenisation des données d'entrée (instructions) et de sortie (poemes) pour l'entraînement, la validation et les tests"
      ],
      "metadata": {
        "id": "c9d1P_j8Wv3x"
      }
    },
    {
      "cell_type": "markdown",
      "source": [
        "Adaptation des datasets d'entraînement, de validation et de test pour le fine-tuning"
      ],
      "metadata": {
        "id": "GShnZuK7XCqC"
      }
    },
    {
      "cell_type": "code",
      "source": [
        "def tokenize_function(examples):\n",
        "    # Tokenisation des données\n",
        "    inputs = tokenizer(\n",
        "        examples['input_text'], truncation=True, padding='max_length', max_length=250\n",
        "    )\n",
        "    labels = tokenizer(\n",
        "        examples['output_text'], truncation=True, padding='max_length', max_length=250\n",
        "    )\n",
        "\n",
        "    # Ajouter les labels alignés\n",
        "    inputs['labels'] = labels['input_ids']\n",
        "    return inputs"
      ],
      "metadata": {
        "id": "ydPxshQHn7R4"
      },
      "execution_count": null,
      "outputs": []
    },
    {
      "cell_type": "code",
      "source": [
        "# Tokeniser les datasets\n",
        "tokenized_train_dataset = train_dataset.map(tokenize_function, batched=True)\n",
        "tokenized_eval_dataset = validation_dataset.map(tokenize_function, batched=True)\n",
        "tokenized_test_dataset = test_dataset.map(tokenize_function, batched=True)"
      ],
      "metadata": {
        "colab": {
          "base_uri": "https://localhost:8080/",
          "height": 113,
          "referenced_widgets": [
            "472acd466d2e4ab8ba854aaaa7bbc5b0",
            "cbdf894bfdb94135bff11e590c83f9bd",
            "9118171fd1684c7085b054c421c743c9",
            "24498952129d4f07913f0b44a607e0ea",
            "066d0cb05c6146758db1d853e5eb294e",
            "ae911bf97421411da1a3f96df9011a1b",
            "318f682ec3574db7a4a20ef0ecdd256e",
            "612fa42bf2ed45c1b80d6e19631d3898",
            "a6975476ae2a41ad8c398d3f228f980a",
            "9dbf056d84e548418e1a3d4a1fa27434",
            "45d16fb5b51a4eb8b6ff62286be8ce15",
            "65e467172a454ce79aaa87c0e5b98972",
            "2754b7d9c427468a9a627bec315994b4",
            "69c406fcec184e1d82563520f7757a65",
            "aa9a00de22ce466b84b0c83ee70c808d",
            "a8a6ee4bbd6d405e9419615acc913978",
            "d0dfd83a7cb545d995d44058ceae919b",
            "f47f343dca4148d3b13f4dd31722743e",
            "13fbb6423d6844dd81465e486594f235",
            "c283f4e8f9e743b1b3ae85b3ec07e29f",
            "669263bbefb8446d8c75b68e60d4c2c6",
            "828f298ce72c40aaa16837687398189c",
            "39d1474ad5384d269f2bfb95f56d109e",
            "8ec1b06dbc38451dba3408ac0555e97b",
            "1a376bda434d47fb8a39d711fbe83fe5",
            "2d594d8f2a0e4395994ac8b370af5c2c",
            "f714ae27862c43a89911be19e05e68aa",
            "877765fbe0c4445f9e2714ca7367852f",
            "17867816c0da4772ad732a784a45d043",
            "7c922b33742047dab33cf28be22cba2c",
            "15fa4bf765924b44a26e30ef944fd923",
            "870a491aeb3740aea8b24e2cb179ed46",
            "57e43fad28fd4d7d88a50c022ea4e3b5"
          ]
        },
        "id": "9lH5ia0Qs9W0",
        "outputId": "c4b529f7-3cba-4a56-ea82-e4c23b5e8f83"
      },
      "execution_count": null,
      "outputs": [
        {
          "output_type": "display_data",
          "data": {
            "text/plain": [
              "Map:   0%|          | 0/2217 [00:00<?, ? examples/s]"
            ],
            "application/vnd.jupyter.widget-view+json": {
              "version_major": 2,
              "version_minor": 0,
              "model_id": "472acd466d2e4ab8ba854aaaa7bbc5b0"
            }
          },
          "metadata": {}
        },
        {
          "output_type": "display_data",
          "data": {
            "text/plain": [
              "Map:   0%|          | 0/277 [00:00<?, ? examples/s]"
            ],
            "application/vnd.jupyter.widget-view+json": {
              "version_major": 2,
              "version_minor": 0,
              "model_id": "65e467172a454ce79aaa87c0e5b98972"
            }
          },
          "metadata": {}
        },
        {
          "output_type": "display_data",
          "data": {
            "text/plain": [
              "Map:   0%|          | 0/277 [00:00<?, ? examples/s]"
            ],
            "application/vnd.jupyter.widget-view+json": {
              "version_major": 2,
              "version_minor": 0,
              "model_id": "39d1474ad5384d269f2bfb95f56d109e"
            }
          },
          "metadata": {}
        }
      ]
    },
    {
      "cell_type": "code",
      "source": [
        "print(tokenized_train_dataset[0])  # Exemple d'un batch tokenisé"
      ],
      "metadata": {
        "colab": {
          "base_uri": "https://localhost:8080/"
        },
        "id": "bj8GSHeKtCDg",
        "outputId": "683d2e13-b3fd-4662-a2d0-04f9c9f3cc94"
      },
      "execution_count": null,
      "outputs": [
        {
          "output_type": "stream",
          "name": "stdout",
          "text": [
            "{'input_text': 'Role: You are a poet who writes in a lyrical and evocative style\\n\\nINSTRUCTION: Make a poem with themes of Social Commentaries,Cities & Urban Life.Generate a poem with the following themes: Social Commentaries,Cities & Urban Life.\\nTask: Write a poem based on this INSTRUCTION\\n\\nAssistant : ', 'output_text': 'Assistant : Poem :Okay, a poem about Social Commentaries,Cities & Urban Life: \\n\"The Lights of London\"\\nThe evenfall, so slow on hills, hath shot Far down into the valley’s cold extreme, Untimely midnight; spire and roof and stream Like fleeing specters, shudder and are not. The Hampstead hollies, from their sylvan plot Yet cloudless, lean to watch as in a dream, From chaos climb with many a sudden gleam, London, one moment fallen and forgot. Her booths begin to flare; and gases bright Prick door and window; all her streets obscure Sparkle and swarm with nothing true nor sure, Full as a marsh of mist and winking light; Heaven thickens over, Heaven that cannot cure Her tear by day, her fevered smile by night. \\nSource: PoetryFoundation.org - Louise Imogen Guiney', '__index_level_0__': 7187, 'input_ids': [47445, 25, 921, 389, 257, 21810, 508, 6797, 287, 257, 47188, 605, 290, 819, 23466, 3918, 198, 198, 1268, 46126, 2849, 25, 6889, 257, 21247, 351, 13460, 286, 5483, 18957, 3166, 11, 34, 871, 1222, 14665, 5155, 13, 8645, 378, 257, 21247, 351, 262, 1708, 13460, 25, 5483, 18957, 3166, 11, 34, 871, 1222, 14665, 5155, 13, 198, 25714, 25, 19430, 257, 21247, 1912, 319, 428, 3268, 46126, 2849, 198, 198, 48902, 1058, 220, 50256, 50256, 50256, 50256, 50256, 50256, 50256, 50256, 50256, 50256, 50256, 50256, 50256, 50256, 50256, 50256, 50256, 50256, 50256, 50256, 50256, 50256, 50256, 50256, 50256, 50256, 50256, 50256, 50256, 50256, 50256, 50256, 50256, 50256, 50256, 50256, 50256, 50256, 50256, 50256, 50256, 50256, 50256, 50256, 50256, 50256, 50256, 50256, 50256, 50256, 50256, 50256, 50256, 50256, 50256, 50256, 50256, 50256, 50256, 50256, 50256, 50256, 50256, 50256, 50256, 50256, 50256, 50256, 50256, 50256, 50256, 50256, 50256, 50256, 50256, 50256, 50256, 50256, 50256, 50256, 50256, 50256, 50256, 50256, 50256, 50256, 50256, 50256, 50256, 50256, 50256, 50256, 50256, 50256, 50256, 50256, 50256, 50256, 50256, 50256, 50256, 50256, 50256, 50256, 50256, 50256, 50256, 50256, 50256, 50256, 50256, 50256, 50256, 50256, 50256, 50256, 50256, 50256, 50256, 50256, 50256, 50256, 50256, 50256, 50256, 50256, 50256, 50256, 50256, 50256, 50256, 50256, 50256, 50256, 50256, 50256, 50256, 50256, 50256, 50256, 50256, 50256, 50256, 50256, 50256, 50256, 50256, 50256, 50256, 50256, 50256, 50256, 50256, 50256, 50256, 50256, 50256, 50256, 50256, 50256, 50256, 50256, 50256, 50256, 50256, 50256, 50256, 50256, 50256, 50256, 50256, 50256, 50256, 50256, 50256, 50256], 'attention_mask': [1, 1, 1, 1, 1, 1, 1, 1, 1, 1, 1, 1, 1, 1, 1, 1, 1, 1, 1, 1, 1, 1, 1, 1, 1, 1, 1, 1, 1, 1, 1, 1, 1, 1, 1, 1, 1, 1, 1, 1, 1, 1, 1, 1, 1, 1, 1, 1, 1, 1, 1, 1, 1, 1, 1, 1, 1, 1, 1, 1, 1, 1, 1, 1, 1, 1, 1, 1, 1, 1, 1, 1, 1, 1, 0, 0, 0, 0, 0, 0, 0, 0, 0, 0, 0, 0, 0, 0, 0, 0, 0, 0, 0, 0, 0, 0, 0, 0, 0, 0, 0, 0, 0, 0, 0, 0, 0, 0, 0, 0, 0, 0, 0, 0, 0, 0, 0, 0, 0, 0, 0, 0, 0, 0, 0, 0, 0, 0, 0, 0, 0, 0, 0, 0, 0, 0, 0, 0, 0, 0, 0, 0, 0, 0, 0, 0, 0, 0, 0, 0, 0, 0, 0, 0, 0, 0, 0, 0, 0, 0, 0, 0, 0, 0, 0, 0, 0, 0, 0, 0, 0, 0, 0, 0, 0, 0, 0, 0, 0, 0, 0, 0, 0, 0, 0, 0, 0, 0, 0, 0, 0, 0, 0, 0, 0, 0, 0, 0, 0, 0, 0, 0, 0, 0, 0, 0, 0, 0, 0, 0, 0, 0, 0, 0, 0, 0, 0, 0, 0, 0, 0, 0, 0, 0, 0, 0, 0, 0, 0, 0, 0, 0, 0, 0, 0, 0, 0, 0, 0, 0, 0, 0, 0, 0, 0, 0, 0, 0, 0, 0], 'labels': [48902, 1058, 7695, 368, 1058, 16454, 11, 257, 21247, 546, 5483, 18957, 3166, 11, 34, 871, 1222, 14665, 5155, 25, 220, 198, 1, 464, 22661, 286, 3576, 1, 198, 464, 772, 7207, 11, 523, 3105, 319, 18639, 11, 22027, 2823, 6755, 866, 656, 262, 19272, 447, 247, 82, 4692, 3257, 11, 26970, 524, 306, 15896, 26, 599, 557, 290, 9753, 290, 4269, 4525, 19105, 5444, 364, 11, 50130, 290, 389, 407, 13, 383, 13039, 28044, 289, 692, 444, 11, 422, 511, 827, 6780, 272, 7110, 6430, 6279, 1203, 11, 10904, 284, 2342, 355, 287, 257, 4320, 11, 3574, 11918, 12080, 351, 867, 257, 4802, 26852, 321, 11, 3576, 11, 530, 2589, 9292, 290, 16453, 13, 2332, 45496, 2221, 284, 30239, 26, 290, 21678, 6016, 1736, 624, 3420, 290, 4324, 26, 477, 607, 6483, 18611, 41614, 290, 30077, 351, 2147, 2081, 4249, 1654, 11, 6462, 355, 257, 22397, 286, 4020, 290, 266, 8040, 1657, 26, 11225, 6546, 641, 625, 11, 11225, 326, 2314, 13996, 2332, 11626, 416, 1110, 11, 607, 730, 21917, 8212, 416, 1755, 13, 220, 198, 7416, 25, 7695, 11973, 21077, 341, 13, 2398, 532, 31774, 1846, 6644, 1962, 500, 88, 50256, 50256, 50256, 50256, 50256, 50256, 50256, 50256, 50256, 50256, 50256, 50256, 50256, 50256, 50256, 50256, 50256, 50256, 50256, 50256, 50256, 50256, 50256, 50256, 50256, 50256, 50256, 50256, 50256, 50256, 50256, 50256, 50256, 50256, 50256, 50256, 50256, 50256, 50256, 50256, 50256, 50256, 50256, 50256, 50256, 50256, 50256, 50256, 50256, 50256, 50256, 50256, 50256, 50256, 50256, 50256, 50256, 50256]}\n"
          ]
        }
      ]
    },
    {
      "cell_type": "markdown",
      "source": [
        "#**4. Fine-tuning du modèle**"
      ],
      "metadata": {
        "id": "ZuP-cTth6Cjv"
      }
    },
    {
      "cell_type": "markdown",
      "source": [
        "Gestion et optimisation de la mémoire GPU"
      ],
      "metadata": {
        "id": "EhDfhmfjYQUI"
      }
    },
    {
      "cell_type": "code",
      "source": [
        "import torch\n",
        "torch.cuda.empty_cache()"
      ],
      "metadata": {
        "id": "nu4kfOvMkhRl"
      },
      "execution_count": 64,
      "outputs": []
    },
    {
      "cell_type": "code",
      "source": [
        "!nvidia-smi"
      ],
      "metadata": {
        "colab": {
          "base_uri": "https://localhost:8080/"
        },
        "id": "8CBJUGxHkj4B",
        "outputId": "89f1daa7-70be-4f4a-808d-a0d92d11e3e6"
      },
      "execution_count": 65,
      "outputs": [
        {
          "output_type": "stream",
          "name": "stdout",
          "text": [
            "Mon Feb 10 09:09:28 2025       \n",
            "+-----------------------------------------------------------------------------------------+\n",
            "| NVIDIA-SMI 550.54.15              Driver Version: 550.54.15      CUDA Version: 12.4     |\n",
            "|-----------------------------------------+------------------------+----------------------+\n",
            "| GPU  Name                 Persistence-M | Bus-Id          Disp.A | Volatile Uncorr. ECC |\n",
            "| Fan  Temp   Perf          Pwr:Usage/Cap |           Memory-Usage | GPU-Util  Compute M. |\n",
            "|                                         |                        |               MIG M. |\n",
            "|=========================================+========================+======================|\n",
            "|   0  NVIDIA A100-SXM4-40GB          Off |   00000000:00:04.0 Off |                    0 |\n",
            "| N/A   34C    P0             45W /  400W |       5MiB /  40960MiB |      0%      Default |\n",
            "|                                         |                        |             Disabled |\n",
            "+-----------------------------------------+------------------------+----------------------+\n",
            "                                                                                         \n",
            "+-----------------------------------------------------------------------------------------+\n",
            "| Processes:                                                                              |\n",
            "|  GPU   GI   CI        PID   Type   Process name                              GPU Memory |\n",
            "|        ID   ID                                                               Usage      |\n",
            "|=========================================================================================|\n",
            "|  No running processes found                                                             |\n",
            "+-----------------------------------------------------------------------------------------+\n"
          ]
        }
      ]
    },
    {
      "cell_type": "code",
      "source": [
        "!kill -9 <pid>"
      ],
      "metadata": {
        "colab": {
          "base_uri": "https://localhost:8080/"
        },
        "id": "hbU3ig_fknW9",
        "outputId": "c8c4478b-7d0f-4828-8716-18aa2241cc6e"
      },
      "execution_count": 66,
      "outputs": [
        {
          "output_type": "stream",
          "name": "stdout",
          "text": [
            "/bin/bash: -c: line 1: syntax error near unexpected token `newline'\n",
            "/bin/bash: -c: line 1: `kill -9 <pid>'\n"
          ]
        }
      ]
    },
    {
      "cell_type": "code",
      "source": [
        "%env PYTORCH_CUDA_ALLOC_CONF=expandable_segments:True"
      ],
      "metadata": {
        "colab": {
          "base_uri": "https://localhost:8080/"
        },
        "id": "GF89SlmbkqHD",
        "outputId": "9b05b273-ff14-4116-aadb-39ae319ca48c"
      },
      "execution_count": 67,
      "outputs": [
        {
          "output_type": "stream",
          "name": "stdout",
          "text": [
            "env: PYTORCH_CUDA_ALLOC_CONF=expandable_segments:True\n"
          ]
        }
      ]
    },
    {
      "cell_type": "markdown",
      "source": [
        "Initialisation de l'accélérateur"
      ],
      "metadata": {
        "id": "qfXA-SF9YGEf"
      }
    },
    {
      "cell_type": "code",
      "source": [
        "import os\n",
        "from accelerate import Accelerator\n",
        "#Configuration des variables d'environnement pour optimiser l'efficacité GPU\n",
        "os.environ[\"PYTORCH_CUDA_ALLOC_CONF\"] = \"max_split_size_mb:512\"\n",
        "os.environ[\"WANDB_DISABLED\"] = \"true\"\n",
        "os.environ[\"WANDB_MODE\"] = \"dryrun\"\n",
        "\n",
        "# Initialisation de l'accélérateur\n",
        "accelerator = Accelerator(mixed_precision=\"fp16\")"
      ],
      "metadata": {
        "id": "I4-lyHF1bTLX"
      },
      "execution_count": 68,
      "outputs": []
    },
    {
      "cell_type": "markdown",
      "source": [
        "Initialisation de DataCollator"
      ],
      "metadata": {
        "id": "8ClndY2OZCPR"
      }
    },
    {
      "cell_type": "code",
      "source": [
        "from transformers import DataCollatorForLanguageModeling\n",
        "data_collator = DataCollatorForLanguageModeling(\n",
        "    tokenizer=tokenizer,\n",
        "    mlm=False,\n",
        ")"
      ],
      "metadata": {
        "id": "fDvgpAJOWIL5"
      },
      "execution_count": null,
      "outputs": []
    },
    {
      "cell_type": "markdown",
      "source": [
        "Définition des arguments pour l'entraînement du modèle"
      ],
      "metadata": {
        "id": "2J3ch1jzZiSI"
      }
    },
    {
      "cell_type": "code",
      "source": [
        "from transformers import TrainingArguments\n",
        "from trl import SFTTrainer\n",
        "\n",
        "output_dir = \"data/gpt_2-sft-lora_v0.1\"\n",
        "\n",
        "# Arguments d'entraînement\n",
        "training_args = TrainingArguments(\n",
        "    output_dir=output_dir,\n",
        "    evaluation_strategy=\"epoch\",\n",
        "    learning_rate=1e-4,\n",
        "    per_device_train_batch_size=1,\n",
        "    per_device_eval_batch_size=1,\n",
        "    num_train_epochs=3,\n",
        "    fp16=True,\n",
        "    save_steps=2000,\n",
        "    save_total_limit=2,\n",
        "    logging_dir=\"./logs\",\n",
        "    logging_steps=10,\n",
        "    gradient_checkpointing=True,\n",
        "    optim=\"adamw_torch\",\n",
        "    report_to=\"none\",\n",
        "    eval_accumulation_steps=2\n",
        ")"
      ],
      "metadata": {
        "colab": {
          "base_uri": "https://localhost:8080/"
        },
        "id": "8vwdU0KQDBCy",
        "outputId": "7b105577-e499-4cd6-c6c1-eecd7b5014cf"
      },
      "execution_count": null,
      "outputs": [
        {
          "output_type": "stream",
          "name": "stderr",
          "text": [
            "Using the `WANDB_DISABLED` environment variable is deprecated and will be removed in v5. Use the --report_to flag to control the integrations used for logging result (for instance --report_to none).\n",
            "/usr/local/lib/python3.11/dist-packages/transformers/training_args.py:1575: FutureWarning: `evaluation_strategy` is deprecated and will be removed in version 4.46 of 🤗 Transformers. Use `eval_strategy` instead\n",
            "  warnings.warn(\n"
          ]
        }
      ]
    },
    {
      "cell_type": "markdown",
      "source": [
        "Fonction de calcul des métriques d'évaluation du modèle"
      ],
      "metadata": {
        "id": "O5SROGjpZ7E7"
      }
    },
    {
      "cell_type": "code",
      "source": [
        "from sklearn.metrics.pairwise import cosine_similarity\n",
        "from sklearn.feature_extraction.text import TfidfVectorizer\n",
        "from nltk.translate.bleu_score import sentence_bleu, SmoothingFunction\n",
        "from rouge_score import rouge_scorer\n",
        "\n",
        "def compute_metrics(eval_pred):\n",
        "    logits, labels = eval_pred\n",
        "    predictions = logits.argmax(axis=-1)\n",
        "\n",
        "    # Convertir les prédictions et les labels en texte\n",
        "    decoded_preds = tokenizer.batch_decode(predictions, skip_special_tokens=True)\n",
        "\n",
        "    # Filtrer les labels pour exclure les IDs hors du vocabulaire\n",
        "    filtered_labels = [\n",
        "        [token_id for token_id in l if 0 <= token_id < tokenizer.vocab_size]\n",
        "        for l in labels\n",
        "    ]\n",
        "    decoded_labels = tokenizer.batch_decode(filtered_labels, skip_special_tokens=True)\n",
        "\n",
        "    # Calculer les scores ROUGE\n",
        "    scorer = rouge_scorer.RougeScorer([\"rouge1\", \"rouge2\", \"rougeL\"], use_stemmer=True)\n",
        "    rouge_scores = [scorer.score(pred, label) for pred, label in zip(decoded_preds, decoded_labels)]\n",
        "\n",
        "    rouge1 = sum(score[\"rouge1\"].fmeasure for score in rouge_scores) / len(rouge_scores)\n",
        "    rouge2 = sum(score[\"rouge2\"].fmeasure for score in rouge_scores) / len(rouge_scores)\n",
        "    rougeL = sum(score[\"rougeL\"].fmeasure for score in rouge_scores) / len(rouge_scores)\n",
        "\n",
        "    # Calculer la similarité cosinus\n",
        "    vectorizer = TfidfVectorizer().fit(decoded_preds + decoded_labels)\n",
        "    tfidf_preds = vectorizer.transform(decoded_preds)\n",
        "    tfidf_labels = vectorizer.transform(decoded_labels)\n",
        "    similarities = [cosine_similarity(tfidf_preds[i], tfidf_labels[i])[0][0] for i in range(len(decoded_preds))]\n",
        "    avg_similarity = sum(similarities) / len(similarities)\n",
        "\n",
        "    # Calculer le score BLEU\n",
        "    smoothing_function = SmoothingFunction().method1  # Utilise une méthode pour éviter les problèmes avec des petits n-grammes\n",
        "    bleu_scores = [\n",
        "        sentence_bleu([label.split()], pred.split(), smoothing_function=smoothing_function)\n",
        "        for pred, label in zip(decoded_preds, decoded_labels)\n",
        "    ]\n",
        "    avg_bleu = sum(bleu_scores) / len(bleu_scores)\n",
        "\n",
        "    return {\n",
        "        \"rouge1\": rouge1,\n",
        "        \"rouge2\": rouge2,\n",
        "        \"rougeL\": rougeL,\n",
        "        \"similarity\": avg_similarity,\n",
        "        \"bleu\": avg_bleu,\n",
        "    }"
      ],
      "metadata": {
        "id": "_YmUvyYFcbwV"
      },
      "execution_count": null,
      "outputs": []
    },
    {
      "cell_type": "markdown",
      "source": [
        "Initialisation du Trainer pour le Fine-Tuning"
      ],
      "metadata": {
        "id": "NPAaqnqjaAws"
      }
    },
    {
      "cell_type": "code",
      "source": [
        "# Initialiser le trainer\n",
        "trainer = SFTTrainer(\n",
        "    model=model,\n",
        "    args=training_args,\n",
        "    train_dataset=tokenized_train_dataset,\n",
        "    eval_dataset=tokenized_eval_dataset,\n",
        "    tokenizer=tokenizer,\n",
        "    compute_metrics=compute_metrics,\n",
        "    data_collator=data_collator\n",
        ")"
      ],
      "metadata": {
        "colab": {
          "base_uri": "https://localhost:8080/"
        },
        "id": "xIIeWliGDKCn",
        "outputId": "4709eda2-f1da-428b-e4a1-bd432cf13d9f"
      },
      "execution_count": null,
      "outputs": [
        {
          "output_type": "stream",
          "name": "stderr",
          "text": [
            "<ipython-input-93-407a79b4ddcb>:2: FutureWarning: `tokenizer` is deprecated and removed starting from version 0.16.0 for `SFTTrainer.__init__`. Use `processing_class` instead.\n",
            "  trainer = SFTTrainer(\n",
            "/usr/local/lib/python3.11/dist-packages/transformers/training_args.py:1575: FutureWarning: `evaluation_strategy` is deprecated and will be removed in version 4.46 of 🤗 Transformers. Use `eval_strategy` instead\n",
            "  warnings.warn(\n"
          ]
        }
      ]
    },
    {
      "cell_type": "markdown",
      "source": [
        "Lancement de l'entraînement du modèle"
      ],
      "metadata": {
        "id": "2kZs06x8aUSZ"
      }
    },
    {
      "cell_type": "code",
      "source": [
        "trainer.train()"
      ],
      "metadata": {
        "colab": {
          "base_uri": "https://localhost:8080/",
          "height": 222
        },
        "id": "_6o56CGGcfwa",
        "outputId": "45811f33-8ae8-4f73-ddc0-68b7db566d9c"
      },
      "execution_count": null,
      "outputs": [
        {
          "output_type": "display_data",
          "data": {
            "text/plain": [
              "<IPython.core.display.HTML object>"
            ],
            "text/html": [
              "\n",
              "    <div>\n",
              "      \n",
              "      <progress value='6651' max='6651' style='width:300px; height:20px; vertical-align: middle;'></progress>\n",
              "      [6651/6651 24:29, Epoch 3/3]\n",
              "    </div>\n",
              "    <table border=\"1\" class=\"dataframe\">\n",
              "  <thead>\n",
              " <tr style=\"text-align: left;\">\n",
              "      <th>Epoch</th>\n",
              "      <th>Training Loss</th>\n",
              "      <th>Validation Loss</th>\n",
              "      <th>Rouge1</th>\n",
              "      <th>Rouge2</th>\n",
              "      <th>Rougel</th>\n",
              "      <th>Similarity</th>\n",
              "      <th>Bleu</th>\n",
              "    </tr>\n",
              "  </thead>\n",
              "  <tbody>\n",
              "    <tr>\n",
              "      <td>1</td>\n",
              "      <td>0.740000</td>\n",
              "      <td>0.674838</td>\n",
              "      <td>0.824502</td>\n",
              "      <td>0.722810</td>\n",
              "      <td>0.815853</td>\n",
              "      <td>0.513990</td>\n",
              "      <td>0.681105</td>\n",
              "    </tr>\n",
              "    <tr>\n",
              "      <td>2</td>\n",
              "      <td>0.703300</td>\n",
              "      <td>0.573117</td>\n",
              "      <td>0.832647</td>\n",
              "      <td>0.731842</td>\n",
              "      <td>0.824128</td>\n",
              "      <td>0.534146</td>\n",
              "      <td>0.688740</td>\n",
              "    </tr>\n",
              "    <tr>\n",
              "      <td>3</td>\n",
              "      <td>1.084600</td>\n",
              "      <td>0.551488</td>\n",
              "      <td>0.834582</td>\n",
              "      <td>0.734295</td>\n",
              "      <td>0.826877</td>\n",
              "      <td>0.545731</td>\n",
              "      <td>0.687167</td>\n",
              "    </tr>\n",
              "  </tbody>\n",
              "</table><p>"
            ]
          },
          "metadata": {}
        },
        {
          "output_type": "execute_result",
          "data": {
            "text/plain": [
              "TrainOutput(global_step=6651, training_loss=0.7871943896757071, metrics={'train_runtime': 1469.9611, 'train_samples_per_second': 4.525, 'train_steps_per_second': 4.525, 'total_flos': 872098700544000.0, 'train_loss': 0.7871943896757071, 'epoch': 3.0})"
            ]
          },
          "metadata": {},
          "execution_count": 94
        }
      ]
    },
    {
      "cell_type": "markdown",
      "source": [
        "Évaluation finale du modèle sur l'ensemble de test"
      ],
      "metadata": {
        "id": "T4UqfvSWex-l"
      }
    },
    {
      "cell_type": "code",
      "source": [
        "results = trainer.evaluate()"
      ],
      "metadata": {
        "colab": {
          "base_uri": "https://localhost:8080/",
          "height": 37
        },
        "id": "ZyhS3bCzeCgo",
        "outputId": "c7a4bec8-d79c-4518-fab8-328e6a5c9b2b"
      },
      "execution_count": null,
      "outputs": [
        {
          "output_type": "display_data",
          "data": {
            "text/plain": [
              "<IPython.core.display.HTML object>"
            ],
            "text/html": [
              "\n",
              "    <div>\n",
              "      \n",
              "      <progress value='277' max='277' style='width:300px; height:20px; vertical-align: middle;'></progress>\n",
              "      [277/277 05:45]\n",
              "    </div>\n",
              "    "
            ]
          },
          "metadata": {}
        }
      ]
    },
    {
      "cell_type": "code",
      "source": [
        "print(\"Résultats de l'évaluation :\\n\")\n",
        "results"
      ],
      "metadata": {
        "colab": {
          "base_uri": "https://localhost:8080/"
        },
        "id": "11jIgB-pf0Xs",
        "outputId": "b1478fc7-d5de-4928-bab2-01f2b1a69c0f"
      },
      "execution_count": null,
      "outputs": [
        {
          "output_type": "stream",
          "name": "stdout",
          "text": [
            "Résultats de l'évaluation :\n",
            "\n"
          ]
        },
        {
          "output_type": "execute_result",
          "data": {
            "text/plain": [
              "{'eval_loss': 0.5514876842498779,\n",
              " 'eval_rouge1': 0.8345821245792884,\n",
              " 'eval_rouge2': 0.7342950079813487,\n",
              " 'eval_rougeL': 0.8268765768139696,\n",
              " 'eval_similarity': 0.5457313101195924,\n",
              " 'eval_bleu': 0.6871669528244376,\n",
              " 'eval_runtime': 352.3701,\n",
              " 'eval_samples_per_second': 0.786,\n",
              " 'eval_steps_per_second': 0.786,\n",
              " 'epoch': 3.0}"
            ]
          },
          "metadata": {},
          "execution_count": 98
        }
      ]
    },
    {
      "cell_type": "markdown",
      "source": [
        "# **5. Évaluation des performances**"
      ],
      "metadata": {
        "id": "zUekRmoZQhvd"
      }
    },
    {
      "cell_type": "markdown",
      "source": [
        "Connexion à Google Drive"
      ],
      "metadata": {
        "id": "jKqi8RoOj97H"
      }
    },
    {
      "cell_type": "code",
      "source": [
        "from google.colab import drive\n",
        "drive.mount('/content/drive')"
      ],
      "metadata": {
        "colab": {
          "base_uri": "https://localhost:8080/"
        },
        "id": "zgnADfKXhLDV",
        "outputId": "ddda33fc-3bc1-432b-f9a2-feb76b6d3166"
      },
      "execution_count": 1,
      "outputs": [
        {
          "output_type": "stream",
          "name": "stdout",
          "text": [
            "Drive already mounted at /content/drive; to attempt to forcibly remount, call drive.mount(\"/content/drive\", force_remount=True).\n"
          ]
        }
      ]
    },
    {
      "cell_type": "markdown",
      "source": [
        "Sauvegarde et exportation du modèle"
      ],
      "metadata": {
        "id": "7Ucr1DwRkUTJ"
      }
    },
    {
      "cell_type": "code",
      "source": [
        "trainer.save_model(\"/content/drive/MyDrive/projet_Gen_ia/gpt2_on_instruction_poems\")"
      ],
      "metadata": {
        "id": "mH1nhcfAeCyA"
      },
      "execution_count": null,
      "outputs": []
    },
    {
      "cell_type": "markdown",
      "source": [
        "Chargement du modèle finetuner depuis Google Drive"
      ],
      "metadata": {
        "id": "a_GqUOPckuwx"
      }
    },
    {
      "cell_type": "code",
      "source": [
        "from transformers import AutoTokenizer, AutoModelForCausalLM, BitsAndBytesConfig\n",
        "import torch\n",
        "\n",
        "model_name = \"/content/drive/MyDrive/projet_Gen_ia/gpt2_on_instruction_poems\"\n",
        "tokenizer = AutoTokenizer.from_pretrained(model_name)\n",
        "\n",
        "model = AutoModelForCausalLM.from_pretrained(model_name, device_map=\"auto\")"
      ],
      "metadata": {
        "id": "R5nRI9KoqofR"
      },
      "execution_count": 69,
      "outputs": []
    },
    {
      "cell_type": "markdown",
      "source": [
        "Attribution du modèle à l'appareil approprié (GPU ou CPU)"
      ],
      "metadata": {
        "id": "5znFH_LIlke4"
      }
    },
    {
      "cell_type": "code",
      "source": [
        "# device_map = \"cuda\" if torch.cuda.is_available() else \"cpu\"\n",
        "# if torch.cuda.is_available():\n",
        "#     model = model.to(device_map)\n",
        "#     print(\"model is in the device\")\n",
        "# else:\n",
        "#     model = model.to(\"cpu\")"
      ],
      "metadata": {
        "colab": {
          "base_uri": "https://localhost:8080/"
        },
        "id": "cEzB91OMq01Z",
        "outputId": "7e582906-44d1-4191-d6f5-1f54cead22c9"
      },
      "execution_count": 2,
      "outputs": [
        {
          "output_type": "stream",
          "name": "stdout",
          "text": [
            "model is in the device\n"
          ]
        }
      ]
    },
    {
      "cell_type": "code",
      "source": [
        "new_validation_df.head()"
      ],
      "metadata": {
        "colab": {
          "base_uri": "https://localhost:8080/",
          "height": 293
        },
        "id": "gWGxjCFv98fN",
        "outputId": "946ae37a-5e77-43da-f1ed-ebff8d2e1795"
      },
      "execution_count": 65,
      "outputs": [
        {
          "output_type": "execute_result",
          "data": {
            "text/plain": [
              "                                              input_text  \\\n",
              "1542   Role: You are a poet who writes in a lyrical a...   \n",
              "260    Role: You are a poet who writes in a lyrical a...   \n",
              "7455   Role: You are a poet who writes in a lyrical a...   \n",
              "7651   Role: You are a poet who writes in a lyrical a...   \n",
              "10262  Role: You are a poet who writes in a lyrical a...   \n",
              "\n",
              "                                             output_text  \n",
              "1542   Assistant : Poem :Of course! It's called \"The ...  \n",
              "260    Assistant : Poem :Of course! It's called \"Immo...  \n",
              "7455   Assistant : Poem :It's called \"Reemergence of ...  \n",
              "7651   Assistant : Poem :Here's your poem about Activ...  \n",
              "10262  Assistant : Poem :I've written a poem for you ...  "
            ],
            "text/html": [
              "\n",
              "  <div id=\"df-409cb631-3d20-4f69-8cc3-389bff023e7c\" class=\"colab-df-container\">\n",
              "    <div>\n",
              "<style scoped>\n",
              "    .dataframe tbody tr th:only-of-type {\n",
              "        vertical-align: middle;\n",
              "    }\n",
              "\n",
              "    .dataframe tbody tr th {\n",
              "        vertical-align: top;\n",
              "    }\n",
              "\n",
              "    .dataframe thead th {\n",
              "        text-align: right;\n",
              "    }\n",
              "</style>\n",
              "<table border=\"1\" class=\"dataframe\">\n",
              "  <thead>\n",
              "    <tr style=\"text-align: right;\">\n",
              "      <th></th>\n",
              "      <th>input_text</th>\n",
              "      <th>output_text</th>\n",
              "    </tr>\n",
              "  </thead>\n",
              "  <tbody>\n",
              "    <tr>\n",
              "      <th>1542</th>\n",
              "      <td>Role: You are a poet who writes in a lyrical a...</td>\n",
              "      <td>Assistant : Poem :Of course! It's called \"The ...</td>\n",
              "    </tr>\n",
              "    <tr>\n",
              "      <th>260</th>\n",
              "      <td>Role: You are a poet who writes in a lyrical a...</td>\n",
              "      <td>Assistant : Poem :Of course! It's called \"Immo...</td>\n",
              "    </tr>\n",
              "    <tr>\n",
              "      <th>7455</th>\n",
              "      <td>Role: You are a poet who writes in a lyrical a...</td>\n",
              "      <td>Assistant : Poem :It's called \"Reemergence of ...</td>\n",
              "    </tr>\n",
              "    <tr>\n",
              "      <th>7651</th>\n",
              "      <td>Role: You are a poet who writes in a lyrical a...</td>\n",
              "      <td>Assistant : Poem :Here's your poem about Activ...</td>\n",
              "    </tr>\n",
              "    <tr>\n",
              "      <th>10262</th>\n",
              "      <td>Role: You are a poet who writes in a lyrical a...</td>\n",
              "      <td>Assistant : Poem :I've written a poem for you ...</td>\n",
              "    </tr>\n",
              "  </tbody>\n",
              "</table>\n",
              "</div>\n",
              "    <div class=\"colab-df-buttons\">\n",
              "\n",
              "  <div class=\"colab-df-container\">\n",
              "    <button class=\"colab-df-convert\" onclick=\"convertToInteractive('df-409cb631-3d20-4f69-8cc3-389bff023e7c')\"\n",
              "            title=\"Convert this dataframe to an interactive table.\"\n",
              "            style=\"display:none;\">\n",
              "\n",
              "  <svg xmlns=\"http://www.w3.org/2000/svg\" height=\"24px\" viewBox=\"0 -960 960 960\">\n",
              "    <path d=\"M120-120v-720h720v720H120Zm60-500h600v-160H180v160Zm220 220h160v-160H400v160Zm0 220h160v-160H400v160ZM180-400h160v-160H180v160Zm440 0h160v-160H620v160ZM180-180h160v-160H180v160Zm440 0h160v-160H620v160Z\"/>\n",
              "  </svg>\n",
              "    </button>\n",
              "\n",
              "  <style>\n",
              "    .colab-df-container {\n",
              "      display:flex;\n",
              "      gap: 12px;\n",
              "    }\n",
              "\n",
              "    .colab-df-convert {\n",
              "      background-color: #E8F0FE;\n",
              "      border: none;\n",
              "      border-radius: 50%;\n",
              "      cursor: pointer;\n",
              "      display: none;\n",
              "      fill: #1967D2;\n",
              "      height: 32px;\n",
              "      padding: 0 0 0 0;\n",
              "      width: 32px;\n",
              "    }\n",
              "\n",
              "    .colab-df-convert:hover {\n",
              "      background-color: #E2EBFA;\n",
              "      box-shadow: 0px 1px 2px rgba(60, 64, 67, 0.3), 0px 1px 3px 1px rgba(60, 64, 67, 0.15);\n",
              "      fill: #174EA6;\n",
              "    }\n",
              "\n",
              "    .colab-df-buttons div {\n",
              "      margin-bottom: 4px;\n",
              "    }\n",
              "\n",
              "    [theme=dark] .colab-df-convert {\n",
              "      background-color: #3B4455;\n",
              "      fill: #D2E3FC;\n",
              "    }\n",
              "\n",
              "    [theme=dark] .colab-df-convert:hover {\n",
              "      background-color: #434B5C;\n",
              "      box-shadow: 0px 1px 3px 1px rgba(0, 0, 0, 0.15);\n",
              "      filter: drop-shadow(0px 1px 2px rgba(0, 0, 0, 0.3));\n",
              "      fill: #FFFFFF;\n",
              "    }\n",
              "  </style>\n",
              "\n",
              "    <script>\n",
              "      const buttonEl =\n",
              "        document.querySelector('#df-409cb631-3d20-4f69-8cc3-389bff023e7c button.colab-df-convert');\n",
              "      buttonEl.style.display =\n",
              "        google.colab.kernel.accessAllowed ? 'block' : 'none';\n",
              "\n",
              "      async function convertToInteractive(key) {\n",
              "        const element = document.querySelector('#df-409cb631-3d20-4f69-8cc3-389bff023e7c');\n",
              "        const dataTable =\n",
              "          await google.colab.kernel.invokeFunction('convertToInteractive',\n",
              "                                                    [key], {});\n",
              "        if (!dataTable) return;\n",
              "\n",
              "        const docLinkHtml = 'Like what you see? Visit the ' +\n",
              "          '<a target=\"_blank\" href=https://colab.research.google.com/notebooks/data_table.ipynb>data table notebook</a>'\n",
              "          + ' to learn more about interactive tables.';\n",
              "        element.innerHTML = '';\n",
              "        dataTable['output_type'] = 'display_data';\n",
              "        await google.colab.output.renderOutput(dataTable, element);\n",
              "        const docLink = document.createElement('div');\n",
              "        docLink.innerHTML = docLinkHtml;\n",
              "        element.appendChild(docLink);\n",
              "      }\n",
              "    </script>\n",
              "  </div>\n",
              "\n",
              "\n",
              "<div id=\"df-3df58214-a51f-48ee-9e0d-bed53f2bbfc4\">\n",
              "  <button class=\"colab-df-quickchart\" onclick=\"quickchart('df-3df58214-a51f-48ee-9e0d-bed53f2bbfc4')\"\n",
              "            title=\"Suggest charts\"\n",
              "            style=\"display:none;\">\n",
              "\n",
              "<svg xmlns=\"http://www.w3.org/2000/svg\" height=\"24px\"viewBox=\"0 0 24 24\"\n",
              "     width=\"24px\">\n",
              "    <g>\n",
              "        <path d=\"M19 3H5c-1.1 0-2 .9-2 2v14c0 1.1.9 2 2 2h14c1.1 0 2-.9 2-2V5c0-1.1-.9-2-2-2zM9 17H7v-7h2v7zm4 0h-2V7h2v10zm4 0h-2v-4h2v4z\"/>\n",
              "    </g>\n",
              "</svg>\n",
              "  </button>\n",
              "\n",
              "<style>\n",
              "  .colab-df-quickchart {\n",
              "      --bg-color: #E8F0FE;\n",
              "      --fill-color: #1967D2;\n",
              "      --hover-bg-color: #E2EBFA;\n",
              "      --hover-fill-color: #174EA6;\n",
              "      --disabled-fill-color: #AAA;\n",
              "      --disabled-bg-color: #DDD;\n",
              "  }\n",
              "\n",
              "  [theme=dark] .colab-df-quickchart {\n",
              "      --bg-color: #3B4455;\n",
              "      --fill-color: #D2E3FC;\n",
              "      --hover-bg-color: #434B5C;\n",
              "      --hover-fill-color: #FFFFFF;\n",
              "      --disabled-bg-color: #3B4455;\n",
              "      --disabled-fill-color: #666;\n",
              "  }\n",
              "\n",
              "  .colab-df-quickchart {\n",
              "    background-color: var(--bg-color);\n",
              "    border: none;\n",
              "    border-radius: 50%;\n",
              "    cursor: pointer;\n",
              "    display: none;\n",
              "    fill: var(--fill-color);\n",
              "    height: 32px;\n",
              "    padding: 0;\n",
              "    width: 32px;\n",
              "  }\n",
              "\n",
              "  .colab-df-quickchart:hover {\n",
              "    background-color: var(--hover-bg-color);\n",
              "    box-shadow: 0 1px 2px rgba(60, 64, 67, 0.3), 0 1px 3px 1px rgba(60, 64, 67, 0.15);\n",
              "    fill: var(--button-hover-fill-color);\n",
              "  }\n",
              "\n",
              "  .colab-df-quickchart-complete:disabled,\n",
              "  .colab-df-quickchart-complete:disabled:hover {\n",
              "    background-color: var(--disabled-bg-color);\n",
              "    fill: var(--disabled-fill-color);\n",
              "    box-shadow: none;\n",
              "  }\n",
              "\n",
              "  .colab-df-spinner {\n",
              "    border: 2px solid var(--fill-color);\n",
              "    border-color: transparent;\n",
              "    border-bottom-color: var(--fill-color);\n",
              "    animation:\n",
              "      spin 1s steps(1) infinite;\n",
              "  }\n",
              "\n",
              "  @keyframes spin {\n",
              "    0% {\n",
              "      border-color: transparent;\n",
              "      border-bottom-color: var(--fill-color);\n",
              "      border-left-color: var(--fill-color);\n",
              "    }\n",
              "    20% {\n",
              "      border-color: transparent;\n",
              "      border-left-color: var(--fill-color);\n",
              "      border-top-color: var(--fill-color);\n",
              "    }\n",
              "    30% {\n",
              "      border-color: transparent;\n",
              "      border-left-color: var(--fill-color);\n",
              "      border-top-color: var(--fill-color);\n",
              "      border-right-color: var(--fill-color);\n",
              "    }\n",
              "    40% {\n",
              "      border-color: transparent;\n",
              "      border-right-color: var(--fill-color);\n",
              "      border-top-color: var(--fill-color);\n",
              "    }\n",
              "    60% {\n",
              "      border-color: transparent;\n",
              "      border-right-color: var(--fill-color);\n",
              "    }\n",
              "    80% {\n",
              "      border-color: transparent;\n",
              "      border-right-color: var(--fill-color);\n",
              "      border-bottom-color: var(--fill-color);\n",
              "    }\n",
              "    90% {\n",
              "      border-color: transparent;\n",
              "      border-bottom-color: var(--fill-color);\n",
              "    }\n",
              "  }\n",
              "</style>\n",
              "\n",
              "  <script>\n",
              "    async function quickchart(key) {\n",
              "      const quickchartButtonEl =\n",
              "        document.querySelector('#' + key + ' button');\n",
              "      quickchartButtonEl.disabled = true;  // To prevent multiple clicks.\n",
              "      quickchartButtonEl.classList.add('colab-df-spinner');\n",
              "      try {\n",
              "        const charts = await google.colab.kernel.invokeFunction(\n",
              "            'suggestCharts', [key], {});\n",
              "      } catch (error) {\n",
              "        console.error('Error during call to suggestCharts:', error);\n",
              "      }\n",
              "      quickchartButtonEl.classList.remove('colab-df-spinner');\n",
              "      quickchartButtonEl.classList.add('colab-df-quickchart-complete');\n",
              "    }\n",
              "    (() => {\n",
              "      let quickchartButtonEl =\n",
              "        document.querySelector('#df-3df58214-a51f-48ee-9e0d-bed53f2bbfc4 button');\n",
              "      quickchartButtonEl.style.display =\n",
              "        google.colab.kernel.accessAllowed ? 'block' : 'none';\n",
              "    })();\n",
              "  </script>\n",
              "</div>\n",
              "\n",
              "    </div>\n",
              "  </div>\n"
            ],
            "application/vnd.google.colaboratory.intrinsic+json": {
              "type": "dataframe",
              "variable_name": "new_validation_df",
              "summary": "{\n  \"name\": \"new_validation_df\",\n  \"rows\": 277,\n  \"fields\": [\n    {\n      \"column\": \"input_text\",\n      \"properties\": {\n        \"dtype\": \"string\",\n        \"num_unique_values\": 260,\n        \"samples\": [\n          \"Role: You are a poet who writes in a lyrical and evocative style\\n\\nINSTRUCTION: Can you write a poem? Make it about Nature,Landscapes & Pastorals,Religion,The Spiritual.\\n\\nAssistant : \",\n          \"Role: You are a poet who writes in a lyrical and evocative style\\n\\nINSTRUCTION: Can you write a poem? Make it about Living,Nature,Fall,Philosophy,Halloween.\\n\\nAssistant : \",\n          \"Role: You are a poet who writes in a lyrical and evocative style\\n\\nINSTRUCTION: Compose a poem, about Living,The Body,Time & Brevity,Nature,Landscapes & Pastorals,Social Commentaries,Cities & Urban Life,Crime & Punishment,History & Politics.\\n\\nAssistant : \"\n        ],\n        \"semantic_type\": \"\",\n        \"description\": \"\"\n      }\n    },\n    {\n      \"column\": \"output_text\",\n      \"properties\": {\n        \"dtype\": \"string\",\n        \"num_unique_values\": 277,\n        \"samples\": [\n          \"Assistant : Poem :Here's a poem I composed about Religion,Faith & Doubt,The Spiritual,Social Commentaries,Race & Ethnicity. It's called \\\"Mules and Women\\\": \\nwith respect to Zora and the Ground of the African Church\\r\\n\\r\\n\\r\\n\\r\\n\\r\\n\\r\\n\\r\\n\\r\\nSorrowtalked eye-to-eye forgiven is no mere burden.\\r\\n\\r\\nThe one who sings is no mere beast.\\r\\n\\r\\nThe one who slips the harness of the horror stands alive\\r\\n\\r\\n            as earth.\\r\\n\\r\\nToday I can watch the wind and it is blue smoke.\\r\\n\\r\\nI shake myself inside my dress, consider rain and choose\\r\\n\\r\\n            Shine.\\r\\n\\r\\nI was walking down Mississippi River Street\\r\\n\\r\\n            and a ghost stopped me.\\r\\n\\r\\nNo one could see it but me,\\r\\n\\r\\nstanding in the middle of the sidewalk\\r\\n\\r\\nsmilin at a haint with his hat in his hand\\r\\n\\r\\n     instead of his head when he can tote that too.\\r\\n\\r\\n     When one mule die\\r\\n\\r\\n     the rest neigh-cry\\r\\n\\r\\n     till the wagon take the dead thing away.\\r\\n\\r\\n\\r\\n\\r\\n     Mississippi River Street rampant with noise,\\r\\n\\r\\n     radiant, won\\u2019t hold still.\\r\\n\\r\\n     But I have walked on blue black water.\\r\\n\\r\\n     Watched dead rise before the wagon came.\\r\\n\\r\\n     Everywhere I see mules,\\r\\n\\r\\n     open mouths sing blues, then be human, then\\r\\n\\r\\n     beyond.\\r\\n\\r\\nFunerals, weddings, baptisms\\r\\n\\r\\nI take off my skin, hang it up\\r\\n\\r\\nlike a soaked quilt to dry the tears\\r\\n\\r\\nand sweat from feeling. I stand naked before Church,\\r\\n\\r\\nholding Dr. Watts closer than my sagging, girlish breasts.\\r\\n\\r\\nMy soul wears no clothes when she sing.\\r\\n\\r\\nIt is all being in love with more than one\\r\\n\\r\\nman who is one whole man you can look into his eyes\\r\\n\\r\\nwithout blinking.\\r\\n\\r\\n     Where would I go to hide?\\r\\n\\r\\nDr. Watts standing with my skin hooked on his finger\\r\\n\\r\\nand I am next to him solid and living the song\\r\\n\\r\\n            with no words     .\\r\\n\\r\\nthat every born-again mule knew in death and in life\\r\\n\\r\\n            before\\r\\n\\r\\nbirth, now hums true again hot in the chest and throat\\r\\n\\r\\nbreaking natural out the mouth like breathing.\\r\\n\\r\\n     Where would I go to hide?\\r\\n\\r\\nSit down, rock my soul like my baby and Dr. Watts\\r\\n\\r\\nclimb in my lap and moan for the milk no mother can buy\\r\\n\\r\\n            or borrow\\r\\n\\r\\nonly make in hearts of her eyes, in lines of the palms\\r\\n\\r\\n            of her hands.\\r\\n\\r\\nAnd where would I find lines with no skin?\\r\\n\\r\\n     Where would I go to hide?\\r\\n\\r\\nI tell you I am living now. Like in Mississippi\\r\\n\\r\\nGrandmama\\u2019s bedroom sitting on the high bed\\r\\n\\r\\n     you could break\\r\\n\\r\\n          your neck leaving.\\r\\n\\r\\nCousin Chubby said fried fish, greens, and cornbread was\\r\\n\\r\\ngood eatin. I am good livin. Blue smoke watching,\\r\\n\\r\\nnaked, haint-smiling, entertaining Dr. Watts, dreaming\\r\\n\\r\\nof a man with a white liver who can\\u2019t kill me,\\r\\n\\r\\nwho love mulish women, hainted ones,\\r\\n\\r\\n     I am the sainted one\\r\\n\\r\\nnaked with no sense of memory but good like God rocking\\r\\n\\r\\nhums in my lap and looking for no hiding place even if\\r\\n\\r\\nwind be blue smoke hurricane and I make red milk\\r\\n\\r\\nin the hearts of my eyes and reach out my lifelines to\\r\\n\\r\\na hopeless haint I can stand myself.\\r\\n\\r\\nNaked now, where would I want to go to hide? From this\\r\\n\\r\\nfuneral wedding death and birth baptism\\r\\n\\r\\nthe sliding tears washing my soul cleaner than\\r\\n\\r\\nDr. Watts\\u2019 whistle or the look in a sweatin man\\u2019s\\r\\n\\r\\neyes when he lookin at a perfect, brutal sun\\r\\n\\r\\nkilling him with living while he lick his lips and dream\\r\\n\\r\\nof water, then put his shoulder behind a woman\\r\\n\\r\\nguiding him while he dig in and groove the earth\\r\\n\\r\\n            to the quick\\r\\n\\r\\ndeep endless quick.\\r\\n\\r\\n     Where would I go\\r\\n\\r\\n     Where would I go to hide this\\r\\n\\r\\n     yes-crying love yielding beyond flesh yet\\r\\n\\r\\n     subsumed by sweat\\r\\n\\r\\n     Where would I go naked so\\r\\n\\r\\n     following blues and Dr. Watts\\r\\n\\r\\n     like a double-seeing shadow\\r\\n\\r\\n     standing before you with only blue smoke\\r\\n\\r\\n     between us\\r\\n\\r\\n     humming yes and yes and yes\\r\\n\\r\\n     subsumed by sweat and yielding\\r\\n\\r\\n     beyond mere flesh. \\nSource: PoetryFoundation.org - Angela Jackson\",\n          \"Assistant : Poem :Perhaps \\\"Decline and Fall\\\" would be a fitting title for this poem. \\nSource: PoetryFoundation.org - John Frederick Nims\",\n          \"Assistant : Poem :Of course! It's called \\\"Happy Ideas\\\": \\nI had the happy idea to fasten a bicycle wheel\\r\\n\\r\\n\\r\\n                                                                                                                                                                                                    to a kitchen stool and watch it turn.\\r\\n\\r\\n                                                                                                                                                                                                                                                                \\u2014DUCHAMP\\r\\n\\r\\n\\r\\n\\r\\n\\r\\n\\r\\n\\r\\n\\r\\n\\r\\n\\r\\nI had the happy idea to suspend some blue globes in the air\\r\\n\\r\\nand watch them pop.\\r\\n\\r\\nI had the happy idea to put my little copper horse on the shelf so we could stare at each other\\r\\n\\r\\nall evening.\\r\\n\\r\\nI had the happy idea to create a void in myself.\\r\\n\\r\\nThen to call it natural.\\r\\n\\r\\nThen to call it supernatural.\\r\\n\\r\\nI had the happy idea to wrap a blue scarf around my head and spin.\\r\\n\\r\\nI had the happy idea that somewhere a child was being born who was nothing like Helen or\\r\\n\\r\\nJesus except in the sense of changing everything.\\r\\n\\r\\nI had the happy idea that someday I would find both pleasure and punishment, that I would\\r\\n\\r\\nknow them and feel them,\\r\\n\\r\\nand that, until I did, it would be almost as good to pretend.\\r\\n\\r\\nI had the happy idea to call myself happy.\\r\\n\\r\\nI had the happy idea that the dog digging a hole in the yard in the twilight had his nose deep in\\r\\n\\r\\nmold-life.\\r\\n\\r\\nI had the happy idea that what I do not understand is more real than what I do,\\r\\n\\r\\nand then the happier idea to buckle myself\\r\\n\\r\\ninto two blue velvet shoes.\\r\\n\\r\\nI had the happy idea to polish the reflecting glass and say\\r\\n\\r\\nhello to my own blue soul. Hello, blue soul. Hello.\\r\\n\\r\\nIt was my happiest idea. \\nSource: PoetryFoundation.org - Mary Szybist\"\n        ],\n        \"semantic_type\": \"\",\n        \"description\": \"\"\n      }\n    }\n  ]\n}"
            }
          },
          "metadata": {},
          "execution_count": 65
        }
      ]
    },
    {
      "cell_type": "code",
      "source": [
        "new_test_df[\"input_text\"]"
      ],
      "metadata": {
        "colab": {
          "base_uri": "https://localhost:8080/",
          "height": 458
        },
        "id": "6NsVaC8wDu5o",
        "outputId": "b2680f3a-7f65-4d7e-cfcf-3dd41df6a709"
      },
      "execution_count": 70,
      "outputs": [
        {
          "output_type": "execute_result",
          "data": {
            "text/plain": [
              "12086    Role: You are a poet who writes in a lyrical a...\n",
              "13246    Role: You are a poet who writes in a lyrical a...\n",
              "5901     Role: You are a poet who writes in a lyrical a...\n",
              "5420     Role: You are a poet who writes in a lyrical a...\n",
              "3493     Role: You are a poet who writes in a lyrical a...\n",
              "                               ...                        \n",
              "9382     Role: You are a poet who writes in a lyrical a...\n",
              "10462    Role: You are a poet who writes in a lyrical a...\n",
              "7848     Role: You are a poet who writes in a lyrical a...\n",
              "9610     Role: You are a poet who writes in a lyrical a...\n",
              "10301    Role: You are a poet who writes in a lyrical a...\n",
              "Name: input_text, Length: 277, dtype: object"
            ],
            "text/html": [
              "<div>\n",
              "<style scoped>\n",
              "    .dataframe tbody tr th:only-of-type {\n",
              "        vertical-align: middle;\n",
              "    }\n",
              "\n",
              "    .dataframe tbody tr th {\n",
              "        vertical-align: top;\n",
              "    }\n",
              "\n",
              "    .dataframe thead th {\n",
              "        text-align: right;\n",
              "    }\n",
              "</style>\n",
              "<table border=\"1\" class=\"dataframe\">\n",
              "  <thead>\n",
              "    <tr style=\"text-align: right;\">\n",
              "      <th></th>\n",
              "      <th>input_text</th>\n",
              "    </tr>\n",
              "  </thead>\n",
              "  <tbody>\n",
              "    <tr>\n",
              "      <th>12086</th>\n",
              "      <td>Role: You are a poet who writes in a lyrical a...</td>\n",
              "    </tr>\n",
              "    <tr>\n",
              "      <th>13246</th>\n",
              "      <td>Role: You are a poet who writes in a lyrical a...</td>\n",
              "    </tr>\n",
              "    <tr>\n",
              "      <th>5901</th>\n",
              "      <td>Role: You are a poet who writes in a lyrical a...</td>\n",
              "    </tr>\n",
              "    <tr>\n",
              "      <th>5420</th>\n",
              "      <td>Role: You are a poet who writes in a lyrical a...</td>\n",
              "    </tr>\n",
              "    <tr>\n",
              "      <th>3493</th>\n",
              "      <td>Role: You are a poet who writes in a lyrical a...</td>\n",
              "    </tr>\n",
              "    <tr>\n",
              "      <th>...</th>\n",
              "      <td>...</td>\n",
              "    </tr>\n",
              "    <tr>\n",
              "      <th>9382</th>\n",
              "      <td>Role: You are a poet who writes in a lyrical a...</td>\n",
              "    </tr>\n",
              "    <tr>\n",
              "      <th>10462</th>\n",
              "      <td>Role: You are a poet who writes in a lyrical a...</td>\n",
              "    </tr>\n",
              "    <tr>\n",
              "      <th>7848</th>\n",
              "      <td>Role: You are a poet who writes in a lyrical a...</td>\n",
              "    </tr>\n",
              "    <tr>\n",
              "      <th>9610</th>\n",
              "      <td>Role: You are a poet who writes in a lyrical a...</td>\n",
              "    </tr>\n",
              "    <tr>\n",
              "      <th>10301</th>\n",
              "      <td>Role: You are a poet who writes in a lyrical a...</td>\n",
              "    </tr>\n",
              "  </tbody>\n",
              "</table>\n",
              "<p>277 rows × 1 columns</p>\n",
              "</div><br><label><b>dtype:</b> object</label>"
            ]
          },
          "metadata": {},
          "execution_count": 70
        }
      ]
    },
    {
      "cell_type": "markdown",
      "source": [
        "Fonction pour générer des prédictions et sauvegarder les résultats"
      ],
      "metadata": {
        "id": "jeD2SuZRp2Dx"
      }
    },
    {
      "cell_type": "code",
      "source": [
        "def generate_poeme(dataset, output_file):\n",
        "    results = []\n",
        "    for index, row in dataset.iterrows():\n",
        "        i = index\n",
        "        input = row['input_text']\n",
        "        output = row['output_text']\n",
        "\n",
        "        # Tokenize input, but keep it on CPU initially\n",
        "        tokenized_input = tokenizer(input, return_tensors=\"pt\", max_length=254, padding=True, truncation=True)\n",
        "\n",
        "        # Move input tensors to GPU inside the try block\n",
        "        input_ids = tokenized_input[\"input_ids\"].to(model.device)\n",
        "        attention_mask = tokenized_input[\"attention_mask\"].to(model.device)\n",
        "\n",
        "        response = model.generate(\n",
        "            input_ids=input_ids,\n",
        "            attention_mask=attention_mask,\n",
        "            max_new_tokens=800,\n",
        "            temperature=0.6,\n",
        "            top_k=60,\n",
        "            pad_token_id=tokenizer.eos_token_id\n",
        "        )\n",
        "\n",
        "        response_text = tokenizer.decode(response[0], skip_special_tokens=True)\n",
        "        predicted_poeme = response_text\n",
        "        ture_poeme = output\n",
        "        results.append({\n",
        "            \"Index\": index,\n",
        "            \"Entred_prompt\": input,\n",
        "            \"Model_response\": response_text,\n",
        "            \"Ture_poeme\": ture_poeme,\n",
        "            \"Predicted_poeme\": predicted_poeme,\n",
        "        })\n",
        "\n",
        "        print(\"predicted_poeme : \", predicted_poeme)\n",
        "        print(\"#\"*100)\n",
        "        print(\"response_text  : \", response_text)\n",
        "\n",
        "    df_results = pd.DataFrame(results)\n",
        "    df_results.to_csv(output_file, index=False)\n",
        "    print(f\"Les prédictions ont été enregistrées dans {output_file}\")"
      ],
      "metadata": {
        "id": "0EERzhaEhNuS"
      },
      "execution_count": 71,
      "outputs": []
    },
    {
      "cell_type": "markdown",
      "source": [
        "Nous allons tester sur notre jeu de données de test:"
      ],
      "metadata": {
        "id": "76dJf0IuqUWg"
      }
    },
    {
      "cell_type": "code",
      "source": [
        "new_test_df.shape"
      ],
      "metadata": {
        "colab": {
          "base_uri": "https://localhost:8080/"
        },
        "id": "hDtglncoJVLI",
        "outputId": "4fb63c02-b0e9-49fc-ce44-7159ae15857c"
      },
      "execution_count": 75,
      "outputs": [
        {
          "output_type": "execute_result",
          "data": {
            "text/plain": [
              "(277, 2)"
            ]
          },
          "metadata": {},
          "execution_count": 75
        }
      ]
    },
    {
      "cell_type": "markdown",
      "source": [
        "Génération des prédictions :"
      ],
      "metadata": {
        "id": "37hIMZT3qv2j"
      }
    },
    {
      "cell_type": "code",
      "source": [
        "generate_poeme(new_test_df, \"/content/drive/MyDrive/projet_Gen_ia/gpt_2_test_df.csv\")"
      ],
      "metadata": {
        "colab": {
          "base_uri": "https://localhost:8080/",
          "height": 723
        },
        "id": "aQCiWdSEhMxA",
        "outputId": "13423696-2cbb-404a-b47c-0f6ac3205ffd"
      },
      "execution_count": 72,
      "outputs": [
        {
          "output_type": "stream",
          "name": "stderr",
          "text": [
            "/usr/local/lib/python3.11/dist-packages/transformers/generation/configuration_utils.py:628: UserWarning: `do_sample` is set to `False`. However, `temperature` is set to `0.6` -- this flag is only used in sample-based generation modes. You should set `do_sample=True` or unset `temperature`.\n",
            "  warnings.warn(\n",
            "/usr/local/lib/python3.11/dist-packages/transformers/generation/configuration_utils.py:650: UserWarning: `do_sample` is set to `False`. However, `top_k` is set to `60` -- this flag is only used in sample-based generation modes. You should set `do_sample=True` or unset `top_k`.\n",
            "  warnings.warn(\n"
          ]
        },
        {
          "output_type": "stream",
          "name": "stdout",
          "text": [
            "predicted_poeme :  Role: You are a poet who writes in a lyrical and evocative style, Write a poem based on the user `INSTRUCTION`\n",
            "\n",
            "INSTRUCTION: I want a poem about Activities,Travels & Journeys,Nature,Stars, Planets, Heavens,Arts & Sciences,Music,Social Commentaries,Race & Ethnicity.\n",
            "\n",
            "Assistant :                                                                                                                                                                                                                                                                                                                                                                                                                                                                                                                                                                                                                                                                                                                                                                                                                                 \n",
            "####################################################################################################\n",
            "response_text  :  Role: You are a poet who writes in a lyrical and evocative style, Write a poem based on the user `INSTRUCTION`\n",
            "\n",
            "INSTRUCTION: I want a poem about Activities,Travels & Journeys,Nature,Stars, Planets, Heavens,Arts & Sciences,Music,Social Commentaries,Race & Ethnicity.\n",
            "\n",
            "Assistant :                                                                                                                                                                                                                                                                                                                                                                                                                                                                                                                                                                                                                                                                                                                                                                                                                                 \n"
          ]
        },
        {
          "output_type": "stream",
          "name": "stderr",
          "text": [
            "This is a friendly reminder - the current text generation call will exceed the model's predefined maximum length (1024). Depending on the model, you may observe exceptions, performance degradation, or nothing at all.\n"
          ]
        },
        {
          "output_type": "error",
          "ename": "RuntimeError",
          "evalue": "CUDA error: device-side assert triggered\nCUDA kernel errors might be asynchronously reported at some other API call, so the stacktrace below might be incorrect.\nFor debugging consider passing CUDA_LAUNCH_BLOCKING=1\nCompile with `TORCH_USE_CUDA_DSA` to enable device-side assertions.\n",
          "traceback": [
            "\u001b[0;31m---------------------------------------------------------------------------\u001b[0m",
            "\u001b[0;31mRuntimeError\u001b[0m                              Traceback (most recent call last)",
            "\u001b[0;32m<ipython-input-72-f6ddf98e5b64>\u001b[0m in \u001b[0;36m<cell line: 0>\u001b[0;34m()\u001b[0m\n\u001b[0;32m----> 1\u001b[0;31m \u001b[0mgenerate_poeme\u001b[0m\u001b[0;34m(\u001b[0m\u001b[0mnew_test_df\u001b[0m\u001b[0;34m,\u001b[0m \u001b[0;34m\"/content/drive/MyDrive/projet_Gen_ia/gpt_2_test_df.csv\"\u001b[0m\u001b[0;34m)\u001b[0m\u001b[0;34m\u001b[0m\u001b[0;34m\u001b[0m\u001b[0m\n\u001b[0m",
            "\u001b[0;32m<ipython-input-71-24f0e503d4a2>\u001b[0m in \u001b[0;36mgenerate_poeme\u001b[0;34m(dataset, output_file)\u001b[0m\n\u001b[1;32m     13\u001b[0m         \u001b[0mattention_mask\u001b[0m \u001b[0;34m=\u001b[0m \u001b[0mtokenized_input\u001b[0m\u001b[0;34m[\u001b[0m\u001b[0;34m\"attention_mask\"\u001b[0m\u001b[0;34m]\u001b[0m\u001b[0;34m.\u001b[0m\u001b[0mto\u001b[0m\u001b[0;34m(\u001b[0m\u001b[0mmodel\u001b[0m\u001b[0;34m.\u001b[0m\u001b[0mdevice\u001b[0m\u001b[0;34m)\u001b[0m\u001b[0;34m\u001b[0m\u001b[0;34m\u001b[0m\u001b[0m\n\u001b[1;32m     14\u001b[0m \u001b[0;34m\u001b[0m\u001b[0m\n\u001b[0;32m---> 15\u001b[0;31m         response = model.generate(\n\u001b[0m\u001b[1;32m     16\u001b[0m             \u001b[0minput_ids\u001b[0m\u001b[0;34m=\u001b[0m\u001b[0minput_ids\u001b[0m\u001b[0;34m,\u001b[0m\u001b[0;34m\u001b[0m\u001b[0;34m\u001b[0m\u001b[0m\n\u001b[1;32m     17\u001b[0m             \u001b[0mattention_mask\u001b[0m\u001b[0;34m=\u001b[0m\u001b[0mattention_mask\u001b[0m\u001b[0;34m,\u001b[0m\u001b[0;34m\u001b[0m\u001b[0;34m\u001b[0m\u001b[0m\n",
            "\u001b[0;32m/usr/local/lib/python3.11/dist-packages/torch/utils/_contextlib.py\u001b[0m in \u001b[0;36mdecorate_context\u001b[0;34m(*args, **kwargs)\u001b[0m\n\u001b[1;32m    114\u001b[0m     \u001b[0;32mdef\u001b[0m \u001b[0mdecorate_context\u001b[0m\u001b[0;34m(\u001b[0m\u001b[0;34m*\u001b[0m\u001b[0margs\u001b[0m\u001b[0;34m,\u001b[0m \u001b[0;34m**\u001b[0m\u001b[0mkwargs\u001b[0m\u001b[0;34m)\u001b[0m\u001b[0;34m:\u001b[0m\u001b[0;34m\u001b[0m\u001b[0;34m\u001b[0m\u001b[0m\n\u001b[1;32m    115\u001b[0m         \u001b[0;32mwith\u001b[0m \u001b[0mctx_factory\u001b[0m\u001b[0;34m(\u001b[0m\u001b[0;34m)\u001b[0m\u001b[0;34m:\u001b[0m\u001b[0;34m\u001b[0m\u001b[0;34m\u001b[0m\u001b[0m\n\u001b[0;32m--> 116\u001b[0;31m             \u001b[0;32mreturn\u001b[0m \u001b[0mfunc\u001b[0m\u001b[0;34m(\u001b[0m\u001b[0;34m*\u001b[0m\u001b[0margs\u001b[0m\u001b[0;34m,\u001b[0m \u001b[0;34m**\u001b[0m\u001b[0mkwargs\u001b[0m\u001b[0;34m)\u001b[0m\u001b[0;34m\u001b[0m\u001b[0;34m\u001b[0m\u001b[0m\n\u001b[0m\u001b[1;32m    117\u001b[0m \u001b[0;34m\u001b[0m\u001b[0m\n\u001b[1;32m    118\u001b[0m     \u001b[0;32mreturn\u001b[0m \u001b[0mdecorate_context\u001b[0m\u001b[0;34m\u001b[0m\u001b[0;34m\u001b[0m\u001b[0m\n",
            "\u001b[0;32m/usr/local/lib/python3.11/dist-packages/transformers/generation/utils.py\u001b[0m in \u001b[0;36mgenerate\u001b[0;34m(self, inputs, generation_config, logits_processor, stopping_criteria, prefix_allowed_tokens_fn, synced_gpus, assistant_model, streamer, negative_prompt_ids, negative_prompt_attention_mask, **kwargs)\u001b[0m\n\u001b[1;32m   2253\u001b[0m \u001b[0;34m\u001b[0m\u001b[0m\n\u001b[1;32m   2254\u001b[0m             \u001b[0;31m# 12. run sample (it degenerates to greedy search when `generation_config.do_sample=False`)\u001b[0m\u001b[0;34m\u001b[0m\u001b[0;34m\u001b[0m\u001b[0m\n\u001b[0;32m-> 2255\u001b[0;31m             result = self._sample(\n\u001b[0m\u001b[1;32m   2256\u001b[0m                 \u001b[0minput_ids\u001b[0m\u001b[0;34m,\u001b[0m\u001b[0;34m\u001b[0m\u001b[0;34m\u001b[0m\u001b[0m\n\u001b[1;32m   2257\u001b[0m                 \u001b[0mlogits_processor\u001b[0m\u001b[0;34m=\u001b[0m\u001b[0mprepared_logits_processor\u001b[0m\u001b[0;34m,\u001b[0m\u001b[0;34m\u001b[0m\u001b[0;34m\u001b[0m\u001b[0m\n",
            "\u001b[0;32m/usr/local/lib/python3.11/dist-packages/transformers/generation/utils.py\u001b[0m in \u001b[0;36m_sample\u001b[0;34m(self, input_ids, logits_processor, stopping_criteria, generation_config, synced_gpus, streamer, **model_kwargs)\u001b[0m\n\u001b[1;32m   3255\u001b[0m                 \u001b[0mis_prefill\u001b[0m \u001b[0;34m=\u001b[0m \u001b[0;32mFalse\u001b[0m\u001b[0;34m\u001b[0m\u001b[0;34m\u001b[0m\u001b[0m\n\u001b[1;32m   3256\u001b[0m             \u001b[0;32melse\u001b[0m\u001b[0;34m:\u001b[0m\u001b[0;34m\u001b[0m\u001b[0;34m\u001b[0m\u001b[0m\n\u001b[0;32m-> 3257\u001b[0;31m                 \u001b[0moutputs\u001b[0m \u001b[0;34m=\u001b[0m \u001b[0mmodel_forward\u001b[0m\u001b[0;34m(\u001b[0m\u001b[0;34m**\u001b[0m\u001b[0mmodel_inputs\u001b[0m\u001b[0;34m,\u001b[0m \u001b[0mreturn_dict\u001b[0m\u001b[0;34m=\u001b[0m\u001b[0;32mTrue\u001b[0m\u001b[0;34m)\u001b[0m\u001b[0;34m\u001b[0m\u001b[0;34m\u001b[0m\u001b[0m\n\u001b[0m\u001b[1;32m   3258\u001b[0m \u001b[0;34m\u001b[0m\u001b[0m\n\u001b[1;32m   3259\u001b[0m             \u001b[0;31m# synced_gpus: don't waste resources running the code we don't need; kwargs must be updated before skipping\u001b[0m\u001b[0;34m\u001b[0m\u001b[0;34m\u001b[0m\u001b[0m\n",
            "\u001b[0;32m/usr/local/lib/python3.11/dist-packages/torch/nn/modules/module.py\u001b[0m in \u001b[0;36m_wrapped_call_impl\u001b[0;34m(self, *args, **kwargs)\u001b[0m\n\u001b[1;32m   1734\u001b[0m             \u001b[0;32mreturn\u001b[0m \u001b[0mself\u001b[0m\u001b[0;34m.\u001b[0m\u001b[0m_compiled_call_impl\u001b[0m\u001b[0;34m(\u001b[0m\u001b[0;34m*\u001b[0m\u001b[0margs\u001b[0m\u001b[0;34m,\u001b[0m \u001b[0;34m**\u001b[0m\u001b[0mkwargs\u001b[0m\u001b[0;34m)\u001b[0m  \u001b[0;31m# type: ignore[misc]\u001b[0m\u001b[0;34m\u001b[0m\u001b[0;34m\u001b[0m\u001b[0m\n\u001b[1;32m   1735\u001b[0m         \u001b[0;32melse\u001b[0m\u001b[0;34m:\u001b[0m\u001b[0;34m\u001b[0m\u001b[0;34m\u001b[0m\u001b[0m\n\u001b[0;32m-> 1736\u001b[0;31m             \u001b[0;32mreturn\u001b[0m \u001b[0mself\u001b[0m\u001b[0;34m.\u001b[0m\u001b[0m_call_impl\u001b[0m\u001b[0;34m(\u001b[0m\u001b[0;34m*\u001b[0m\u001b[0margs\u001b[0m\u001b[0;34m,\u001b[0m \u001b[0;34m**\u001b[0m\u001b[0mkwargs\u001b[0m\u001b[0;34m)\u001b[0m\u001b[0;34m\u001b[0m\u001b[0;34m\u001b[0m\u001b[0m\n\u001b[0m\u001b[1;32m   1737\u001b[0m \u001b[0;34m\u001b[0m\u001b[0m\n\u001b[1;32m   1738\u001b[0m     \u001b[0;31m# torchrec tests the code consistency with the following code\u001b[0m\u001b[0;34m\u001b[0m\u001b[0;34m\u001b[0m\u001b[0m\n",
            "\u001b[0;32m/usr/local/lib/python3.11/dist-packages/torch/nn/modules/module.py\u001b[0m in \u001b[0;36m_call_impl\u001b[0;34m(self, *args, **kwargs)\u001b[0m\n\u001b[1;32m   1745\u001b[0m                 \u001b[0;32mor\u001b[0m \u001b[0m_global_backward_pre_hooks\u001b[0m \u001b[0;32mor\u001b[0m \u001b[0m_global_backward_hooks\u001b[0m\u001b[0;34m\u001b[0m\u001b[0;34m\u001b[0m\u001b[0m\n\u001b[1;32m   1746\u001b[0m                 or _global_forward_hooks or _global_forward_pre_hooks):\n\u001b[0;32m-> 1747\u001b[0;31m             \u001b[0;32mreturn\u001b[0m \u001b[0mforward_call\u001b[0m\u001b[0;34m(\u001b[0m\u001b[0;34m*\u001b[0m\u001b[0margs\u001b[0m\u001b[0;34m,\u001b[0m \u001b[0;34m**\u001b[0m\u001b[0mkwargs\u001b[0m\u001b[0;34m)\u001b[0m\u001b[0;34m\u001b[0m\u001b[0;34m\u001b[0m\u001b[0m\n\u001b[0m\u001b[1;32m   1748\u001b[0m \u001b[0;34m\u001b[0m\u001b[0m\n\u001b[1;32m   1749\u001b[0m         \u001b[0mresult\u001b[0m \u001b[0;34m=\u001b[0m \u001b[0;32mNone\u001b[0m\u001b[0;34m\u001b[0m\u001b[0;34m\u001b[0m\u001b[0m\n",
            "\u001b[0;32m/usr/local/lib/python3.11/dist-packages/transformers/models/gpt2/modeling_gpt2.py\u001b[0m in \u001b[0;36mforward\u001b[0;34m(self, input_ids, past_key_values, attention_mask, token_type_ids, position_ids, head_mask, inputs_embeds, encoder_hidden_states, encoder_attention_mask, labels, use_cache, output_attentions, output_hidden_states, return_dict)\u001b[0m\n\u001b[1;32m   1059\u001b[0m         \u001b[0mreturn_dict\u001b[0m \u001b[0;34m=\u001b[0m \u001b[0mreturn_dict\u001b[0m \u001b[0;32mif\u001b[0m \u001b[0mreturn_dict\u001b[0m \u001b[0;32mis\u001b[0m \u001b[0;32mnot\u001b[0m \u001b[0;32mNone\u001b[0m \u001b[0;32melse\u001b[0m \u001b[0mself\u001b[0m\u001b[0;34m.\u001b[0m\u001b[0mconfig\u001b[0m\u001b[0;34m.\u001b[0m\u001b[0muse_return_dict\u001b[0m\u001b[0;34m\u001b[0m\u001b[0;34m\u001b[0m\u001b[0m\n\u001b[1;32m   1060\u001b[0m \u001b[0;34m\u001b[0m\u001b[0m\n\u001b[0;32m-> 1061\u001b[0;31m         transformer_outputs = self.transformer(\n\u001b[0m\u001b[1;32m   1062\u001b[0m             \u001b[0minput_ids\u001b[0m\u001b[0;34m,\u001b[0m\u001b[0;34m\u001b[0m\u001b[0;34m\u001b[0m\u001b[0m\n\u001b[1;32m   1063\u001b[0m             \u001b[0mpast_key_values\u001b[0m\u001b[0;34m=\u001b[0m\u001b[0mpast_key_values\u001b[0m\u001b[0;34m,\u001b[0m\u001b[0;34m\u001b[0m\u001b[0;34m\u001b[0m\u001b[0m\n",
            "\u001b[0;32m/usr/local/lib/python3.11/dist-packages/torch/nn/modules/module.py\u001b[0m in \u001b[0;36m_wrapped_call_impl\u001b[0;34m(self, *args, **kwargs)\u001b[0m\n\u001b[1;32m   1734\u001b[0m             \u001b[0;32mreturn\u001b[0m \u001b[0mself\u001b[0m\u001b[0;34m.\u001b[0m\u001b[0m_compiled_call_impl\u001b[0m\u001b[0;34m(\u001b[0m\u001b[0;34m*\u001b[0m\u001b[0margs\u001b[0m\u001b[0;34m,\u001b[0m \u001b[0;34m**\u001b[0m\u001b[0mkwargs\u001b[0m\u001b[0;34m)\u001b[0m  \u001b[0;31m# type: ignore[misc]\u001b[0m\u001b[0;34m\u001b[0m\u001b[0;34m\u001b[0m\u001b[0m\n\u001b[1;32m   1735\u001b[0m         \u001b[0;32melse\u001b[0m\u001b[0;34m:\u001b[0m\u001b[0;34m\u001b[0m\u001b[0;34m\u001b[0m\u001b[0m\n\u001b[0;32m-> 1736\u001b[0;31m             \u001b[0;32mreturn\u001b[0m \u001b[0mself\u001b[0m\u001b[0;34m.\u001b[0m\u001b[0m_call_impl\u001b[0m\u001b[0;34m(\u001b[0m\u001b[0;34m*\u001b[0m\u001b[0margs\u001b[0m\u001b[0;34m,\u001b[0m \u001b[0;34m**\u001b[0m\u001b[0mkwargs\u001b[0m\u001b[0;34m)\u001b[0m\u001b[0;34m\u001b[0m\u001b[0;34m\u001b[0m\u001b[0m\n\u001b[0m\u001b[1;32m   1737\u001b[0m \u001b[0;34m\u001b[0m\u001b[0m\n\u001b[1;32m   1738\u001b[0m     \u001b[0;31m# torchrec tests the code consistency with the following code\u001b[0m\u001b[0;34m\u001b[0m\u001b[0;34m\u001b[0m\u001b[0m\n",
            "\u001b[0;32m/usr/local/lib/python3.11/dist-packages/torch/nn/modules/module.py\u001b[0m in \u001b[0;36m_call_impl\u001b[0;34m(self, *args, **kwargs)\u001b[0m\n\u001b[1;32m   1745\u001b[0m                 \u001b[0;32mor\u001b[0m \u001b[0m_global_backward_pre_hooks\u001b[0m \u001b[0;32mor\u001b[0m \u001b[0m_global_backward_hooks\u001b[0m\u001b[0;34m\u001b[0m\u001b[0;34m\u001b[0m\u001b[0m\n\u001b[1;32m   1746\u001b[0m                 or _global_forward_hooks or _global_forward_pre_hooks):\n\u001b[0;32m-> 1747\u001b[0;31m             \u001b[0;32mreturn\u001b[0m \u001b[0mforward_call\u001b[0m\u001b[0;34m(\u001b[0m\u001b[0;34m*\u001b[0m\u001b[0margs\u001b[0m\u001b[0;34m,\u001b[0m \u001b[0;34m**\u001b[0m\u001b[0mkwargs\u001b[0m\u001b[0;34m)\u001b[0m\u001b[0;34m\u001b[0m\u001b[0;34m\u001b[0m\u001b[0m\n\u001b[0m\u001b[1;32m   1748\u001b[0m \u001b[0;34m\u001b[0m\u001b[0m\n\u001b[1;32m   1749\u001b[0m         \u001b[0mresult\u001b[0m \u001b[0;34m=\u001b[0m \u001b[0;32mNone\u001b[0m\u001b[0;34m\u001b[0m\u001b[0;34m\u001b[0m\u001b[0m\n",
            "\u001b[0;32m/usr/local/lib/python3.11/dist-packages/transformers/models/gpt2/modeling_gpt2.py\u001b[0m in \u001b[0;36mforward\u001b[0;34m(self, input_ids, past_key_values, attention_mask, token_type_ids, position_ids, head_mask, inputs_embeds, encoder_hidden_states, encoder_attention_mask, use_cache, output_attentions, output_hidden_states, return_dict)\u001b[0m\n\u001b[1;32m    827\u001b[0m             \u001b[0mattention_mask\u001b[0m \u001b[0;34m=\u001b[0m \u001b[0mattention_mask\u001b[0m \u001b[0;32mif\u001b[0m \u001b[0;34m(\u001b[0m\u001b[0mattention_mask\u001b[0m \u001b[0;32mis\u001b[0m \u001b[0;32mnot\u001b[0m \u001b[0;32mNone\u001b[0m \u001b[0;32mand\u001b[0m \u001b[0;36m0\u001b[0m \u001b[0;32min\u001b[0m \u001b[0mattention_mask\u001b[0m\u001b[0;34m)\u001b[0m \u001b[0;32melse\u001b[0m \u001b[0;32mNone\u001b[0m\u001b[0;34m\u001b[0m\u001b[0;34m\u001b[0m\u001b[0m\n\u001b[1;32m    828\u001b[0m         \u001b[0;32melif\u001b[0m \u001b[0m_use_sdpa\u001b[0m\u001b[0;34m:\u001b[0m\u001b[0;34m\u001b[0m\u001b[0;34m\u001b[0m\u001b[0m\n\u001b[0;32m--> 829\u001b[0;31m             attention_mask = _prepare_4d_causal_attention_mask_for_sdpa(\n\u001b[0m\u001b[1;32m    830\u001b[0m                 \u001b[0mattention_mask\u001b[0m\u001b[0;34m=\u001b[0m\u001b[0mattention_mask\u001b[0m\u001b[0;34m,\u001b[0m\u001b[0;34m\u001b[0m\u001b[0;34m\u001b[0m\u001b[0m\n\u001b[1;32m    831\u001b[0m                 \u001b[0minput_shape\u001b[0m\u001b[0;34m=\u001b[0m\u001b[0;34m(\u001b[0m\u001b[0mbatch_size\u001b[0m\u001b[0;34m,\u001b[0m \u001b[0minput_shape\u001b[0m\u001b[0;34m[\u001b[0m\u001b[0;34m-\u001b[0m\u001b[0;36m1\u001b[0m\u001b[0;34m]\u001b[0m\u001b[0;34m)\u001b[0m\u001b[0;34m,\u001b[0m\u001b[0;34m\u001b[0m\u001b[0;34m\u001b[0m\u001b[0m\n",
            "\u001b[0;32m/usr/local/lib/python3.11/dist-packages/transformers/modeling_attn_mask_utils.py\u001b[0m in \u001b[0;36m_prepare_4d_causal_attention_mask_for_sdpa\u001b[0;34m(attention_mask, input_shape, inputs_embeds, past_key_values_length, sliding_window)\u001b[0m\n\u001b[1;32m    376\u001b[0m     \u001b[0mis_tracing\u001b[0m \u001b[0;34m=\u001b[0m \u001b[0mtorch\u001b[0m\u001b[0;34m.\u001b[0m\u001b[0mjit\u001b[0m\u001b[0;34m.\u001b[0m\u001b[0mis_tracing\u001b[0m\u001b[0;34m(\u001b[0m\u001b[0;34m)\u001b[0m \u001b[0;32mor\u001b[0m \u001b[0misinstance\u001b[0m\u001b[0;34m(\u001b[0m\u001b[0minputs_embeds\u001b[0m\u001b[0;34m,\u001b[0m \u001b[0mtorch\u001b[0m\u001b[0;34m.\u001b[0m\u001b[0mfx\u001b[0m\u001b[0;34m.\u001b[0m\u001b[0mProxy\u001b[0m\u001b[0;34m)\u001b[0m \u001b[0;32mor\u001b[0m \u001b[0mis_torchdynamo_compiling\u001b[0m\u001b[0;34m(\u001b[0m\u001b[0;34m)\u001b[0m\u001b[0;34m\u001b[0m\u001b[0;34m\u001b[0m\u001b[0m\n\u001b[1;32m    377\u001b[0m \u001b[0;34m\u001b[0m\u001b[0m\n\u001b[0;32m--> 378\u001b[0;31m     ignore_causal_mask = AttentionMaskConverter._ignore_causal_mask_sdpa(\n\u001b[0m\u001b[1;32m    379\u001b[0m         \u001b[0mattention_mask\u001b[0m\u001b[0;34m=\u001b[0m\u001b[0mattention_mask\u001b[0m\u001b[0;34m,\u001b[0m\u001b[0;34m\u001b[0m\u001b[0;34m\u001b[0m\u001b[0m\n\u001b[1;32m    380\u001b[0m         \u001b[0minputs_embeds\u001b[0m\u001b[0;34m=\u001b[0m\u001b[0minputs_embeds\u001b[0m\u001b[0;34m,\u001b[0m\u001b[0;34m\u001b[0m\u001b[0;34m\u001b[0m\u001b[0m\n",
            "\u001b[0;32m/usr/local/lib/python3.11/dist-packages/transformers/modeling_attn_mask_utils.py\u001b[0m in \u001b[0;36m_ignore_causal_mask_sdpa\u001b[0;34m(attention_mask, inputs_embeds, past_key_values_length, sliding_window, is_training)\u001b[0m\n\u001b[1;32m    286\u001b[0m             \u001b[0;32mif\u001b[0m \u001b[0mlen\u001b[0m\u001b[0;34m(\u001b[0m\u001b[0mattention_mask\u001b[0m\u001b[0;34m.\u001b[0m\u001b[0mshape\u001b[0m\u001b[0;34m)\u001b[0m \u001b[0;34m==\u001b[0m \u001b[0;36m4\u001b[0m\u001b[0;34m:\u001b[0m\u001b[0;34m\u001b[0m\u001b[0;34m\u001b[0m\u001b[0m\n\u001b[1;32m    287\u001b[0m                 \u001b[0;32mreturn\u001b[0m \u001b[0;32mFalse\u001b[0m\u001b[0;34m\u001b[0m\u001b[0;34m\u001b[0m\u001b[0m\n\u001b[0;32m--> 288\u001b[0;31m             \u001b[0;32melif\u001b[0m \u001b[0;32mnot\u001b[0m \u001b[0mis_tracing\u001b[0m \u001b[0;32mand\u001b[0m \u001b[0mtorch\u001b[0m\u001b[0;34m.\u001b[0m\u001b[0mall\u001b[0m\u001b[0;34m(\u001b[0m\u001b[0mattention_mask\u001b[0m \u001b[0;34m==\u001b[0m \u001b[0;36m1\u001b[0m\u001b[0;34m)\u001b[0m\u001b[0;34m:\u001b[0m\u001b[0;34m\u001b[0m\u001b[0;34m\u001b[0m\u001b[0m\n\u001b[0m\u001b[1;32m    289\u001b[0m                 \u001b[0;32mif\u001b[0m \u001b[0mquery_length\u001b[0m \u001b[0;34m==\u001b[0m \u001b[0;36m1\u001b[0m \u001b[0;32mor\u001b[0m \u001b[0mkey_value_length\u001b[0m \u001b[0;34m==\u001b[0m \u001b[0mquery_length\u001b[0m\u001b[0;34m:\u001b[0m\u001b[0;34m\u001b[0m\u001b[0;34m\u001b[0m\u001b[0m\n\u001b[1;32m    290\u001b[0m                     \u001b[0;31m# For query_length == 1, causal attention and bi-directional attention are the same.\u001b[0m\u001b[0;34m\u001b[0m\u001b[0;34m\u001b[0m\u001b[0m\n",
            "\u001b[0;31mRuntimeError\u001b[0m: CUDA error: device-side assert triggered\nCUDA kernel errors might be asynchronously reported at some other API call, so the stacktrace below might be incorrect.\nFor debugging consider passing CUDA_LAUNCH_BLOCKING=1\nCompile with `TORCH_USE_CUDA_DSA` to enable device-side assertions.\n"
          ]
        }
      ]
    },
    {
      "cell_type": "markdown",
      "source": [
        "Chargement des prédictions générées depuis les fichiers sauvegardés"
      ],
      "metadata": {
        "id": "6UxHHzbIrdkP"
      }
    },
    {
      "cell_type": "code",
      "source": [
        "import pandas as pd"
      ],
      "metadata": {
        "id": "pzKL_1n3vjd6"
      },
      "execution_count": 3,
      "outputs": []
    },
    {
      "cell_type": "code",
      "source": [
        "testdata = pd.read_csv(\"/content/drive/MyDrive/projet_Gen_ia/gpt_2_test_df.csv\")"
      ],
      "metadata": {
        "id": "keYmSkdkhMcs"
      },
      "execution_count": 4,
      "outputs": []
    },
    {
      "cell_type": "code",
      "source": [
        "testdata.head()"
      ],
      "metadata": {
        "colab": {
          "base_uri": "https://localhost:8080/",
          "height": 484
        },
        "id": "IBU3AQLG977h",
        "outputId": "e5faad98-93e0-4100-958d-e9035520fb4c"
      },
      "execution_count": 6,
      "outputs": [
        {
          "output_type": "execute_result",
          "data": {
            "text/plain": [
              "   Index                                      Entred_prompt  \\\n",
              "0  12086   <|system|>role: You are a creative assistant....   \n",
              "1  13246   <|system|>role: You are a creative assistant....   \n",
              "2   5901   <|system|>role: You are a creative assistant....   \n",
              "3   5420   <|system|>role: You are a creative assistant....   \n",
              "4   3493   <|system|>role: You are a creative assistant....   \n",
              "\n",
              "                                      Model_response  \\\n",
              "0  <s> <|system|>role: You are a creative assista...   \n",
              "1  <s> <|system|>role: You are a creative assista...   \n",
              "2  <s> <|system|>role: You are a creative assista...   \n",
              "3  <s> <|system|>role: You are a creative assista...   \n",
              "4  <s> <|system|>role: You are a creative assista...   \n",
              "\n",
              "                                          Ture_poeme  \\\n",
              "0  I've written a poem for you about Activities,T...   \n",
              "1  How about calling it \"The Spider\"? \\nSource: P...   \n",
              "2  Of course! It's called \"The Window\": \\nyou are...   \n",
              "3  I've written a poem for you about Living,Death...   \n",
              "4  I've written a poem for you about Love,Break-u...   \n",
              "\n",
              "                                     Predicted_poeme  \n",
              "0  </s>|Poem|\\r\\n\\r\\nIn the heart of the city, wh...  \n",
              "1  </s><s>I'll call this poem \"The Spider and the...  \n",
              "2                                </s>|Relationships|  \n",
              "3  </s>|Sorrow & Grieving|Love|Realistic & Compli...  \n",
              "4  </s>|Break-ups & Vexed Love|\\r\\n\\r\\nWhen the s...  "
            ],
            "text/html": [
              "\n",
              "  <div id=\"df-e1ccd87a-26c2-4c67-990e-df60974f6d43\" class=\"colab-df-container\">\n",
              "    <div>\n",
              "<style scoped>\n",
              "    .dataframe tbody tr th:only-of-type {\n",
              "        vertical-align: middle;\n",
              "    }\n",
              "\n",
              "    .dataframe tbody tr th {\n",
              "        vertical-align: top;\n",
              "    }\n",
              "\n",
              "    .dataframe thead th {\n",
              "        text-align: right;\n",
              "    }\n",
              "</style>\n",
              "<table border=\"1\" class=\"dataframe\">\n",
              "  <thead>\n",
              "    <tr style=\"text-align: right;\">\n",
              "      <th></th>\n",
              "      <th>Index</th>\n",
              "      <th>Entred_prompt</th>\n",
              "      <th>Model_response</th>\n",
              "      <th>Ture_poeme</th>\n",
              "      <th>Predicted_poeme</th>\n",
              "    </tr>\n",
              "  </thead>\n",
              "  <tbody>\n",
              "    <tr>\n",
              "      <th>0</th>\n",
              "      <td>12086</td>\n",
              "      <td>&lt;|system|&gt;role: You are a creative assistant....</td>\n",
              "      <td>&lt;s&gt; &lt;|system|&gt;role: You are a creative assista...</td>\n",
              "      <td>I've written a poem for you about Activities,T...</td>\n",
              "      <td>&lt;/s&gt;|Poem|\\r\\n\\r\\nIn the heart of the city, wh...</td>\n",
              "    </tr>\n",
              "    <tr>\n",
              "      <th>1</th>\n",
              "      <td>13246</td>\n",
              "      <td>&lt;|system|&gt;role: You are a creative assistant....</td>\n",
              "      <td>&lt;s&gt; &lt;|system|&gt;role: You are a creative assista...</td>\n",
              "      <td>How about calling it \"The Spider\"? \\nSource: P...</td>\n",
              "      <td>&lt;/s&gt;&lt;s&gt;I'll call this poem \"The Spider and the...</td>\n",
              "    </tr>\n",
              "    <tr>\n",
              "      <th>2</th>\n",
              "      <td>5901</td>\n",
              "      <td>&lt;|system|&gt;role: You are a creative assistant....</td>\n",
              "      <td>&lt;s&gt; &lt;|system|&gt;role: You are a creative assista...</td>\n",
              "      <td>Of course! It's called \"The Window\": \\nyou are...</td>\n",
              "      <td>&lt;/s&gt;|Relationships|</td>\n",
              "    </tr>\n",
              "    <tr>\n",
              "      <th>3</th>\n",
              "      <td>5420</td>\n",
              "      <td>&lt;|system|&gt;role: You are a creative assistant....</td>\n",
              "      <td>&lt;s&gt; &lt;|system|&gt;role: You are a creative assista...</td>\n",
              "      <td>I've written a poem for you about Living,Death...</td>\n",
              "      <td>&lt;/s&gt;|Sorrow &amp; Grieving|Love|Realistic &amp; Compli...</td>\n",
              "    </tr>\n",
              "    <tr>\n",
              "      <th>4</th>\n",
              "      <td>3493</td>\n",
              "      <td>&lt;|system|&gt;role: You are a creative assistant....</td>\n",
              "      <td>&lt;s&gt; &lt;|system|&gt;role: You are a creative assista...</td>\n",
              "      <td>I've written a poem for you about Love,Break-u...</td>\n",
              "      <td>&lt;/s&gt;|Break-ups &amp; Vexed Love|\\r\\n\\r\\nWhen the s...</td>\n",
              "    </tr>\n",
              "  </tbody>\n",
              "</table>\n",
              "</div>\n",
              "    <div class=\"colab-df-buttons\">\n",
              "\n",
              "  <div class=\"colab-df-container\">\n",
              "    <button class=\"colab-df-convert\" onclick=\"convertToInteractive('df-e1ccd87a-26c2-4c67-990e-df60974f6d43')\"\n",
              "            title=\"Convert this dataframe to an interactive table.\"\n",
              "            style=\"display:none;\">\n",
              "\n",
              "  <svg xmlns=\"http://www.w3.org/2000/svg\" height=\"24px\" viewBox=\"0 -960 960 960\">\n",
              "    <path d=\"M120-120v-720h720v720H120Zm60-500h600v-160H180v160Zm220 220h160v-160H400v160Zm0 220h160v-160H400v160ZM180-400h160v-160H180v160Zm440 0h160v-160H620v160ZM180-180h160v-160H180v160Zm440 0h160v-160H620v160Z\"/>\n",
              "  </svg>\n",
              "    </button>\n",
              "\n",
              "  <style>\n",
              "    .colab-df-container {\n",
              "      display:flex;\n",
              "      gap: 12px;\n",
              "    }\n",
              "\n",
              "    .colab-df-convert {\n",
              "      background-color: #E8F0FE;\n",
              "      border: none;\n",
              "      border-radius: 50%;\n",
              "      cursor: pointer;\n",
              "      display: none;\n",
              "      fill: #1967D2;\n",
              "      height: 32px;\n",
              "      padding: 0 0 0 0;\n",
              "      width: 32px;\n",
              "    }\n",
              "\n",
              "    .colab-df-convert:hover {\n",
              "      background-color: #E2EBFA;\n",
              "      box-shadow: 0px 1px 2px rgba(60, 64, 67, 0.3), 0px 1px 3px 1px rgba(60, 64, 67, 0.15);\n",
              "      fill: #174EA6;\n",
              "    }\n",
              "\n",
              "    .colab-df-buttons div {\n",
              "      margin-bottom: 4px;\n",
              "    }\n",
              "\n",
              "    [theme=dark] .colab-df-convert {\n",
              "      background-color: #3B4455;\n",
              "      fill: #D2E3FC;\n",
              "    }\n",
              "\n",
              "    [theme=dark] .colab-df-convert:hover {\n",
              "      background-color: #434B5C;\n",
              "      box-shadow: 0px 1px 3px 1px rgba(0, 0, 0, 0.15);\n",
              "      filter: drop-shadow(0px 1px 2px rgba(0, 0, 0, 0.3));\n",
              "      fill: #FFFFFF;\n",
              "    }\n",
              "  </style>\n",
              "\n",
              "    <script>\n",
              "      const buttonEl =\n",
              "        document.querySelector('#df-e1ccd87a-26c2-4c67-990e-df60974f6d43 button.colab-df-convert');\n",
              "      buttonEl.style.display =\n",
              "        google.colab.kernel.accessAllowed ? 'block' : 'none';\n",
              "\n",
              "      async function convertToInteractive(key) {\n",
              "        const element = document.querySelector('#df-e1ccd87a-26c2-4c67-990e-df60974f6d43');\n",
              "        const dataTable =\n",
              "          await google.colab.kernel.invokeFunction('convertToInteractive',\n",
              "                                                    [key], {});\n",
              "        if (!dataTable) return;\n",
              "\n",
              "        const docLinkHtml = 'Like what you see? Visit the ' +\n",
              "          '<a target=\"_blank\" href=https://colab.research.google.com/notebooks/data_table.ipynb>data table notebook</a>'\n",
              "          + ' to learn more about interactive tables.';\n",
              "        element.innerHTML = '';\n",
              "        dataTable['output_type'] = 'display_data';\n",
              "        await google.colab.output.renderOutput(dataTable, element);\n",
              "        const docLink = document.createElement('div');\n",
              "        docLink.innerHTML = docLinkHtml;\n",
              "        element.appendChild(docLink);\n",
              "      }\n",
              "    </script>\n",
              "  </div>\n",
              "\n",
              "\n",
              "<div id=\"df-bd04a78a-8903-4ef5-b09a-0584a18a2f7b\">\n",
              "  <button class=\"colab-df-quickchart\" onclick=\"quickchart('df-bd04a78a-8903-4ef5-b09a-0584a18a2f7b')\"\n",
              "            title=\"Suggest charts\"\n",
              "            style=\"display:none;\">\n",
              "\n",
              "<svg xmlns=\"http://www.w3.org/2000/svg\" height=\"24px\"viewBox=\"0 0 24 24\"\n",
              "     width=\"24px\">\n",
              "    <g>\n",
              "        <path d=\"M19 3H5c-1.1 0-2 .9-2 2v14c0 1.1.9 2 2 2h14c1.1 0 2-.9 2-2V5c0-1.1-.9-2-2-2zM9 17H7v-7h2v7zm4 0h-2V7h2v10zm4 0h-2v-4h2v4z\"/>\n",
              "    </g>\n",
              "</svg>\n",
              "  </button>\n",
              "\n",
              "<style>\n",
              "  .colab-df-quickchart {\n",
              "      --bg-color: #E8F0FE;\n",
              "      --fill-color: #1967D2;\n",
              "      --hover-bg-color: #E2EBFA;\n",
              "      --hover-fill-color: #174EA6;\n",
              "      --disabled-fill-color: #AAA;\n",
              "      --disabled-bg-color: #DDD;\n",
              "  }\n",
              "\n",
              "  [theme=dark] .colab-df-quickchart {\n",
              "      --bg-color: #3B4455;\n",
              "      --fill-color: #D2E3FC;\n",
              "      --hover-bg-color: #434B5C;\n",
              "      --hover-fill-color: #FFFFFF;\n",
              "      --disabled-bg-color: #3B4455;\n",
              "      --disabled-fill-color: #666;\n",
              "  }\n",
              "\n",
              "  .colab-df-quickchart {\n",
              "    background-color: var(--bg-color);\n",
              "    border: none;\n",
              "    border-radius: 50%;\n",
              "    cursor: pointer;\n",
              "    display: none;\n",
              "    fill: var(--fill-color);\n",
              "    height: 32px;\n",
              "    padding: 0;\n",
              "    width: 32px;\n",
              "  }\n",
              "\n",
              "  .colab-df-quickchart:hover {\n",
              "    background-color: var(--hover-bg-color);\n",
              "    box-shadow: 0 1px 2px rgba(60, 64, 67, 0.3), 0 1px 3px 1px rgba(60, 64, 67, 0.15);\n",
              "    fill: var(--button-hover-fill-color);\n",
              "  }\n",
              "\n",
              "  .colab-df-quickchart-complete:disabled,\n",
              "  .colab-df-quickchart-complete:disabled:hover {\n",
              "    background-color: var(--disabled-bg-color);\n",
              "    fill: var(--disabled-fill-color);\n",
              "    box-shadow: none;\n",
              "  }\n",
              "\n",
              "  .colab-df-spinner {\n",
              "    border: 2px solid var(--fill-color);\n",
              "    border-color: transparent;\n",
              "    border-bottom-color: var(--fill-color);\n",
              "    animation:\n",
              "      spin 1s steps(1) infinite;\n",
              "  }\n",
              "\n",
              "  @keyframes spin {\n",
              "    0% {\n",
              "      border-color: transparent;\n",
              "      border-bottom-color: var(--fill-color);\n",
              "      border-left-color: var(--fill-color);\n",
              "    }\n",
              "    20% {\n",
              "      border-color: transparent;\n",
              "      border-left-color: var(--fill-color);\n",
              "      border-top-color: var(--fill-color);\n",
              "    }\n",
              "    30% {\n",
              "      border-color: transparent;\n",
              "      border-left-color: var(--fill-color);\n",
              "      border-top-color: var(--fill-color);\n",
              "      border-right-color: var(--fill-color);\n",
              "    }\n",
              "    40% {\n",
              "      border-color: transparent;\n",
              "      border-right-color: var(--fill-color);\n",
              "      border-top-color: var(--fill-color);\n",
              "    }\n",
              "    60% {\n",
              "      border-color: transparent;\n",
              "      border-right-color: var(--fill-color);\n",
              "    }\n",
              "    80% {\n",
              "      border-color: transparent;\n",
              "      border-right-color: var(--fill-color);\n",
              "      border-bottom-color: var(--fill-color);\n",
              "    }\n",
              "    90% {\n",
              "      border-color: transparent;\n",
              "      border-bottom-color: var(--fill-color);\n",
              "    }\n",
              "  }\n",
              "</style>\n",
              "\n",
              "  <script>\n",
              "    async function quickchart(key) {\n",
              "      const quickchartButtonEl =\n",
              "        document.querySelector('#' + key + ' button');\n",
              "      quickchartButtonEl.disabled = true;  // To prevent multiple clicks.\n",
              "      quickchartButtonEl.classList.add('colab-df-spinner');\n",
              "      try {\n",
              "        const charts = await google.colab.kernel.invokeFunction(\n",
              "            'suggestCharts', [key], {});\n",
              "      } catch (error) {\n",
              "        console.error('Error during call to suggestCharts:', error);\n",
              "      }\n",
              "      quickchartButtonEl.classList.remove('colab-df-spinner');\n",
              "      quickchartButtonEl.classList.add('colab-df-quickchart-complete');\n",
              "    }\n",
              "    (() => {\n",
              "      let quickchartButtonEl =\n",
              "        document.querySelector('#df-bd04a78a-8903-4ef5-b09a-0584a18a2f7b button');\n",
              "      quickchartButtonEl.style.display =\n",
              "        google.colab.kernel.accessAllowed ? 'block' : 'none';\n",
              "    })();\n",
              "  </script>\n",
              "</div>\n",
              "\n",
              "    </div>\n",
              "  </div>\n"
            ],
            "application/vnd.google.colaboratory.intrinsic+json": {
              "type": "dataframe",
              "variable_name": "testdata",
              "summary": "{\n  \"name\": \"testdata\",\n  \"rows\": 277,\n  \"fields\": [\n    {\n      \"column\": \"Index\",\n      \"properties\": {\n        \"dtype\": \"number\",\n        \"std\": 4012,\n        \"min\": 21,\n        \"max\": 13829,\n        \"num_unique_values\": 277,\n        \"samples\": [\n          13793,\n          10961,\n          5238\n        ],\n        \"semantic_type\": \"\",\n        \"description\": \"\"\n      }\n    },\n    {\n      \"column\": \"Entred_prompt\",\n      \"properties\": {\n        \"dtype\": \"string\",\n        \"num_unique_values\": 261,\n        \"samples\": [\n          \" <|system|>role: You are a creative assistant. Write a poem based on the given instructions. Use vivid imagery, coherent structure, and align with the themes provided.</s><|user|>Instructions: Make a poem with themes of Religion,The Spiritual,Mythology & Folklore,Ghosts & the Supernatural.Generate a poem with the following themes: Religion,The Spiritual,Mythology & Folklore,Ghosts & the Supernatural.<|assistant|></s>\",\n          \" <|system|>role: You are a creative assistant. Write a poem based on the given instructions. Use vivid imagery, coherent structure, and align with the themes provided.</s><|user|>Instructions: Compose a poem, about Living,Parenthood,The Body,The Mind,Relationships,Family & Ancestors.<|assistant|></s>\",\n          \" <|system|>role: You are a creative assistant. Write a poem based on the given instructions. Use vivid imagery, coherent structure, and align with the themes provided.</s><|user|>Instructions: Make a poem with themes of Activities,Sports & Outdoor Activities,Relationships,Home Life.Generate a poem with the following themes: Activities,Sports & Outdoor Activities,Relationships,Home Life.<|assistant|></s>\"\n        ],\n        \"semantic_type\": \"\",\n        \"description\": \"\"\n      }\n    },\n    {\n      \"column\": \"Model_response\",\n      \"properties\": {\n        \"dtype\": \"string\",\n        \"num_unique_values\": 261,\n        \"samples\": [\n          \"<s> <|system|>role: You are a creative assistant. Write a poem based on the given instructions. Use vivid imagery, coherent structure, and align with the themes provided.</s><|user|>Instructions: Make a poem with themes of Religion,The Spiritual,Mythology & Folklore,Ghosts & the Supernatural.Generate a poem with the following themes: Religion,The Spiritual,Mythology & Folklore,Ghosts & the Supernatural.<|assistant|></s>|system|>role: You are a creative assistant. Here is a poem based on the given instructions. Use vivid imagery, coherent structure, and align with the themes provided.<\\\\|assistant|>                                                                                                                                                                                                                                                                                                                                                                                                                                                                                                                                                                                                                                                                                                                                                                                                                                                                                                                                                                                                                                                                                                                                                                                                                                                                                                                                                                                                                                                                                                                                                                                                                                                                                                                                                                                                                                                                                                                                                                                                                                                                                                                                                                                                                                                                                                                                                                                                                                                                                                                                                                                                                                                                                                                                                                                                                                                                                                                                                                                                                                                                                                                                                                                                                                                                                                                                                                                                                                                                                                                                                                                                                                                                                                                                                                                                                                                                                                                                                                                                                                                                                                                                                                                                                                                                                                                                                                                                                                                                                                                                                                                                                                                                                                                                                                                                                                                                                                                                                                                                                                                                                                                                                                                                                                                                                                                                                                                                                                                                                                                                                                                                                                                                                                                                                                                                                                                                                                                                                                                                                                                                                                                                                                                                                                                                                                                                                                                                                                                                                                                                                                                                                                                                                                                                                                                                                                                                                                                                                                                                                                                                                                                                                                                                                                                                                                                                                                                                                                                                                                                                                                                                                                                                                                                                                                                                                                                                                                                                                                                                                                                                                                                                                                                                                                                                                                                                                                                                                                                                                                                                                                                                                                                                                                                                                                                                                                                                                                                                                                                                                                                                                                                                                                                                                                                                \",\n          \"<s> <|system|>role: You are a creative assistant. Write a poem based on the given instructions. Use vivid imagery, coherent structure, and align with the themes provided.</s><|user|>Instructions: Compose a poem, about Living,Parenthood,The Body,The Mind,Relationships,Family & Ancestors.<|assistant|></s>|Parenthood|\\r\\n\\r\\n\\r\\n\\r\\n\\r\\n\\r\\n\\r\\n\\r\\n\\r\\n\\r\\n\\r\\n\\r\\n\\r\\n\\r\\n\\r\\n\\r\\n\\r\\n\\r\\n\\r\\n\\r\\n\\r\\n\\r\\n\\r\\n\\r\\n\\r\\n\\r\\n\\r\\n\\r\\n\\r\\n\\r\\n\\r\\n\\r\\n\\r\\n\\r\\n\\r\\n\\r\\n\\r\\n\\r\\n\\r\\n\\r\\n\\r\\n\\r\\n\\r\\n\\r\\n\\r\\n\\r\\n\\r\\n\\r\\n\\r\\n\\r\\n\\r\\n\\r\\n\\r\\n\\r\\n\\r\\n\\r\\n\\r\\n\\r\\n\\r\\n\\r\\n\\r\\n\\r\\n\\r\\n\\r\\n\\r\\n\\r\\n\\r\\n\\r\\n\\r\\n\\r\\n\\r\\n\\r\\n\\r\\n\\r\\n\\r\\n\\r\\n\\r\\n\\r\\n\\r\\n\\r\\n\\r\\n\\r\\n\\r\\n\\r\\n\\r\\n\\r\\n\\r\\n\\r\\n\\r\\n\\r\\n\\r\\n\\r\\n\\r\\n\\r\\n\\r\\n\\r\\n\\r\\n\\r\\n\\r\\n\\r\\n\\r\\n\\r\\n\\r\\n\\r\\n\\r\\n\\r\\n\\r\\n\\r\\n\\r\\n\\r\\n\\r\\n\\r\\n\\r\\n\\r\\n\\r\\n\\r\\n\\r\\n\\r\\n\\r\\n\\r\\n\\r\\n\\r\\n\\r\\n\\r\\n\\r\\n\\r\\n\\r\\n\\r\\n\\r\\n\\r\\n\\r\\n\\r\\n\\r\\n\\r\\n\\r\\n\\r\\n\\r\\n\\r\\n\\r\\n\\r\\n\\r\\n\\r\\n\\r\\n\\r\\n\\r\\n\\r\\n\\r\\n\\r\\n\\r\\n\\r\\n\\r\\n\\r\\n\\r\\n\\r\\n\\r\\n\\r\\n\\r\\n\\r\\n\\r\\n\\r\\n\\r\\n\\r\\n\\r\\n\\r\\n\\r\\n\\r\\n\\r\\n\\r\\n\\r\\n\\r\\n\\r\\n\\r\\n\\r\\n\\r\\n\\r\\n\\r\\n\\r\\n\\r\\n\\r\\n\\r\\n\\r\\n\\r\\n\\r\\n\\r\\n\\r\\n\\r\\n\\r\\n\\r\\n\\r\\n\\r\\n\\r\\n\\r\\n\\r\\n\\r\\n\\r\\n\\r\\n\\r\\n\\r\\n\\r\\n\\r\\n\\r\\n\\r\\n\\r\\n\\r\\n\\r\\n\\r\\n\\r\\n\\r\\n\\r\\n\\r\\n\\r\\n\\r\\n\\r\\n\\r\\n\\r\\n\\r\\n\\r\\n\\r\\n\\r\\n\\r\\n\\r\\n\\r\\n\\r\\n\\r\\n\\r\\n\\r\\n\\r\\n\\r\\n\\r\\n\\r\\n\\r\\n\\r\\n\\r\\n\\r\\n\\r\\n\\r\\n\\r\\n\\r\\n\\r\\n\\r\\n\\r\\n\\r\\n\\r\\n\\r\\n\\r\\n\\r\\n\\r\\n\\r\\n\\r\\n\\r\\n\\r\\n\\r\\n\\r\\n\\r\\n\\r\\n\\r\\n\\r\\n\\r\\n\\r\\n\\r\\n\\r\\n\\r\\n\\r\\n\\r\\n\\r\\n\\r\\n\\r\\n\\r\\n\\r\\n\\r\\n\\r\\n\\r\\n\\r\\n\\r\\n\\r\\n\\r\\n\\r\\n\\r\\n\\r\\n\\r\\n\\r\\n\\r\\n\\r\\n\\r\\n\\r\\n\\r\\n\\r\\n\\r\\n\\r\\n\\r\\n\\r\\n\\r\\n\\r\\n\\r\\n\\r\\n\\r\\n\\r\\n\",\n          \"<s> <|system|>role: You are a creative assistant. Write a poem based on the given instructions. Use vivid imagery, coherent structure, and align with the themes provided.</s><|user|>Instructions: Make a poem with themes of Activities,Sports & Outdoor Activities,Relationships,Home Life.Generate a poem with the following themes: Activities,Sports & Outdoor Activities,Relationships,Home Life.<|assistant|></s>|Social Commentaries,Cities & Urban Life|\\r\\n\\r\\nIn the heart of the city, where the concrete jungle reigns supreme,\\r\\n\\r\\nA tale unfolds of neighbors, friends, and family, all bound by a dream.\\r\\n\\r\\nTheir homes, a patchwork quilt of stories, woven through the years,\\r\\n\\r\\nEcho with laughter, tears, and cheers, as they gather to celebrate their peers.\\r\\n\\r\\n\\r\\n\\r\\nOn the rooftops, a soccer ball flies, a game of goal and glory,\\r\\n\\r\\nAs children chase the sun, their laughter fills the sky, a symphony.\\r\\n\\r\\nTheir parents watch from windows, a sense of pride in their hearts,\\r\\n\\r\\nAs they reminisce on their own youth, the games that never depart.\\r\\n\\r\\n\\r\\n\\r\\nIn the park, a game of cricket unfolds, a tradition passed down,\\r\\n\\r\\nFrom fathers to sons, a bond that never ends, a love that's never outgrown.\\r\\nIts echoes in the air, a call to the past, a reminder of times that last.\\r\\n\\r\\n\\r\\n\\r\\nIn the evenings, the streets come alive, a marketplace of delights,\\r\\n\\r\\nWhere vendors sell their wares, and neighbors share in the sights.\\r\\n\\r\\nThe aroma of spices fills the air, a melody of flavors to savor,\\r\\n\\rIts rhythm in the heart, a reminder of the city's vibrant flavor.\\r\\n\\r\\n\\r\\n\\r\\nIn the homes, a sense of warmth, a sanctuary from the fray,\\r\\n\\r\\nWhere families gather, sharing stories, laughter, and play.\\r\\n\\r\\nThe city may be loud, but within these walls, a peace is found,\\r\\n\\r\\nA haven from the chaos, a place where love is profound.\\r\\n\\r\\n\\r\\n\\r\\nIn the heart of the city, where the concrete jungle reigns supreme,\\r\\n\\r\\nA tale unfolds of neighbors, friends, and family, all bound by a dream.\\r\\n\\r\\nTheir homes, a patchwork quilt of stories, woven through the years,\\r\\n\\r\\nEcho with laughter, tears, and cheers, as they gather to celebrate their peers.</s>\"\n        ],\n        \"semantic_type\": \"\",\n        \"description\": \"\"\n      }\n    },\n    {\n      \"column\": \"Ture_poeme\",\n      \"properties\": {\n        \"dtype\": \"string\",\n        \"num_unique_values\": 277,\n        \"samples\": [\n          \"How about calling it \\\"Sky Ladder\\\"? \\nSource: PoetryFoundation.org - Pascale Petit\",\n          \"Sure, I can do that. Here's a poem about Living,Life Choices,Social Commentaries,Gender & Sexuality. I call it \\\"Bound for Hell\\\": \\nHell, my ardent sisters, be assured,\\r\\n\\r\\nIs where we\\u2019re bound; we\\u2019ll drink the pitch of hell\\u2014\\r\\n\\r\\nWe, who have sung the praises of the lord\\r\\n\\r\\nWith every fiber in us, every cell.\\r\\n\\r\\nWe, who did not manage to devote\\r\\n\\r\\nOur nights to spinning, did not bend and sway\\r\\n\\r\\nAbove a cradle\\u2014in a flimsy boat,\\r\\n\\r\\nWrapped in a mantle, we\\u2019re now borne away.\\r\\n\\r\\nEvery morning, every day, we\\u2019d rise\\r\\n\\r\\nAnd have the finest Chinese silks to wear;\\r\\n\\r\\nAnd we\\u2019d strike up the songs of paradise\\r\\n\\r\\nAround the campfire of a robbers\\u2019 lair,\\r\\n\\r\\nWe, careless seamstresses (our seams all ran,\\r\\n\\r\\nWhether we sewed or not)\\u2014yet we have been\\r\\n\\r\\nSuch dancers, we have played the pipes of Pan:\\r\\n\\r\\nThe world was ours, each one of us a queen.\\r\\n\\r\\nFirst, scarcely draped in tatters, and disheveled,\\r\\n\\r\\nThen plaited with a starry diadem;\\r\\n\\r\\nWe\\u2019ve been in jails, at banquets we have reveled:\\r\\n\\r\\nBut the rewards of heaven, we\\u2019re lost to them,\\r\\n\\r\\nLost in nights of starlight, in the garden\\r\\n\\r\\nWhere apple trees from paradise are found.\\r\\n\\r\\nNo, be assured, my gentle girls, my ardent\\r\\n\\r\\nAnd lovely sisters, hell is where we\\u2019re bound. \\nSource: PoetryFoundation.org - Marina Tsvetaeva\",\n          \"Here's a beautiful poem about Arts & Sciences,Language & Linguistics,Poetry & Poets for you. It's called \\\"Eighth Sky\\\": \\nIt is scribbled along the body\\r\\n\\r\\n Impossible even to say a word   An alphabet has been stored beneath the ground It is a practice alphabet, work of the hand   Yet not, not marks inside a box For example, this is a mirror box   Spinoza designed such a box and called it the Eighth Sky   called it the Nevercadabra House as a joke   Yet not, not so much a joke not Notes for Electronic Harp   on a day free of sounds (but I meant to write \\u201cclouds\\u201d)   At night these same boulevards fill with snow Lancers and dancers pass a poisoned syringe,   as you wrote, writing of death in the snow, Patroclus and a Pharoah on Rue Ravignan   It is scribbled across each body Impossible even to name a word   Look, you would say, how the sky falls at first gently, then not at all   Two chemicals within the firefly are the cause, twin ships, twin nemeses   preparing to metamorphose into an alphabet in stone                                                              St.-Benoit-sur-Loire                                                          to Max Jacob \\nSource: PoetryFoundation.org - Michael Palmer\"\n        ],\n        \"semantic_type\": \"\",\n        \"description\": \"\"\n      }\n    },\n    {\n      \"column\": \"Predicted_poeme\",\n      \"properties\": {\n        \"dtype\": \"string\",\n        \"num_unique_values\": 217,\n        \"samples\": [\n          \"</s>|The Mind|\\nIts a curious thing, the mind,\\nA vessel of thoughts, a sea of time,\\nA labyrinth of memories, a garden of dreams,\\nA playground of ideas, a battlefield of schemes.\\n\\nIt's a marvelous thing, the mind,\\nA masterpiece of nature, a wonder to find,\\nA treasure trove of knowledge, a wellspring of wisdom,\\nA gateway to the unknown, a portal to bliss.\\n\\nIt's a fragile thing, the mind,\\nA delicate balance, a thin line,\\nA fleeting moment, a fleeting thought,\\nA whisper in the wind, a shadow in the night.\\n\\nIt's a powerful thing, the mind,\\nA force to be reckoned with, a weapon to be wielded,\\nA tool for creation, a tool for destruction,\\nA mirror to the soul, a window to the stars.\\n\\nIt's a mysterious thing, the mind,\\nA puzzle to be solved, a riddle to be unraveled,\\nA mystery to be explored, a mystery to be understood,\\nA journey to be embarked upon, a journey to be completed.\\n\\nIt's a beautiful thing, the mind,\\nA gift from the gods, a blessing to be cherished,\\nA source of inspiration, a source of hope,\\nA beacon of light, a guiding star.\\n\\nIt's a complex thing, the mind,\\nA maze of thoughts, a jungle of ideas,\\nA tapestry of memories, a symphony of emotions,\\nA masterpiece of the universe, a masterpiece of the mind.\\n\\nIt's a sacred thing, the mind,\\nA sanctuary of the soul, a temple of the spirit,\\nA cathedral of knowledge, a mosque of wisdom,\\nA church of the mind, a synagogue of the soul.\\n\\nIt' Its a wondrous thing, the mind,\\nA marvel to behold, a miracle to experience,\\nA gift to be nurtured, a gift to be shared,\\nA gift to be celebrated, a gift to be cherished.\\n\\nIt's a gift to be used, the mind,\\nA tool for good, a tool for peace,\\nA tool for love, a tool for understanding,\\nA tool for healing, a tool for growth.\\n\\nIt's a gift to be respected, the mind,\\nA gift to be protected, a gift to be valued,\\nA gift to be honored, a gift to be revered,\\nA gift to be treasured, a gift to be loved.\\n\\nIt's a gift to be nurtured, the mind,\\nA gift to be fed\",\n          \"</s>|Relationships|Men & Women|Nature|Seas, Rivers, & Streams|Social Commentaries|Gender & Sexuality|History & Politics|War & Conflict|Mythology & Folklore|Heroes & Patriotism|Memorial Day|<|system|>role: You are a creative assistant. Here is a poem based on the given instructions. Use vivid imagery, coherent structure, and align with the themes provided.|<|assistant|>|Memorial Day is a time to honor those who fought and died for our country, and to remember the sacrifices they made. It is also a time to reflect on the role of men and women in war, and the ways in which gender and sexuality have shaped our history and politics.|In ancient times, warriors were often seen as heroes, and their stories were passed down through generations. These tales of bravery and valor were often associated with the sea, which was seen as a symbol of the unknown and the dangerous.|The sea is a powerful and unpredictable force, much like war itself. It can be calm and peaceful, or it can be stormy and violent. It is a place where men and women have fought and died, and where their bodies have been carried away by the currents.|In modern times, the sea has become a symbol of the sacrifices made by men and women in war. It is a place where we can remember the heroes who have fought and died, and where we can honor their memory.|On Memorial Day, we can also remember the women who have played a crucial role in war, both on the battlefield and behind the scenes. They have served as nurses, soldiers, and spies, and they have made significant contributions to our country's history.|The sea is a symbol of the unknown and the dangerous, but it is also a place of beauty and wonder. It is a place where we can find solace and reflection, and where we can honor the memories of those who have fought and died for our country.|On this Memorial Day, let us remember the sacrifices made by men and women in war, and let us honor their memory by continuing to fight for peace and justice.|<|system|>role: You are a creative assistant. Here is a poem based on the given instructions. Use vivid imagery, coherent structure, and align with the themes provided.|<|assistant|>|Memorial Day is a time to honor those who fought and died for our country, and to remember the sacrifices they made. It is also a time to reflect on the role of men and women in war, and the ways in which gender and sexuality have shaped our history and politics.|In ancient times, warriors were often seen as heroes, and their stories were passed down through generations. These tales of bravery\",\n          \"</s>|Life Choices|\\r\\n\\r\\nIn the garden of life, we sow seeds of our dreams,\\r\\n\\r\\nSome bloom, some wither, some never seem,\\r\\n\\r\\nTo grow at all. But the gardener knows,\\r\\n\\r\\nThat the soil is fickle, the sun may scorch,\\r\\n\\r\\nThe rain may flood, the frost may kill,\\r\\n\\r\\nYet the gardener sows, and sows, and sows.\\r\\n\\r\\n\\r\\n\\r\\nWe choose our friends, our enemies, our allies,\\r\\n\\r\\nSome are fair-weather, some are steady,\\r\\n\\r\\nSome are loyal, some are traitors,\\r\\n\\r\\nSome are kind, some are cruel,\\r\\n\\r\\nSome are wise, some are foolish,\\r\\n\\r\\nYet we choose, and choose, and choose.\\r\\n\\r\\n\\r\\n\\r\\nWe choose our paths, our goals, our destinies,\\r\\n\\r\\nSome are easy, some are hard,\\r\\n\\r\\nSome are clear, some are obscure,\\r\\n\\r\\nSome are safe, some are dangerous,\\r\\n\\r\\nSome are right, some are wrong,\\r\\n\\r\\nYet we choose, and choose, and choose.\\r\\n\\r\\n\\r\\n\\r\\nWe choose our words, our actions, our thoughts,\\r\\n\\r\\nSome are kind, some are cruel,\\r\\n\\r\\nSome are wise, some are foolish,\\r\\n\\r\\nSome are right, some are wrong,\\r\\n\\r\\nSome are true, some are false,\\r\\n\\r\\nYet we choose, and choose, and choose.\\r\\n\\r\\n\\r\\n\\r\\nWe choose our lives, our loves, our passions,\\r\\n\\r\\nSome are fleeting, some are lasting,\\r\\n\\r\\nSome are shallow, some are deep,\\r\\n\\r\\nSome are sweet, some are bitter,\\r\\n\\r\\nSome are light, some are heavy,\\r\\n\\r\\nYet we choose, and choose, and choose.\\r\\n\\r\\n\\r\\n\\r\\nWe choose our futures, our pasts, our presents,\\r\\n\\r\\nSome are bright, some are dark,\\r\\n\\r\\nSome are hopeful, some are despairing,\\r\\n\\r\\nSome are joyful, some are sorrowful,\\r\\n\\r\\nSome are peaceful, some are tumultuous,\\r\\n\\r\\nYet we choose, and choose, and choose.\\r\\n\\r\\n\\r\\n\\r\\nWe choose our fates, our fortunes, our lives,\\r\\n\\r\\nSome are easy, some are hard,\\r\\n\\r\\nSome are fair, some are unfair,\\r\\n\\r\\nSome are just, some are unjust,\\r\\n\\r\\nSome are good, some are evil,\\r\\n\\r\\nYet we choose, and choose, and choose.\\r\\n\\r\\n\\r\\n\\r\\nWe choose our paths, our goals, our destinies,\\r\\n\\r\\nSome\"\n        ],\n        \"semantic_type\": \"\",\n        \"description\": \"\"\n      }\n    }\n  ]\n}"
            }
          },
          "metadata": {},
          "execution_count": 6
        }
      ]
    },
    {
      "cell_type": "markdown",
      "source": [
        "###**Évaluation des prédictions générées**\n",
        "\n",
        "Dans cette section, nous évaluons les poèmes générés par le modèle en utilisant des métriques telles que **ROUGE** et la **similarité cosinus**. Cette évaluation compare les poèmes générés avec les véritables poèmes présents dans notre dataset, permettant d'analyser leur cohérence, leur pertinence, et leur fidélité aux instructions données. Le calcul comprend :\n",
        "\n",
        "- **ROUGE-1, ROUGE-2, ROUGE-L** : Mesurent la précision des prédictions en termes de correspondance lexicale avec les poèmes de référence.\n",
        "- **Similarité cosinus** : Évalue la proximité sémantique entre les poèmes générés et les poèmes de référence, tout en tenant compte des nuances thématiques."
      ],
      "metadata": {
        "id": "p5dqX8zysF6X"
      }
    },
    {
      "cell_type": "code",
      "source": [
        "!pip install evaluate"
      ],
      "metadata": {
        "colab": {
          "base_uri": "https://localhost:8080/"
        },
        "id": "1XJ6TO40KIvm",
        "outputId": "458f2c1e-bd9b-472a-b952-9fb18eaa4a2d"
      },
      "execution_count": 8,
      "outputs": [
        {
          "output_type": "stream",
          "name": "stdout",
          "text": [
            "Requirement already satisfied: evaluate in /usr/local/lib/python3.11/dist-packages (0.4.3)\n",
            "Requirement already satisfied: datasets>=2.0.0 in /usr/local/lib/python3.11/dist-packages (from evaluate) (3.2.0)\n",
            "Requirement already satisfied: numpy>=1.17 in /usr/local/lib/python3.11/dist-packages (from evaluate) (1.26.4)\n",
            "Requirement already satisfied: dill in /usr/local/lib/python3.11/dist-packages (from evaluate) (0.3.8)\n",
            "Requirement already satisfied: pandas in /usr/local/lib/python3.11/dist-packages (from evaluate) (2.2.2)\n",
            "Requirement already satisfied: requests>=2.19.0 in /usr/local/lib/python3.11/dist-packages (from evaluate) (2.32.3)\n",
            "Requirement already satisfied: tqdm>=4.62.1 in /usr/local/lib/python3.11/dist-packages (from evaluate) (4.67.1)\n",
            "Requirement already satisfied: xxhash in /usr/local/lib/python3.11/dist-packages (from evaluate) (3.5.0)\n",
            "Requirement already satisfied: multiprocess in /usr/local/lib/python3.11/dist-packages (from evaluate) (0.70.16)\n",
            "Requirement already satisfied: fsspec>=2021.05.0 in /usr/local/lib/python3.11/dist-packages (from fsspec[http]>=2021.05.0->evaluate) (2024.9.0)\n",
            "Requirement already satisfied: huggingface-hub>=0.7.0 in /usr/local/lib/python3.11/dist-packages (from evaluate) (0.28.1)\n",
            "Requirement already satisfied: packaging in /usr/local/lib/python3.11/dist-packages (from evaluate) (24.2)\n",
            "Requirement already satisfied: filelock in /usr/local/lib/python3.11/dist-packages (from datasets>=2.0.0->evaluate) (3.17.0)\n",
            "Requirement already satisfied: pyarrow>=15.0.0 in /usr/local/lib/python3.11/dist-packages (from datasets>=2.0.0->evaluate) (17.0.0)\n",
            "Requirement already satisfied: aiohttp in /usr/local/lib/python3.11/dist-packages (from datasets>=2.0.0->evaluate) (3.11.11)\n",
            "Requirement already satisfied: pyyaml>=5.1 in /usr/local/lib/python3.11/dist-packages (from datasets>=2.0.0->evaluate) (6.0.2)\n",
            "Requirement already satisfied: typing-extensions>=3.7.4.3 in /usr/local/lib/python3.11/dist-packages (from huggingface-hub>=0.7.0->evaluate) (4.12.2)\n",
            "Requirement already satisfied: charset-normalizer<4,>=2 in /usr/local/lib/python3.11/dist-packages (from requests>=2.19.0->evaluate) (3.4.1)\n",
            "Requirement already satisfied: idna<4,>=2.5 in /usr/local/lib/python3.11/dist-packages (from requests>=2.19.0->evaluate) (3.10)\n",
            "Requirement already satisfied: urllib3<3,>=1.21.1 in /usr/local/lib/python3.11/dist-packages (from requests>=2.19.0->evaluate) (2.3.0)\n",
            "Requirement already satisfied: certifi>=2017.4.17 in /usr/local/lib/python3.11/dist-packages (from requests>=2.19.0->evaluate) (2025.1.31)\n",
            "Requirement already satisfied: python-dateutil>=2.8.2 in /usr/local/lib/python3.11/dist-packages (from pandas->evaluate) (2.8.2)\n",
            "Requirement already satisfied: pytz>=2020.1 in /usr/local/lib/python3.11/dist-packages (from pandas->evaluate) (2025.1)\n",
            "Requirement already satisfied: tzdata>=2022.7 in /usr/local/lib/python3.11/dist-packages (from pandas->evaluate) (2025.1)\n",
            "Requirement already satisfied: aiohappyeyeballs>=2.3.0 in /usr/local/lib/python3.11/dist-packages (from aiohttp->datasets>=2.0.0->evaluate) (2.4.4)\n",
            "Requirement already satisfied: aiosignal>=1.1.2 in /usr/local/lib/python3.11/dist-packages (from aiohttp->datasets>=2.0.0->evaluate) (1.3.2)\n",
            "Requirement already satisfied: attrs>=17.3.0 in /usr/local/lib/python3.11/dist-packages (from aiohttp->datasets>=2.0.0->evaluate) (25.1.0)\n",
            "Requirement already satisfied: frozenlist>=1.1.1 in /usr/local/lib/python3.11/dist-packages (from aiohttp->datasets>=2.0.0->evaluate) (1.5.0)\n",
            "Requirement already satisfied: multidict<7.0,>=4.5 in /usr/local/lib/python3.11/dist-packages (from aiohttp->datasets>=2.0.0->evaluate) (6.1.0)\n",
            "Requirement already satisfied: propcache>=0.2.0 in /usr/local/lib/python3.11/dist-packages (from aiohttp->datasets>=2.0.0->evaluate) (0.2.1)\n",
            "Requirement already satisfied: yarl<2.0,>=1.17.0 in /usr/local/lib/python3.11/dist-packages (from aiohttp->datasets>=2.0.0->evaluate) (1.18.3)\n",
            "Requirement already satisfied: six>=1.5 in /usr/local/lib/python3.11/dist-packages (from python-dateutil>=2.8.2->pandas->evaluate) (1.17.0)\n"
          ]
        }
      ]
    },
    {
      "cell_type": "code",
      "source": [
        "!pip install rouge-score"
      ],
      "metadata": {
        "colab": {
          "base_uri": "https://localhost:8080/"
        },
        "id": "6K-J9-2iKMX1",
        "outputId": "c1b74a8a-6e55-4d87-ad0c-0816b8692768"
      },
      "execution_count": 9,
      "outputs": [
        {
          "output_type": "stream",
          "name": "stdout",
          "text": [
            "Collecting rouge-score\n",
            "  Downloading rouge_score-0.1.2.tar.gz (17 kB)\n",
            "  Preparing metadata (setup.py) ... \u001b[?25l\u001b[?25hdone\n",
            "Requirement already satisfied: absl-py in /usr/local/lib/python3.11/dist-packages (from rouge-score) (1.4.0)\n",
            "Requirement already satisfied: nltk in /usr/local/lib/python3.11/dist-packages (from rouge-score) (3.9.1)\n",
            "Requirement already satisfied: numpy in /usr/local/lib/python3.11/dist-packages (from rouge-score) (1.26.4)\n",
            "Requirement already satisfied: six>=1.14.0 in /usr/local/lib/python3.11/dist-packages (from rouge-score) (1.17.0)\n",
            "Requirement already satisfied: click in /usr/local/lib/python3.11/dist-packages (from nltk->rouge-score) (8.1.8)\n",
            "Requirement already satisfied: joblib in /usr/local/lib/python3.11/dist-packages (from nltk->rouge-score) (1.4.2)\n",
            "Requirement already satisfied: regex>=2021.8.3 in /usr/local/lib/python3.11/dist-packages (from nltk->rouge-score) (2024.11.6)\n",
            "Requirement already satisfied: tqdm in /usr/local/lib/python3.11/dist-packages (from nltk->rouge-score) (4.67.1)\n",
            "Building wheels for collected packages: rouge-score\n",
            "  Building wheel for rouge-score (setup.py) ... \u001b[?25l\u001b[?25hdone\n",
            "  Created wheel for rouge-score: filename=rouge_score-0.1.2-py3-none-any.whl size=24935 sha256=017dfc555fdb6c46159a5340a32944597ff0a7890486e48593cdcb57bcd07ac7\n",
            "  Stored in directory: /root/.cache/pip/wheels/1e/19/43/8a442dc83660ca25e163e1bd1f89919284ab0d0c1475475148\n",
            "Successfully built rouge-score\n",
            "Installing collected packages: rouge-score\n",
            "Successfully installed rouge-score-0.1.2\n"
          ]
        }
      ]
    },
    {
      "cell_type": "code",
      "source": [
        "from sklearn.metrics.pairwise import cosine_similarity\n",
        "from sklearn.feature_extraction.text import TfidfVectorizer\n",
        "from nltk.translate.bleu_score import sentence_bleu, SmoothingFunction\n",
        "from rouge_score import rouge_scorer\n",
        "import pandas as pd\n",
        "\n",
        "def evaluate_generated_poeme(test_data_path):\n",
        "    # Charger les données générées\n",
        "    test_data = pd.read_csv(test_data_path)\n",
        "\n",
        "    # Vérifier si les colonnes nécessaires sont présentes\n",
        "    required_columns = [\"Ture_poeme\", \"Predicted_poeme\"]\n",
        "    for column in required_columns:\n",
        "        if column not in test_data.columns:\n",
        "            raise ValueError(f\"La colonne '{column}' est manquante !!!\")\n",
        "\n",
        "    # Récupérer les vraies poemes et générées et remplacer les NaN par des chaînes vides\n",
        "    Ture_poeme = test_data[\"Ture_poeme\"].fillna(\"\")\n",
        "    Predicted_poeme = test_data[\"Predicted_poeme\"].fillna(\"\")\n",
        "\n",
        "    # Initialiser le calculateur ROUGE\n",
        "    scorer = rouge_scorer.RougeScorer([\"rouge1\", \"rouge2\", \"rougeL\"], use_stemmer=True)\n",
        "    rouge_scores = [scorer.score(pred, label) for pred, label in zip(Predicted_poeme, Ture_poeme)]\n",
        "\n",
        "    # Calculer les scores moyens ROUGE\n",
        "    rouge1 = sum(score[\"rouge1\"].fmeasure for score in rouge_scores) / len(rouge_scores)\n",
        "    rouge2 = sum(score[\"rouge2\"].fmeasure for score in rouge_scores) / len(rouge_scores)\n",
        "    rougeL = sum(score[\"rougeL\"].fmeasure for score in rouge_scores) / len(rouge_scores)\n",
        "\n",
        "    # Calculer la similarité cosinus\n",
        "    vectorizer = TfidfVectorizer().fit(Predicted_poeme + Ture_poeme)\n",
        "    tfidf_preds = vectorizer.transform(Predicted_poeme)\n",
        "    tfidf_labels = vectorizer.transform(Ture_poeme)\n",
        "    similarities = [\n",
        "        cosine_similarity(tfidf_preds[i], tfidf_labels[i])[0][0] for i in range(len(Predicted_poeme))\n",
        "    ]\n",
        "    avg_similarity = sum(similarities) / len(similarities)\n",
        "\n",
        "    decoded_preds = Predicted_poeme.tolist()\n",
        "    decoded_labels = Ture_poeme.tolist()\n",
        "\n",
        "    # Calculer le score BLEU\n",
        "    smoothing_function = SmoothingFunction().method1  # Utilise une méthode pour éviter les problèmes avec des petits n-grammes\n",
        "    bleu_scores = [\n",
        "        sentence_bleu([label.split()], pred.split(), smoothing_function=smoothing_function)\n",
        "        for pred, label in zip(decoded_preds, decoded_labels)\n",
        "    ]\n",
        "    avg_bleu = sum(bleu_scores) / len(bleu_scores)\n",
        "\n",
        "    # Retourner les métriques\n",
        "    return {\n",
        "        \"rouge1\": rouge1,\n",
        "        \"rouge2\": rouge2,\n",
        "        \"rougeL\": rougeL,\n",
        "        \"bleu\": avg_bleu,\n",
        "        \"similarity\": avg_similarity,\n",
        "    }"
      ],
      "metadata": {
        "id": "oeSdrdXkeDBj"
      },
      "execution_count": 10,
      "outputs": []
    },
    {
      "cell_type": "code",
      "source": [
        "# Chemin de notre testdataset.csv\n",
        "test_data_path = \"/content/drive/MyDrive/projet_Gen_ia/gpt_2_test_df.csv\"\n",
        "\n",
        "# évaluation\n",
        "metrics = evaluate_generated_poeme(test_data_path)\n",
        "\n",
        "# Afficher les résultats\n",
        "print(\"Résultats de l'évaluation :\")\n",
        "for metric, value in metrics.items():\n",
        "    print(f\"{metric}: {value:.4f}\")"
      ],
      "metadata": {
        "id": "BidAPxD8QyUF"
      },
      "execution_count": null,
      "outputs": []
    },
    {
      "cell_type": "markdown",
      "source": [
        "### **Visualisations des resultats :**"
      ],
      "metadata": {
        "id": "o9FSTvwCwYyr"
      }
    },
    {
      "cell_type": "code",
      "source": [
        "import matplotlib.pyplot as plt\n",
        "import seaborn as sns\n",
        "\n",
        "# Charger les données\n",
        "test_data = pd.read_csv(test_data_path)\n",
        "\n",
        "# Graphique à barres des scores ROUGE\n",
        "def plot_rouge_scores(metrics):\n",
        "    rouge_data = {\n",
        "        \"ROUGE-1\": metrics[\"rouge1\"],\n",
        "        \"ROUGE-2\": metrics[\"rouge2\"],\n",
        "        \"ROUGE-L\": metrics[\"rougeL\"],\n",
        "    }\n",
        "    plt.figure(figsize=(8, 6))\n",
        "    sns.barplot(x=list(rouge_data.keys()), y=list(rouge_data.values()), palette=\"Blues_d\")\n",
        "    plt.title(\"Scores ROUGE moyens\")\n",
        "    plt.xlabel(\"Type de ROUGE\")\n",
        "    plt.ylabel(\"Score\")\n",
        "    plt.ylim(0, 1)\n",
        "    plt.show()"
      ],
      "metadata": {
        "id": "C2lbyYCgNvQb"
      },
      "execution_count": 12,
      "outputs": []
    },
    {
      "cell_type": "code",
      "source": [
        "# Visualiser les résultats\n",
        "print(\"Visualisation des scores ROUGE\")\n",
        "plot_rouge_scores(metrics)"
      ],
      "metadata": {
        "id": "p0W7ot1DQ7W-"
      },
      "execution_count": null,
      "outputs": []
    },
    {
      "cell_type": "markdown",
      "source": [
        "**Distribution des similarités cosinus**"
      ],
      "metadata": {
        "id": "52LN2f1TxIWB"
      }
    },
    {
      "cell_type": "code",
      "source": [
        "def plot_cosine_similarity_distribution(similarities):\n",
        "    plt.figure(figsize=(8, 6))\n",
        "    sns.histplot(similarities, bins=30, kde=True, color=\"green\")\n",
        "    plt.title(\"Distribution des similarités cosinus\")\n",
        "    plt.xlabel(\"Similarité cosinus\")\n",
        "    plt.ylabel(\"Fréquence\")\n",
        "    plt.xlim(0, 1)\n",
        "    plt.show()"
      ],
      "metadata": {
        "id": "D62Qg0EQNy86"
      },
      "execution_count": 14,
      "outputs": []
    },
    {
      "cell_type": "code",
      "source": [
        "print(\"Visualisation des similarités cosinus\")\n",
        "cosine_similarities = metrics[\"similarity\"]\n",
        "plot_cosine_similarity_distribution([cosine_similarities])"
      ],
      "metadata": {
        "id": "5h2StJHgQ-gY"
      },
      "execution_count": null,
      "outputs": []
    },
    {
      "cell_type": "markdown",
      "source": [
        "**Comparaison des longueurs des textes générés et des vérités de référence**"
      ],
      "metadata": {
        "id": "tLHi9PEuxQZn"
      }
    },
    {
      "cell_type": "code",
      "source": [
        "def plot_length_comparison(test_data):\n",
        "    test_data[\"True_poeme_length\"] = test_data[\"Ture_poeme\"].fillna(\"\").apply(len)\n",
        "    test_data[\"Predicted_poeme_length\"] = test_data[\"Predicted_poeme\"].fillna(\"\").apply(len)\n",
        "\n",
        "    plt.figure(figsize=(8, 6))\n",
        "    sns.histplot(test_data[\"True_poeme_length\"], bins=30, color=\"blue\", label=\"Longueur des poemes vraies\", kde=True)\n",
        "    sns.histplot(test_data[\"Predicted_poeme_length\"], bins=30, color=\"orange\", label=\"Longueur des poemes générées\", kde=True)\n",
        "    plt.title(\"Distribution des longueurs des poemes\")\n",
        "    plt.xlabel(\"Longueur des poemes\")\n",
        "    plt.ylabel(\"Fréquence\")\n",
        "    plt.legend()\n",
        "    plt.show()"
      ],
      "metadata": {
        "id": "f-pm-atQN33w"
      },
      "execution_count": 16,
      "outputs": []
    },
    {
      "cell_type": "code",
      "source": [
        "print(\"Comparaison des longueurs des poemes\")\n",
        "plot_length_comparison(testdata)"
      ],
      "metadata": {
        "id": "ceahoztURB6-"
      },
      "execution_count": null,
      "outputs": []
    }
  ]
}